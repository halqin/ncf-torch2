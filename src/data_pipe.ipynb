{
 "cells": [
  {
   "cell_type": "code",
   "execution_count": 7,
   "id": "f25d5214",
   "metadata": {},
   "outputs": [],
   "source": [
    "import pandas as pd\n",
    "import os\n",
    "import sys\n",
    "sys.path.append('../../src')\n",
    "from utils.constants import DEFAULT_USER_COL,DEFAULT_ITEM_COL,DEFAULT_RATING_COL, DEFAULT_TIMESTAMP_COL\n",
    "from data_process import data_split, neg_sample"
   ]
  },
  {
   "cell_type": "markdown",
   "id": "30d7511a",
   "metadata": {},
   "source": [
    "## Loading the application "
   ]
  },
  {
   "cell_type": "code",
   "execution_count": 10,
   "id": "0a100443",
   "metadata": {},
   "outputs": [],
   "source": [
    "apps = pd.read_csv('../../data/jobs/tsv/apps.tsv', sep='\\t', encoding='utf-8')\n",
    "apps.rename(columns = {'UserID':DEFAULT_USER_COL, 'ApplicationDate':DEFAULT_TIMESTAMP_COL, \\\n",
    "                      'JobID':DEFAULT_ITEM_COL\n",
    "                      }, inplace=True)"
   ]
  },
  {
   "cell_type": "code",
   "execution_count": 11,
   "id": "03f0f707",
   "metadata": {},
   "outputs": [
    {
     "data": {
      "text/plain": [
       "Index(['userid', 'WindowID', 'Split', 'timestamp', 'itemid'], dtype='object')"
      ]
     },
     "execution_count": 11,
     "metadata": {},
     "output_type": "execute_result"
    }
   ],
   "source": [
    "apps.columns"
   ]
  },
  {
   "cell_type": "markdown",
   "id": "9cef9acb",
   "metadata": {},
   "source": [
    "## Loading the jobs info"
   ]
  },
  {
   "cell_type": "markdown",
   "id": "2182e63b",
   "metadata": {},
   "source": [
    "all columns: ['JobID', 'WindowID', 'Title', 'Description', 'Requirements','City', 'State', 'Country', 'Zip5', 'StartDate','EndDate']\n",
    "\n",
    "selected_columns = ['JobID', 'WindowID','City_job', 'State_job', 'Country_job', 'Zip5', 'StartDate','EndDate']"
   ]
  },
  {
   "cell_type": "code",
   "execution_count": 12,
   "id": "fb9c9d0f",
   "metadata": {
    "scrolled": true
   },
   "outputs": [
    {
     "name": "stderr",
     "output_type": "stream",
     "text": [
      "/tmp/ipykernel_52291/430080897.py:2: DtypeWarning: Columns (8) have mixed types. Specify dtype option on import or set low_memory=False.\n",
      "  jobs = pd.read_csv('../../data/jobs/tsv/jobs.tsv', sep='\\t', encoding='utf-8', on_bad_lines='skip', usecols = selected_feature)\n"
     ]
    }
   ],
   "source": [
    "selected_feature = ['JobID', 'WindowID','City', 'State', 'Country', 'Zip5', 'StartDate','EndDate']\n",
    "jobs = pd.read_csv('../../data/jobs/tsv/jobs.tsv', sep='\\t', encoding='utf-8', on_bad_lines='skip', usecols = selected_feature)\n",
    "\n",
    "jobs.rename(columns = {'JobID':DEFAULT_ITEM_COL, 'City':'City_job', \\\n",
    "                       'State':'State_job', 'Country':'Country_job', \\\n",
    "                      'Zip5':'Zip_job'}, inplace=True)"
   ]
  },
  {
   "cell_type": "code",
   "execution_count": 13,
   "id": "78d8c25a",
   "metadata": {},
   "outputs": [
    {
     "data": {
      "text/plain": [
       "Index(['itemid', 'WindowID', 'City_job', 'State_job', 'Country_job', 'Zip_job',\n",
       "       'StartDate', 'EndDate'],\n",
       "      dtype='object')"
      ]
     },
     "execution_count": 13,
     "metadata": {},
     "output_type": "execute_result"
    }
   ],
   "source": [
    "jobs.columns"
   ]
  },
  {
   "cell_type": "markdown",
   "id": "f8b89330",
   "metadata": {},
   "source": [
    "## Loading the user history info"
   ]
  },
  {
   "cell_type": "markdown",
   "id": "fb480536",
   "metadata": {},
   "source": [
    "full columns: Index(['UserID', 'WindowID', 'Split', 'Sequence', 'JobTitle'], dtype='object')\n",
    "\n",
    "selected columns:['UserID', 'WindowID', 'Split', 'Sequence']"
   ]
  },
  {
   "cell_type": "code",
   "execution_count": 14,
   "id": "d7742aec",
   "metadata": {},
   "outputs": [],
   "source": [
    "selected_col=['UserID', 'WindowID', 'Split', 'Sequence']\n",
    "user_history = pd.read_csv('../../data/jobs/tsv/user_history.tsv', sep='\\t', encoding='utf-8', usecols=selected_col)\n"
   ]
  },
  {
   "cell_type": "markdown",
   "id": "1584f826",
   "metadata": {},
   "source": [
    "### With jobtitle"
   ]
  },
  {
   "cell_type": "code",
   "execution_count": 15,
   "id": "ea78c214",
   "metadata": {},
   "outputs": [],
   "source": [
    "# user_history.rename(columns = {'UserID':DEFAULT_USER_COL, 'JobTitle':'JobTitle_user'}, inplace=True)\n",
    "# user_history = user_history[user_history['JobTitle_user'].notna()]\n",
    "# user_history_title = user_history.groupby('userid')['JobTitle_user'].\\\n",
    "# apply(lambda x:','.join(x)).reset_index()\n"
   ]
  },
  {
   "cell_type": "markdown",
   "id": "13d046f0",
   "metadata": {},
   "source": [
    "## Loading the user profile info"
   ]
  },
  {
   "cell_type": "code",
   "execution_count": 16,
   "id": "9ae8dd20",
   "metadata": {},
   "outputs": [],
   "source": [
    "users = pd.read_csv('../../data/jobs/tsv/users.tsv', sep='\\t', encoding='utf-8')\n",
    "users.rename(columns = {'UserID':DEFAULT_USER_COL, 'ZipCode':'Zip_user'}, inplace=True)"
   ]
  },
  {
   "cell_type": "code",
   "execution_count": 17,
   "id": "a5232d4b",
   "metadata": {},
   "outputs": [
    {
     "data": {
      "text/plain": [
       "Index(['userid', 'WindowID', 'Split', 'City', 'State', 'Country', 'Zip_user',\n",
       "       'DegreeType', 'Major', 'GraduationDate', 'WorkHistoryCount',\n",
       "       'TotalYearsExperience', 'CurrentlyEmployed', 'ManagedOthers',\n",
       "       'ManagedHowMany'],\n",
       "      dtype='object')"
      ]
     },
     "execution_count": 17,
     "metadata": {},
     "output_type": "execute_result"
    }
   ],
   "source": [
    "users.columns"
   ]
  },
  {
   "cell_type": "markdown",
   "id": "4018a15a",
   "metadata": {},
   "source": [
    "## Merge data "
   ]
  },
  {
   "cell_type": "markdown",
   "id": "1950d9d7",
   "metadata": {},
   "source": [
    "### Have job title"
   ]
  },
  {
   "cell_type": "code",
   "execution_count": 18,
   "id": "7d41b5d1",
   "metadata": {},
   "outputs": [],
   "source": [
    "# df_merge = apps.merge(users, how='left', on=[DEFAULT_USER_COL]) \\\n",
    "# .merge(user_history_title, how='left', on=[DEFAULT_USER_COL]) \\\n",
    "# .merge(jobs, how='left', on=[DEFAULT_ITEM_COL])"
   ]
  },
  {
   "cell_type": "markdown",
   "id": "4180c6ee",
   "metadata": {},
   "source": [
    "### Don't have job title"
   ]
  },
  {
   "cell_type": "code",
   "execution_count": 19,
   "id": "d0763753",
   "metadata": {},
   "outputs": [],
   "source": [
    "df_merge = apps.merge(users, how='left', on=[DEFAULT_USER_COL]) \\\n",
    ".merge(jobs, how='left', on=[DEFAULT_ITEM_COL])"
   ]
  },
  {
   "cell_type": "code",
   "execution_count": 20,
   "id": "e0d65004",
   "metadata": {},
   "outputs": [],
   "source": [
    "df_merge = df_merge.drop(['WindowID_x', 'Split_x'], axis=1).rename(columns = {'WindowID_y':'WindowID_user', \\\n",
    "                                                            'Split_y':'Split', 'Title':'JobTitle', \\\n",
    "                                                            'WindowID':'WindowID_job'\n",
    "                                                            })"
   ]
  },
  {
   "cell_type": "code",
   "execution_count": 21,
   "id": "2ddfc9ed",
   "metadata": {
    "scrolled": false
   },
   "outputs": [
    {
     "data": {
      "text/plain": [
       "Index(['userid', 'timestamp', 'itemid', 'WindowID_user', 'Split', 'City',\n",
       "       'State', 'Country', 'Zip_user', 'DegreeType', 'Major', 'GraduationDate',\n",
       "       'WorkHistoryCount', 'TotalYearsExperience', 'CurrentlyEmployed',\n",
       "       'ManagedOthers', 'ManagedHowMany', 'WindowID_job', 'City_job',\n",
       "       'State_job', 'Country_job', 'Zip_job', 'StartDate', 'EndDate'],\n",
       "      dtype='object')"
      ]
     },
     "execution_count": 21,
     "metadata": {},
     "output_type": "execute_result"
    }
   ],
   "source": [
    "df_merge.columns"
   ]
  },
  {
   "cell_type": "markdown",
   "id": "cc502f1c",
   "metadata": {},
   "source": [
    "## Save data"
   ]
  },
  {
   "cell_type": "code",
   "execution_count": 22,
   "id": "8facbfef",
   "metadata": {},
   "outputs": [],
   "source": [
    "df_merge = df_merge[df_merge['Country']=='US']\n",
    "df_merge[DEFAULT_RATING_COL] = '1'"
   ]
  },
  {
   "cell_type": "code",
   "execution_count": 24,
   "id": "b8c12835",
   "metadata": {},
   "outputs": [],
   "source": [
    "df_merge.to_csv(\"../../data/jobs/merged_all.csv\", index=False)"
   ]
  },
  {
   "cell_type": "code",
   "execution_count": 25,
   "id": "9b03d368",
   "metadata": {},
   "outputs": [],
   "source": [
    "# aa.to_hdf(\"../data/merged_apps.h5\", key='all', format='table', data_columns=True, mode='w')\n"
   ]
  },
  {
   "cell_type": "markdown",
   "id": "0bdf9e0a",
   "metadata": {},
   "source": [
    "## Convert the datatype "
   ]
  },
  {
   "cell_type": "code",
   "execution_count": 26,
   "id": "0587c737",
   "metadata": {},
   "outputs": [],
   "source": [
    "# cat_features = ['userid', 'itemid', 'WindowID_user', 'Split', 'City', \\\n",
    "#                 'State', 'Country', 'Zip_user', 'DegreeType', 'Major', \\\n",
    "#                'WorkHistoryCount', 'TotalYearsExperience', 'CurrentlyEmployed', \\\n",
    "#                'ManagedOthers', 'ManagedHowMany','WindowID_job','City_job', \\\n",
    "#                'State_job', 'Country_job', 'Zip_job']\n",
    "# # num_features = []\n",
    "# time_features = ['timestamp', 'GraduationDate','StartDate', 'EndDate' ]\n",
    "# # str_features = ['JobTitle_user', 'JobTitle','Description','Requirements']"
   ]
  },
  {
   "cell_type": "code",
   "execution_count": 27,
   "id": "0688309a",
   "metadata": {},
   "outputs": [],
   "source": [
    "# all_features = [cat_features, time_features, str_features]"
   ]
  },
  {
   "cell_type": "code",
   "execution_count": 28,
   "id": "cc3e1d68",
   "metadata": {},
   "outputs": [],
   "source": [
    "# # for feature_type in all_features:\n",
    "# for f in cat_features:\n",
    "# #     aa[f] = aa[f].fillna('none').astype('category')\n",
    "# #     pd.Categorical(aa[f])\n",
    "#     df_merge[f] = df_merge[f].astype('str')\n",
    "# for f in time_features:\n",
    "#     df_merge[f] = pd.to_datetime(df_merge[f])\n",
    "# # for f in str_features:\n",
    "# #     aa[f] = aa[f].astype(str)"
   ]
  },
  {
   "cell_type": "markdown",
   "id": "cd214ee2",
   "metadata": {},
   "source": [
    "## Subsample dataset \n",
    "Keep only US dataset and subsmaple 3-window users \n",
    "all the columns: Index(['userid', 'timestamp', 'itemid', 'WindowID_user', 'Split', 'City',\n",
    "       'State', 'Country', 'Zip_user', 'DegreeType', 'Major', 'GraduationDate',\n",
    "       'WorkHistoryCount', 'TotalYearsExperience', 'CurrentlyEmployed',\n",
    "       'ManagedOthers', 'ManagedHowMany', 'WindowID_job', 'City_job',\n",
    "       'State_job', 'Country_job', 'Zip_job', 'StartDate', 'EndDate'],\n",
    "      dtype='object')"
   ]
  },
  {
   "cell_type": "code",
   "execution_count": 42,
   "id": "c9764b02",
   "metadata": {},
   "outputs": [],
   "source": [
    "# df_all = pd.read_hdf('../data/merged_apps.h5', key='all', columns=['userid', 'itemid', \\\n",
    "#                                                                    'WindowID_user','Country'])"
   ]
  },
  {
   "cell_type": "code",
   "execution_count": 29,
   "id": "480ee081",
   "metadata": {},
   "outputs": [],
   "source": [
    "# df_all = pd.read_hdf('../data/merged_apps.h5', key='all')\n",
    "df_all = pd.read_csv(\"../../data/jobs/merged_all.csv\", low_memory=False)"
   ]
  },
  {
   "cell_type": "code",
   "execution_count": 30,
   "id": "af6336e8",
   "metadata": {
    "scrolled": false
   },
   "outputs": [
    {
     "data": {
      "text/plain": [
       "Index(['userid', 'timestamp', 'itemid', 'WindowID_user', 'Split', 'City',\n",
       "       'State', 'Country', 'Zip_user', 'DegreeType', 'Major', 'GraduationDate',\n",
       "       'WorkHistoryCount', 'TotalYearsExperience', 'CurrentlyEmployed',\n",
       "       'ManagedOthers', 'ManagedHowMany', 'WindowID_job', 'City_job',\n",
       "       'State_job', 'Country_job', 'Zip_job', 'StartDate', 'EndDate',\n",
       "       'rating'],\n",
       "      dtype='object')"
      ]
     },
     "execution_count": 30,
     "metadata": {},
     "output_type": "execute_result"
    }
   ],
   "source": [
    "df_all.columns"
   ]
  },
  {
   "cell_type": "markdown",
   "id": "07097f1e",
   "metadata": {},
   "source": [
    "Subsample certain windows dataset "
   ]
  },
  {
   "cell_type": "code",
   "execution_count": 31,
   "id": "eb086068",
   "metadata": {},
   "outputs": [],
   "source": [
    "select_win = [3, 4, 5]"
   ]
  },
  {
   "cell_type": "code",
   "execution_count": 32,
   "id": "c41757d2",
   "metadata": {},
   "outputs": [],
   "source": [
    "df_win = df_all[df_all.WindowID_user.isin(select_win)]"
   ]
  },
  {
   "cell_type": "code",
   "execution_count": 33,
   "id": "c2e6ecfe",
   "metadata": {},
   "outputs": [],
   "source": [
    "df_win.to_csv(\"../../data/jobs/merged_sub.csv\", index=False)"
   ]
  },
  {
   "cell_type": "code",
   "execution_count": 62,
   "id": "c4c2a122",
   "metadata": {},
   "outputs": [],
   "source": [
    "# df_win.isnull().sum()"
   ]
  },
  {
   "cell_type": "code",
   "execution_count": null,
   "id": "d97cb9dc",
   "metadata": {},
   "outputs": [],
   "source": []
  },
  {
   "cell_type": "code",
   "execution_count": null,
   "id": "3c4b5bea",
   "metadata": {},
   "outputs": [],
   "source": []
  },
  {
   "cell_type": "markdown",
   "id": "5a678c95",
   "metadata": {},
   "source": [
    "## Crearte the leave one out data"
   ]
  },
  {
   "cell_type": "code",
   "execution_count": null,
   "id": "cc8db7fe",
   "metadata": {},
   "outputs": [],
   "source": [
    "path_read = \"../../data/jobs/merged_sub.csv\"\n",
    "path_save1 = \"../../data/jobs/leave_one_train.csv\"\n",
    "path_save2 = \"../../data/jobs/leave_one_test.csv\"\n",
    "data_split.main(path_read, path_save1, path_save2)"
   ]
  },
  {
   "cell_type": "code",
   "execution_count": null,
   "id": "660fdc08",
   "metadata": {},
   "outputs": [],
   "source": []
  },
  {
   "cell_type": "markdown",
   "id": "ff71ec6e",
   "metadata": {},
   "source": [
    "## Create the negative sample dataset "
   ]
  },
  {
   "cell_type": "code",
   "execution_count": null,
   "id": "898e6422",
   "metadata": {},
   "outputs": [],
   "source": []
  },
  {
   "cell_type": "code",
   "execution_count": null,
   "id": "338cce86",
   "metadata": {},
   "outputs": [],
   "source": []
  }
 ],
 "metadata": {
  "kernelspec": {
   "display_name": "Python 3 (ipykernel)",
   "language": "python",
   "name": "python3"
  },
  "language_info": {
   "codemirror_mode": {
    "name": "ipython",
    "version": 3
   },
   "file_extension": ".py",
   "mimetype": "text/x-python",
   "name": "python",
   "nbconvert_exporter": "python",
   "pygments_lexer": "ipython3",
   "version": "3.8.10"
  }
 },
 "nbformat": 4,
 "nbformat_minor": 5
}
