{
 "cells": [
  {
   "cell_type": "code",
   "execution_count": 1,
   "id": "f25d5214",
   "metadata": {},
   "outputs": [],
   "source": [
    "import pandas as pd\n",
    "import os\n",
    "import sys\n",
    "sys.path.append('../../src')\n",
    "from utils.constants import DEFAULT_USER_COL,DEFAULT_ITEM_COL,DEFAULT_RATING_COL, DEFAULT_TIMESTAMP_COL\n",
    "from data_process import data_split, neg_sample\n",
    "import datetime\n",
    "import numpy as np"
   ]
  },
  {
   "cell_type": "markdown",
   "id": "30d7511a",
   "metadata": {},
   "source": [
    "## Loading the application "
   ]
  },
  {
   "cell_type": "code",
   "execution_count": 2,
   "id": "0a100443",
   "metadata": {},
   "outputs": [],
   "source": [
    "apps = pd.read_csv('../../data/jobs/tsv/apps.tsv', sep='\\t', encoding='utf-8')\n",
    "apps.rename(columns = {'UserID':DEFAULT_USER_COL, 'ApplicationDate':DEFAULT_TIMESTAMP_COL, \\\n",
    "                      'JobID':DEFAULT_ITEM_COL\n",
    "                      }, inplace=True)"
   ]
  },
  {
   "cell_type": "code",
   "execution_count": 3,
   "id": "03f0f707",
   "metadata": {},
   "outputs": [
    {
     "data": {
      "text/plain": [
       "Index(['userid', 'WindowID', 'Split', 'timestamp', 'itemid'], dtype='object')"
      ]
     },
     "execution_count": 3,
     "metadata": {},
     "output_type": "execute_result"
    }
   ],
   "source": [
    "apps.columns"
   ]
  },
  {
   "cell_type": "markdown",
   "id": "9cef9acb",
   "metadata": {},
   "source": [
    "## Loading the jobs info"
   ]
  },
  {
   "cell_type": "markdown",
   "id": "2182e63b",
   "metadata": {},
   "source": [
    "all columns: ['JobID', 'WindowID', 'Title', 'Description', 'Requirements','City', 'State', 'Country', 'Zip5', 'StartDate','EndDate']\n",
    "\n",
    "selected_columns = ['JobID', 'WindowID','City_job', 'State_job', 'Country_job', 'Zip5', 'StartDate','EndDate']"
   ]
  },
  {
   "cell_type": "code",
   "execution_count": 5,
   "id": "fb9c9d0f",
   "metadata": {
    "scrolled": true
   },
   "outputs": [
    {
     "name": "stderr",
     "output_type": "stream",
     "text": [
      "/tmp/ipykernel_159619/430080897.py:2: DtypeWarning: Columns (8) have mixed types. Specify dtype option on import or set low_memory=False.\n",
      "  jobs = pd.read_csv('../../data/jobs/tsv/jobs.tsv', sep='\\t', encoding='utf-8', on_bad_lines='skip', usecols = selected_feature)\n"
     ]
    }
   ],
   "source": [
    "selected_feature = ['JobID', 'WindowID','City', 'State', 'Country', 'Zip5', 'StartDate','EndDate']\n",
    "jobs = pd.read_csv('../../data/jobs/tsv/jobs.tsv', sep='\\t', encoding='utf-8', on_bad_lines='skip', usecols = selected_feature)\n",
    "\n",
    "jobs.rename(columns = {'JobID':DEFAULT_ITEM_COL, 'City':'City_job', \\\n",
    "                       'State':'State_job', 'Country':'Country_job', \\\n",
    "                      'Zip5':'Zip_job'}, inplace=True)"
   ]
  },
  {
   "cell_type": "code",
   "execution_count": 6,
   "id": "78d8c25a",
   "metadata": {},
   "outputs": [
    {
     "data": {
      "text/plain": [
       "Index(['itemid', 'WindowID', 'City_job', 'State_job', 'Country_job', 'Zip_job',\n",
       "       'StartDate', 'EndDate'],\n",
       "      dtype='object')"
      ]
     },
     "execution_count": 6,
     "metadata": {},
     "output_type": "execute_result"
    }
   ],
   "source": [
    "jobs.columns"
   ]
  },
  {
   "cell_type": "markdown",
   "id": "f8b89330",
   "metadata": {},
   "source": [
    "## Loading the user history info"
   ]
  },
  {
   "cell_type": "markdown",
   "id": "fb480536",
   "metadata": {},
   "source": [
    "full columns: Index(['UserID', 'WindowID', 'Split', 'Sequence', 'JobTitle'], dtype='object')\n",
    "\n",
    "selected columns:['UserID', 'WindowID', 'Split', 'Sequence']"
   ]
  },
  {
   "cell_type": "code",
   "execution_count": 7,
   "id": "d7742aec",
   "metadata": {},
   "outputs": [],
   "source": [
    "selected_col=['UserID', 'WindowID', 'Split', 'Sequence']\n",
    "user_history = pd.read_csv('../../data/jobs/tsv/user_history.tsv', sep='\\t', encoding='utf-8', usecols=selected_col)\n"
   ]
  },
  {
   "cell_type": "markdown",
   "id": "1584f826",
   "metadata": {},
   "source": [
    "### With jobtitle"
   ]
  },
  {
   "cell_type": "code",
   "execution_count": 8,
   "id": "ea78c214",
   "metadata": {},
   "outputs": [],
   "source": [
    "# user_history.rename(columns = {'UserID':DEFAULT_USER_COL, 'JobTitle':'JobTitle_user'}, inplace=True)\n",
    "# user_history = user_history[user_history['JobTitle_user'].notna()]\n",
    "# user_history_title = user_history.groupby('userid')['JobTitle_user'].\\\n",
    "# apply(lambda x:','.join(x)).reset_index()\n"
   ]
  },
  {
   "cell_type": "markdown",
   "id": "13d046f0",
   "metadata": {},
   "source": [
    "## Loading the user profile info"
   ]
  },
  {
   "cell_type": "code",
   "execution_count": 9,
   "id": "9ae8dd20",
   "metadata": {},
   "outputs": [],
   "source": [
    "users = pd.read_csv('../../data/jobs/tsv/users.tsv', sep='\\t', encoding='utf-8')\n",
    "users.rename(columns = {'UserID':DEFAULT_USER_COL, 'ZipCode':'Zip_user'}, inplace=True)"
   ]
  },
  {
   "cell_type": "code",
   "execution_count": 10,
   "id": "a5232d4b",
   "metadata": {},
   "outputs": [
    {
     "data": {
      "text/plain": [
       "Index(['userid', 'WindowID', 'Split', 'City', 'State', 'Country', 'Zip_user',\n",
       "       'DegreeType', 'Major', 'GraduationDate', 'WorkHistoryCount',\n",
       "       'TotalYearsExperience', 'CurrentlyEmployed', 'ManagedOthers',\n",
       "       'ManagedHowMany'],\n",
       "      dtype='object')"
      ]
     },
     "execution_count": 10,
     "metadata": {},
     "output_type": "execute_result"
    }
   ],
   "source": [
    "users.columns"
   ]
  },
  {
   "cell_type": "markdown",
   "id": "4018a15a",
   "metadata": {},
   "source": [
    "## Merge data "
   ]
  },
  {
   "cell_type": "markdown",
   "id": "1950d9d7",
   "metadata": {},
   "source": [
    "### Have job title"
   ]
  },
  {
   "cell_type": "code",
   "execution_count": 11,
   "id": "7d41b5d1",
   "metadata": {},
   "outputs": [],
   "source": [
    "# df_merge = apps.merge(users, how='left', on=[DEFAULT_USER_COL]) \\\n",
    "# .merge(user_history_title, how='left', on=[DEFAULT_USER_COL]) \\\n",
    "# .merge(jobs, how='left', on=[DEFAULT_ITEM_COL])"
   ]
  },
  {
   "cell_type": "markdown",
   "id": "4180c6ee",
   "metadata": {},
   "source": [
    "### Don't have job title"
   ]
  },
  {
   "cell_type": "code",
   "execution_count": 12,
   "id": "d0763753",
   "metadata": {},
   "outputs": [],
   "source": [
    "df_merge = apps.merge(users, how='left', on=[DEFAULT_USER_COL]) \\\n",
    ".merge(jobs, how='left', on=[DEFAULT_ITEM_COL])"
   ]
  },
  {
   "cell_type": "code",
   "execution_count": 13,
   "id": "e0d65004",
   "metadata": {},
   "outputs": [],
   "source": [
    "df_merge = df_merge.drop(['WindowID_x', 'Split_x'], axis=1).rename(columns = {'WindowID_y':'WindowID_user', \\\n",
    "                                                            'Split_y':'Split', 'Title':'JobTitle', \\\n",
    "                                                            'WindowID':'WindowID_job'\n",
    "                                                            })"
   ]
  },
  {
   "cell_type": "code",
   "execution_count": 14,
   "id": "2ddfc9ed",
   "metadata": {
    "scrolled": false
   },
   "outputs": [
    {
     "data": {
      "text/plain": [
       "Index(['userid', 'timestamp', 'itemid', 'WindowID_user', 'Split', 'City',\n",
       "       'State', 'Country', 'Zip_user', 'DegreeType', 'Major', 'GraduationDate',\n",
       "       'WorkHistoryCount', 'TotalYearsExperience', 'CurrentlyEmployed',\n",
       "       'ManagedOthers', 'ManagedHowMany', 'WindowID_job', 'City_job',\n",
       "       'State_job', 'Country_job', 'Zip_job', 'StartDate', 'EndDate'],\n",
       "      dtype='object')"
      ]
     },
     "execution_count": 14,
     "metadata": {},
     "output_type": "execute_result"
    }
   ],
   "source": [
    "df_merge.columns"
   ]
  },
  {
   "cell_type": "markdown",
   "id": "cc502f1c",
   "metadata": {},
   "source": [
    "## Save data"
   ]
  },
  {
   "cell_type": "code",
   "execution_count": 16,
   "id": "8facbfef",
   "metadata": {},
   "outputs": [],
   "source": [
    "df_merge = df_merge[df_merge['Country']=='US']\n",
    "df_merge[DEFAULT_RATING_COL] = '1'"
   ]
  },
  {
   "cell_type": "code",
   "execution_count": 18,
   "id": "ee52a899",
   "metadata": {},
   "outputs": [
    {
     "data": {
      "text/plain": [
       "(1594565, 25)"
      ]
     },
     "execution_count": 18,
     "metadata": {},
     "output_type": "execute_result"
    }
   ],
   "source": [
    "df_merge.shape"
   ]
  },
  {
   "cell_type": "code",
   "execution_count": 24,
   "id": "b8c12835",
   "metadata": {},
   "outputs": [],
   "source": [
    "df_merge.to_csv(\"../../data/jobs/merged_all.csv\", index=False)"
   ]
  },
  {
   "cell_type": "code",
   "execution_count": 25,
   "id": "9b03d368",
   "metadata": {},
   "outputs": [],
   "source": [
    "# aa.to_hdf(\"../data/merged_apps.h5\", key='all', format='table', data_columns=True, mode='w')\n"
   ]
  },
  {
   "cell_type": "markdown",
   "id": "0bdf9e0a",
   "metadata": {},
   "source": [
    "## Convert the datatype "
   ]
  },
  {
   "cell_type": "code",
   "execution_count": 26,
   "id": "0587c737",
   "metadata": {},
   "outputs": [],
   "source": [
    "# cat_features = ['userid', 'itemid', 'WindowID_user', 'Split', 'City', \\\n",
    "#                 'State', 'Country', 'Zip_user', 'DegreeType', 'Major', \\\n",
    "#                'WorkHistoryCount', 'TotalYearsExperience', 'CurrentlyEmployed', \\\n",
    "#                'ManagedOthers', 'ManagedHowMany','WindowID_job','City_job', \\\n",
    "#                'State_job', 'Country_job', 'Zip_job']\n",
    "# # num_features = []\n",
    "# time_features = ['timestamp', 'GraduationDate','StartDate', 'EndDate' ]\n",
    "# # str_features = ['JobTitle_user', 'JobTitle','Description','Requirements']"
   ]
  },
  {
   "cell_type": "code",
   "execution_count": 28,
   "id": "cc3e1d68",
   "metadata": {},
   "outputs": [],
   "source": [
    "# # for feature_type in all_features:\n",
    "# for f in cat_features:\n",
    "# #     aa[f] = aa[f].fillna('none').astype('category')\n",
    "# #     pd.Categorical(aa[f])\n",
    "#     df_merge[f] = df_merge[f].astype('str')\n",
    "# for f in time_features:\n",
    "#     df_merge[f] = pd.to_datetime(df_merge[f])\n",
    "# # for f in str_features:\n",
    "# #     aa[f] = aa[f].astype(str)"
   ]
  },
  {
   "cell_type": "markdown",
   "id": "cd214ee2",
   "metadata": {},
   "source": [
    "## Subsample dataset \n",
    "Keep only US dataset and subsmaple 3-window users \n",
    "all the columns: Index(['userid', 'timestamp', 'itemid', 'WindowID_user', 'Split', 'City',\n",
    "       'State', 'Country', 'Zip_user', 'DegreeType', 'Major', 'GraduationDate',\n",
    "       'WorkHistoryCount', 'TotalYearsExperience', 'CurrentlyEmployed',\n",
    "       'ManagedOthers', 'ManagedHowMany', 'WindowID_job', 'City_job',\n",
    "       'State_job', 'Country_job', 'Zip_job', 'StartDate', 'EndDate'],\n",
    "      dtype='object')"
   ]
  },
  {
   "cell_type": "code",
   "execution_count": 42,
   "id": "c9764b02",
   "metadata": {},
   "outputs": [],
   "source": [
    "# df_all = pd.read_hdf('../data/merged_apps.h5', key='all', columns=['userid', 'itemid', \\\n",
    "#                                                                    'WindowID_user','Country'])"
   ]
  },
  {
   "cell_type": "code",
   "execution_count": 21,
   "id": "480ee081",
   "metadata": {},
   "outputs": [],
   "source": [
    "# df_all = pd.read_hdf('../data/merged_apps.h5', key='all')\n",
    "df_all = pd.read_csv(\"../../data/jobs/merged_all_clean.csv\")"
   ]
  },
  {
   "cell_type": "code",
   "execution_count": 22,
   "id": "af6336e8",
   "metadata": {
    "scrolled": false
   },
   "outputs": [
    {
     "data": {
      "text/plain": [
       "userid                  0\n",
       "timestamp               0\n",
       "itemid                  0\n",
       "WindowID_user           0\n",
       "Split                   0\n",
       "City                    0\n",
       "State                   0\n",
       "Country                 0\n",
       "Zip_user                0\n",
       "DegreeType              0\n",
       "Major                   0\n",
       "GraduationDate          0\n",
       "WorkHistoryCount        0\n",
       "TotalYearsExperience    0\n",
       "CurrentlyEmployed       0\n",
       "ManagedOthers           0\n",
       "ManagedHowMany          0\n",
       "WindowID_job            0\n",
       "City_job                0\n",
       "State_job               0\n",
       "Country_job             0\n",
       "Zip_job                 0\n",
       "StartDate               0\n",
       "EndDate                 0\n",
       "rating                  0\n",
       "dtype: int64"
      ]
     },
     "execution_count": 22,
     "metadata": {},
     "output_type": "execute_result"
    }
   ],
   "source": [
    "df_all.isnull().sum()"
   ]
  },
  {
   "cell_type": "markdown",
   "id": "07097f1e",
   "metadata": {},
   "source": [
    "Subsample certain windows dataset "
   ]
  },
  {
   "cell_type": "code",
   "execution_count": 23,
   "id": "eb086068",
   "metadata": {},
   "outputs": [],
   "source": [
    "select_win = [3, 4, 5]"
   ]
  },
  {
   "cell_type": "code",
   "execution_count": 24,
   "id": "c41757d2",
   "metadata": {},
   "outputs": [],
   "source": [
    "df_win = df_all[df_all.WindowID_user.isin(select_win)]"
   ]
  },
  {
   "cell_type": "code",
   "execution_count": 25,
   "id": "2a0d9c1e",
   "metadata": {},
   "outputs": [
    {
     "data": {
      "text/plain": [
       "userid                  0\n",
       "timestamp               0\n",
       "itemid                  0\n",
       "WindowID_user           0\n",
       "Split                   0\n",
       "City                    0\n",
       "State                   0\n",
       "Country                 0\n",
       "Zip_user                0\n",
       "DegreeType              0\n",
       "Major                   0\n",
       "GraduationDate          0\n",
       "WorkHistoryCount        0\n",
       "TotalYearsExperience    0\n",
       "CurrentlyEmployed       0\n",
       "ManagedOthers           0\n",
       "ManagedHowMany          0\n",
       "WindowID_job            0\n",
       "City_job                0\n",
       "State_job               0\n",
       "Country_job             0\n",
       "Zip_job                 0\n",
       "StartDate               0\n",
       "EndDate                 0\n",
       "rating                  0\n",
       "dtype: int64"
      ]
     },
     "execution_count": 25,
     "metadata": {},
     "output_type": "execute_result"
    }
   ],
   "source": [
    "df_win.isnull().sum()"
   ]
  },
  {
   "cell_type": "code",
   "execution_count": 26,
   "id": "c2e6ecfe",
   "metadata": {},
   "outputs": [],
   "source": [
    "df_win.to_csv(\"../../data/jobs/merged_sub_clean.csv\", index=False)"
   ]
  },
  {
   "cell_type": "code",
   "execution_count": null,
   "id": "7c16a44b",
   "metadata": {},
   "outputs": [],
   "source": []
  },
  {
   "cell_type": "markdown",
   "id": "7f00e916",
   "metadata": {},
   "source": [
    "# Crearte the leave one out data"
   ]
  },
  {
   "cell_type": "code",
   "execution_count": 10,
   "id": "6aff820f",
   "metadata": {},
   "outputs": [],
   "source": [
    "path_read = \"../../data/jobs/merged_sub_clean.csv\"\n",
    "path_save1 = \"../../data/jobs/leave_one_train.csv\"\n",
    "path_save2 = \"../../data/jobs/leave_one_test.csv\"\n",
    "data_split.main(path_read, path_save1, path_save2)"
   ]
  },
  {
   "cell_type": "markdown",
   "id": "4e8c2d44",
   "metadata": {},
   "source": []
  },
  {
   "cell_type": "markdown",
   "id": "7342d807",
   "metadata": {},
   "source": [
    "# Create the negative sample dataset "
   ]
  },
  {
   "cell_type": "markdown",
   "id": "32313909",
   "metadata": {},
   "source": [
    "### Create for the training set "
   ]
  },
  {
   "cell_type": "code",
   "execution_count": 11,
   "id": "eeae10ed",
   "metadata": {},
   "outputs": [],
   "source": [
    "# path_read_test = '../../Data/jobs/leave_one_test.csv'\n",
    "path_read_all = '../../data/jobs/merged_sub.csv'\n",
    "path_read_train = '../../data/jobs/leave_one_train.csv'\n",
    "path_save = '../../data/jobs/leave_one_train_neg.csv'\n",
    "ng_num = 4\n",
    "neg_sample.main(path_read_all = path_read_all,\n",
    "                path_read_goal = path_read_train, \n",
    "                path_save=path_save, ng_num=ng_num, \n",
    "                path_read_neg=None, test=False, )"
   ]
  },
  {
   "cell_type": "markdown",
   "id": "483afbb8",
   "metadata": {},
   "source": [
    "### Create for the test set "
   ]
  },
  {
   "cell_type": "code",
   "execution_count": 14,
   "id": "788b1c71",
   "metadata": {
    "scrolled": true
   },
   "outputs": [
    {
     "name": "stderr",
     "output_type": "stream",
     "text": [
      "100%|█████████████████████████████████████| 74091/74091 [27:45<00:00, 44.48it/s]\n"
     ]
    }
   ],
   "source": [
    "path_read_test = '../../data/jobs/leave_one_test.csv'\n",
    "path_read_all = '../../data/jobs/merged_sub_clean.csv'\n",
    "path_save = '../../data/jobs/test_pos_neg'\n",
    "train_neg = '../../data/jobs/leave_one_train_neg'\n",
    "ng_num = 100\n",
    "neg_sample.main(path_read_all=path_read_all, \n",
    "                path_read_goal=path_read_test, \n",
    "                path_save=path_save, \n",
    "                ng_num=ng_num, \n",
    "                test=True,\n",
    "                path_read_neg = train_neg)"
   ]
  },
  {
   "cell_type": "code",
   "execution_count": null,
   "id": "2509d9fd",
   "metadata": {},
   "outputs": [],
   "source": []
  },
  {
   "cell_type": "markdown",
   "id": "6d6256ff",
   "metadata": {},
   "source": [
    "# Check the correctness of the data"
   ]
  },
  {
   "cell_type": "code",
   "execution_count": null,
   "id": "ad977d3c",
   "metadata": {},
   "outputs": [],
   "source": []
  },
  {
   "cell_type": "markdown",
   "id": "a117daa2",
   "metadata": {},
   "source": [
    "# Processing the missing value and datatype"
   ]
  },
  {
   "cell_type": "code",
   "execution_count": 19,
   "id": "e55458de",
   "metadata": {
    "scrolled": true
   },
   "outputs": [],
   "source": [
    "df_all = pd.read_csv('../../data/jobs/merged_all_clean.csv')"
   ]
  },
  {
   "cell_type": "code",
   "execution_count": 20,
   "id": "7a4afc9b",
   "metadata": {
    "scrolled": true
   },
   "outputs": [
    {
     "data": {
      "text/plain": [
       "userid                  0\n",
       "timestamp               0\n",
       "itemid                  0\n",
       "WindowID_user           0\n",
       "Split                   0\n",
       "City                    0\n",
       "State                   0\n",
       "Country                 0\n",
       "Zip_user                0\n",
       "DegreeType              0\n",
       "Major                   0\n",
       "GraduationDate          0\n",
       "WorkHistoryCount        0\n",
       "TotalYearsExperience    0\n",
       "CurrentlyEmployed       0\n",
       "ManagedOthers           0\n",
       "ManagedHowMany          0\n",
       "WindowID_job            0\n",
       "City_job                0\n",
       "State_job               0\n",
       "Country_job             0\n",
       "Zip_job                 0\n",
       "StartDate               0\n",
       "EndDate                 0\n",
       "rating                  0\n",
       "dtype: int64"
      ]
     },
     "execution_count": 20,
     "metadata": {},
     "output_type": "execute_result"
    }
   ],
   "source": [
    "df_all.isnull().sum()"
   ]
  },
  {
   "cell_type": "code",
   "execution_count": 16,
   "id": "5f2a672f",
   "metadata": {},
   "outputs": [],
   "source": [
    "df_all['GraduationDate'] = df_all['GraduationDate'].fillna(pd.Timestamp('1677-09-22T12'))\n",
    "df_all['TotalYearsExperience'] = df_all['TotalYearsExperience'].fillna(-1)\n",
    "df_all['CurrentlyEmployed'] = df_all['CurrentlyEmployed'].fillna('MISSING')\n",
    "df_all['WindowID_job'] = df_all['WindowID_job'].fillna(-1)\n",
    "df_all['City_job'] = df_all['City_job'].fillna(\"MISSING\")\n",
    "df_all['State_job'] = df_all['State_job'].fillna(\"MISSING\")\n",
    "df_all['Major'] = df_all['Major'].fillna(\"MISSING\")\n",
    "df_all['Country_job'] = df_all['Country_job'].fillna(\"US\")\n",
    "df_all['StartDate'] = df_all['StartDate'].fillna(pd.Timestamp('1677-09-22T12'))\n",
    "df_all['EndDate'] = df_all['EndDate'].fillna(pd.Timestamp('1677-09-22T12'))\n",
    "# df_all['City'] = df_all['City'].str.lower()\n",
    "# df_all['City'] = df_all['City'].str.replace(r'[^\\w\\s]+', '', regex=True)\n",
    "# df_all['City_job'] = df_all['City_job'].str.lower()\n",
    "# df_all['City_job'] = df_all['City_job'].str.replace(r'[^\\w\\s]+', '', regex=True)"
   ]
  },
  {
   "cell_type": "code",
   "execution_count": 17,
   "id": "b5db63a8",
   "metadata": {},
   "outputs": [
    {
     "data": {
      "text/plain": [
       "userid                  0\n",
       "timestamp               0\n",
       "itemid                  0\n",
       "WindowID_user           0\n",
       "Split                   0\n",
       "City                    0\n",
       "State                   0\n",
       "Country                 0\n",
       "Zip_user                0\n",
       "DegreeType              0\n",
       "Major                   0\n",
       "GraduationDate          0\n",
       "WorkHistoryCount        0\n",
       "TotalYearsExperience    0\n",
       "CurrentlyEmployed       0\n",
       "ManagedOthers           0\n",
       "ManagedHowMany          0\n",
       "WindowID_job            0\n",
       "City_job                0\n",
       "State_job               0\n",
       "Country_job             0\n",
       "Zip_job                 0\n",
       "StartDate               0\n",
       "EndDate                 0\n",
       "rating                  0\n",
       "dtype: int64"
      ]
     },
     "execution_count": 17,
     "metadata": {},
     "output_type": "execute_result"
    }
   ],
   "source": [
    "df_all.isnull().sum()"
   ]
  },
  {
   "cell_type": "markdown",
   "id": "efb5f99f",
   "metadata": {},
   "source": [
    "## Get the city-zip dictionary "
   ]
  },
  {
   "cell_type": "code",
   "execution_count": 9,
   "id": "f1b6d005",
   "metadata": {},
   "outputs": [],
   "source": [
    "df_geo_user = df_all[['City', 'Zip_user']].rename(columns={'Zip_user':'zip'})\n",
    "df_geo_job = df_all[['City_job', 'Zip_job']].rename(columns={'City_job':'City', 'Zip_job':'zip'})"
   ]
  },
  {
   "cell_type": "code",
   "execution_count": 10,
   "id": "f81bc8a3",
   "metadata": {},
   "outputs": [],
   "source": [
    "df_geo = pd.concat([df_geo_user, df_geo_job], axis=0).dropna().reset_index(drop=True)"
   ]
  },
  {
   "cell_type": "code",
   "execution_count": 11,
   "id": "0ea2fc5d",
   "metadata": {},
   "outputs": [],
   "source": [
    "# df_geo['City'] = df_geo['City'].astype(str)\n",
    "df_geo['zip'] = df_geo['zip'].astype(str)"
   ]
  },
  {
   "cell_type": "code",
   "execution_count": 12,
   "id": "fbedbf7b",
   "metadata": {},
   "outputs": [],
   "source": [
    "df_geo = df_geo[~(df_geo['zip']=='     ')]"
   ]
  },
  {
   "cell_type": "code",
   "execution_count": 13,
   "id": "31285431",
   "metadata": {},
   "outputs": [],
   "source": [
    "def zip_process(data, zip_name):\n",
    "    zip_ser = data[zip_name].apply(lambda x: x[:5])\n",
    "    zip_ser =zip_ser.apply(lambda x: '0'+ x[:4] if x[-1] == '.' else x)\n",
    "    zip_ser =zip_ser.apply(lambda x: '00'+ x[:3] if x[-2] == '.' else x)\n",
    "    zip_ser =zip_ser.apply(lambda x: x[:4]+'0' if x[-1] == '-' else x)\n",
    "    zip_ser =zip_ser.apply(lambda x: '0'*(5-len(x))+x if len(x) <5  else x)\n",
    "    return zip_ser.astype(str)"
   ]
  },
  {
   "cell_type": "code",
   "execution_count": 14,
   "id": "aaaaadef",
   "metadata": {},
   "outputs": [],
   "source": [
    "zip_ser = zip_process(df_geo, 'zip')\n",
    "df_geo['zip_new'] = zip_ser"
   ]
  },
  {
   "cell_type": "code",
   "execution_count": 15,
   "id": "3b61ebff",
   "metadata": {},
   "outputs": [],
   "source": [
    "zip_dic= dict(zip(df_geo.City, df_geo.zip_new))"
   ]
  },
  {
   "cell_type": "code",
   "execution_count": 16,
   "id": "b573da73",
   "metadata": {},
   "outputs": [],
   "source": [
    "df_all['Zip_user'] = df_all['Zip_user'].fillna(value=zip_dic)\n",
    "df_all['Zip_job'] = df_all['Zip_job'].fillna(value=zip_dic)"
   ]
  },
  {
   "cell_type": "code",
   "execution_count": 17,
   "id": "ed6cd7f3",
   "metadata": {},
   "outputs": [],
   "source": [
    "df_all['Zip_user'] = df_all['Zip_user'].astype(str)\n",
    "df_all['Zip_job'] = df_all['Zip_job'].astype(str)"
   ]
  },
  {
   "cell_type": "code",
   "execution_count": 18,
   "id": "8ede64cb",
   "metadata": {},
   "outputs": [],
   "source": [
    "df_all['Zip_user'] = zip_process(df_all, 'Zip_user')\n",
    "df_all['Zip_job'] = zip_process(df_all, 'Zip_job')"
   ]
  },
  {
   "cell_type": "code",
   "execution_count": 19,
   "id": "870a145d",
   "metadata": {
    "scrolled": true
   },
   "outputs": [
    {
     "data": {
      "text/plain": [
       "0"
      ]
     },
     "execution_count": 19,
     "metadata": {},
     "output_type": "execute_result"
    }
   ],
   "source": [
    "sum(df_all['Zip_user'].apply(lambda x: True if len(x)!=5 else False))"
   ]
  },
  {
   "cell_type": "code",
   "execution_count": 20,
   "id": "a0e04a50",
   "metadata": {},
   "outputs": [
    {
     "data": {
      "text/plain": [
       "0"
      ]
     },
     "execution_count": 20,
     "metadata": {},
     "output_type": "execute_result"
    }
   ],
   "source": [
    "sum(df_all['Zip_job'].apply(lambda x: True if len(x)!=5 else False))"
   ]
  },
  {
   "cell_type": "code",
   "execution_count": 21,
   "id": "173f281a",
   "metadata": {
    "scrolled": true
   },
   "outputs": [
    {
     "data": {
      "text/plain": [
       "userid                  0\n",
       "timestamp               0\n",
       "itemid                  0\n",
       "WindowID_user           0\n",
       "Split                   0\n",
       "City                    0\n",
       "State                   0\n",
       "Country                 0\n",
       "Zip_user                0\n",
       "DegreeType              0\n",
       "Major                   0\n",
       "GraduationDate          0\n",
       "WorkHistoryCount        0\n",
       "TotalYearsExperience    0\n",
       "CurrentlyEmployed       0\n",
       "ManagedOthers           0\n",
       "ManagedHowMany          0\n",
       "WindowID_job            0\n",
       "City_job                0\n",
       "State_job               0\n",
       "Country_job             0\n",
       "Zip_job                 0\n",
       "StartDate               0\n",
       "EndDate                 0\n",
       "rating                  0\n",
       "dtype: int64"
      ]
     },
     "execution_count": 21,
     "metadata": {},
     "output_type": "execute_result"
    }
   ],
   "source": [
    "df_all.isnull().sum()"
   ]
  },
  {
   "cell_type": "code",
   "execution_count": null,
   "id": "b0fcf524",
   "metadata": {},
   "outputs": [],
   "source": []
  },
  {
   "cell_type": "markdown",
   "id": "9621b8eb",
   "metadata": {},
   "source": [
    "## Convert the datatype "
   ]
  },
  {
   "cell_type": "code",
   "execution_count": 22,
   "id": "78533fbb",
   "metadata": {},
   "outputs": [],
   "source": [
    "cat_features = ['userid', 'itemid', 'WindowID_user', 'Split', 'City', \\\n",
    "                'State', 'Country', 'Zip_user', 'DegreeType', 'Major', \\\n",
    "               'WorkHistoryCount', 'TotalYearsExperience', 'CurrentlyEmployed', \\\n",
    "               'ManagedOthers', 'ManagedHowMany','WindowID_job','City_job', \\\n",
    "               'State_job', 'Country_job', 'Zip_job']\n",
    "# num_features = []\n",
    "time_features = ['timestamp', 'GraduationDate','StartDate', 'EndDate' ]\n",
    "# str_features = ['JobTitle_user', 'JobTitle','Description','Requirements']"
   ]
  },
  {
   "cell_type": "code",
   "execution_count": 23,
   "id": "3bee4117",
   "metadata": {},
   "outputs": [],
   "source": [
    "# for feature_type in all_features:\n",
    "for f in cat_features:\n",
    "    df_all[f] = df_all[f].astype('category')\n",
    "for f in time_features:\n",
    "    df_all[f] = pd.to_datetime(df_all[f])\n",
    "# for f in str_features:\n",
    "#     aa[f] = aa[f].astype(str)"
   ]
  },
  {
   "cell_type": "code",
   "execution_count": 24,
   "id": "ac869183",
   "metadata": {},
   "outputs": [
    {
     "name": "stdout",
     "output_type": "stream",
     "text": [
      "<class 'pandas.core.frame.DataFrame'>\n",
      "RangeIndex: 1594565 entries, 0 to 1594564\n",
      "Data columns (total 25 columns):\n",
      " #   Column                Non-Null Count    Dtype         \n",
      "---  ------                --------------    -----         \n",
      " 0   userid                1594565 non-null  category      \n",
      " 1   timestamp             1594565 non-null  datetime64[ns]\n",
      " 2   itemid                1594565 non-null  category      \n",
      " 3   WindowID_user         1594565 non-null  category      \n",
      " 4   Split                 1594565 non-null  category      \n",
      " 5   City                  1594565 non-null  category      \n",
      " 6   State                 1594565 non-null  category      \n",
      " 7   Country               1594565 non-null  category      \n",
      " 8   Zip_user              1594565 non-null  category      \n",
      " 9   DegreeType            1594565 non-null  category      \n",
      " 10  Major                 1594565 non-null  category      \n",
      " 11  GraduationDate        1594565 non-null  datetime64[ns]\n",
      " 12  WorkHistoryCount      1594565 non-null  category      \n",
      " 13  TotalYearsExperience  1594565 non-null  category      \n",
      " 14  CurrentlyEmployed     1594565 non-null  category      \n",
      " 15  ManagedOthers         1594565 non-null  category      \n",
      " 16  ManagedHowMany        1594565 non-null  category      \n",
      " 17  WindowID_job          1594565 non-null  category      \n",
      " 18  City_job              1594565 non-null  category      \n",
      " 19  State_job             1594565 non-null  category      \n",
      " 20  Country_job           1594565 non-null  category      \n",
      " 21  Zip_job               1594565 non-null  category      \n",
      " 22  StartDate             1594565 non-null  datetime64[ns]\n",
      " 23  EndDate               1594565 non-null  datetime64[ns]\n",
      " 24  rating                1594565 non-null  int64         \n",
      "dtypes: category(20), datetime64[ns](4), int64(1)\n",
      "memory usage: 137.1 MB\n"
     ]
    }
   ],
   "source": [
    "df_all.info()"
   ]
  },
  {
   "cell_type": "code",
   "execution_count": 18,
   "id": "4e85e68f",
   "metadata": {},
   "outputs": [],
   "source": [
    "df_all.to_csv('../../data/jobs/merged_all_clean.csv', index=False)"
   ]
  },
  {
   "cell_type": "code",
   "execution_count": null,
   "id": "0525bb7c",
   "metadata": {},
   "outputs": [],
   "source": []
  },
  {
   "cell_type": "code",
   "execution_count": null,
   "id": "2f9fdea2",
   "metadata": {},
   "outputs": [],
   "source": []
  },
  {
   "cell_type": "code",
   "execution_count": null,
   "id": "9b875db7",
   "metadata": {},
   "outputs": [],
   "source": []
  },
  {
   "cell_type": "code",
   "execution_count": null,
   "id": "6e629de0",
   "metadata": {},
   "outputs": [],
   "source": [
    "\n"
   ]
  }
 ],
 "metadata": {
  "kernelspec": {
   "display_name": "Python 3 (ipykernel)",
   "language": "python",
   "name": "python3"
  },
  "language_info": {
   "codemirror_mode": {
    "name": "ipython",
    "version": 3
   },
   "file_extension": ".py",
   "mimetype": "text/x-python",
   "name": "python",
   "nbconvert_exporter": "python",
   "pygments_lexer": "ipython3",
   "version": "3.8.10"
  }
 },
 "nbformat": 4,
 "nbformat_minor": 5
}
