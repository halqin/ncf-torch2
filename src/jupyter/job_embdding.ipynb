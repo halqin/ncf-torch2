{
 "cells": [
  {
   "cell_type": "code",
   "execution_count": 1,
   "id": "77b24bbd",
   "metadata": {},
   "outputs": [],
   "source": [
    "import sys\n",
    "sys.path.append('../../src')\n",
    "import re\n",
    "\n",
    "import data_process.neg_sample as ng_sample\n",
    "import pandas as pd \n",
    "from sentence_transformers import SentenceTransformer\n",
    "import torch\n",
    "from utils.constants import DEFAULT_USER_COL,DEFAULT_ITEM_COL,DEFAULT_RATING_COL, DEFAULT_TIMESTAMP_COL\n",
    "\n",
    "\n"
   ]
  },
  {
   "cell_type": "code",
   "execution_count": 2,
   "id": "555e2877",
   "metadata": {},
   "outputs": [
    {
     "data": {
      "text/plain": [
       "device(type='cuda', index=0)"
      ]
     },
     "execution_count": 2,
     "metadata": {},
     "output_type": "execute_result"
    }
   ],
   "source": [
    "device = torch.device('cuda:0' if torch.cuda.is_available() else 'cpu')\n",
    "device"
   ]
  },
  {
   "cell_type": "code",
   "execution_count": 3,
   "id": "3338dc43",
   "metadata": {},
   "outputs": [],
   "source": [
    "NEG_TRAIN = 4"
   ]
  },
  {
   "cell_type": "code",
   "execution_count": 4,
   "id": "e8b57154",
   "metadata": {},
   "outputs": [],
   "source": [
    "if device == 'cpu':\n",
    "    use_amp=False\n",
    "    df_train1  = ng_sample.read_feather(\"../../data/jobs/leave_one_train.csv\")\n",
    "    df_train2 = pd.read_feather(\"../../data/jobs/leave_one_train_neg\")\n",
    "    df_test_ori = pd.read_feather(\"../../data/jobs/test_pos_neg\").iloc[:202,]\n",
    "    df_all_features = pd.read_csv('../../data/jobs/merged_sub_clean.csv')\n",
    "    df_train1 = df_train1.sort_values(by=[DEFAULT_USER_COL]).iloc[:100,].reset_index(drop=True)\n",
    "    df_train2 = df_train2.sort_values(by=[DEFAULT_USER_COL]).iloc[:100*NEG_TRAIN,].reset_index(drop=True)\n",
    "else:\n",
    "    use_amp=True\n",
    "    df_train1  = ng_sample.read_feather(\"../../data/jobs/leave_one_train.csv\")\n",
    "    df_train2 = pd.read_feather(\"../../data/jobs/leave_one_train_neg\")\n",
    "    df_test_ori = pd.read_feather(\"../../data/jobs/test_pos_neg\")\n",
    "    df_all_features = pd.read_csv('../../data/jobs/merged_sub_clean.csv')\n",
    "    df_train1 = df_train1.sort_values(by=[DEFAULT_USER_COL]).reset_index(drop=True)\n",
    "    df_train2 = df_train2.sort_values(by=[DEFAULT_USER_COL]).reset_index(drop=True)"
   ]
  },
  {
   "cell_type": "code",
   "execution_count": 5,
   "id": "77dcc5ad",
   "metadata": {},
   "outputs": [],
   "source": [
    "df_train1[DEFAULT_RATING_COL] = 1"
   ]
  },
  {
   "cell_type": "code",
   "execution_count": 6,
   "id": "99f762d5",
   "metadata": {},
   "outputs": [],
   "source": [
    "def concat_index(df1, df2, NEG_TRAIN):\n",
    "    df2.index = df2.index//NEG_TRAIN\n",
    "    return pd.concat([df1, df2], axis=0).sort_index(kind='mregesort').reset_index(drop=True)"
   ]
  },
  {
   "cell_type": "code",
   "execution_count": 7,
   "id": "6d9cf60b",
   "metadata": {},
   "outputs": [],
   "source": [
    "df_train_all = concat_index(df_train1, df_train2, NEG_TRAIN)"
   ]
  },
  {
   "cell_type": "code",
   "execution_count": 8,
   "id": "ba0557ee",
   "metadata": {},
   "outputs": [],
   "source": [
    "df_train_all['flag'] = 1\n",
    "df_test_ori['flag'] = 0\n",
    "df_all = pd.concat([df_train_all, df_test_ori], axis=0).reset_index(drop=True)"
   ]
  },
  {
   "cell_type": "code",
   "execution_count": 9,
   "id": "49b003ea",
   "metadata": {},
   "outputs": [
    {
     "data": {
      "text/html": [
       "<div>\n",
       "<style scoped>\n",
       "    .dataframe tbody tr th:only-of-type {\n",
       "        vertical-align: middle;\n",
       "    }\n",
       "\n",
       "    .dataframe tbody tr th {\n",
       "        vertical-align: top;\n",
       "    }\n",
       "\n",
       "    .dataframe thead th {\n",
       "        text-align: right;\n",
       "    }\n",
       "</style>\n",
       "<table border=\"1\" class=\"dataframe\">\n",
       "  <thead>\n",
       "    <tr style=\"text-align: right;\">\n",
       "      <th></th>\n",
       "      <th>userid</th>\n",
       "      <th>itemid</th>\n",
       "      <th>rating</th>\n",
       "      <th>flag</th>\n",
       "    </tr>\n",
       "  </thead>\n",
       "  <tbody>\n",
       "    <tr>\n",
       "      <th>0</th>\n",
       "      <td>7</td>\n",
       "      <td>309823</td>\n",
       "      <td>1</td>\n",
       "      <td>1</td>\n",
       "    </tr>\n",
       "    <tr>\n",
       "      <th>1</th>\n",
       "      <td>7</td>\n",
       "      <td>516130</td>\n",
       "      <td>0</td>\n",
       "      <td>1</td>\n",
       "    </tr>\n",
       "    <tr>\n",
       "      <th>2</th>\n",
       "      <td>7</td>\n",
       "      <td>544280</td>\n",
       "      <td>0</td>\n",
       "      <td>1</td>\n",
       "    </tr>\n",
       "    <tr>\n",
       "      <th>3</th>\n",
       "      <td>7</td>\n",
       "      <td>372893</td>\n",
       "      <td>0</td>\n",
       "      <td>1</td>\n",
       "    </tr>\n",
       "    <tr>\n",
       "      <th>4</th>\n",
       "      <td>7</td>\n",
       "      <td>954871</td>\n",
       "      <td>0</td>\n",
       "      <td>1</td>\n",
       "    </tr>\n",
       "  </tbody>\n",
       "</table>\n",
       "</div>"
      ],
      "text/plain": [
       "   userid  itemid  rating  flag\n",
       "0       7  309823       1     1\n",
       "1       7  516130       0     1\n",
       "2       7  544280       0     1\n",
       "3       7  372893       0     1\n",
       "4       7  954871       0     1"
      ]
     },
     "execution_count": 9,
     "metadata": {},
     "output_type": "execute_result"
    }
   ],
   "source": [
    "df_all.head()"
   ]
  },
  {
   "cell_type": "markdown",
   "id": "065fc900",
   "metadata": {},
   "source": [
    "# Job"
   ]
  },
  {
   "cell_type": "code",
   "execution_count": 10,
   "id": "e6e30867",
   "metadata": {
    "scrolled": true
   },
   "outputs": [
    {
     "name": "stderr",
     "output_type": "stream",
     "text": [
      "/tmp/ipykernel_47727/3535381557.py:1: DtypeWarning: Columns (8) have mixed types. Specify dtype option on import or set low_memory=False.\n",
      "  jobs = pd.read_csv('../../data/jobs/tsv/jobs.tsv', sep='\\t', encoding='utf-8', on_bad_lines='skip')\n"
     ]
    }
   ],
   "source": [
    "jobs = pd.read_csv('../../data/jobs/tsv/jobs.tsv', sep='\\t', encoding='utf-8', on_bad_lines='skip')\n",
    "\n",
    "jobs.rename(columns = {'JobID':\"item_id\", 'City':'City_job',  'State':'State_job', 'Country':'Country_job',                       'Zip5':'Zip_job'}, inplace=True)\n",
    "\n",
    "jobs['Title'] = jobs['Title'].fillna('')\n",
    " "
   ]
  },
  {
   "cell_type": "code",
   "execution_count": 11,
   "id": "b3b8b032",
   "metadata": {},
   "outputs": [],
   "source": [
    "jobs_sub = jobs[jobs.item_id.isin(df_all.itemid)]"
   ]
  },
  {
   "cell_type": "code",
   "execution_count": 12,
   "id": "d28bb365",
   "metadata": {},
   "outputs": [
    {
     "name": "stderr",
     "output_type": "stream",
     "text": [
      "/tmp/ipykernel_47727/973742996.py:9: SettingWithCopyWarning: \n",
      "A value is trying to be set on a copy of a slice from a DataFrame.\n",
      "Try using .loc[row_indexer,col_indexer] = value instead\n",
      "\n",
      "See the caveats in the documentation: https://pandas.pydata.org/pandas-docs/stable/user_guide/indexing.html#returning-a-view-versus-a-copy\n",
      "  jobs_sub['Title'] = jobs_sub['Title'].astype(dtype='str').apply(preprocessor)\n"
     ]
    }
   ],
   "source": [
    "def preprocessor(text):\n",
    "    text = text.replace('\\\\r', '').replace('&nbsp', '').replace('\\n', '')\n",
    "    text = re.sub('<[^>]*>', '', text)\n",
    "    emoticons = re.findall('(?::|;|=)(?:-)?(?:\\)|\\(|D|P)', text)\n",
    "    text = re.sub('[\\W]+', ' ', text.lower()) +\\\n",
    "        ' '.join(emoticons).replace('-', '')\n",
    "    return text\n",
    "\n",
    "jobs_sub['Title'] = jobs_sub['Title'].astype(dtype='str').apply(preprocessor)\n",
    "\n"
   ]
  },
  {
   "cell_type": "code",
   "execution_count": 20,
   "id": "c70ec97e",
   "metadata": {},
   "outputs": [],
   "source": [
    " \n",
    "sbert_model =  SentenceTransformer('sentence-transformers/all-mpnet-base-v2', device='cuda')\n"
   ]
  },
  {
   "cell_type": "code",
   "execution_count": 22,
   "id": "d6c6eff6",
   "metadata": {},
   "outputs": [
    {
     "name": "stderr",
     "output_type": "stream",
     "text": [
      "/tmp/ipykernel_47727/3605969977.py:1: SettingWithCopyWarning: \n",
      "A value is trying to be set on a copy of a slice from a DataFrame.\n",
      "Try using .loc[row_indexer,col_indexer] = value instead\n",
      "\n",
      "See the caveats in the documentation: https://pandas.pydata.org/pandas-docs/stable/user_guide/indexing.html#returning-a-view-versus-a-copy\n",
      "  jobs_sub[\"Title_em\"]=  jobs_sub['Title'].apply(lambda x : sbert_model.encode(x))\n"
     ]
    }
   ],
   "source": [
    "jobs_sub[\"Title_em\"]=  jobs_sub['Title'].apply(lambda x : sbert_model.encode(x))\n"
   ]
  },
  {
   "cell_type": "code",
   "execution_count": 23,
   "id": "0e259669",
   "metadata": {},
   "outputs": [
    {
     "data": {
      "text/html": [
       "<div>\n",
       "<style scoped>\n",
       "    .dataframe tbody tr th:only-of-type {\n",
       "        vertical-align: middle;\n",
       "    }\n",
       "\n",
       "    .dataframe tbody tr th {\n",
       "        vertical-align: top;\n",
       "    }\n",
       "\n",
       "    .dataframe thead th {\n",
       "        text-align: right;\n",
       "    }\n",
       "</style>\n",
       "<table border=\"1\" class=\"dataframe\">\n",
       "  <thead>\n",
       "    <tr style=\"text-align: right;\">\n",
       "      <th></th>\n",
       "      <th>item_id</th>\n",
       "      <th>WindowID</th>\n",
       "      <th>Title</th>\n",
       "      <th>Description</th>\n",
       "      <th>Requirements</th>\n",
       "      <th>City_job</th>\n",
       "      <th>State_job</th>\n",
       "      <th>Country_job</th>\n",
       "      <th>Zip_job</th>\n",
       "      <th>StartDate</th>\n",
       "      <th>EndDate</th>\n",
       "      <th>Title_em</th>\n",
       "    </tr>\n",
       "  </thead>\n",
       "  <tbody>\n",
       "    <tr>\n",
       "      <th>440254</th>\n",
       "      <td>76</td>\n",
       "      <td>3</td>\n",
       "      <td>punch out foreman</td>\n",
       "      <td>10 yrs exp minimum for underground utilities c...</td>\n",
       "      <td>Please refer to the Job Description to view th...</td>\n",
       "      <td>Oviedo</td>\n",
       "      <td>FL</td>\n",
       "      <td>US</td>\n",
       "      <td>32765.0</td>\n",
       "      <td>2012-03-29 01:44:30.227</td>\n",
       "      <td>2012-04-28 23:59:59</td>\n",
       "      <td>[0.019618202, 0.09344988, 0.02695138, 0.002974...</td>\n",
       "    </tr>\n",
       "    <tr>\n",
       "      <th>440256</th>\n",
       "      <td>85</td>\n",
       "      <td>3</td>\n",
       "      <td>qa qc senior assistant</td>\n",
       "      <td>This position provides support in the quality ...</td>\n",
       "      <td>Please refer to the Job Description to view th...</td>\n",
       "      <td>Eustis</td>\n",
       "      <td>FL</td>\n",
       "      <td>US</td>\n",
       "      <td>32726.0</td>\n",
       "      <td>2012-03-30 01:23:58.62</td>\n",
       "      <td>2012-04-29 23:59:59</td>\n",
       "      <td>[0.011078028, 0.019362302, -0.016758027, 0.008...</td>\n",
       "    </tr>\n",
       "    <tr>\n",
       "      <th>440259</th>\n",
       "      <td>98</td>\n",
       "      <td>3</td>\n",
       "      <td>furniture craftsman</td>\n",
       "      <td>&lt;b&gt;    &lt;b&gt;FURNITURE CRAFTSMAN&lt;/b&gt; &lt;/b&gt;  ——  Ex...</td>\n",
       "      <td>Please refer to the Job Description to view th...</td>\n",
       "      <td>Orlando</td>\n",
       "      <td>FL</td>\n",
       "      <td>US</td>\n",
       "      <td>32801.0</td>\n",
       "      <td>2012-04-05 12:52:07.437</td>\n",
       "      <td>2012-05-04 23:59:59</td>\n",
       "      <td>[-0.004492085, 0.03667915, 0.010740442, 0.0155...</td>\n",
       "    </tr>\n",
       "    <tr>\n",
       "      <th>440261</th>\n",
       "      <td>100</td>\n",
       "      <td>3</td>\n",
       "      <td>marketing homecare</td>\n",
       "      <td>We are looking for someone with experience in ...</td>\n",
       "      <td>Please refer to the Job Description to view th...</td>\n",
       "      <td>Orlando</td>\n",
       "      <td>FL</td>\n",
       "      <td>US</td>\n",
       "      <td>32803.0</td>\n",
       "      <td>2012-04-08 01:27:00.893</td>\n",
       "      <td>2012-05-07 23:59:59</td>\n",
       "      <td>[0.012990964, -0.018705405, -0.04509775, -0.03...</td>\n",
       "    </tr>\n",
       "    <tr>\n",
       "      <th>440266</th>\n",
       "      <td>114</td>\n",
       "      <td>3</td>\n",
       "      <td>leasing consultant</td>\n",
       "      <td>&lt;b&gt;    &lt;b&gt; LEASING CONSULTANT &lt;/b&gt; &lt;/b&gt;  —— F/...</td>\n",
       "      <td>Please refer to the Job Description to view th...</td>\n",
       "      <td>Orlando</td>\n",
       "      <td>FL</td>\n",
       "      <td>US</td>\n",
       "      <td>32817.0</td>\n",
       "      <td>2012-04-13 12:06:14.227</td>\n",
       "      <td>2012-05-12 23:59:59</td>\n",
       "      <td>[0.0058157262, 0.012847453, -9.123508e-05, -0....</td>\n",
       "    </tr>\n",
       "    <tr>\n",
       "      <th>...</th>\n",
       "      <td>...</td>\n",
       "      <td>...</td>\n",
       "      <td>...</td>\n",
       "      <td>...</td>\n",
       "      <td>...</td>\n",
       "      <td>...</td>\n",
       "      <td>...</td>\n",
       "      <td>...</td>\n",
       "      <td>...</td>\n",
       "      <td>...</td>\n",
       "      <td>...</td>\n",
       "      <td>...</td>\n",
       "    </tr>\n",
       "    <tr>\n",
       "      <th>861360</th>\n",
       "      <td>1116240</td>\n",
       "      <td>5</td>\n",
       "      <td>retail management professional</td>\n",
       "      <td>&lt;SPAN&gt;\\r&lt;HR&gt;\\r&lt;P dir=ltr align=center&gt;&lt;STRONG&gt;...</td>\n",
       "      <td>&lt;SPAN&gt;\\r&lt;HR&gt;\\r&lt;P dir=ltr align=center&gt;&lt;STRONG&gt;...</td>\n",
       "      <td>New York</td>\n",
       "      <td>NY</td>\n",
       "      <td>US</td>\n",
       "      <td>NaN</td>\n",
       "      <td>2012-04-27 15:54:44.637</td>\n",
       "      <td>2012-05-26 23:59:59</td>\n",
       "      <td>[0.012847574, -0.015192667, -0.046453502, -0.0...</td>\n",
       "    </tr>\n",
       "    <tr>\n",
       "      <th>861364</th>\n",
       "      <td>1116257</td>\n",
       "      <td>5</td>\n",
       "      <td>senior compliance analyst</td>\n",
       "      <td>&lt;p&gt;Located in the vibrant Harbor East section ...</td>\n",
       "      <td>&lt;p&gt;&lt;strong&gt;Experience and Education Requiremen...</td>\n",
       "      <td>Baltimore</td>\n",
       "      <td>MD</td>\n",
       "      <td>US</td>\n",
       "      <td>21202.0</td>\n",
       "      <td>2012-05-15 13:44:38.507</td>\n",
       "      <td>2012-06-14 23:59:00</td>\n",
       "      <td>[0.012384181, 0.013370257, -0.012150419, -0.03...</td>\n",
       "    </tr>\n",
       "    <tr>\n",
       "      <th>861366</th>\n",
       "      <td>1116283</td>\n",
       "      <td>5</td>\n",
       "      <td>cnc mill machinists and cnc operators</td>\n",
       "      <td>&lt;span&gt;CNC Mill Machinists and CNC operators  /...</td>\n",
       "      <td>&lt;p&gt;&lt;b&gt;CNC Mill Machinists and CNC operators  /...</td>\n",
       "      <td>Montgomeryville</td>\n",
       "      <td>PA</td>\n",
       "      <td>US</td>\n",
       "      <td>18936.0</td>\n",
       "      <td>2012-05-02 10:08:25.743</td>\n",
       "      <td>2012-06-01 23:59:59</td>\n",
       "      <td>[-0.045443065, -0.0056769284, -0.037670527, 0....</td>\n",
       "    </tr>\n",
       "    <tr>\n",
       "      <th>861369</th>\n",
       "      <td>1116295</td>\n",
       "      <td>5</td>\n",
       "      <td>operations expert</td>\n",
       "      <td>FRED&amp;rsquo;S Stores, America&amp;rsquo;s favorite ...</td>\n",
       "      <td>&lt;br&gt;\\r*&amp;nbsp; The successful candidate will ha...</td>\n",
       "      <td>Calhoun City</td>\n",
       "      <td>MS</td>\n",
       "      <td>US</td>\n",
       "      <td>NaN</td>\n",
       "      <td>2012-05-29 16:43:22.227</td>\n",
       "      <td>2012-06-28 23:59:00</td>\n",
       "      <td>[0.03150434, 0.017827582, -0.021305485, -0.024...</td>\n",
       "    </tr>\n",
       "    <tr>\n",
       "      <th>861370</th>\n",
       "      <td>1116305</td>\n",
       "      <td>5</td>\n",
       "      <td>office manager sales assistant financial servi...</td>\n",
       "      <td>&lt;p align=\"left\"&gt;&lt;span&gt;Office Manager/Sales Ass...</td>\n",
       "      <td>&lt;p&gt;&lt;b&gt;&lt;i&gt;&lt;span&gt;Position Requirements&lt;/span&gt;&lt;/i...</td>\n",
       "      <td>Fresno</td>\n",
       "      <td>CA</td>\n",
       "      <td>US</td>\n",
       "      <td>93720.0</td>\n",
       "      <td>2012-05-18 11:21:50.617</td>\n",
       "      <td>2012-06-17 23:59:00</td>\n",
       "      <td>[0.008059089, 0.016259784, -0.026429031, -0.05...</td>\n",
       "    </tr>\n",
       "  </tbody>\n",
       "</table>\n",
       "<p>139291 rows × 12 columns</p>\n",
       "</div>"
      ],
      "text/plain": [
       "        item_id  WindowID                                              Title  \\\n",
       "440254       76         3                                  punch out foreman   \n",
       "440256       85         3                             qa qc senior assistant   \n",
       "440259       98         3                                furniture craftsman   \n",
       "440261      100         3                                 marketing homecare   \n",
       "440266      114         3                                 leasing consultant   \n",
       "...         ...       ...                                                ...   \n",
       "861360  1116240         5                     retail management professional   \n",
       "861364  1116257         5                          senior compliance analyst   \n",
       "861366  1116283         5              cnc mill machinists and cnc operators   \n",
       "861369  1116295         5                                  operations expert   \n",
       "861370  1116305         5  office manager sales assistant financial servi...   \n",
       "\n",
       "                                              Description  \\\n",
       "440254  10 yrs exp minimum for underground utilities c...   \n",
       "440256  This position provides support in the quality ...   \n",
       "440259  <b>    <b>FURNITURE CRAFTSMAN</b> </b>  ——  Ex...   \n",
       "440261  We are looking for someone with experience in ...   \n",
       "440266  <b>    <b> LEASING CONSULTANT </b> </b>  —— F/...   \n",
       "...                                                   ...   \n",
       "861360  <SPAN>\\r<HR>\\r<P dir=ltr align=center><STRONG>...   \n",
       "861364  <p>Located in the vibrant Harbor East section ...   \n",
       "861366  <span>CNC Mill Machinists and CNC operators  /...   \n",
       "861369  FRED&rsquo;S Stores, America&rsquo;s favorite ...   \n",
       "861370  <p align=\"left\"><span>Office Manager/Sales Ass...   \n",
       "\n",
       "                                             Requirements         City_job  \\\n",
       "440254  Please refer to the Job Description to view th...           Oviedo   \n",
       "440256  Please refer to the Job Description to view th...           Eustis   \n",
       "440259  Please refer to the Job Description to view th...          Orlando   \n",
       "440261  Please refer to the Job Description to view th...          Orlando   \n",
       "440266  Please refer to the Job Description to view th...          Orlando   \n",
       "...                                                   ...              ...   \n",
       "861360  <SPAN>\\r<HR>\\r<P dir=ltr align=center><STRONG>...         New York   \n",
       "861364  <p><strong>Experience and Education Requiremen...        Baltimore   \n",
       "861366  <p><b>CNC Mill Machinists and CNC operators  /...  Montgomeryville   \n",
       "861369  <br>\\r*&nbsp; The successful candidate will ha...     Calhoun City   \n",
       "861370  <p><b><i><span>Position Requirements</span></i...           Fresno   \n",
       "\n",
       "       State_job Country_job  Zip_job                StartDate  \\\n",
       "440254        FL          US  32765.0  2012-03-29 01:44:30.227   \n",
       "440256        FL          US  32726.0   2012-03-30 01:23:58.62   \n",
       "440259        FL          US  32801.0  2012-04-05 12:52:07.437   \n",
       "440261        FL          US  32803.0  2012-04-08 01:27:00.893   \n",
       "440266        FL          US  32817.0  2012-04-13 12:06:14.227   \n",
       "...          ...         ...      ...                      ...   \n",
       "861360        NY          US      NaN  2012-04-27 15:54:44.637   \n",
       "861364        MD          US  21202.0  2012-05-15 13:44:38.507   \n",
       "861366        PA          US  18936.0  2012-05-02 10:08:25.743   \n",
       "861369        MS          US      NaN  2012-05-29 16:43:22.227   \n",
       "861370        CA          US  93720.0  2012-05-18 11:21:50.617   \n",
       "\n",
       "                    EndDate                                           Title_em  \n",
       "440254  2012-04-28 23:59:59  [0.019618202, 0.09344988, 0.02695138, 0.002974...  \n",
       "440256  2012-04-29 23:59:59  [0.011078028, 0.019362302, -0.016758027, 0.008...  \n",
       "440259  2012-05-04 23:59:59  [-0.004492085, 0.03667915, 0.010740442, 0.0155...  \n",
       "440261  2012-05-07 23:59:59  [0.012990964, -0.018705405, -0.04509775, -0.03...  \n",
       "440266  2012-05-12 23:59:59  [0.0058157262, 0.012847453, -9.123508e-05, -0....  \n",
       "...                     ...                                                ...  \n",
       "861360  2012-05-26 23:59:59  [0.012847574, -0.015192667, -0.046453502, -0.0...  \n",
       "861364  2012-06-14 23:59:00  [0.012384181, 0.013370257, -0.012150419, -0.03...  \n",
       "861366  2012-06-01 23:59:59  [-0.045443065, -0.0056769284, -0.037670527, 0....  \n",
       "861369  2012-06-28 23:59:00  [0.03150434, 0.017827582, -0.021305485, -0.024...  \n",
       "861370  2012-06-17 23:59:00  [0.008059089, 0.016259784, -0.026429031, -0.05...  \n",
       "\n",
       "[139291 rows x 12 columns]"
      ]
     },
     "execution_count": 23,
     "metadata": {},
     "output_type": "execute_result"
    }
   ],
   "source": [
    "jobs_sub"
   ]
  },
  {
   "cell_type": "code",
   "execution_count": 25,
   "id": "2e10639c",
   "metadata": {},
   "outputs": [],
   "source": [
    "jobs_sub.to_csv(\"../../data/jobs/job_title_embed.csv\")"
   ]
  },
  {
   "cell_type": "code",
   "execution_count": 26,
   "id": "33400788",
   "metadata": {},
   "outputs": [],
   "source": [
    "jobs_sub[['item_id', 'Title','Title_em']].to_csv(\"../../data/jobs/job_title_embed2.csv\")"
   ]
  },
  {
   "cell_type": "code",
   "execution_count": 30,
   "id": "e2f9fa2f",
   "metadata": {},
   "outputs": [],
   "source": [
    "jobs_sub[['item_id','Title_em']].reset_index().to_feather(\"../../data/jobs/job_title_embed3\")"
   ]
  },
  {
   "cell_type": "code",
   "execution_count": null,
   "id": "5c880ff0",
   "metadata": {},
   "outputs": [],
   "source": []
  }
 ],
 "metadata": {
  "kernelspec": {
   "display_name": "Python 3 (ipykernel)",
   "language": "python",
   "name": "python3"
  },
  "language_info": {
   "codemirror_mode": {
    "name": "ipython",
    "version": 3
   },
   "file_extension": ".py",
   "mimetype": "text/x-python",
   "name": "python",
   "nbconvert_exporter": "python",
   "pygments_lexer": "ipython3",
   "version": "3.8.10"
  }
 },
 "nbformat": 4,
 "nbformat_minor": 5
}
