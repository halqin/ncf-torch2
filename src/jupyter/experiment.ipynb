{
 "cells": [
  {
   "cell_type": "code",
   "execution_count": 1,
   "id": "0d3cbac2",
   "metadata": {},
   "outputs": [],
   "source": [
    "import pandas as pd\n",
    "import numpy as np\n",
    "import config\n",
    "import data_process.neg_sample as ng_sample\n",
    "from sklearn import metrics, preprocessing\n",
    "import torch\n",
    "import torch.nn as nn\n",
    "import torch.utils.data as data\n",
    "import torch.optim as optim\n",
    "import tqdm\n",
    "import torch.nn.functional as F\n",
    "import random"
   ]
  },
  {
   "cell_type": "code",
   "execution_count": 17,
   "id": "7ec571ad",
   "metadata": {},
   "outputs": [],
   "source": [
    "train_data = pd.read_csv(\n",
    "    config.train_rating,\n",
    "    sep='\\t', header=None, names=['user', 'item'],\n",
    "    usecols=[0, 1], dtype={0: np.int32, 1: np.int32})"
   ]
  },
  {
   "cell_type": "code",
   "execution_count": 20,
   "id": "df22bf00",
   "metadata": {},
   "outputs": [
    {
     "data": {
      "text/plain": [
       "3705"
      ]
     },
     "execution_count": 20,
     "metadata": {},
     "output_type": "execute_result"
    }
   ],
   "source": [
    "train_data['item'].max()"
   ]
  },
  {
   "cell_type": "code",
   "execution_count": 31,
   "id": "abaaeaec",
   "metadata": {},
   "outputs": [],
   "source": [
    "aa = set(train_data['item'])"
   ]
  },
  {
   "cell_type": "code",
   "execution_count": null,
   "id": "e69d5407",
   "metadata": {},
   "outputs": [],
   "source": [
    "test_data_pos = pd.read_csv(\n",
    "    config.test_rating,\n",
    "    sep='\\t', header=None, names=['user', 'item'],\n",
    "    usecols=[0, 1], dtype={0: np.int32, 1: np.int32})\n",
    "\n",
    "# user_num = train_data['user'].max() + 1\n",
    "user_num = len(set(train_data['user']))\n",
    "item_num = len(set(train_data['item']))\n",
    "train_data = train_data.values.tolist()\n",
    "test_data_pos = test_data_pos.values.tolist()\n",
    "    \n",
    "    \n",
    "    "
   ]
  },
  {
   "cell_type": "code",
   "execution_count": 24,
   "id": "cef88c23",
   "metadata": {},
   "outputs": [],
   "source": [
    "test_data = []\n",
    "with open(config.test_negative, 'r') as fd:\n",
    "    line = fd.readline()\n",
    "    while line != None and line != '':\n",
    "        arr = line.split('\\t')\n",
    "        u = eval(arr[0])[0]\n",
    "        test_data.append([u, eval(arr[0])[1]])\n",
    "        for i in arr[1:]:\n",
    "            test_data.append([u, int(i)])\n",
    "        line = fd.readline()"
   ]
  },
  {
   "cell_type": "code",
   "execution_count": 32,
   "id": "e0ec3ea9",
   "metadata": {},
   "outputs": [],
   "source": [
    "bb= set([i[1] for i in test_data])"
   ]
  },
  {
   "cell_type": "code",
   "execution_count": 38,
   "id": "46fb12f0",
   "metadata": {},
   "outputs": [],
   "source": [
    "cc =aa.union(bb)"
   ]
  },
  {
   "cell_type": "code",
   "execution_count": 39,
   "id": "cce2bbd8",
   "metadata": {},
   "outputs": [
    {
     "data": {
      "text/plain": [
       "3706"
      ]
     },
     "execution_count": 39,
     "metadata": {},
     "output_type": "execute_result"
    }
   ],
   "source": [
    "len(cc)"
   ]
  },
  {
   "cell_type": "code",
   "execution_count": 5,
   "id": "f39baa5a",
   "metadata": {},
   "outputs": [
    {
     "data": {
      "text/plain": [
       "6040"
      ]
     },
     "execution_count": 5,
     "metadata": {},
     "output_type": "execute_result"
    }
   ],
   "source": [
    "user_num"
   ]
  },
  {
   "cell_type": "code",
   "execution_count": 8,
   "id": "8d36021b",
   "metadata": {},
   "outputs": [
    {
     "data": {
      "text/plain": [
       "[[0, 34], [0, 4], [0, 35], [0, 30]]"
      ]
     },
     "execution_count": 8,
     "metadata": {},
     "output_type": "execute_result"
    }
   ],
   "source": [
    "train_data[1:5]"
   ]
  },
  {
   "cell_type": "code",
   "execution_count": 11,
   "id": "0ae30a23",
   "metadata": {},
   "outputs": [
    {
     "data": {
      "text/plain": [
       "3705"
      ]
     },
     "execution_count": 11,
     "metadata": {},
     "output_type": "execute_result"
    }
   ],
   "source": [
    "max([i[1] for i in train_data])"
   ]
  },
  {
   "cell_type": "code",
   "execution_count": 14,
   "id": "205664d9",
   "metadata": {},
   "outputs": [
    {
     "data": {
      "text/plain": [
       "0"
      ]
     },
     "execution_count": 14,
     "metadata": {},
     "output_type": "execute_result"
    }
   ],
   "source": [
    "min([i[1] for i in train_data])"
   ]
  },
  {
   "cell_type": "code",
   "execution_count": 13,
   "id": "f59c3923",
   "metadata": {},
   "outputs": [
    {
     "data": {
      "text/plain": [
       "3704"
      ]
     },
     "execution_count": 13,
     "metadata": {},
     "output_type": "execute_result"
    }
   ],
   "source": [
    "len(set(i[1] for i in train_data))"
   ]
  },
  {
   "cell_type": "code",
   "execution_count": 164,
   "id": "7d800295",
   "metadata": {},
   "outputs": [],
   "source": [
    "all_data = pd.read_csv(\n",
    "    \"/Users/hao/Documents/MA_thesis/ncf-torch/Data/mini_split.csv\",\n",
    "    header=0, names=['user', 'item', 'rating', 'split'])"
   ]
  },
  {
   "cell_type": "code",
   "execution_count": 165,
   "id": "9b5909d9",
   "metadata": {},
   "outputs": [
    {
     "data": {
      "text/html": [
       "<div>\n",
       "<style scoped>\n",
       "    .dataframe tbody tr th:only-of-type {\n",
       "        vertical-align: middle;\n",
       "    }\n",
       "\n",
       "    .dataframe tbody tr th {\n",
       "        vertical-align: top;\n",
       "    }\n",
       "\n",
       "    .dataframe thead th {\n",
       "        text-align: right;\n",
       "    }\n",
       "</style>\n",
       "<table border=\"1\" class=\"dataframe\">\n",
       "  <thead>\n",
       "    <tr style=\"text-align: right;\">\n",
       "      <th></th>\n",
       "      <th>user</th>\n",
       "      <th>item</th>\n",
       "      <th>rating</th>\n",
       "      <th>split</th>\n",
       "    </tr>\n",
       "  </thead>\n",
       "  <tbody>\n",
       "    <tr>\n",
       "      <th>0</th>\n",
       "      <td>1</td>\n",
       "      <td>1</td>\n",
       "      <td>1</td>\n",
       "      <td>Train</td>\n",
       "    </tr>\n",
       "    <tr>\n",
       "      <th>1</th>\n",
       "      <td>1</td>\n",
       "      <td>2</td>\n",
       "      <td>1</td>\n",
       "      <td>Test</td>\n",
       "    </tr>\n",
       "    <tr>\n",
       "      <th>2</th>\n",
       "      <td>1</td>\n",
       "      <td>5</td>\n",
       "      <td>1</td>\n",
       "      <td>Test</td>\n",
       "    </tr>\n",
       "    <tr>\n",
       "      <th>3</th>\n",
       "      <td>1</td>\n",
       "      <td>4</td>\n",
       "      <td>1</td>\n",
       "      <td>Train</td>\n",
       "    </tr>\n",
       "    <tr>\n",
       "      <th>4</th>\n",
       "      <td>2</td>\n",
       "      <td>1</td>\n",
       "      <td>1</td>\n",
       "      <td>Test</td>\n",
       "    </tr>\n",
       "    <tr>\n",
       "      <th>5</th>\n",
       "      <td>2</td>\n",
       "      <td>2</td>\n",
       "      <td>1</td>\n",
       "      <td>Train</td>\n",
       "    </tr>\n",
       "    <tr>\n",
       "      <th>6</th>\n",
       "      <td>3</td>\n",
       "      <td>2</td>\n",
       "      <td>1</td>\n",
       "      <td>Train</td>\n",
       "    </tr>\n",
       "    <tr>\n",
       "      <th>7</th>\n",
       "      <td>3</td>\n",
       "      <td>5</td>\n",
       "      <td>1</td>\n",
       "      <td>Train</td>\n",
       "    </tr>\n",
       "    <tr>\n",
       "      <th>8</th>\n",
       "      <td>3</td>\n",
       "      <td>6</td>\n",
       "      <td>1</td>\n",
       "      <td>Test</td>\n",
       "    </tr>\n",
       "    <tr>\n",
       "      <th>9</th>\n",
       "      <td>4</td>\n",
       "      <td>1</td>\n",
       "      <td>1</td>\n",
       "      <td>Test</td>\n",
       "    </tr>\n",
       "    <tr>\n",
       "      <th>10</th>\n",
       "      <td>4</td>\n",
       "      <td>3</td>\n",
       "      <td>1</td>\n",
       "      <td>Train</td>\n",
       "    </tr>\n",
       "    <tr>\n",
       "      <th>11</th>\n",
       "      <td>4</td>\n",
       "      <td>4</td>\n",
       "      <td>1</td>\n",
       "      <td>Train</td>\n",
       "    </tr>\n",
       "    <tr>\n",
       "      <th>12</th>\n",
       "      <td>5</td>\n",
       "      <td>3</td>\n",
       "      <td>1</td>\n",
       "      <td>Test</td>\n",
       "    </tr>\n",
       "  </tbody>\n",
       "</table>\n",
       "</div>"
      ],
      "text/plain": [
       "    user  item  rating  split\n",
       "0      1     1       1  Train\n",
       "1      1     2       1   Test\n",
       "2      1     5       1   Test\n",
       "3      1     4       1  Train\n",
       "4      2     1       1   Test\n",
       "5      2     2       1  Train\n",
       "6      3     2       1  Train\n",
       "7      3     5       1  Train\n",
       "8      3     6       1   Test\n",
       "9      4     1       1   Test\n",
       "10     4     3       1  Train\n",
       "11     4     4       1  Train\n",
       "12     5     3       1   Test"
      ]
     },
     "execution_count": 165,
     "metadata": {},
     "output_type": "execute_result"
    }
   ],
   "source": [
    "all_data"
   ]
  },
  {
   "cell_type": "code",
   "execution_count": 166,
   "id": "6eda7593",
   "metadata": {},
   "outputs": [],
   "source": [
    "train_data = all_data[all_data['split']=='Train']"
   ]
  },
  {
   "cell_type": "code",
   "execution_count": 167,
   "id": "b449ea2e",
   "metadata": {},
   "outputs": [],
   "source": [
    "test_data = all_data[all_data['split']=='Test']"
   ]
  },
  {
   "cell_type": "markdown",
   "id": "5b5fe5ec",
   "metadata": {},
   "source": [
    "## Creat the random sample function"
   ]
  },
  {
   "cell_type": "code",
   "execution_count": 168,
   "id": "21a3d394",
   "metadata": {},
   "outputs": [],
   "source": [
    "all_item = set(all_data.item)"
   ]
  },
  {
   "cell_type": "code",
   "execution_count": 181,
   "id": "7dac91db",
   "metadata": {},
   "outputs": [
    {
     "data": {
      "text/html": [
       "<div>\n",
       "<style scoped>\n",
       "    .dataframe tbody tr th:only-of-type {\n",
       "        vertical-align: middle;\n",
       "    }\n",
       "\n",
       "    .dataframe tbody tr th {\n",
       "        vertical-align: top;\n",
       "    }\n",
       "\n",
       "    .dataframe thead th {\n",
       "        text-align: right;\n",
       "    }\n",
       "</style>\n",
       "<table border=\"1\" class=\"dataframe\">\n",
       "  <thead>\n",
       "    <tr style=\"text-align: right;\">\n",
       "      <th></th>\n",
       "      <th>user</th>\n",
       "      <th>item</th>\n",
       "      <th>rating</th>\n",
       "      <th>split</th>\n",
       "    </tr>\n",
       "  </thead>\n",
       "  <tbody>\n",
       "    <tr>\n",
       "      <th>0</th>\n",
       "      <td>1</td>\n",
       "      <td>1</td>\n",
       "      <td>1</td>\n",
       "      <td>Train</td>\n",
       "    </tr>\n",
       "    <tr>\n",
       "      <th>3</th>\n",
       "      <td>1</td>\n",
       "      <td>4</td>\n",
       "      <td>1</td>\n",
       "      <td>Train</td>\n",
       "    </tr>\n",
       "    <tr>\n",
       "      <th>5</th>\n",
       "      <td>2</td>\n",
       "      <td>2</td>\n",
       "      <td>1</td>\n",
       "      <td>Train</td>\n",
       "    </tr>\n",
       "    <tr>\n",
       "      <th>6</th>\n",
       "      <td>3</td>\n",
       "      <td>2</td>\n",
       "      <td>1</td>\n",
       "      <td>Train</td>\n",
       "    </tr>\n",
       "    <tr>\n",
       "      <th>7</th>\n",
       "      <td>3</td>\n",
       "      <td>5</td>\n",
       "      <td>1</td>\n",
       "      <td>Train</td>\n",
       "    </tr>\n",
       "    <tr>\n",
       "      <th>10</th>\n",
       "      <td>4</td>\n",
       "      <td>3</td>\n",
       "      <td>1</td>\n",
       "      <td>Train</td>\n",
       "    </tr>\n",
       "    <tr>\n",
       "      <th>11</th>\n",
       "      <td>4</td>\n",
       "      <td>4</td>\n",
       "      <td>1</td>\n",
       "      <td>Train</td>\n",
       "    </tr>\n",
       "  </tbody>\n",
       "</table>\n",
       "</div>"
      ],
      "text/plain": [
       "    user  item  rating  split\n",
       "0      1     1       1  Train\n",
       "3      1     4       1  Train\n",
       "5      2     2       1  Train\n",
       "6      3     2       1  Train\n",
       "7      3     5       1  Train\n",
       "10     4     3       1  Train\n",
       "11     4     4       1  Train"
      ]
     },
     "execution_count": 181,
     "metadata": {},
     "output_type": "execute_result"
    }
   ],
   "source": [
    "train_data"
   ]
  },
  {
   "cell_type": "code",
   "execution_count": 182,
   "id": "db962e66",
   "metadata": {},
   "outputs": [
    {
     "data": {
      "text/html": [
       "<div>\n",
       "<style scoped>\n",
       "    .dataframe tbody tr th:only-of-type {\n",
       "        vertical-align: middle;\n",
       "    }\n",
       "\n",
       "    .dataframe tbody tr th {\n",
       "        vertical-align: top;\n",
       "    }\n",
       "\n",
       "    .dataframe thead th {\n",
       "        text-align: right;\n",
       "    }\n",
       "</style>\n",
       "<table border=\"1\" class=\"dataframe\">\n",
       "  <thead>\n",
       "    <tr style=\"text-align: right;\">\n",
       "      <th></th>\n",
       "      <th>user</th>\n",
       "      <th>item</th>\n",
       "      <th>rating</th>\n",
       "      <th>split</th>\n",
       "    </tr>\n",
       "  </thead>\n",
       "  <tbody>\n",
       "    <tr>\n",
       "      <th>1</th>\n",
       "      <td>1</td>\n",
       "      <td>2</td>\n",
       "      <td>1</td>\n",
       "      <td>Test</td>\n",
       "    </tr>\n",
       "    <tr>\n",
       "      <th>2</th>\n",
       "      <td>1</td>\n",
       "      <td>5</td>\n",
       "      <td>1</td>\n",
       "      <td>Test</td>\n",
       "    </tr>\n",
       "    <tr>\n",
       "      <th>4</th>\n",
       "      <td>2</td>\n",
       "      <td>1</td>\n",
       "      <td>1</td>\n",
       "      <td>Test</td>\n",
       "    </tr>\n",
       "    <tr>\n",
       "      <th>8</th>\n",
       "      <td>3</td>\n",
       "      <td>6</td>\n",
       "      <td>1</td>\n",
       "      <td>Test</td>\n",
       "    </tr>\n",
       "    <tr>\n",
       "      <th>9</th>\n",
       "      <td>4</td>\n",
       "      <td>1</td>\n",
       "      <td>1</td>\n",
       "      <td>Test</td>\n",
       "    </tr>\n",
       "    <tr>\n",
       "      <th>12</th>\n",
       "      <td>5</td>\n",
       "      <td>3</td>\n",
       "      <td>1</td>\n",
       "      <td>Test</td>\n",
       "    </tr>\n",
       "  </tbody>\n",
       "</table>\n",
       "</div>"
      ],
      "text/plain": [
       "    user  item  rating split\n",
       "1      1     2       1  Test\n",
       "2      1     5       1  Test\n",
       "4      2     1       1  Test\n",
       "8      3     6       1  Test\n",
       "9      4     1       1  Test\n",
       "12     5     3       1  Test"
      ]
     },
     "execution_count": 182,
     "metadata": {},
     "output_type": "execute_result"
    }
   ],
   "source": [
    "test_data"
   ]
  },
  {
   "cell_type": "code",
   "execution_count": 171,
   "id": "ef3bc78b",
   "metadata": {},
   "outputs": [],
   "source": [
    "test_gt = test_data[['user', 'item']]"
   ]
  },
  {
   "cell_type": "code",
   "execution_count": 172,
   "id": "3d0ea2a7",
   "metadata": {},
   "outputs": [],
   "source": [
    "import random\n",
    "import tqdm"
   ]
  },
  {
   "cell_type": "code",
   "execution_count": null,
   "id": "5f104d96",
   "metadata": {},
   "outputs": [],
   "source": []
  },
  {
   "cell_type": "code",
   "execution_count": 173,
   "id": "4384c0f2",
   "metadata": {},
   "outputs": [],
   "source": [
    "item_diff =all_item - {2}"
   ]
  },
  {
   "cell_type": "code",
   "execution_count": 174,
   "id": "dc4bfdeb",
   "metadata": {},
   "outputs": [
    {
     "data": {
      "text/plain": [
       "[5, 6]"
      ]
     },
     "execution_count": 174,
     "metadata": {},
     "output_type": "execute_result"
    }
   ],
   "source": [
    "random.sample(item_diff, 2)"
   ]
  },
  {
   "cell_type": "code",
   "execution_count": 189,
   "id": "369661cc",
   "metadata": {},
   "outputs": [],
   "source": [
    "def _neg_sample(test_gt, all_data, all_item, ng_num):\n",
    "    neg_set = []\n",
    "    for i in tqdm.tqdm(test_gt.values):\n",
    "        train_user_item = set(all_data[all_data['user']==i[0]]['item'])\n",
    "        item_diff = all_item - train_user_item\n",
    "        random.seed(10)\n",
    "        neg = random.sample(item_diff, ng_num)\n",
    "        for j in neg:\n",
    "            neg_set.append([i[0],j])\n",
    "    df_neg = pd.DataFrame(neg_set, columns=['user', 'item'])\n",
    "    df_neg.to_csv('../Data/mini_split_neg.csv')\n",
    "#     return neg_set\n"
   ]
  },
  {
   "cell_type": "code",
   "execution_count": 190,
   "id": "1777f717",
   "metadata": {},
   "outputs": [
    {
     "name": "stderr",
     "output_type": "stream",
     "text": [
      "100%|██████████| 6/6 [00:00<00:00, 1051.16it/s]\n"
     ]
    }
   ],
   "source": [
    "_neg_sample(test_gt, all_data, all_item, ng_num=2)"
   ]
  },
  {
   "cell_type": "code",
   "execution_count": 89,
   "id": "0da4f6ca",
   "metadata": {},
   "outputs": [],
   "source": [
    "df_jrs = pd.read_feather('/Users/hao/Documents/MA_thesis/ncf-torch/Data/jobs/apps_sub', columns={'UserID', 'JobID', 'Split'})"
   ]
  },
  {
   "cell_type": "code",
   "execution_count": 90,
   "id": "524f38ea",
   "metadata": {},
   "outputs": [
    {
     "data": {
      "text/html": [
       "<div>\n",
       "<style scoped>\n",
       "    .dataframe tbody tr th:only-of-type {\n",
       "        vertical-align: middle;\n",
       "    }\n",
       "\n",
       "    .dataframe tbody tr th {\n",
       "        vertical-align: top;\n",
       "    }\n",
       "\n",
       "    .dataframe thead th {\n",
       "        text-align: right;\n",
       "    }\n",
       "</style>\n",
       "<table border=\"1\" class=\"dataframe\">\n",
       "  <thead>\n",
       "    <tr style=\"text-align: right;\">\n",
       "      <th></th>\n",
       "      <th>JobID</th>\n",
       "      <th>Split</th>\n",
       "      <th>UserID</th>\n",
       "    </tr>\n",
       "  </thead>\n",
       "  <tbody>\n",
       "    <tr>\n",
       "      <th>0</th>\n",
       "      <td>309823</td>\n",
       "      <td>Train</td>\n",
       "      <td>7</td>\n",
       "    </tr>\n",
       "    <tr>\n",
       "      <th>1</th>\n",
       "      <td>703889</td>\n",
       "      <td>Train</td>\n",
       "      <td>7</td>\n",
       "    </tr>\n",
       "    <tr>\n",
       "      <th>2</th>\n",
       "      <td>473209</td>\n",
       "      <td>Train</td>\n",
       "      <td>106</td>\n",
       "    </tr>\n",
       "  </tbody>\n",
       "</table>\n",
       "</div>"
      ],
      "text/plain": [
       "    JobID  Split  UserID\n",
       "0  309823  Train       7\n",
       "1  703889  Train       7\n",
       "2  473209  Train     106"
      ]
     },
     "execution_count": 90,
     "metadata": {},
     "output_type": "execute_result"
    }
   ],
   "source": [
    "df_jrs.head(3)"
   ]
  },
  {
   "cell_type": "code",
   "execution_count": 211,
   "id": "fc0033d0",
   "metadata": {},
   "outputs": [],
   "source": [
    "df_jrs.rename(columns = {'UserID':'user', 'JobID':'item', 'Split':'split'}, inplace=True )"
   ]
  },
  {
   "cell_type": "code",
   "execution_count": 212,
   "id": "aaf85b83",
   "metadata": {},
   "outputs": [
    {
     "data": {
      "text/html": [
       "<div>\n",
       "<style scoped>\n",
       "    .dataframe tbody tr th:only-of-type {\n",
       "        vertical-align: middle;\n",
       "    }\n",
       "\n",
       "    .dataframe tbody tr th {\n",
       "        vertical-align: top;\n",
       "    }\n",
       "\n",
       "    .dataframe thead th {\n",
       "        text-align: right;\n",
       "    }\n",
       "</style>\n",
       "<table border=\"1\" class=\"dataframe\">\n",
       "  <thead>\n",
       "    <tr style=\"text-align: right;\">\n",
       "      <th></th>\n",
       "      <th>item</th>\n",
       "      <th>split</th>\n",
       "      <th>user</th>\n",
       "    </tr>\n",
       "  </thead>\n",
       "  <tbody>\n",
       "    <tr>\n",
       "      <th>0</th>\n",
       "      <td>309823</td>\n",
       "      <td>Train</td>\n",
       "      <td>7</td>\n",
       "    </tr>\n",
       "    <tr>\n",
       "      <th>1</th>\n",
       "      <td>703889</td>\n",
       "      <td>Train</td>\n",
       "      <td>7</td>\n",
       "    </tr>\n",
       "    <tr>\n",
       "      <th>2</th>\n",
       "      <td>473209</td>\n",
       "      <td>Train</td>\n",
       "      <td>106</td>\n",
       "    </tr>\n",
       "    <tr>\n",
       "      <th>3</th>\n",
       "      <td>1052756</td>\n",
       "      <td>Train</td>\n",
       "      <td>108</td>\n",
       "    </tr>\n",
       "    <tr>\n",
       "      <th>4</th>\n",
       "      <td>960067</td>\n",
       "      <td>Train</td>\n",
       "      <td>132</td>\n",
       "    </tr>\n",
       "    <tr>\n",
       "      <th>...</th>\n",
       "      <td>...</td>\n",
       "      <td>...</td>\n",
       "      <td>...</td>\n",
       "    </tr>\n",
       "    <tr>\n",
       "      <th>683889</th>\n",
       "      <td>932512</td>\n",
       "      <td>Train</td>\n",
       "      <td>1472005</td>\n",
       "    </tr>\n",
       "    <tr>\n",
       "      <th>683890</th>\n",
       "      <td>532537</td>\n",
       "      <td>Train</td>\n",
       "      <td>1472008</td>\n",
       "    </tr>\n",
       "    <tr>\n",
       "      <th>683891</th>\n",
       "      <td>12087</td>\n",
       "      <td>Train</td>\n",
       "      <td>1472008</td>\n",
       "    </tr>\n",
       "    <tr>\n",
       "      <th>683892</th>\n",
       "      <td>473827</td>\n",
       "      <td>Train</td>\n",
       "      <td>1472035</td>\n",
       "    </tr>\n",
       "    <tr>\n",
       "      <th>683893</th>\n",
       "      <td>849565</td>\n",
       "      <td>Train</td>\n",
       "      <td>1472085</td>\n",
       "    </tr>\n",
       "  </tbody>\n",
       "</table>\n",
       "<p>683894 rows × 3 columns</p>\n",
       "</div>"
      ],
      "text/plain": [
       "           item  split     user\n",
       "0        309823  Train        7\n",
       "1        703889  Train        7\n",
       "2        473209  Train      106\n",
       "3       1052756  Train      108\n",
       "4        960067  Train      132\n",
       "...         ...    ...      ...\n",
       "683889   932512  Train  1472005\n",
       "683890   532537  Train  1472008\n",
       "683891    12087  Train  1472008\n",
       "683892   473827  Train  1472035\n",
       "683893   849565  Train  1472085\n",
       "\n",
       "[683894 rows x 3 columns]"
      ]
     },
     "execution_count": 212,
     "metadata": {},
     "output_type": "execute_result"
    }
   ],
   "source": [
    "df_jrs"
   ]
  },
  {
   "cell_type": "code",
   "execution_count": 204,
   "id": "ab9e60cc",
   "metadata": {},
   "outputs": [],
   "source": [
    "df_jrs['JobID'] = df_jrs['JobID'].astype('int64')"
   ]
  },
  {
   "cell_type": "code",
   "execution_count": 205,
   "id": "9746c1f8",
   "metadata": {},
   "outputs": [
    {
     "name": "stdout",
     "output_type": "stream",
     "text": [
      "<class 'pandas.core.frame.DataFrame'>\n",
      "RangeIndex: 683894 entries, 0 to 683893\n",
      "Data columns (total 3 columns):\n",
      " #   Column  Non-Null Count   Dtype \n",
      "---  ------  --------------   ----- \n",
      " 0   JobID   683894 non-null  int64 \n",
      " 1   Split   683894 non-null  string\n",
      " 2   UserID  683894 non-null  Int64 \n",
      "dtypes: Int64(1), int64(1), string(1)\n",
      "memory usage: 16.3 MB\n"
     ]
    }
   ],
   "source": [
    "df_jrs.info()"
   ]
  },
  {
   "cell_type": "code",
   "execution_count": null,
   "id": "5fa972de",
   "metadata": {},
   "outputs": [],
   "source": []
  },
  {
   "cell_type": "markdown",
   "id": "20b5330b",
   "metadata": {},
   "source": [
    "# subsample as dataset "
   ]
  },
  {
   "cell_type": "code",
   "execution_count": 78,
   "id": "66c0d519",
   "metadata": {},
   "outputs": [],
   "source": [
    "all_data = pd.read_feather(\"/Users/hao/Documents/MA_thesis/ncf-torch/Data/jobs/apps_pos_sub\")"
   ]
  },
  {
   "cell_type": "code",
   "execution_count": 79,
   "id": "36787a08",
   "metadata": {},
   "outputs": [
    {
     "data": {
      "text/html": [
       "<div>\n",
       "<style scoped>\n",
       "    .dataframe tbody tr th:only-of-type {\n",
       "        vertical-align: middle;\n",
       "    }\n",
       "\n",
       "    .dataframe tbody tr th {\n",
       "        vertical-align: top;\n",
       "    }\n",
       "\n",
       "    .dataframe thead th {\n",
       "        text-align: right;\n",
       "    }\n",
       "</style>\n",
       "<table border=\"1\" class=\"dataframe\">\n",
       "  <thead>\n",
       "    <tr style=\"text-align: right;\">\n",
       "      <th></th>\n",
       "      <th>UserID</th>\n",
       "      <th>WindowID</th>\n",
       "      <th>Split</th>\n",
       "      <th>ApplicationDate</th>\n",
       "      <th>JobID</th>\n",
       "      <th>Applies</th>\n",
       "    </tr>\n",
       "  </thead>\n",
       "  <tbody>\n",
       "    <tr>\n",
       "      <th>0</th>\n",
       "      <td>7</td>\n",
       "      <td>3</td>\n",
       "      <td>Train</td>\n",
       "      <td>2012-04-22 08:14:26.443</td>\n",
       "      <td>309823</td>\n",
       "      <td>1</td>\n",
       "    </tr>\n",
       "    <tr>\n",
       "      <th>1</th>\n",
       "      <td>7</td>\n",
       "      <td>3</td>\n",
       "      <td>Train</td>\n",
       "      <td>2012-04-28 12:17:58.630</td>\n",
       "      <td>703889</td>\n",
       "      <td>1</td>\n",
       "    </tr>\n",
       "  </tbody>\n",
       "</table>\n",
       "</div>"
      ],
      "text/plain": [
       "   UserID  WindowID  Split         ApplicationDate   JobID  Applies\n",
       "0       7         3  Train 2012-04-22 08:14:26.443  309823        1\n",
       "1       7         3  Train 2012-04-28 12:17:58.630  703889        1"
      ]
     },
     "execution_count": 79,
     "metadata": {},
     "output_type": "execute_result"
    }
   ],
   "source": [
    "all_data.head(2)"
   ]
  },
  {
   "cell_type": "code",
   "execution_count": 33,
   "id": "aedc3c4d",
   "metadata": {},
   "outputs": [],
   "source": [
    "# list(all_data.UserID)"
   ]
  },
  {
   "cell_type": "code",
   "execution_count": 80,
   "id": "1dc7309e",
   "metadata": {},
   "outputs": [
    {
     "data": {
      "text/plain": [
       "<StringArray>\n",
       "[ '309823',  '703889',  '473209', '1052756',  '960067',  '828884',  '569294',\n",
       "  '888911',  '585734',  '577855',\n",
       " ...\n",
       "  '641881',  '127237',  '123658',   '85522',  '480993', '1059261', '1056469',\n",
       "  '932512',  '532537',   '12087']\n",
       "Length: 152923, dtype: string"
      ]
     },
     "execution_count": 80,
     "metadata": {},
     "output_type": "execute_result"
    }
   ],
   "source": [
    "all_data['JobID'].unique()"
   ]
  },
  {
   "cell_type": "code",
   "execution_count": 26,
   "id": "39834e4d",
   "metadata": {},
   "outputs": [],
   "source": [
    "selected = [7, 106, 212]"
   ]
  },
  {
   "cell_type": "code",
   "execution_count": 27,
   "id": "d7c03d35",
   "metadata": {},
   "outputs": [],
   "source": [
    "sub_data = all_data[all_data['UserID'].isin(selected)]"
   ]
  },
  {
   "cell_type": "code",
   "execution_count": 28,
   "id": "1a2d2599",
   "metadata": {},
   "outputs": [
    {
     "data": {
      "text/html": [
       "<div>\n",
       "<style scoped>\n",
       "    .dataframe tbody tr th:only-of-type {\n",
       "        vertical-align: middle;\n",
       "    }\n",
       "\n",
       "    .dataframe tbody tr th {\n",
       "        vertical-align: top;\n",
       "    }\n",
       "\n",
       "    .dataframe thead th {\n",
       "        text-align: right;\n",
       "    }\n",
       "</style>\n",
       "<table border=\"1\" class=\"dataframe\">\n",
       "  <thead>\n",
       "    <tr style=\"text-align: right;\">\n",
       "      <th></th>\n",
       "      <th>UserID</th>\n",
       "      <th>WindowID</th>\n",
       "      <th>Split</th>\n",
       "      <th>ApplicationDate</th>\n",
       "      <th>JobID</th>\n",
       "      <th>Applies</th>\n",
       "    </tr>\n",
       "  </thead>\n",
       "  <tbody>\n",
       "    <tr>\n",
       "      <th>0</th>\n",
       "      <td>7</td>\n",
       "      <td>3</td>\n",
       "      <td>Train</td>\n",
       "      <td>2012-04-22 08:14:26.443</td>\n",
       "      <td>309823</td>\n",
       "      <td>1</td>\n",
       "    </tr>\n",
       "    <tr>\n",
       "      <th>1</th>\n",
       "      <td>7</td>\n",
       "      <td>3</td>\n",
       "      <td>Train</td>\n",
       "      <td>2012-04-28 12:17:58.630</td>\n",
       "      <td>703889</td>\n",
       "      <td>1</td>\n",
       "    </tr>\n",
       "    <tr>\n",
       "      <th>2</th>\n",
       "      <td>106</td>\n",
       "      <td>3</td>\n",
       "      <td>Train</td>\n",
       "      <td>2012-04-27 11:41:22.320</td>\n",
       "      <td>473209</td>\n",
       "      <td>1</td>\n",
       "    </tr>\n",
       "    <tr>\n",
       "      <th>7</th>\n",
       "      <td>212</td>\n",
       "      <td>3</td>\n",
       "      <td>Train</td>\n",
       "      <td>2012-04-04 16:06:28.207</td>\n",
       "      <td>888911</td>\n",
       "      <td>1</td>\n",
       "    </tr>\n",
       "    <tr>\n",
       "      <th>8</th>\n",
       "      <td>212</td>\n",
       "      <td>3</td>\n",
       "      <td>Train</td>\n",
       "      <td>2012-05-01 02:03:50.473</td>\n",
       "      <td>585734</td>\n",
       "      <td>1</td>\n",
       "    </tr>\n",
       "    <tr>\n",
       "      <th>9</th>\n",
       "      <td>212</td>\n",
       "      <td>3</td>\n",
       "      <td>Train</td>\n",
       "      <td>2012-05-03 19:48:55.650</td>\n",
       "      <td>577855</td>\n",
       "      <td>1</td>\n",
       "    </tr>\n",
       "    <tr>\n",
       "      <th>10</th>\n",
       "      <td>212</td>\n",
       "      <td>3</td>\n",
       "      <td>Train</td>\n",
       "      <td>2012-04-30 13:06:57.887</td>\n",
       "      <td>224895</td>\n",
       "      <td>1</td>\n",
       "    </tr>\n",
       "  </tbody>\n",
       "</table>\n",
       "</div>"
      ],
      "text/plain": [
       "    UserID  WindowID  Split         ApplicationDate   JobID  Applies\n",
       "0        7         3  Train 2012-04-22 08:14:26.443  309823        1\n",
       "1        7         3  Train 2012-04-28 12:17:58.630  703889        1\n",
       "2      106         3  Train 2012-04-27 11:41:22.320  473209        1\n",
       "7      212         3  Train 2012-04-04 16:06:28.207  888911        1\n",
       "8      212         3  Train 2012-05-01 02:03:50.473  585734        1\n",
       "9      212         3  Train 2012-05-03 19:48:55.650  577855        1\n",
       "10     212         3  Train 2012-04-30 13:06:57.887  224895        1"
      ]
     },
     "execution_count": 28,
     "metadata": {},
     "output_type": "execute_result"
    }
   ],
   "source": []
  },
  {
   "cell_type": "code",
   "execution_count": 29,
   "id": "49aa6627",
   "metadata": {},
   "outputs": [
    {
     "data": {
      "text/plain": [
       "(array([0, 0, 0, ..., 0, 0, 0]), Index(['Train', 'Test'], dtype='object'))"
      ]
     },
     "execution_count": 29,
     "metadata": {},
     "output_type": "execute_result"
    }
   ],
   "source": [
    "pd.factorize(all_data['Split'])"
   ]
  },
  {
   "cell_type": "code",
   "execution_count": 36,
   "id": "b8a0cec7",
   "metadata": {},
   "outputs": [
    {
     "data": {
      "text/html": [
       "<div>\n",
       "<style scoped>\n",
       "    .dataframe tbody tr th:only-of-type {\n",
       "        vertical-align: middle;\n",
       "    }\n",
       "\n",
       "    .dataframe tbody tr th {\n",
       "        vertical-align: top;\n",
       "    }\n",
       "\n",
       "    .dataframe thead th {\n",
       "        text-align: right;\n",
       "    }\n",
       "</style>\n",
       "<table border=\"1\" class=\"dataframe\">\n",
       "  <thead>\n",
       "    <tr style=\"text-align: right;\">\n",
       "      <th></th>\n",
       "      <th>UserID</th>\n",
       "      <th>WindowID</th>\n",
       "      <th>Split</th>\n",
       "      <th>ApplicationDate</th>\n",
       "      <th>JobID</th>\n",
       "      <th>Applies</th>\n",
       "    </tr>\n",
       "  </thead>\n",
       "  <tbody>\n",
       "    <tr>\n",
       "      <th>683805</th>\n",
       "      <td>1471408</td>\n",
       "      <td>5</td>\n",
       "      <td>Test</td>\n",
       "      <td>2012-05-30 21:25:20.240</td>\n",
       "      <td>900240</td>\n",
       "      <td>1</td>\n",
       "    </tr>\n",
       "    <tr>\n",
       "      <th>683806</th>\n",
       "      <td>1471408</td>\n",
       "      <td>5</td>\n",
       "      <td>Test</td>\n",
       "      <td>2012-05-30 21:26:18.227</td>\n",
       "      <td>611427</td>\n",
       "      <td>1</td>\n",
       "    </tr>\n",
       "    <tr>\n",
       "      <th>683807</th>\n",
       "      <td>1471408</td>\n",
       "      <td>5</td>\n",
       "      <td>Test</td>\n",
       "      <td>2012-05-30 21:34:18.823</td>\n",
       "      <td>996746</td>\n",
       "      <td>1</td>\n",
       "    </tr>\n",
       "    <tr>\n",
       "      <th>683808</th>\n",
       "      <td>1471408</td>\n",
       "      <td>5</td>\n",
       "      <td>Test</td>\n",
       "      <td>2012-05-30 21:40:40.707</td>\n",
       "      <td>217832</td>\n",
       "      <td>1</td>\n",
       "    </tr>\n",
       "    <tr>\n",
       "      <th>683809</th>\n",
       "      <td>1471408</td>\n",
       "      <td>5</td>\n",
       "      <td>Test</td>\n",
       "      <td>2012-05-30 21:41:01.220</td>\n",
       "      <td>801645</td>\n",
       "      <td>1</td>\n",
       "    </tr>\n",
       "    <tr>\n",
       "      <th>683810</th>\n",
       "      <td>1471408</td>\n",
       "      <td>5</td>\n",
       "      <td>Test</td>\n",
       "      <td>2012-05-12 20:41:42.947</td>\n",
       "      <td>296442</td>\n",
       "      <td>1</td>\n",
       "    </tr>\n",
       "    <tr>\n",
       "      <th>683811</th>\n",
       "      <td>1471408</td>\n",
       "      <td>5</td>\n",
       "      <td>Test</td>\n",
       "      <td>2012-05-12 20:42:17.780</td>\n",
       "      <td>200315</td>\n",
       "      <td>1</td>\n",
       "    </tr>\n",
       "  </tbody>\n",
       "</table>\n",
       "</div>"
      ],
      "text/plain": [
       "         UserID  WindowID Split         ApplicationDate   JobID  Applies\n",
       "683805  1471408         5  Test 2012-05-30 21:25:20.240  900240        1\n",
       "683806  1471408         5  Test 2012-05-30 21:26:18.227  611427        1\n",
       "683807  1471408         5  Test 2012-05-30 21:34:18.823  996746        1\n",
       "683808  1471408         5  Test 2012-05-30 21:40:40.707  217832        1\n",
       "683809  1471408         5  Test 2012-05-30 21:41:01.220  801645        1\n",
       "683810  1471408         5  Test 2012-05-12 20:41:42.947  296442        1\n",
       "683811  1471408         5  Test 2012-05-12 20:42:17.780  200315        1"
      ]
     },
     "execution_count": 36,
     "metadata": {},
     "output_type": "execute_result"
    }
   ],
   "source": [
    "all_data[all_data['UserID']==1471408]"
   ]
  },
  {
   "cell_type": "code",
   "execution_count": 30,
   "id": "bd2d62ed",
   "metadata": {},
   "outputs": [
    {
     "data": {
      "text/html": [
       "<div>\n",
       "<style scoped>\n",
       "    .dataframe tbody tr th:only-of-type {\n",
       "        vertical-align: middle;\n",
       "    }\n",
       "\n",
       "    .dataframe tbody tr th {\n",
       "        vertical-align: top;\n",
       "    }\n",
       "\n",
       "    .dataframe thead th {\n",
       "        text-align: right;\n",
       "    }\n",
       "</style>\n",
       "<table border=\"1\" class=\"dataframe\">\n",
       "  <thead>\n",
       "    <tr style=\"text-align: right;\">\n",
       "      <th></th>\n",
       "      <th>UserID</th>\n",
       "      <th>WindowID</th>\n",
       "      <th>Split</th>\n",
       "      <th>ApplicationDate</th>\n",
       "      <th>JobID</th>\n",
       "      <th>Applies</th>\n",
       "    </tr>\n",
       "  </thead>\n",
       "  <tbody>\n",
       "    <tr>\n",
       "      <th>48</th>\n",
       "      <td>883</td>\n",
       "      <td>3</td>\n",
       "      <td>Test</td>\n",
       "      <td>2012-04-27 21:27:27.733</td>\n",
       "      <td>663823</td>\n",
       "      <td>1</td>\n",
       "    </tr>\n",
       "    <tr>\n",
       "      <th>133</th>\n",
       "      <td>1694</td>\n",
       "      <td>3</td>\n",
       "      <td>Test</td>\n",
       "      <td>2012-04-16 12:45:40.567</td>\n",
       "      <td>653716</td>\n",
       "      <td>1</td>\n",
       "    </tr>\n",
       "    <tr>\n",
       "      <th>134</th>\n",
       "      <td>1694</td>\n",
       "      <td>3</td>\n",
       "      <td>Test</td>\n",
       "      <td>2012-04-16 12:55:12.100</td>\n",
       "      <td>881830</td>\n",
       "      <td>1</td>\n",
       "    </tr>\n",
       "    <tr>\n",
       "      <th>135</th>\n",
       "      <td>1694</td>\n",
       "      <td>3</td>\n",
       "      <td>Test</td>\n",
       "      <td>2012-04-04 16:14:55.160</td>\n",
       "      <td>464459</td>\n",
       "      <td>1</td>\n",
       "    </tr>\n",
       "    <tr>\n",
       "      <th>136</th>\n",
       "      <td>1694</td>\n",
       "      <td>3</td>\n",
       "      <td>Test</td>\n",
       "      <td>2012-04-16 12:53:34.940</td>\n",
       "      <td>131773</td>\n",
       "      <td>1</td>\n",
       "    </tr>\n",
       "    <tr>\n",
       "      <th>...</th>\n",
       "      <td>...</td>\n",
       "      <td>...</td>\n",
       "      <td>...</td>\n",
       "      <td>...</td>\n",
       "      <td>...</td>\n",
       "      <td>...</td>\n",
       "    </tr>\n",
       "    <tr>\n",
       "      <th>683807</th>\n",
       "      <td>1471408</td>\n",
       "      <td>5</td>\n",
       "      <td>Test</td>\n",
       "      <td>2012-05-30 21:34:18.823</td>\n",
       "      <td>996746</td>\n",
       "      <td>1</td>\n",
       "    </tr>\n",
       "    <tr>\n",
       "      <th>683808</th>\n",
       "      <td>1471408</td>\n",
       "      <td>5</td>\n",
       "      <td>Test</td>\n",
       "      <td>2012-05-30 21:40:40.707</td>\n",
       "      <td>217832</td>\n",
       "      <td>1</td>\n",
       "    </tr>\n",
       "    <tr>\n",
       "      <th>683809</th>\n",
       "      <td>1471408</td>\n",
       "      <td>5</td>\n",
       "      <td>Test</td>\n",
       "      <td>2012-05-30 21:41:01.220</td>\n",
       "      <td>801645</td>\n",
       "      <td>1</td>\n",
       "    </tr>\n",
       "    <tr>\n",
       "      <th>683810</th>\n",
       "      <td>1471408</td>\n",
       "      <td>5</td>\n",
       "      <td>Test</td>\n",
       "      <td>2012-05-12 20:41:42.947</td>\n",
       "      <td>296442</td>\n",
       "      <td>1</td>\n",
       "    </tr>\n",
       "    <tr>\n",
       "      <th>683811</th>\n",
       "      <td>1471408</td>\n",
       "      <td>5</td>\n",
       "      <td>Test</td>\n",
       "      <td>2012-05-12 20:42:17.780</td>\n",
       "      <td>200315</td>\n",
       "      <td>1</td>\n",
       "    </tr>\n",
       "  </tbody>\n",
       "</table>\n",
       "<p>83108 rows × 6 columns</p>\n",
       "</div>"
      ],
      "text/plain": [
       "         UserID  WindowID Split         ApplicationDate   JobID  Applies\n",
       "48          883         3  Test 2012-04-27 21:27:27.733  663823        1\n",
       "133        1694         3  Test 2012-04-16 12:45:40.567  653716        1\n",
       "134        1694         3  Test 2012-04-16 12:55:12.100  881830        1\n",
       "135        1694         3  Test 2012-04-04 16:14:55.160  464459        1\n",
       "136        1694         3  Test 2012-04-16 12:53:34.940  131773        1\n",
       "...         ...       ...   ...                     ...     ...      ...\n",
       "683807  1471408         5  Test 2012-05-30 21:34:18.823  996746        1\n",
       "683808  1471408         5  Test 2012-05-30 21:40:40.707  217832        1\n",
       "683809  1471408         5  Test 2012-05-30 21:41:01.220  801645        1\n",
       "683810  1471408         5  Test 2012-05-12 20:41:42.947  296442        1\n",
       "683811  1471408         5  Test 2012-05-12 20:42:17.780  200315        1\n",
       "\n",
       "[83108 rows x 6 columns]"
      ]
     },
     "execution_count": 30,
     "metadata": {},
     "output_type": "execute_result"
    }
   ],
   "source": [
    "all_data[all_data['Split'] == 'Test']"
   ]
  },
  {
   "cell_type": "code",
   "execution_count": 37,
   "id": "ec976af8",
   "metadata": {},
   "outputs": [],
   "source": [
    "# create leave one out"
   ]
  },
  {
   "cell_type": "code",
   "execution_count": 38,
   "id": "6bb990e5",
   "metadata": {},
   "outputs": [
    {
     "data": {
      "text/html": [
       "<div>\n",
       "<style scoped>\n",
       "    .dataframe tbody tr th:only-of-type {\n",
       "        vertical-align: middle;\n",
       "    }\n",
       "\n",
       "    .dataframe tbody tr th {\n",
       "        vertical-align: top;\n",
       "    }\n",
       "\n",
       "    .dataframe thead th {\n",
       "        text-align: right;\n",
       "    }\n",
       "</style>\n",
       "<table border=\"1\" class=\"dataframe\">\n",
       "  <thead>\n",
       "    <tr style=\"text-align: right;\">\n",
       "      <th></th>\n",
       "      <th>UserID</th>\n",
       "      <th>WindowID</th>\n",
       "      <th>Split</th>\n",
       "      <th>ApplicationDate</th>\n",
       "      <th>JobID</th>\n",
       "      <th>Applies</th>\n",
       "    </tr>\n",
       "  </thead>\n",
       "  <tbody>\n",
       "    <tr>\n",
       "      <th>0</th>\n",
       "      <td>7</td>\n",
       "      <td>3</td>\n",
       "      <td>Train</td>\n",
       "      <td>2012-04-22 08:14:26.443</td>\n",
       "      <td>309823</td>\n",
       "      <td>1</td>\n",
       "    </tr>\n",
       "    <tr>\n",
       "      <th>1</th>\n",
       "      <td>7</td>\n",
       "      <td>3</td>\n",
       "      <td>Train</td>\n",
       "      <td>2012-04-28 12:17:58.630</td>\n",
       "      <td>703889</td>\n",
       "      <td>1</td>\n",
       "    </tr>\n",
       "    <tr>\n",
       "      <th>2</th>\n",
       "      <td>106</td>\n",
       "      <td>3</td>\n",
       "      <td>Train</td>\n",
       "      <td>2012-04-27 11:41:22.320</td>\n",
       "      <td>473209</td>\n",
       "      <td>1</td>\n",
       "    </tr>\n",
       "    <tr>\n",
       "      <th>3</th>\n",
       "      <td>108</td>\n",
       "      <td>3</td>\n",
       "      <td>Train</td>\n",
       "      <td>2012-05-01 22:47:18.830</td>\n",
       "      <td>1052756</td>\n",
       "      <td>1</td>\n",
       "    </tr>\n",
       "    <tr>\n",
       "      <th>4</th>\n",
       "      <td>132</td>\n",
       "      <td>3</td>\n",
       "      <td>Train</td>\n",
       "      <td>2012-04-21 01:25:58.853</td>\n",
       "      <td>960067</td>\n",
       "      <td>1</td>\n",
       "    </tr>\n",
       "  </tbody>\n",
       "</table>\n",
       "</div>"
      ],
      "text/plain": [
       "   UserID  WindowID  Split         ApplicationDate    JobID  Applies\n",
       "0       7         3  Train 2012-04-22 08:14:26.443   309823        1\n",
       "1       7         3  Train 2012-04-28 12:17:58.630   703889        1\n",
       "2     106         3  Train 2012-04-27 11:41:22.320   473209        1\n",
       "3     108         3  Train 2012-05-01 22:47:18.830  1052756        1\n",
       "4     132         3  Train 2012-04-21 01:25:58.853   960067        1"
      ]
     },
     "execution_count": 38,
     "metadata": {},
     "output_type": "execute_result"
    }
   ],
   "source": [
    "all_data.head(5)"
   ]
  },
  {
   "cell_type": "code",
   "execution_count": 39,
   "id": "e9ffa5c8",
   "metadata": {},
   "outputs": [
    {
     "name": "stdout",
     "output_type": "stream",
     "text": [
      "<class 'pandas.core.frame.DataFrame'>\n",
      "RangeIndex: 683894 entries, 0 to 683893\n",
      "Data columns (total 6 columns):\n",
      " #   Column           Non-Null Count   Dtype         \n",
      "---  ------           --------------   -----         \n",
      " 0   UserID           683894 non-null  Int64         \n",
      " 1   WindowID         683894 non-null  Int64         \n",
      " 2   Split            683894 non-null  string        \n",
      " 3   ApplicationDate  683894 non-null  datetime64[ns]\n",
      " 4   JobID            683894 non-null  string        \n",
      " 5   Applies          683894 non-null  int64         \n",
      "dtypes: Int64(2), datetime64[ns](1), int64(1), string(2)\n",
      "memory usage: 32.6 MB\n"
     ]
    }
   ],
   "source": [
    "all_data.info()"
   ]
  },
  {
   "cell_type": "code",
   "execution_count": 44,
   "id": "8dbab47c",
   "metadata": {},
   "outputs": [],
   "source": [
    "sort_all_data = all_data.sort_values(['UserID','ApplicationDate'])"
   ]
  },
  {
   "cell_type": "code",
   "execution_count": 51,
   "id": "49f92c72",
   "metadata": {},
   "outputs": [
    {
     "data": {
      "text/html": [
       "<div>\n",
       "<style scoped>\n",
       "    .dataframe tbody tr th:only-of-type {\n",
       "        vertical-align: middle;\n",
       "    }\n",
       "\n",
       "    .dataframe tbody tr th {\n",
       "        vertical-align: top;\n",
       "    }\n",
       "\n",
       "    .dataframe thead th {\n",
       "        text-align: right;\n",
       "    }\n",
       "</style>\n",
       "<table border=\"1\" class=\"dataframe\">\n",
       "  <thead>\n",
       "    <tr style=\"text-align: right;\">\n",
       "      <th></th>\n",
       "      <th>UserID</th>\n",
       "      <th>WindowID</th>\n",
       "      <th>Split</th>\n",
       "      <th>ApplicationDate</th>\n",
       "      <th>JobID</th>\n",
       "      <th>Applies</th>\n",
       "    </tr>\n",
       "  </thead>\n",
       "  <tbody>\n",
       "    <tr>\n",
       "      <th>0</th>\n",
       "      <td>7</td>\n",
       "      <td>3</td>\n",
       "      <td>Train</td>\n",
       "      <td>2012-04-22 08:14:26.443</td>\n",
       "      <td>309823</td>\n",
       "      <td>1</td>\n",
       "    </tr>\n",
       "    <tr>\n",
       "      <th>1</th>\n",
       "      <td>7</td>\n",
       "      <td>3</td>\n",
       "      <td>Train</td>\n",
       "      <td>2012-04-28 12:17:58.630</td>\n",
       "      <td>703889</td>\n",
       "      <td>1</td>\n",
       "    </tr>\n",
       "    <tr>\n",
       "      <th>217568</th>\n",
       "      <td>9</td>\n",
       "      <td>4</td>\n",
       "      <td>Train</td>\n",
       "      <td>2012-05-14 22:30:42.090</td>\n",
       "      <td>809208</td>\n",
       "      <td>1</td>\n",
       "    </tr>\n",
       "    <tr>\n",
       "      <th>217569</th>\n",
       "      <td>9</td>\n",
       "      <td>4</td>\n",
       "      <td>Train</td>\n",
       "      <td>2012-05-14 22:38:37.243</td>\n",
       "      <td>136489</td>\n",
       "      <td>1</td>\n",
       "    </tr>\n",
       "    <tr>\n",
       "      <th>217570</th>\n",
       "      <td>9</td>\n",
       "      <td>4</td>\n",
       "      <td>Train</td>\n",
       "      <td>2012-05-14 22:48:09.997</td>\n",
       "      <td>617374</td>\n",
       "      <td>1</td>\n",
       "    </tr>\n",
       "    <tr>\n",
       "      <th>...</th>\n",
       "      <td>...</td>\n",
       "      <td>...</td>\n",
       "      <td>...</td>\n",
       "      <td>...</td>\n",
       "      <td>...</td>\n",
       "      <td>...</td>\n",
       "    </tr>\n",
       "    <tr>\n",
       "      <th>217566</th>\n",
       "      <td>1472079</td>\n",
       "      <td>3</td>\n",
       "      <td>Train</td>\n",
       "      <td>2012-05-03 12:59:11.900</td>\n",
       "      <td>197942</td>\n",
       "      <td>1</td>\n",
       "    </tr>\n",
       "    <tr>\n",
       "      <th>217567</th>\n",
       "      <td>1472079</td>\n",
       "      <td>3</td>\n",
       "      <td>Train</td>\n",
       "      <td>2012-05-12 21:23:48.107</td>\n",
       "      <td>259504</td>\n",
       "      <td>1</td>\n",
       "    </tr>\n",
       "    <tr>\n",
       "      <th>683893</th>\n",
       "      <td>1472085</td>\n",
       "      <td>5</td>\n",
       "      <td>Train</td>\n",
       "      <td>2012-05-28 10:38:15.427</td>\n",
       "      <td>849565</td>\n",
       "      <td>1</td>\n",
       "    </tr>\n",
       "    <tr>\n",
       "      <th>451459</th>\n",
       "      <td>1472090</td>\n",
       "      <td>4</td>\n",
       "      <td>Train</td>\n",
       "      <td>2012-05-12 16:40:50.483</td>\n",
       "      <td>209535</td>\n",
       "      <td>1</td>\n",
       "    </tr>\n",
       "    <tr>\n",
       "      <th>451460</th>\n",
       "      <td>1472090</td>\n",
       "      <td>4</td>\n",
       "      <td>Train</td>\n",
       "      <td>2012-05-12 16:40:51.220</td>\n",
       "      <td>254881</td>\n",
       "      <td>1</td>\n",
       "    </tr>\n",
       "  </tbody>\n",
       "</table>\n",
       "<p>683894 rows × 6 columns</p>\n",
       "</div>"
      ],
      "text/plain": [
       "         UserID  WindowID  Split         ApplicationDate   JobID  Applies\n",
       "0             7         3  Train 2012-04-22 08:14:26.443  309823        1\n",
       "1             7         3  Train 2012-04-28 12:17:58.630  703889        1\n",
       "217568        9         4  Train 2012-05-14 22:30:42.090  809208        1\n",
       "217569        9         4  Train 2012-05-14 22:38:37.243  136489        1\n",
       "217570        9         4  Train 2012-05-14 22:48:09.997  617374        1\n",
       "...         ...       ...    ...                     ...     ...      ...\n",
       "217566  1472079         3  Train 2012-05-03 12:59:11.900  197942        1\n",
       "217567  1472079         3  Train 2012-05-12 21:23:48.107  259504        1\n",
       "683893  1472085         5  Train 2012-05-28 10:38:15.427  849565        1\n",
       "451459  1472090         4  Train 2012-05-12 16:40:50.483  209535        1\n",
       "451460  1472090         4  Train 2012-05-12 16:40:51.220  254881        1\n",
       "\n",
       "[683894 rows x 6 columns]"
      ]
     },
     "execution_count": 51,
     "metadata": {},
     "output_type": "execute_result"
    }
   ],
   "source": [
    "sort_all_data"
   ]
  },
  {
   "cell_type": "code",
   "execution_count": 46,
   "id": "9e306c3c",
   "metadata": {},
   "outputs": [],
   "source": [
    "leave_one_out_test = sort_all_data.groupby('UserID').last().reset_index()"
   ]
  },
  {
   "cell_type": "code",
   "execution_count": 48,
   "id": "88dfa72c",
   "metadata": {},
   "outputs": [
    {
     "data": {
      "text/plain": [
       "134102"
      ]
     },
     "execution_count": 48,
     "metadata": {},
     "output_type": "execute_result"
    }
   ],
   "source": [
    "len(set(leave_one_out_test['UserID']))"
   ]
  },
  {
   "cell_type": "code",
   "execution_count": 55,
   "id": "304259d7",
   "metadata": {},
   "outputs": [],
   "source": [
    "leave_one_out_train = sort_all_data[~sort_all_data['ApplicationDate'].isin(leave_one_out_test['ApplicationDate'])]"
   ]
  },
  {
   "cell_type": "code",
   "execution_count": 56,
   "id": "15f58f49",
   "metadata": {},
   "outputs": [
    {
     "data": {
      "text/plain": [
       "90169"
      ]
     },
     "execution_count": 56,
     "metadata": {},
     "output_type": "execute_result"
    }
   ],
   "source": [
    "len(set(leave_one_out_train['UserID']))"
   ]
  },
  {
   "cell_type": "markdown",
   "id": "9005fd4e",
   "metadata": {},
   "source": [
    "Filter out any users or items in the test set that do not appear in the training set."
   ]
  },
  {
   "cell_type": "code",
   "execution_count": 61,
   "id": "4031ec83",
   "metadata": {},
   "outputs": [],
   "source": [
    "test = leave_one_out_test[leave_one_out_test[\"UserID\"].isin(leave_one_out_train[\"UserID\"].unique())]\n",
    "test = test[test[\"JobID\"].isin(leave_one_out_train[\"JobID\"].unique())]"
   ]
  },
  {
   "cell_type": "code",
   "execution_count": 63,
   "id": "ed862a8c",
   "metadata": {},
   "outputs": [
    {
     "data": {
      "text/plain": [
       "74291"
      ]
     },
     "execution_count": 63,
     "metadata": {},
     "output_type": "execute_result"
    }
   ],
   "source": [
    "len(set(test['UserID']))"
   ]
  },
  {
   "cell_type": "code",
   "execution_count": 71,
   "id": "dd2457f6",
   "metadata": {},
   "outputs": [],
   "source": [
    "test = pd.read_feather(\"../Data/jobs/leave_one_test\")"
   ]
  },
  {
   "cell_type": "code",
   "execution_count": 74,
   "id": "378bebf2",
   "metadata": {},
   "outputs": [
    {
     "data": {
      "text/html": [
       "<div>\n",
       "<style scoped>\n",
       "    .dataframe tbody tr th:only-of-type {\n",
       "        vertical-align: middle;\n",
       "    }\n",
       "\n",
       "    .dataframe tbody tr th {\n",
       "        vertical-align: top;\n",
       "    }\n",
       "\n",
       "    .dataframe thead th {\n",
       "        text-align: right;\n",
       "    }\n",
       "</style>\n",
       "<table border=\"1\" class=\"dataframe\">\n",
       "  <thead>\n",
       "    <tr style=\"text-align: right;\">\n",
       "      <th></th>\n",
       "      <th>index</th>\n",
       "      <th>UserID</th>\n",
       "      <th>WindowID</th>\n",
       "      <th>Split</th>\n",
       "      <th>ApplicationDate</th>\n",
       "      <th>JobID</th>\n",
       "      <th>Applies</th>\n",
       "    </tr>\n",
       "  </thead>\n",
       "  <tbody>\n",
       "    <tr>\n",
       "      <th>0</th>\n",
       "      <td>0</td>\n",
       "      <td>7</td>\n",
       "      <td>3</td>\n",
       "      <td>Train</td>\n",
       "      <td>2012-04-28 12:17:58.630</td>\n",
       "      <td>703889</td>\n",
       "      <td>1</td>\n",
       "    </tr>\n",
       "    <tr>\n",
       "      <th>1</th>\n",
       "      <td>1</td>\n",
       "      <td>9</td>\n",
       "      <td>4</td>\n",
       "      <td>Train</td>\n",
       "      <td>2012-05-14 22:48:09.997</td>\n",
       "      <td>617374</td>\n",
       "      <td>1</td>\n",
       "    </tr>\n",
       "    <tr>\n",
       "      <th>2</th>\n",
       "      <td>2</td>\n",
       "      <td>14</td>\n",
       "      <td>4</td>\n",
       "      <td>Train</td>\n",
       "      <td>2012-05-15 14:35:51.237</td>\n",
       "      <td>663552</td>\n",
       "      <td>1</td>\n",
       "    </tr>\n",
       "    <tr>\n",
       "      <th>3</th>\n",
       "      <td>3</td>\n",
       "      <td>16</td>\n",
       "      <td>5</td>\n",
       "      <td>Train</td>\n",
       "      <td>2012-06-21 11:35:54.980</td>\n",
       "      <td>747203</td>\n",
       "      <td>1</td>\n",
       "    </tr>\n",
       "    <tr>\n",
       "      <th>4</th>\n",
       "      <td>4</td>\n",
       "      <td>24</td>\n",
       "      <td>5</td>\n",
       "      <td>Train</td>\n",
       "      <td>2012-05-29 03:12:33.070</td>\n",
       "      <td>335132</td>\n",
       "      <td>1</td>\n",
       "    </tr>\n",
       "    <tr>\n",
       "      <th>...</th>\n",
       "      <td>...</td>\n",
       "      <td>...</td>\n",
       "      <td>...</td>\n",
       "      <td>...</td>\n",
       "      <td>...</td>\n",
       "      <td>...</td>\n",
       "      <td>...</td>\n",
       "    </tr>\n",
       "    <tr>\n",
       "      <th>74286</th>\n",
       "      <td>134082</td>\n",
       "      <td>1471887</td>\n",
       "      <td>5</td>\n",
       "      <td>Train</td>\n",
       "      <td>2012-05-27 14:07:09.343</td>\n",
       "      <td>751714</td>\n",
       "      <td>1</td>\n",
       "    </tr>\n",
       "    <tr>\n",
       "      <th>74287</th>\n",
       "      <td>134091</td>\n",
       "      <td>1471992</td>\n",
       "      <td>4</td>\n",
       "      <td>Train</td>\n",
       "      <td>2012-05-14 12:23:28.793</td>\n",
       "      <td>300837</td>\n",
       "      <td>1</td>\n",
       "    </tr>\n",
       "    <tr>\n",
       "      <th>74288</th>\n",
       "      <td>134093</td>\n",
       "      <td>1471998</td>\n",
       "      <td>5</td>\n",
       "      <td>Train</td>\n",
       "      <td>2012-06-05 22:03:21.123</td>\n",
       "      <td>434075</td>\n",
       "      <td>1</td>\n",
       "    </tr>\n",
       "    <tr>\n",
       "      <th>74289</th>\n",
       "      <td>134097</td>\n",
       "      <td>1472036</td>\n",
       "      <td>4</td>\n",
       "      <td>Train</td>\n",
       "      <td>2012-05-14 15:56:13.190</td>\n",
       "      <td>443782</td>\n",
       "      <td>1</td>\n",
       "    </tr>\n",
       "    <tr>\n",
       "      <th>74290</th>\n",
       "      <td>134101</td>\n",
       "      <td>1472090</td>\n",
       "      <td>4</td>\n",
       "      <td>Train</td>\n",
       "      <td>2012-05-12 16:40:51.220</td>\n",
       "      <td>254881</td>\n",
       "      <td>1</td>\n",
       "    </tr>\n",
       "  </tbody>\n",
       "</table>\n",
       "<p>74291 rows × 7 columns</p>\n",
       "</div>"
      ],
      "text/plain": [
       "        index   UserID  WindowID  Split         ApplicationDate   JobID  \\\n",
       "0           0        7         3  Train 2012-04-28 12:17:58.630  703889   \n",
       "1           1        9         4  Train 2012-05-14 22:48:09.997  617374   \n",
       "2           2       14         4  Train 2012-05-15 14:35:51.237  663552   \n",
       "3           3       16         5  Train 2012-06-21 11:35:54.980  747203   \n",
       "4           4       24         5  Train 2012-05-29 03:12:33.070  335132   \n",
       "...       ...      ...       ...    ...                     ...     ...   \n",
       "74286  134082  1471887         5  Train 2012-05-27 14:07:09.343  751714   \n",
       "74287  134091  1471992         4  Train 2012-05-14 12:23:28.793  300837   \n",
       "74288  134093  1471998         5  Train 2012-06-05 22:03:21.123  434075   \n",
       "74289  134097  1472036         4  Train 2012-05-14 15:56:13.190  443782   \n",
       "74290  134101  1472090         4  Train 2012-05-12 16:40:51.220  254881   \n",
       "\n",
       "       Applies  \n",
       "0            1  \n",
       "1            1  \n",
       "2            1  \n",
       "3            1  \n",
       "4            1  \n",
       "...        ...  \n",
       "74286        1  \n",
       "74287        1  \n",
       "74288        1  \n",
       "74289        1  \n",
       "74290        1  \n",
       "\n",
       "[74291 rows x 7 columns]"
      ]
     },
     "execution_count": 74,
     "metadata": {},
     "output_type": "execute_result"
    }
   ],
   "source": [
    "test"
   ]
  },
  {
   "cell_type": "code",
   "execution_count": 75,
   "id": "3363f3d8",
   "metadata": {},
   "outputs": [],
   "source": [
    "train = pd.read_feather(\"../Data/jobs/leave_one_train\")"
   ]
  },
  {
   "cell_type": "code",
   "execution_count": 76,
   "id": "f69d8daa",
   "metadata": {
    "scrolled": true
   },
   "outputs": [
    {
     "data": {
      "text/html": [
       "<div>\n",
       "<style scoped>\n",
       "    .dataframe tbody tr th:only-of-type {\n",
       "        vertical-align: middle;\n",
       "    }\n",
       "\n",
       "    .dataframe tbody tr th {\n",
       "        vertical-align: top;\n",
       "    }\n",
       "\n",
       "    .dataframe thead th {\n",
       "        text-align: right;\n",
       "    }\n",
       "</style>\n",
       "<table border=\"1\" class=\"dataframe\">\n",
       "  <thead>\n",
       "    <tr style=\"text-align: right;\">\n",
       "      <th></th>\n",
       "      <th>index</th>\n",
       "      <th>UserID</th>\n",
       "      <th>WindowID</th>\n",
       "      <th>Split</th>\n",
       "      <th>ApplicationDate</th>\n",
       "      <th>JobID</th>\n",
       "      <th>Applies</th>\n",
       "    </tr>\n",
       "  </thead>\n",
       "  <tbody>\n",
       "    <tr>\n",
       "      <th>0</th>\n",
       "      <td>0</td>\n",
       "      <td>7</td>\n",
       "      <td>3</td>\n",
       "      <td>Train</td>\n",
       "      <td>2012-04-22 08:14:26.443</td>\n",
       "      <td>309823</td>\n",
       "      <td>1</td>\n",
       "    </tr>\n",
       "    <tr>\n",
       "      <th>1</th>\n",
       "      <td>217568</td>\n",
       "      <td>9</td>\n",
       "      <td>4</td>\n",
       "      <td>Train</td>\n",
       "      <td>2012-05-14 22:30:42.090</td>\n",
       "      <td>809208</td>\n",
       "      <td>1</td>\n",
       "    </tr>\n",
       "    <tr>\n",
       "      <th>2</th>\n",
       "      <td>217569</td>\n",
       "      <td>9</td>\n",
       "      <td>4</td>\n",
       "      <td>Train</td>\n",
       "      <td>2012-05-14 22:38:37.243</td>\n",
       "      <td>136489</td>\n",
       "      <td>1</td>\n",
       "    </tr>\n",
       "    <tr>\n",
       "      <th>3</th>\n",
       "      <td>217571</td>\n",
       "      <td>14</td>\n",
       "      <td>4</td>\n",
       "      <td>Train</td>\n",
       "      <td>2012-04-08 18:49:15.563</td>\n",
       "      <td>574999</td>\n",
       "      <td>1</td>\n",
       "    </tr>\n",
       "    <tr>\n",
       "      <th>4</th>\n",
       "      <td>217572</td>\n",
       "      <td>14</td>\n",
       "      <td>4</td>\n",
       "      <td>Train</td>\n",
       "      <td>2012-05-10 14:03:09.333</td>\n",
       "      <td>372423</td>\n",
       "      <td>1</td>\n",
       "    </tr>\n",
       "    <tr>\n",
       "      <th>...</th>\n",
       "      <td>...</td>\n",
       "      <td>...</td>\n",
       "      <td>...</td>\n",
       "      <td>...</td>\n",
       "      <td>...</td>\n",
       "      <td>...</td>\n",
       "      <td>...</td>\n",
       "    </tr>\n",
       "    <tr>\n",
       "      <th>549516</th>\n",
       "      <td>217563</td>\n",
       "      <td>1472079</td>\n",
       "      <td>3</td>\n",
       "      <td>Train</td>\n",
       "      <td>2012-04-17 12:36:24.737</td>\n",
       "      <td>54908</td>\n",
       "      <td>1</td>\n",
       "    </tr>\n",
       "    <tr>\n",
       "      <th>549517</th>\n",
       "      <td>217564</td>\n",
       "      <td>1472079</td>\n",
       "      <td>3</td>\n",
       "      <td>Train</td>\n",
       "      <td>2012-05-03 12:51:01.167</td>\n",
       "      <td>424017</td>\n",
       "      <td>1</td>\n",
       "    </tr>\n",
       "    <tr>\n",
       "      <th>549518</th>\n",
       "      <td>217565</td>\n",
       "      <td>1472079</td>\n",
       "      <td>3</td>\n",
       "      <td>Train</td>\n",
       "      <td>2012-05-03 12:52:23.950</td>\n",
       "      <td>10703</td>\n",
       "      <td>1</td>\n",
       "    </tr>\n",
       "    <tr>\n",
       "      <th>549519</th>\n",
       "      <td>217566</td>\n",
       "      <td>1472079</td>\n",
       "      <td>3</td>\n",
       "      <td>Train</td>\n",
       "      <td>2012-05-03 12:59:11.900</td>\n",
       "      <td>197942</td>\n",
       "      <td>1</td>\n",
       "    </tr>\n",
       "    <tr>\n",
       "      <th>549520</th>\n",
       "      <td>451459</td>\n",
       "      <td>1472090</td>\n",
       "      <td>4</td>\n",
       "      <td>Train</td>\n",
       "      <td>2012-05-12 16:40:50.483</td>\n",
       "      <td>209535</td>\n",
       "      <td>1</td>\n",
       "    </tr>\n",
       "  </tbody>\n",
       "</table>\n",
       "<p>549521 rows × 7 columns</p>\n",
       "</div>"
      ],
      "text/plain": [
       "         index   UserID  WindowID  Split         ApplicationDate   JobID  \\\n",
       "0            0        7         3  Train 2012-04-22 08:14:26.443  309823   \n",
       "1       217568        9         4  Train 2012-05-14 22:30:42.090  809208   \n",
       "2       217569        9         4  Train 2012-05-14 22:38:37.243  136489   \n",
       "3       217571       14         4  Train 2012-04-08 18:49:15.563  574999   \n",
       "4       217572       14         4  Train 2012-05-10 14:03:09.333  372423   \n",
       "...        ...      ...       ...    ...                     ...     ...   \n",
       "549516  217563  1472079         3  Train 2012-04-17 12:36:24.737   54908   \n",
       "549517  217564  1472079         3  Train 2012-05-03 12:51:01.167  424017   \n",
       "549518  217565  1472079         3  Train 2012-05-03 12:52:23.950   10703   \n",
       "549519  217566  1472079         3  Train 2012-05-03 12:59:11.900  197942   \n",
       "549520  451459  1472090         4  Train 2012-05-12 16:40:50.483  209535   \n",
       "\n",
       "        Applies  \n",
       "0             1  \n",
       "1             1  \n",
       "2             1  \n",
       "3             1  \n",
       "4             1  \n",
       "...         ...  \n",
       "549516        1  \n",
       "549517        1  \n",
       "549518        1  \n",
       "549519        1  \n",
       "549520        1  \n",
       "\n",
       "[549521 rows x 7 columns]"
      ]
     },
     "execution_count": 76,
     "metadata": {},
     "output_type": "execute_result"
    }
   ],
   "source": [
    "train"
   ]
  },
  {
   "cell_type": "code",
   "execution_count": 82,
   "id": "12a260a1",
   "metadata": {},
   "outputs": [
    {
     "data": {
      "text/plain": [
       "130454"
      ]
     },
     "execution_count": 82,
     "metadata": {},
     "output_type": "execute_result"
    }
   ],
   "source": [
    "len(set(train['JobID']))"
   ]
  },
  {
   "cell_type": "code",
   "execution_count": 85,
   "id": "a86e3a32",
   "metadata": {},
   "outputs": [],
   "source": [
    "x = torch.randn(2, 3)"
   ]
  },
  {
   "cell_type": "code",
   "execution_count": 86,
   "id": "193ca04d",
   "metadata": {},
   "outputs": [
    {
     "data": {
      "text/plain": [
       "tensor([[ 2.0313,  0.3934, -0.6048,  2.0313,  0.3934, -0.6048,  2.0313,  0.3934,\n",
       "         -0.6048],\n",
       "        [ 0.7225, -0.9519,  0.6945,  0.7225, -0.9519,  0.6945,  0.7225, -0.9519,\n",
       "          0.6945]])"
      ]
     },
     "execution_count": 86,
     "metadata": {},
     "output_type": "execute_result"
    }
   ],
   "source": [
    "torch.cat((x,x,x), -1)"
   ]
  },
  {
   "cell_type": "code",
   "execution_count": 88,
   "id": "3bafb373",
   "metadata": {},
   "outputs": [
    {
     "data": {
      "text/plain": [
       "tensor([[ 2.0313,  0.3934, -0.6048,  2.0313,  0.3934, -0.6048,  2.0313,  0.3934,\n",
       "         -0.6048],\n",
       "        [ 0.7225, -0.9519,  0.6945,  0.7225, -0.9519,  0.6945,  0.7225, -0.9519,\n",
       "          0.6945]])"
      ]
     },
     "execution_count": 88,
     "metadata": {},
     "output_type": "execute_result"
    }
   ],
   "source": [
    "torch.cat((x,x,x), 1)"
   ]
  },
  {
   "cell_type": "code",
   "execution_count": null,
   "id": "f9101eca",
   "metadata": {},
   "outputs": [],
   "source": []
  },
  {
   "cell_type": "code",
   "execution_count": 4,
   "id": "fd75d2e7",
   "metadata": {},
   "outputs": [],
   "source": [
    "data_ori  = ng_sample.read_feather(\"../Data/jobs/leave_one_train\")\n",
    "test_ori = ng_sample.read_feather(\"../Data/jobs/leave_one_test\")\n",
    "test_neg = pd.read_csv(\"../Data/jobs/apps_neg.csv\")"
   ]
  },
  {
   "cell_type": "code",
   "execution_count": 8,
   "id": "704f380c",
   "metadata": {},
   "outputs": [],
   "source": [
    "data_ori['rating'] = 1\n",
    "# test_neg['rating'] = 0\n",
    "data_ori['flag'] = 1\n",
    "test_neg['flag'] = -1"
   ]
  },
  {
   "cell_type": "markdown",
   "id": "2379ddd8",
   "metadata": {},
   "source": [
    "Create negtive samples for training"
   ]
  },
  {
   "cell_type": "code",
   "execution_count": 9,
   "id": "8c84ff4d",
   "metadata": {},
   "outputs": [
    {
     "data": {
      "text/plain": [
       "(7503391, 4)"
      ]
     },
     "execution_count": 9,
     "metadata": {},
     "output_type": "execute_result"
    }
   ],
   "source": [
    "test_neg.shape"
   ]
  },
  {
   "cell_type": "code",
   "execution_count": 10,
   "id": "9676e7ad",
   "metadata": {},
   "outputs": [],
   "source": [
    "df_all = pd.concat([data_ori, test_neg], axis=0)"
   ]
  },
  {
   "cell_type": "code",
   "execution_count": 11,
   "id": "7005bc2a",
   "metadata": {},
   "outputs": [],
   "source": [
    "le = preprocessing.LabelEncoder()"
   ]
  },
  {
   "cell_type": "code",
   "execution_count": 12,
   "id": "c454a858",
   "metadata": {},
   "outputs": [
    {
     "data": {
      "text/plain": [
       "['user', 'item']"
      ]
     },
     "execution_count": 12,
     "metadata": {},
     "output_type": "execute_result"
    }
   ],
   "source": [
    "features = data_ori.columns\n",
    "features = [i for i in features if i not in ['flag', 'rating']]\n",
    "features"
   ]
  },
  {
   "cell_type": "code",
   "execution_count": 13,
   "id": "fae91863",
   "metadata": {},
   "outputs": [],
   "source": [
    "for f in features:\n",
    "    df_all[f] = le.fit_transform(df_all[f])"
   ]
  },
  {
   "cell_type": "code",
   "execution_count": 14,
   "id": "490b447f",
   "metadata": {},
   "outputs": [],
   "source": [
    "df_train = df_all[df_all.flag==1]\n",
    "df_test = df_all[df_all.flag==-1]"
   ]
  },
  {
   "cell_type": "code",
   "execution_count": 15,
   "id": "bb6e8ef7",
   "metadata": {},
   "outputs": [],
   "source": [
    "df_train=df_train.drop(['flag'], axis=1)\n",
    "df_test=df_test.drop(['flag'], axis=1)"
   ]
  },
  {
   "cell_type": "code",
   "execution_count": 16,
   "id": "cf906b20",
   "metadata": {},
   "outputs": [],
   "source": [
    "# df_test.loc[df_test.groupby('user')['rating'].head(1).index, 'rating'] = 1\n",
    "# df_test.head()"
   ]
  },
  {
   "cell_type": "code",
   "execution_count": null,
   "id": "88147e8e",
   "metadata": {},
   "outputs": [],
   "source": []
  },
  {
   "cell_type": "markdown",
   "id": "db070f00",
   "metadata": {},
   "source": [
    "Create negative samples for training"
   ]
  },
  {
   "cell_type": "code",
   "execution_count": 17,
   "id": "6b31ec8b",
   "metadata": {},
   "outputs": [
    {
     "data": {
      "text/html": [
       "<div>\n",
       "<style scoped>\n",
       "    .dataframe tbody tr th:only-of-type {\n",
       "        vertical-align: middle;\n",
       "    }\n",
       "\n",
       "    .dataframe tbody tr th {\n",
       "        vertical-align: top;\n",
       "    }\n",
       "\n",
       "    .dataframe thead th {\n",
       "        text-align: right;\n",
       "    }\n",
       "</style>\n",
       "<table border=\"1\" class=\"dataframe\">\n",
       "  <thead>\n",
       "    <tr style=\"text-align: right;\">\n",
       "      <th></th>\n",
       "      <th>user</th>\n",
       "      <th>item</th>\n",
       "    </tr>\n",
       "  </thead>\n",
       "  <tbody>\n",
       "    <tr>\n",
       "      <th>0</th>\n",
       "      <td>1</td>\n",
       "      <td>2</td>\n",
       "    </tr>\n",
       "    <tr>\n",
       "      <th>1</th>\n",
       "      <td>1</td>\n",
       "      <td>4</td>\n",
       "    </tr>\n",
       "    <tr>\n",
       "      <th>2</th>\n",
       "      <td>2</td>\n",
       "      <td>5</td>\n",
       "    </tr>\n",
       "  </tbody>\n",
       "</table>\n",
       "</div>"
      ],
      "text/plain": [
       "   user  item\n",
       "0     1     2\n",
       "1     1     4\n",
       "2     2     5"
      ]
     },
     "execution_count": 17,
     "metadata": {},
     "output_type": "execute_result"
    }
   ],
   "source": [
    "df_test = pd.DataFrame([[1,2], [1,4], [2,5]], columns=['user', 'item'])\n",
    "df_test"
   ]
  },
  {
   "cell_type": "code",
   "execution_count": 135,
   "id": "61de42bb",
   "metadata": {},
   "outputs": [],
   "source": [
    "ng_num = 2"
   ]
  },
  {
   "cell_type": "code",
   "execution_count": 204,
   "id": "ced389b7",
   "metadata": {},
   "outputs": [],
   "source": [
    "all_user = set([i for i in range(100)])"
   ]
  },
  {
   "cell_type": "code",
   "execution_count": 205,
   "id": "7aa59349",
   "metadata": {},
   "outputs": [
    {
     "data": {
      "text/plain": [
       "[11, 98]"
      ]
     },
     "execution_count": 205,
     "metadata": {},
     "output_type": "execute_result"
    }
   ],
   "source": [
    "random.sample(all_user, ng_num)"
   ]
  },
  {
   "cell_type": "code",
   "execution_count": 206,
   "id": "37b87193",
   "metadata": {},
   "outputs": [],
   "source": [
    "def sample_ng_train(x, all_user, ng_num):\n",
    "    group_items = set(x.item)\n",
    "    sub = all_user - group_items\n",
    "    random.seed(123)\n",
    "    ng_samples = random.sample(sub, ng_num*len(group_items))\n",
    "    return ng_samples"
   ]
  },
  {
   "cell_type": "code",
   "execution_count": 209,
   "id": "ccf5cfa3",
   "metadata": {},
   "outputs": [],
   "source": [
    "series_ng_sample = df_test.groupby('user').apply(lambda x: test_func(x, all_user, ng_num))"
   ]
  },
  {
   "cell_type": "code",
   "execution_count": 215,
   "id": "2dc7a849",
   "metadata": {},
   "outputs": [],
   "source": [
    "aa =pd.DataFrame(series_ng_sample, columns=['item']).reset_index(level=0)"
   ]
  },
  {
   "cell_type": "code",
   "execution_count": 224,
   "id": "9999a627",
   "metadata": {},
   "outputs": [],
   "source": [
    "flat_list = []\n",
    "for i in bb:\n",
    "#     print(i[0])\n",
    "#     print(i[1])\n",
    "    for j in i[1]:\n",
    "        flat_list.append([i[0], j, 0])"
   ]
  },
  {
   "cell_type": "code",
   "execution_count": 226,
   "id": "f327ffa1",
   "metadata": {},
   "outputs": [
    {
     "data": {
      "text/html": [
       "<div>\n",
       "<style scoped>\n",
       "    .dataframe tbody tr th:only-of-type {\n",
       "        vertical-align: middle;\n",
       "    }\n",
       "\n",
       "    .dataframe tbody tr th {\n",
       "        vertical-align: top;\n",
       "    }\n",
       "\n",
       "    .dataframe thead th {\n",
       "        text-align: right;\n",
       "    }\n",
       "</style>\n",
       "<table border=\"1\" class=\"dataframe\">\n",
       "  <thead>\n",
       "    <tr style=\"text-align: right;\">\n",
       "      <th></th>\n",
       "      <th>user</th>\n",
       "      <th>item</th>\n",
       "      <th>rating</th>\n",
       "    </tr>\n",
       "  </thead>\n",
       "  <tbody>\n",
       "    <tr>\n",
       "      <th>0</th>\n",
       "      <td>1</td>\n",
       "      <td>8</td>\n",
       "      <td>0</td>\n",
       "    </tr>\n",
       "    <tr>\n",
       "      <th>1</th>\n",
       "      <td>1</td>\n",
       "      <td>36</td>\n",
       "      <td>0</td>\n",
       "    </tr>\n",
       "    <tr>\n",
       "      <th>2</th>\n",
       "      <td>1</td>\n",
       "      <td>13</td>\n",
       "      <td>0</td>\n",
       "    </tr>\n",
       "    <tr>\n",
       "      <th>3</th>\n",
       "      <td>1</td>\n",
       "      <td>54</td>\n",
       "      <td>0</td>\n",
       "    </tr>\n",
       "    <tr>\n",
       "      <th>4</th>\n",
       "      <td>2</td>\n",
       "      <td>7</td>\n",
       "      <td>0</td>\n",
       "    </tr>\n",
       "    <tr>\n",
       "      <th>5</th>\n",
       "      <td>2</td>\n",
       "      <td>35</td>\n",
       "      <td>0</td>\n",
       "    </tr>\n",
       "  </tbody>\n",
       "</table>\n",
       "</div>"
      ],
      "text/plain": [
       "   user  item  rating\n",
       "0     1     8       0\n",
       "1     1    36       0\n",
       "2     1    13       0\n",
       "3     1    54       0\n",
       "4     2     7       0\n",
       "5     2    35       0"
      ]
     },
     "execution_count": 226,
     "metadata": {},
     "output_type": "execute_result"
    }
   ],
   "source": [
    "cc =pd.DataFrame(flat_list, columns=['user', 'item', 'rating'])\n",
    "cc"
   ]
  },
  {
   "cell_type": "code",
   "execution_count": 228,
   "id": "d4de1007",
   "metadata": {},
   "outputs": [],
   "source": [
    "df_test['rating'] = 1"
   ]
  },
  {
   "cell_type": "code",
   "execution_count": 232,
   "id": "223add0c",
   "metadata": {},
   "outputs": [],
   "source": [
    "df_pos_neg = pd.concat([df_test, cc], axis = 0)"
   ]
  },
  {
   "cell_type": "code",
   "execution_count": 158,
   "id": "4036904e",
   "metadata": {},
   "outputs": [],
   "source": [
    "# df_test.groupby('user').apply(rand_sample, args=[ng_num], axis=1)"
   ]
  },
  {
   "cell_type": "code",
   "execution_count": 236,
   "id": "bda078fb",
   "metadata": {
    "scrolled": true
   },
   "outputs": [
    {
     "data": {
      "text/html": [
       "<div>\n",
       "<style scoped>\n",
       "    .dataframe tbody tr th:only-of-type {\n",
       "        vertical-align: middle;\n",
       "    }\n",
       "\n",
       "    .dataframe tbody tr th {\n",
       "        vertical-align: top;\n",
       "    }\n",
       "\n",
       "    .dataframe thead th {\n",
       "        text-align: right;\n",
       "    }\n",
       "</style>\n",
       "<table border=\"1\" class=\"dataframe\">\n",
       "  <thead>\n",
       "    <tr style=\"text-align: right;\">\n",
       "      <th></th>\n",
       "      <th>user</th>\n",
       "      <th>item</th>\n",
       "      <th>rating</th>\n",
       "    </tr>\n",
       "  </thead>\n",
       "  <tbody>\n",
       "    <tr>\n",
       "      <th>0</th>\n",
       "      <td>1</td>\n",
       "      <td>2</td>\n",
       "      <td>1</td>\n",
       "    </tr>\n",
       "    <tr>\n",
       "      <th>1</th>\n",
       "      <td>1</td>\n",
       "      <td>4</td>\n",
       "      <td>1</td>\n",
       "    </tr>\n",
       "    <tr>\n",
       "      <th>0</th>\n",
       "      <td>1</td>\n",
       "      <td>8</td>\n",
       "      <td>0</td>\n",
       "    </tr>\n",
       "    <tr>\n",
       "      <th>1</th>\n",
       "      <td>1</td>\n",
       "      <td>36</td>\n",
       "      <td>0</td>\n",
       "    </tr>\n",
       "    <tr>\n",
       "      <th>2</th>\n",
       "      <td>1</td>\n",
       "      <td>13</td>\n",
       "      <td>0</td>\n",
       "    </tr>\n",
       "    <tr>\n",
       "      <th>3</th>\n",
       "      <td>1</td>\n",
       "      <td>54</td>\n",
       "      <td>0</td>\n",
       "    </tr>\n",
       "    <tr>\n",
       "      <th>2</th>\n",
       "      <td>2</td>\n",
       "      <td>5</td>\n",
       "      <td>1</td>\n",
       "    </tr>\n",
       "    <tr>\n",
       "      <th>4</th>\n",
       "      <td>2</td>\n",
       "      <td>7</td>\n",
       "      <td>0</td>\n",
       "    </tr>\n",
       "    <tr>\n",
       "      <th>5</th>\n",
       "      <td>2</td>\n",
       "      <td>35</td>\n",
       "      <td>0</td>\n",
       "    </tr>\n",
       "  </tbody>\n",
       "</table>\n",
       "</div>"
      ],
      "text/plain": [
       "   user  item  rating\n",
       "0     1     2       1\n",
       "1     1     4       1\n",
       "0     1     8       0\n",
       "1     1    36       0\n",
       "2     1    13       0\n",
       "3     1    54       0\n",
       "2     2     5       1\n",
       "4     2     7       0\n",
       "5     2    35       0"
      ]
     },
     "execution_count": 236,
     "metadata": {},
     "output_type": "execute_result"
    }
   ],
   "source": [
    "df_pos_neg.sort_values(['user'])"
   ]
  },
  {
   "cell_type": "code",
   "execution_count": 19,
   "id": "62534a4d",
   "metadata": {
    "scrolled": true
   },
   "outputs": [
    {
     "data": {
      "text/plain": [
       "(549521, 3)"
      ]
     },
     "execution_count": 19,
     "metadata": {},
     "output_type": "execute_result"
    }
   ],
   "source": [
    "df_train.shape\n"
   ]
  },
  {
   "cell_type": "code",
   "execution_count": 2,
   "id": "51ee3955",
   "metadata": {},
   "outputs": [],
   "source": [
    "from data_process.neg_sample import random_sample"
   ]
  },
  {
   "cell_type": "code",
   "execution_count": null,
   "id": "2bb956af",
   "metadata": {},
   "outputs": [],
   "source": []
  },
  {
   "cell_type": "code",
   "execution_count": 14,
   "id": "522b0d1b",
   "metadata": {},
   "outputs": [
    {
     "name": "stderr",
     "output_type": "stream",
     "text": [
      "100%|██████████| 3/3 [00:00<00:00, 51.94it/s]\n"
     ]
    }
   ],
   "source": [
    "random_sample(test_gt=df_test, all_data=df_all, ng_num=4, path_save='test1.csv', train=True)"
   ]
  },
  {
   "cell_type": "code",
   "execution_count": 44,
   "id": "eeb14b83",
   "metadata": {},
   "outputs": [],
   "source": [
    "class Entity(nn.Module):\n",
    "    def __init__(self, embedding_size, num_numerical_cols, \n",
    "                 output_size, layers=[5], p = 0.4):\n",
    "        '''\n",
    "        embedding_size: Contains the embedding size for the categorical columns\n",
    "        num_numerical_cols: Stores the total number of numerical columns\n",
    "        output_size: The size of the output layer or the number of possible outputs.\n",
    "        layers: List which contains number of neurons for all the layers.\n",
    "        p: Dropout with the default value of 0.5\n",
    "        \n",
    "        '''\n",
    "        super(entity, self).__init__()\n",
    "        #list of ModuleList objects for all categorical columns\n",
    "        self.all_embeddings = nn.ModuleList([nn.Embedding(ni, nf) for ni, nf in embedding_size])\n",
    "        \n",
    "        #drop out value for all layers\n",
    "        self.embedding_dropout = nn.Dropout(p)\n",
    "        \n",
    "        #list of 1 dimension batch normalization objects for all numerical columns\n",
    "#         self.batch_norm_num = nn.BatchNorm1d(num_numerical_cols)\n",
    "\n",
    "        #the number of categorical and numerical columns are added together and stored in input_size\n",
    "        all_layers = nn.ModuleList() \n",
    "        num_categorical_cols = sum((nf for ni, nf in embedding_size))\n",
    "        input_size = num_categorical_cols + num_numerical_cols\n",
    "        \n",
    "        #loop iterates to add corresonding layers to all_layers list above\n",
    "        for i in layers:\n",
    "            all_layers.append(nn.Linear(input_size, i))\n",
    "            all_layers.append(nn.ReLU(inplace=True))\n",
    "#             all_layers.append(nn.BatchNorm1d(i))\n",
    "            all_layers.append(nn.Dropout(p))\n",
    "            input_size = i\n",
    "            \n",
    "        #append output layer to list of layers    \n",
    "        all_layers.append(nn.Linear(layers[-1], output_size))\n",
    "        \n",
    "        #pass all layers to the sequential class\n",
    "        self.layers = nn.Sequential(*all_layers)\n",
    "        \n",
    "#     def _init_weight_(self):\n",
    "\n",
    "    def forward(self, x_categorical, x_numerical):\n",
    "        #this starts the embedding of categorical columns\n",
    "        embeddings = []\n",
    "        for i,e in enumerate(self.all_embeddings):\n",
    "            embeddings.append(e(x_categorical[:,i]))\n",
    "\n",
    "        x = torch.cat(embeddings, 1)\n",
    "#         print(x.shape)\n",
    "        x = self.embedding_dropout(x)\n",
    "\n",
    "        #normalizing numerical columns\n",
    "#         x_numerical = self.batch_norm_num(x_numerical)\n",
    "        #concatenating numerical and categorical columns        \n",
    "#         x_numerical = x_numerical.reshape(-1,1)\n",
    "#         print('hao--------1', x.shape)\n",
    "#         print('hao--------2',x_numerical.shape)\n",
    "        x = torch.cat([x, x_numerical], 1)\n",
    "        x = self.layers(x)\n",
    "        x = torch.sigmoid(x)\n",
    "        return x"
   ]
  },
  {
   "cell_type": "code",
   "execution_count": null,
   "id": "21a53aaa",
   "metadata": {},
   "outputs": [],
   "source": [
    "class catData(data.Dataset):\n",
    "    '''\n",
    "    num_f: the numerical features\n",
    "    cat_f: the categorical features \n",
    "    '''\n",
    "    def __init__(self, inp_data, label_name, num_f=None, cat_f=None):\n",
    "        self.data = inp_data\n",
    "        self.label = inp_data[label_name]\n",
    "        self.cat_f = cat_f\n",
    "        self.num_f = num_f\n",
    "    def __len__(self):\n",
    "        return len(self.label)\n",
    "    def __getitem__(self, idx):\n",
    "#         num_data = np.array(self.data.iloc[idx, 0]).reshape(-1,1)\n",
    "#         cat_data = np.array(self.data.iloc[idx, 1:-1])\n",
    "        if self.cat_f not None:\n",
    "            num_data = np.array(self.data[self.num_f])[idx]\n",
    "        if self.num_f not None:\n",
    "            cat_data = np.array(self.data[self.cat_f])[idx]\n",
    "        label = self.label[idx]\n",
    "#         print('hao-------!!', label)\n",
    "        return num_data, cat_data, label\n",
    "        "
   ]
  },
  {
   "cell_type": "code",
   "execution_count": null,
   "id": "354a45f1",
   "metadata": {},
   "outputs": [],
   "source": [
    "label_name = 'rating'"
   ]
  },
  {
   "cell_type": "code",
   "execution_count": null,
   "id": "d9c00766",
   "metadata": {},
   "outputs": [],
   "source": []
  },
  {
   "cell_type": "code",
   "execution_count": null,
   "id": "196e037e",
   "metadata": {},
   "outputs": [],
   "source": []
  },
  {
   "cell_type": "code",
   "execution_count": null,
   "id": "c68f179b",
   "metadata": {},
   "outputs": [],
   "source": []
  },
  {
   "cell_type": "code",
   "execution_count": 1,
   "id": "52c6bcee",
   "metadata": {},
   "outputs": [],
   "source": [
    "import pandas as pd\n",
    "import numpy as np\n",
    "# import config\n",
    "import data_process.neg_sample as ng_sample\n",
    "from sklearn import metrics, preprocessing\n",
    "import torch\n",
    "import torch.nn as nn\n",
    "import torch.utils.data as data\n",
    "import torch.optim as optim\n",
    "import tqdm\n",
    "import torch.nn.functional as F\n",
    "import random\n",
    "import evaluate"
   ]
  },
  {
   "cell_type": "code",
   "execution_count": 2,
   "id": "e92538f2",
   "metadata": {},
   "outputs": [],
   "source": [
    "df_train1  = ng_sample.read_feather(\"../Data/jobs/leave_one_train\")\n",
    "df_train2 = pd.read_feather(\"../Data/jobs/pos_neg_train_uncode0\")\n",
    "df_test = pd.read_csv(\"../Data/jobs/apps_neg.csv\")"
   ]
  },
  {
   "cell_type": "code",
   "execution_count": 3,
   "id": "25c65a48",
   "metadata": {},
   "outputs": [],
   "source": [
    "df_train1['rating'] = 1\n",
    "df_train_all = pd.concat([df_train1, df_train2], axis=0)\n",
    "df_train_all['flag'] = 1\n",
    "df_test['flag'] = -1\n",
    "df_all = pd.concat([df_train_all, df_test], axis=0)"
   ]
  },
  {
   "cell_type": "code",
   "execution_count": 4,
   "id": "30d5ad8a",
   "metadata": {},
   "outputs": [],
   "source": [
    "data_input_path = '/home/hao/Documents/MA_thesis_win/hao_jrs/data/clean/sub'"
   ]
  },
  {
   "cell_type": "code",
   "execution_count": 5,
   "id": "5717c5bc",
   "metadata": {},
   "outputs": [],
   "source": [
    "apps = pd.read_feather(data_input_path + '/users_sub')"
   ]
  },
  {
   "cell_type": "code",
   "execution_count": 6,
   "id": "dddd8c65",
   "metadata": {},
   "outputs": [
    {
     "name": "stdout",
     "output_type": "stream",
     "text": [
      "<class 'pandas.core.frame.DataFrame'>\n",
      "RangeIndex: 161351 entries, 0 to 161350\n",
      "Data columns (total 15 columns):\n",
      " #   Column                Non-Null Count   Dtype         \n",
      "---  ------                --------------   -----         \n",
      " 0   UserID                161351 non-null  Int64         \n",
      " 1   WindowID              161351 non-null  Int64         \n",
      " 2   Split                 161351 non-null  string        \n",
      " 3   City                  161351 non-null  string        \n",
      " 4   State                 161135 non-null  string        \n",
      " 5   Country               161351 non-null  string        \n",
      " 6   ZipCode               160636 non-null  string        \n",
      " 7   DegreeType            161351 non-null  string        \n",
      " 8   Major                 121184 non-null  string        \n",
      " 9   GraduationDate        111725 non-null  datetime64[ns]\n",
      " 10  WorkHistoryCount      161351 non-null  Int64         \n",
      " 11  TotalYearsExperience  155670 non-null  Int64         \n",
      " 12  CurrentlyEmployed     142860 non-null  string        \n",
      " 13  ManagedOthers         161351 non-null  string        \n",
      " 14  ManagedHowMany        161351 non-null  Int64         \n",
      "dtypes: Int64(5), datetime64[ns](1), string(9)\n",
      "memory usage: 19.2 MB\n"
     ]
    }
   ],
   "source": [
    "apps.info()"
   ]
  },
  {
   "cell_type": "code",
   "execution_count": 7,
   "id": "7bbf47cc",
   "metadata": {},
   "outputs": [],
   "source": [
    "apps.rename(columns = {'UserID':'user'}, inplace=True)"
   ]
  },
  {
   "cell_type": "code",
   "execution_count": 8,
   "id": "810da981",
   "metadata": {
    "scrolled": true
   },
   "outputs": [
    {
     "data": {
      "text/plain": [
       "(10250996, 4)"
      ]
     },
     "execution_count": 8,
     "metadata": {},
     "output_type": "execute_result"
    }
   ],
   "source": [
    "df_all.shape"
   ]
  },
  {
   "cell_type": "code",
   "execution_count": 10,
   "id": "9b131920",
   "metadata": {},
   "outputs": [],
   "source": [
    "aa = pd.merge(df_all, apps, how='left', on=['user'])"
   ]
  },
  {
   "cell_type": "code",
   "execution_count": 11,
   "id": "1f489080",
   "metadata": {},
   "outputs": [
    {
     "data": {
      "text/plain": [
       "(10250996, 18)"
      ]
     },
     "execution_count": 11,
     "metadata": {},
     "output_type": "execute_result"
    }
   ],
   "source": [
    "aa.shape"
   ]
  },
  {
   "cell_type": "code",
   "execution_count": 12,
   "id": "42759080",
   "metadata": {},
   "outputs": [],
   "source": [
    "aa.to_feather(\"test1\")"
   ]
  },
  {
   "cell_type": "code",
   "execution_count": 13,
   "id": "0563244c",
   "metadata": {},
   "outputs": [
    {
     "data": {
      "text/plain": [
       "Index(['user', 'item', 'rating', 'flag', 'WindowID', 'Split', 'City', 'State',\n",
       "       'Country', 'ZipCode', 'DegreeType', 'Major', 'GraduationDate',\n",
       "       'WorkHistoryCount', 'TotalYearsExperience', 'CurrentlyEmployed',\n",
       "       'ManagedOthers', 'ManagedHowMany'],\n",
       "      dtype='object')"
      ]
     },
     "execution_count": 13,
     "metadata": {},
     "output_type": "execute_result"
    }
   ],
   "source": [
    "aa.columns"
   ]
  },
  {
   "cell_type": "code",
   "execution_count": 14,
   "id": "672af614",
   "metadata": {},
   "outputs": [
    {
     "data": {
      "text/html": [
       "<div>\n",
       "<style scoped>\n",
       "    .dataframe tbody tr th:only-of-type {\n",
       "        vertical-align: middle;\n",
       "    }\n",
       "\n",
       "    .dataframe tbody tr th {\n",
       "        vertical-align: top;\n",
       "    }\n",
       "\n",
       "    .dataframe thead th {\n",
       "        text-align: right;\n",
       "    }\n",
       "</style>\n",
       "<table border=\"1\" class=\"dataframe\">\n",
       "  <thead>\n",
       "    <tr style=\"text-align: right;\">\n",
       "      <th></th>\n",
       "      <th>user</th>\n",
       "      <th>item</th>\n",
       "      <th>rating</th>\n",
       "      <th>flag</th>\n",
       "      <th>WindowID</th>\n",
       "      <th>Split</th>\n",
       "      <th>City</th>\n",
       "      <th>State</th>\n",
       "      <th>Country</th>\n",
       "      <th>ZipCode</th>\n",
       "      <th>DegreeType</th>\n",
       "      <th>Major</th>\n",
       "      <th>GraduationDate</th>\n",
       "      <th>WorkHistoryCount</th>\n",
       "      <th>TotalYearsExperience</th>\n",
       "      <th>CurrentlyEmployed</th>\n",
       "      <th>ManagedOthers</th>\n",
       "      <th>ManagedHowMany</th>\n",
       "    </tr>\n",
       "  </thead>\n",
       "  <tbody>\n",
       "    <tr>\n",
       "      <th>0</th>\n",
       "      <td>7</td>\n",
       "      <td>309823</td>\n",
       "      <td>1</td>\n",
       "      <td>1</td>\n",
       "      <td>3</td>\n",
       "      <td>Train</td>\n",
       "      <td>Roanoke</td>\n",
       "      <td>VA</td>\n",
       "      <td>US</td>\n",
       "      <td>24012</td>\n",
       "      <td>High School</td>\n",
       "      <td>Not Applicable</td>\n",
       "      <td>1995-01-01</td>\n",
       "      <td>2</td>\n",
       "      <td>13</td>\n",
       "      <td>Yes</td>\n",
       "      <td>No</td>\n",
       "      <td>0</td>\n",
       "    </tr>\n",
       "    <tr>\n",
       "      <th>1</th>\n",
       "      <td>9</td>\n",
       "      <td>809208</td>\n",
       "      <td>1</td>\n",
       "      <td>1</td>\n",
       "      <td>4</td>\n",
       "      <td>Train</td>\n",
       "      <td>Houston</td>\n",
       "      <td>TX</td>\n",
       "      <td>US</td>\n",
       "      <td>77095</td>\n",
       "      <td>High School</td>\n",
       "      <td>Not Applicable</td>\n",
       "      <td>NaT</td>\n",
       "      <td>3</td>\n",
       "      <td>3</td>\n",
       "      <td>Yes</td>\n",
       "      <td>No</td>\n",
       "      <td>0</td>\n",
       "    </tr>\n",
       "    <tr>\n",
       "      <th>2</th>\n",
       "      <td>9</td>\n",
       "      <td>136489</td>\n",
       "      <td>1</td>\n",
       "      <td>1</td>\n",
       "      <td>4</td>\n",
       "      <td>Train</td>\n",
       "      <td>Houston</td>\n",
       "      <td>TX</td>\n",
       "      <td>US</td>\n",
       "      <td>77095</td>\n",
       "      <td>High School</td>\n",
       "      <td>Not Applicable</td>\n",
       "      <td>NaT</td>\n",
       "      <td>3</td>\n",
       "      <td>3</td>\n",
       "      <td>Yes</td>\n",
       "      <td>No</td>\n",
       "      <td>0</td>\n",
       "    </tr>\n",
       "    <tr>\n",
       "      <th>3</th>\n",
       "      <td>14</td>\n",
       "      <td>574999</td>\n",
       "      <td>1</td>\n",
       "      <td>1</td>\n",
       "      <td>4</td>\n",
       "      <td>Train</td>\n",
       "      <td>San Antonio</td>\n",
       "      <td>TX</td>\n",
       "      <td>US</td>\n",
       "      <td>78247</td>\n",
       "      <td>None</td>\n",
       "      <td>General</td>\n",
       "      <td>NaT</td>\n",
       "      <td>2</td>\n",
       "      <td>10</td>\n",
       "      <td>No</td>\n",
       "      <td>No</td>\n",
       "      <td>0</td>\n",
       "    </tr>\n",
       "    <tr>\n",
       "      <th>4</th>\n",
       "      <td>14</td>\n",
       "      <td>372423</td>\n",
       "      <td>1</td>\n",
       "      <td>1</td>\n",
       "      <td>4</td>\n",
       "      <td>Train</td>\n",
       "      <td>San Antonio</td>\n",
       "      <td>TX</td>\n",
       "      <td>US</td>\n",
       "      <td>78247</td>\n",
       "      <td>None</td>\n",
       "      <td>General</td>\n",
       "      <td>NaT</td>\n",
       "      <td>2</td>\n",
       "      <td>10</td>\n",
       "      <td>No</td>\n",
       "      <td>No</td>\n",
       "      <td>0</td>\n",
       "    </tr>\n",
       "  </tbody>\n",
       "</table>\n",
       "</div>"
      ],
      "text/plain": [
       "   user    item  rating  flag  WindowID  Split         City State Country  \\\n",
       "0     7  309823       1     1         3  Train      Roanoke    VA      US   \n",
       "1     9  809208       1     1         4  Train      Houston    TX      US   \n",
       "2     9  136489       1     1         4  Train      Houston    TX      US   \n",
       "3    14  574999       1     1         4  Train  San Antonio    TX      US   \n",
       "4    14  372423       1     1         4  Train  San Antonio    TX      US   \n",
       "\n",
       "  ZipCode   DegreeType           Major GraduationDate  WorkHistoryCount  \\\n",
       "0   24012  High School  Not Applicable     1995-01-01                 2   \n",
       "1   77095  High School  Not Applicable            NaT                 3   \n",
       "2   77095  High School  Not Applicable            NaT                 3   \n",
       "3   78247         None         General            NaT                 2   \n",
       "4   78247         None         General            NaT                 2   \n",
       "\n",
       "   TotalYearsExperience CurrentlyEmployed ManagedOthers  ManagedHowMany  \n",
       "0                    13               Yes            No               0  \n",
       "1                     3               Yes            No               0  \n",
       "2                     3               Yes            No               0  \n",
       "3                    10                No            No               0  \n",
       "4                    10                No            No               0  "
      ]
     },
     "execution_count": 14,
     "metadata": {},
     "output_type": "execute_result"
    }
   ],
   "source": [
    "aa.head()"
   ]
  },
  {
   "cell_type": "code",
   "execution_count": null,
   "id": "c917a4a5",
   "metadata": {},
   "outputs": [],
   "source": []
  }
 ],
 "metadata": {
  "kernelspec": {
   "display_name": "Python 3 (ipykernel)",
   "language": "python",
   "name": "python3"
  },
  "language_info": {
   "codemirror_mode": {
    "name": "ipython",
    "version": 3
   },
   "file_extension": ".py",
   "mimetype": "text/x-python",
   "name": "python",
   "nbconvert_exporter": "python",
   "pygments_lexer": "ipython3",
   "version": "3.8.10"
  }
 },
 "nbformat": 4,
 "nbformat_minor": 5
}
