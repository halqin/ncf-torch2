{
 "cells": [
  {
   "cell_type": "code",
   "execution_count": 1,
<<<<<<< HEAD
   "id": "0d3cbac2",
   "metadata": {},
   "outputs": [
    {
     "data": {
      "text/plain": [
       "<torch._C.Generator at 0x7f18dcf387f0>"
      ]
     },
     "execution_count": 1,
     "metadata": {},
     "output_type": "execute_result"
=======
   "id": "dc80f4cf",
   "metadata": {},
   "outputs": [
    {
     "ename": "ModuleNotFoundError",
     "evalue": "No module named 'pandas'",
     "output_type": "error",
     "traceback": [
      "\u001b[0;31m---------------------------------------------------------------------------\u001b[0m",
      "\u001b[0;31mModuleNotFoundError\u001b[0m                       Traceback (most recent call last)",
      "\u001b[0;32m<ipython-input-1-a4813bb927a0>\u001b[0m in \u001b[0;36m<module>\u001b[0;34m\u001b[0m\n\u001b[1;32m      2\u001b[0m \u001b[0;31m# import sys\u001b[0m\u001b[0;34m\u001b[0m\u001b[0;34m\u001b[0m\u001b[0;34m\u001b[0m\u001b[0m\n\u001b[1;32m      3\u001b[0m \u001b[0;31m# sys.path.append('../../src')\u001b[0m\u001b[0;34m\u001b[0m\u001b[0;34m\u001b[0m\u001b[0;34m\u001b[0m\u001b[0m\n\u001b[0;32m----> 4\u001b[0;31m \u001b[0;32mimport\u001b[0m \u001b[0mpandas\u001b[0m \u001b[0;32mas\u001b[0m \u001b[0mpd\u001b[0m\u001b[0;34m\u001b[0m\u001b[0;34m\u001b[0m\u001b[0m\n\u001b[0m\u001b[1;32m      5\u001b[0m \u001b[0;32mimport\u001b[0m \u001b[0mnumpy\u001b[0m \u001b[0;32mas\u001b[0m \u001b[0mnp\u001b[0m\u001b[0;34m\u001b[0m\u001b[0;34m\u001b[0m\u001b[0m\n\u001b[1;32m      6\u001b[0m \u001b[0;32mfrom\u001b[0m \u001b[0mtqdm\u001b[0m \u001b[0;32mimport\u001b[0m \u001b[0mtqdm\u001b[0m\u001b[0;34m\u001b[0m\u001b[0;34m\u001b[0m\u001b[0m\n",
      "\u001b[0;31mModuleNotFoundError\u001b[0m: No module named 'pandas'"
     ]
>>>>>>> ignite
    }
   ],
   "source": [
    "import os\n",
    "# import sys\n",
    "# sys.path.append('../../src')\n",
    "import pandas as pd\n",
    "import numpy as np\n",
    "# import config\n",
    "import data_process.neg_sample as ng_sample\n",
    "from sklearn import metrics, preprocessing\n",
    "import torch\n",
    "import torch.nn as nn\n",
    "import torch.utils.data as data\n",
    "import torch.optim as optim\n",
    "import tqdm\n",
    "import torch.nn.functional as F\n",
    "import random\n",
    "import evaluate_entity\n",
    "from model_entity import EntityCat\n",
    "from data_utils import CatData\n",
    "from torch.utils.tensorboard import SummaryWriter\n",
    "from datetime import datetime\n",
    "import time\n",
    "from utils.constants import DEFAULT_USER_COL,DEFAULT_ITEM_COL,DEFAULT_RATING_COL, DEFAULT_TIMESTAMP_COL\n",
    "# import argparse\n",
    "torch.manual_seed(0)"
   ]
  },
  {
   "cell_type": "code",
   "execution_count": 2,
<<<<<<< HEAD
   "id": "c0f7c725",
   "metadata": {},
   "outputs": [],
   "source": [
    "BATCH_SIZE = 2**10\n",
    "EPOCHS  = 10\n",
    "TOP_K = 10\n",
    "NEG_TEST = 100"
   ]
  },
  {
   "cell_type": "code",
   "execution_count": 3,
   "id": "c6c9d49c",
=======
   "id": "9b0252cf",
>>>>>>> ignite
   "metadata": {},
   "outputs": [],
   "source": [
    "device = torch.device('cuda:0' if torch.cuda.is_available() else 'cpu')"
   ]
  },
  {
   "cell_type": "code",
<<<<<<< HEAD
   "execution_count": 4,
   "id": "cbff8d78",
   "metadata": {},
=======
   "execution_count": 3,
   "id": "070c3b70",
   "metadata": {
    "scrolled": true
   },
>>>>>>> ignite
   "outputs": [
    {
     "data": {
      "text/plain": [
       "device(type='cuda', index=0)"
      ]
     },
<<<<<<< HEAD
     "execution_count": 4,
=======
     "execution_count": 3,
>>>>>>> ignite
     "metadata": {},
     "output_type": "execute_result"
    }
   ],
   "source": [
    "device"
   ]
  },
  {
   "cell_type": "code",
<<<<<<< HEAD
   "execution_count": 5,
   "id": "9e094616",
=======
   "execution_count": 4,
   "id": "6f8d5911",
   "metadata": {},
   "outputs": [],
   "source": [
    "with initialize(version_base=None, config_path=\"../conf\"):\n",
    "    cfg = compose(config_name=\"config\", overrides=[])"
   ]
  },
  {
   "cell_type": "code",
   "execution_count": 5,
   "id": "774cd54d",
   "metadata": {},
   "outputs": [],
   "source": [
    "if device.type =='cpu':\n",
    "    BATCH_SIZE = cfg.params.batch_size_cpu\n",
    "    EPOCHS  = cfg.params.epochs_cpu\n",
    "else:\n",
    "    BATCH_SIZE = cfg.params.batch_size_gpu\n",
    "    EPOCHS  = cfg.params.epochs_gpu"
   ]
  },
  {
   "cell_type": "code",
   "execution_count": 7,
   "id": "37fedc81",
   "metadata": {},
   "outputs": [],
   "source": [
    "if device.type != 'cpu':\n",
    "    use_amp=False\n",
    "    df_train_pos  = ng_sample.read_feather(pathlib.Path(cfg.path.root, cfg.file.train_pos))\n",
    "    df_train_neg = pd.read_feather(pathlib.Path(cfg.path.root, cfg.file.train_neg))\n",
    "    df_test_ori = pd.read_feather(pathlib.Path(cfg.path.root, cfg.file.test)).iloc[:202,]\n",
    "    df_all_features = pd.read_csv(pathlib.Path(cfg.path.root, cfg.file.all_features))\n",
    "    df_train_pos = df_train_pos.sort_values(by=[DEFAULT_USER_COL]).iloc[:100,].reset_index(drop=True)\n",
    "    df_train_neg = df_train_neg.sort_values(by=[DEFAULT_USER_COL]).iloc[:100*cfg.params.neg_train,].reset_index(drop=True)\n",
    "else:\n",
    "    use_amp=True\n",
    "    df_train_pos  = ng_sample.read_feather(pathlib.Path(cfg.path.root, cfg.file.train_pos))\n",
    "    df_train_neg = pd.read_feather(pathlib.Path(cfg.path.root, cfg.file.train_neg))\n",
    "    df_test_ori = pd.read_feather(pathlib.Path(cfg.path.root, cfg.file.test))\n",
    "    df_all_features = pd.read_csv(pathlib.Path(cfg.path.root, cfg.file.all_features))\n",
    "    df_train_pos = df_train_pos.sort_values(by=[DEFAULT_USER_COL]).reset_index(drop=True)\n",
    "    df_train_neg = df_train_neg.sort_values(by=[DEFAULT_USER_COL]).reset_index(drop=True)"
   ]
  },
  {
   "cell_type": "code",
   "execution_count": 8,
   "id": "2d31b663",
   "metadata": {},
   "outputs": [],
   "source": [
    "df_train_pos[DEFAULT_RATING_COL] = 1"
   ]
  },
  {
   "cell_type": "code",
   "execution_count": 9,
   "id": "71e05475",
>>>>>>> ignite
   "metadata": {},
   "outputs": [],
   "source": [
    "# df_train1  = ng_sample.read_feather(\"../../data/jobs/leave_one_train.csv\").iloc[:100,]\n",
    "# df_train2 = pd.read_feather(\"../../data/jobs/leave_one_train_neg\").iloc[:100,]\n",
    "# df_test_ori = pd.read_feather(\"../../data/jobs/test_pos_neg\").iloc[:101,]\n",
    "# df_all_features = pd.read_csv('../../data/jobs/merged_sub_clean.csv')"
   ]
  },
  {
   "cell_type": "code",
<<<<<<< HEAD
   "execution_count": 6,
   "id": "625d8989",
=======
   "execution_count": 10,
   "id": "8cd9ea5e",
>>>>>>> ignite
   "metadata": {},
   "outputs": [],
   "source": [
    "df_train1  = ng_sample.read_feather(\"../../data/jobs/leave_one_train.csv\")\n",
    "df_train2 = pd.read_feather(\"../../data/jobs/leave_one_train_neg\")\n",
    "df_test_ori = pd.read_feather(\"../../data/jobs/test_pos_neg\")\n",
    "df_all_features = pd.read_csv('../../data/jobs/merged_sub_clean.csv')"
   ]
  },
  {
   "cell_type": "code",
<<<<<<< HEAD
   "execution_count": 7,
   "id": "9255ce14",
=======
   "execution_count": 11,
   "id": "bb7e8c43",
>>>>>>> ignite
   "metadata": {},
   "outputs": [],
   "source": [
    "df_train1['rating'] = 1\n",
    "df_train_all = pd.concat([df_train1, df_train2], axis=0)\n",
    "df_train_all['flag'] = 1\n",
    "df_test_ori['flag'] = 0\n",
    "df_all = pd.concat([df_train_all, df_test_ori], axis=0).reset_index(drop=True)"
   ]
  },
  {
   "cell_type": "markdown",
<<<<<<< HEAD
   "id": "17bc6348",
=======
   "id": "70fbc45e",
>>>>>>> ignite
   "metadata": {},
   "source": [
    "user features: \n",
    "       'WindowID_user', 'Split', 'City',\n",
    "       'State', 'Country', 'Zip_user', 'DegreeType', 'Major', 'GraduationDate',\n",
    "       'WorkHistoryCount', 'TotalYearsExperience', 'CurrentlyEmployed',\n",
    "       'ManagedOthers', 'ManagedHowMany',\n",
    "       \n",
    "job features: \n",
    "       'WindowID_job', 'City_job',\n",
    "       'State_job', 'Country_job', 'Zip_job', 'StartDate', 'EndDate',"
   ]
  },
  {
   "cell_type": "markdown",
<<<<<<< HEAD
   "id": "0715af10",
   "metadata": {},
=======
   "id": "86d472eb",
   "metadata": {},
   "source": [
    "### Choose the features and process data for the training"
   ]
  },
  {
   "cell_type": "code",
   "execution_count": 12,
   "id": "435cd079",
   "metadata": {},
   "outputs": [
    {
     "data": {
      "text/plain": [
       "Index(['userid', 'itemid', 'rating', 'flag'], dtype='object')"
      ]
     },
     "execution_count": 12,
     "metadata": {},
     "output_type": "execute_result"
    }
   ],
>>>>>>> ignite
   "source": [
    "### Choose the features for the model"
   ]
  },
  {
   "cell_type": "code",
<<<<<<< HEAD
   "execution_count": 8,
   "id": "23a67e87",
=======
   "execution_count": 13,
   "id": "6547adcc",
>>>>>>> ignite
   "metadata": {},
   "outputs": [],
   "source": [
    "user_features = ['City']\n",
    "user_features_extend = [DEFAULT_USER_COL] + user_features\n",
    "\n",
    "item_features = ['City_job']\n",
    "item_features_extend =[DEFAULT_ITEM_COL] + item_features\n",
    "\n",
    "base_features = [DEFAULT_USER_COL, DEFAULT_ITEM_COL, DEFAULT_RATING_COL, ]"
   ]
  },
  {
   "cell_type": "code",
<<<<<<< HEAD
   "execution_count": 9,
   "id": "22ad8b7f",
=======
   "execution_count": 14,
   "id": "87c0e99d",
>>>>>>> ignite
   "metadata": {},
   "outputs": [],
   "source": [
    "def unique_filter(df_data, name_col):\n",
    "    df_uni=df_data[~(df_data[name_col].duplicated())].reset_index(drop=True)\n",
    "    return df_uni"
   ]
  },
  {
   "cell_type": "code",
<<<<<<< HEAD
   "execution_count": 10,
   "id": "b30a460e",
=======
   "execution_count": 15,
   "id": "2dd95401",
>>>>>>> ignite
   "metadata": {},
   "outputs": [],
   "source": [
    "def feature_merge(list_f, df_all, df_all_f, default_x_col):\n",
    "    df_x_features = df_all_f[list_f]\n",
    "    df_x_unique = unique_filter(df_x_features, default_x_col)\n",
    "    df_merge_x = df_all.merge(df_x_unique, how='left', on=[default_x_col])\n",
    "    return df_merge_x"
   ]
  },
  {
   "cell_type": "code",
<<<<<<< HEAD
   "execution_count": 11,
   "id": "7acbca1f",
=======
   "execution_count": 16,
   "id": "6aa71885",
>>>>>>> ignite
   "metadata": {},
   "outputs": [],
   "source": [
    "def user_item_merge(mode, df_all, df_all_features, feature_list):\n",
    "    if mode =='user':\n",
    "        df_merge_x = feature_merge(feature_list, df_all, df_all_features,\\\n",
    "                                      DEFAULT_USER_COL)\n",
    "    if mode == 'item':\n",
    "        df_merge_x = feature_merge(feature_list, df_all, df_all_features, \\\n",
    "                                   DEFAULT_ITEM_COL)\n",
    "\n",
    "    return df_merge_x"
   ]
  },
  {
   "cell_type": "code",
<<<<<<< HEAD
   "execution_count": 12,
   "id": "e0e7f502",
=======
   "execution_count": 17,
   "id": "2ca59157",
>>>>>>> ignite
   "metadata": {},
   "outputs": [],
   "source": [
    "def mix_merge(df_all, df_all_features, f_list_user, f_list_item):\n",
    "    df_merge_user = feature_merge(f_list_user, df_all, df_all_features, \\\n",
    "                                  DEFAULT_USER_COL)\n",
    "    df_merge_item = feature_merge(f_list_item, df_all, df_all_features, \\\n",
    "                                  DEFAULT_ITEM_COL)\n",
    "    df_merge_x = pd.concat([df_merge_user[f_list_user], \\\n",
    "                             df_merge_item[f_list_item]], axis=1)\n",
    "    df_merge_x[DEFAULT_RATING_COL] = df_all[DEFAULT_RATING_COL]\n",
    "    assert df_all.shape[0] == df_merge_x.shape[0], \"wrong merge\"\n",
    "    return df_merge_x"
   ]
  },
  {
   "cell_type": "code",
<<<<<<< HEAD
   "execution_count": 13,
   "id": "d0be3c66",
=======
   "execution_count": 18,
   "id": "ca7b908e",
>>>>>>> ignite
   "metadata": {},
   "outputs": [],
   "source": [
    "df_mix_merge = mix_merge(df_all, df_all_features, user_features_extend, item_features_extend)"
   ]
  },
  {
   "cell_type": "code",
<<<<<<< HEAD
   "execution_count": 14,
   "id": "7005bc2a",
   "metadata": {},
   "outputs": [],
=======
   "execution_count": 19,
   "id": "9269e54f",
   "metadata": {
    "scrolled": true
   },
   "outputs": [
    {
     "name": "stdout",
     "output_type": "stream",
     "text": [
      "The size of embedding layers:[[36, 18], [413, 50]]\n"
     ]
    }
   ],
>>>>>>> ignite
   "source": [
    "le = preprocessing.LabelEncoder()"
   ]
  },
  {
<<<<<<< HEAD
   "cell_type": "code",
   "execution_count": 15,
   "id": "fae91863",
=======
   "cell_type": "markdown",
   "id": "f55b17ad",
>>>>>>> ignite
   "metadata": {},
   "outputs": [],
   "source": [
    "def cat_encode(df_data, list_f):\n",
    "    for f in list_f:\n",
    "        df_data[f] = le.fit_transform(df_data[f].astype('category').cat.codes.values)\n",
    "    return df_data"
   ]
  },
  {
<<<<<<< HEAD
   "cell_type": "code",
   "execution_count": 16,
   "id": "9370037a",
=======
   "cell_type": "markdown",
   "id": "e33dfa1e",
>>>>>>> ignite
   "metadata": {},
   "outputs": [],
   "source": [
    "features_to_code = df_mix_merge.columns"
   ]
  },
  {
   "cell_type": "code",
<<<<<<< HEAD
   "execution_count": 17,
   "id": "5192e4c8",
=======
   "execution_count": 20,
   "id": "1c356f5f",
>>>>>>> ignite
   "metadata": {},
   "outputs": [],
   "source": [
    "df_all_encode = cat_encode(df_mix_merge, features_to_code)"
   ]
  },
  {
<<<<<<< HEAD
   "cell_type": "code",
   "execution_count": 18,
   "id": "b2b69e07",
=======
   "cell_type": "markdown",
   "id": "1ee76818",
>>>>>>> ignite
   "metadata": {},
   "outputs": [],
   "source": [
    "# df_all_encode[DEFAULT_RATING_COL] = df_all[DEFAULT_RATING_COL]"
   ]
  },
  {
   "cell_type": "code",
<<<<<<< HEAD
   "execution_count": 19,
   "id": "78915b76",
=======
   "execution_count": 21,
   "id": "e6009ccc",
>>>>>>> ignite
   "metadata": {},
   "outputs": [],
   "source": [
    "df_train = df_all_encode[df_all.flag==1]\n",
    "df_test = df_all_encode[df_all.flag==0]\n",
    "\n",
    "# df_train=df_train.drop(['flag'], axis=1)\n",
    "# df_test=df_test.drop(['flag'], axis=1)"
   ]
  },
  {
   "cell_type": "code",
   "execution_count": 20,
   "id": "e8e49d1c",
   "metadata": {},
   "outputs": [],
   "source": [
    "features_to_train = [DEFAULT_USER_COL, DEFAULT_ITEM_COL]+ user_features + item_features +[DEFAULT_RATING_COL]\n",
    "df_train = df_train[features_to_train]\n",
    "df_test = df_test[features_to_train]"
   ]
  },
  {
   "cell_type": "code",
<<<<<<< HEAD
   "execution_count": 21,
   "id": "5a896e00",
=======
   "execution_count": 22,
   "id": "e6ab58f7",
>>>>>>> ignite
   "metadata": {
    "scrolled": true
   },
   "outputs": [
    {
     "data": {
      "text/plain": [
<<<<<<< HEAD
       "'CityCity_job'"
      ]
     },
     "execution_count": 21,
=======
       "<torch._C.Generator at 0x7fd8e3375e10>"
      ]
     },
     "execution_count": 22,
>>>>>>> ignite
     "metadata": {},
     "output_type": "execute_result"
    }
   ],
   "source": [
    "tb_cf = \"-\".join(user_features)+'-'.join(item_features)\n",
    "tb_cf"
   ]
  },
  {
   "cell_type": "code",
<<<<<<< HEAD
   "execution_count": 22,
   "id": "136f85ba",
=======
   "execution_count": 23,
   "id": "aaba4fbf",
>>>>>>> ignite
   "metadata": {},
   "outputs": [],
   "source": [
    "df_train=df_train[features_to_train]\n",
    "df_test=df_test[features_to_train]\n",
    "\n",
    "num_feature=[]\n",
    "features_to_train.remove(DEFAULT_RATING_COL)\n",
    "# label_name = DEFAULT_RATING_COL"
   ]
  },
  {
   "cell_type": "code",
   "execution_count": 23,
   "id": "d98e3845",
   "metadata": {
    "scrolled": true
   },
   "outputs": [],
   "source": [
    "np_train = df_train.values\n",
    "np_test = df_test.values"
   ]
  },
  {
   "cell_type": "code",
   "execution_count": 24,
<<<<<<< HEAD
   "id": "6fb2a567",
=======
   "id": "1b774eeb",
>>>>>>> ignite
   "metadata": {},
   "outputs": [
    {
     "data": {
      "text/plain": [
<<<<<<< HEAD
       "<torch._C.Generator at 0x7f18d56595b0>"
=======
       "EntityCat(\n",
       "  (all_embeddings): ModuleList(\n",
       "    (0): Embedding(36, 18)\n",
       "    (1): Embedding(413, 50)\n",
       "  )\n",
       "  (mlp_layers): Sequential(\n",
       "    (0): Linear(in_features=68, out_features=100, bias=True)\n",
       "    (1): ReLU(inplace=True)\n",
       "    (2): Dropout(p=0.4, inplace=False)\n",
       "  )\n",
       "  (predict_layer): Linear(in_features=100, out_features=1, bias=True)\n",
       ")"
>>>>>>> ignite
      ]
     },
     "execution_count": 24,
     "metadata": {},
     "output_type": "execute_result"
    }
   ],
   "source": [
    "def seed_worker(worker_id):\n",
    "    worker_seed = torch.initial_seed() % 2**32\n",
    "    numpy.random.seed(worker_seed)\n",
    "    random.seed(worker_seed)\n",
    "\n",
    "g = torch.Generator()\n",
    "g.manual_seed(0)"
   ]
  },
  {
   "cell_type": "code",
   "execution_count": 25,
<<<<<<< HEAD
   "id": "d6dc4eb2",
   "metadata": {},
   "outputs": [],
   "source": [
    "BATCH_SIZE = 2**25"
=======
   "id": "cc54de2b",
   "metadata": {},
   "outputs": [],
   "source": [
    "criterion = nn.BCEWithLogitsLoss()\n",
    "optimizer = optim.Adam(model.parameters(), lr=cfg.params.lr)"
   ]
  },
  {
   "cell_type": "markdown",
   "id": "fdc8ec35",
   "metadata": {},
   "source": [
    "## Model the training "
>>>>>>> ignite
   ]
  },
  {
   "cell_type": "code",
   "execution_count": 26,
<<<<<<< HEAD
   "id": "269226d7",
=======
   "id": "239dbb0d",
>>>>>>> ignite
   "metadata": {},
   "outputs": [],
   "source": [
    "train_dataset = CatData(np_train)\n",
    "test_dataset = CatData(np_test) \n",
    "train_loader = data.DataLoader(train_dataset, batch_size=BATCH_SIZE, shuffle=True, num_workers=0,  worker_init_fn=seed_worker,generator=g)\n",
    "test_loader = data.DataLoader(test_dataset, batch_size=NEG_TEST+1, shuffle=False, num_workers=0,worker_init_fn=seed_worker,generator=g )"
   ]
  },
  {
   "cell_type": "code",
<<<<<<< HEAD
   "execution_count": 27,
   "id": "c357eea9",
=======
   "execution_count": 79,
   "id": "6ffe2cfc",
>>>>>>> ignite
   "metadata": {},
   "outputs": [],
   "source": [
<<<<<<< HEAD
    "embedding_size = []\n",
    "for c in features_to_train:\n",
    "    num_unique_values = int(df_all_encode[c].nunique())\n",
    "    embed_dim = int(min(np.ceil(num_unique_values/2), 50))\n",
    "    embedding_size.append([num_unique_values, embed_dim])  "
=======
    "scaler = torch.cuda.amp.GradScaler(enabled=use_amp)\n",
    "def train_step(engine, batch):\n",
    "    model.train()\n",
    "    optimizer.zero_grad()\n",
    "    x, y = batch[0].to(device), batch[1].to(device)\n",
    "    with torch.cuda.amp.autocast(enabled=use_amp):\n",
    "        y_pred = model(x).reshape(1,-1).flatten()\n",
    "        loss = criterion(y_pred, y.float())\n",
    "    scaler.scale(loss).backward()\n",
    "    scaler.step(optimizer)\n",
    "    scaler.update()\n",
    "    return loss.item()\n",
    "\n",
    "def validation_step(engine, batch):\n",
    "    model.eval()\n",
    "    with torch.no_grad():\n",
    "        x, label = batch[0].to(device), batch[1].to(device)\n",
    "        y_pred = model(x).reshape(1,-1).flatten()\n",
    "        label=label.float()\n",
    "        return {'label':label, 'y_pred':y_pred}\n",
    "\n",
    "\n",
    "def test_step(engine, batch):\n",
    "    model.eval()\n",
    "    with torch.no_grad():\n",
    "        x, label = batch[0].to(device), batch[1].to(device)\n",
    "        y_pred = model(x).reshape(1,-1).flatten()\n",
    "        label=label.float()\n",
    "        \n",
    "        y_pred_top, indices = torch.topk(y_pred, engine.state.topk)\n",
    "        \n",
    "        y_pred_top = y_pred_top.detach().cpu().numpy()\n",
    "        reco_item = torch.take(x[:,1], indices).cpu().numpy().tolist()\n",
    "        pos_item = x[0,1].cpu().numpy().tolist()  \n",
    "        label_top = label[indices].cpu().numpy()\n",
    "        indices = indices.cpu().numpy()\n",
    "        return {'pos_item':pos_item, 'reco_item':reco_item, 'y_pred_top':y_pred_top, \n",
    "                'label_top':label_top, 'label':label, 'y_pred':y_pred, 'y_indices':indices}\n",
    "    \n",
    "trainer = Engine(train_step)\n",
    "\n",
    "train_evaluator = Engine(validation_step)\n",
    "# train_evaluator.state_dict_user_keys.append('topk')\n",
    "\n",
    "val_evaluator = Engine(validation_step)\n",
    "# val_evaluator.state_dict_user_keys.append('topk')\n",
    "\n",
    "test_evaluator = Engine(test_step)\n",
    "test_evaluator.state_dict_user_keys.append('topk')\n",
    "\n",
    "# @val_evaluator.on(Events.STARTED)\n",
    "# def init_user_value():\n",
    "#     val_evaluator.state.topk=3\n",
    "    \n",
    "# @train_evaluator.on(Events.STARTED)\n",
    "# def init_user_value():\n",
    "#     train_evaluator.state.topk=3\n",
    "\n",
    "@train_evaluator.on(Events.STARTED)\n",
    "def init_user_value():\n",
    "    test_evaluator.state.topk=cfg.params.topk\n",
    "    \n",
    "    \n",
    "# Attach metrics to the evaluators\n",
    "for name, metric in val_metrics_train.items():\n",
    "    metric.attach(train_evaluator, name)\n",
    "\n",
    "for name, metric in val_metrics_train.items():\n",
    "    metric.attach(val_evaluator, name)\n",
    "\n",
    "    \n",
    "for name, metric in val_metrics_test.items():\n",
    "    metric.attach(test_evaluator, name)\n",
    "    \n",
    "# Eearly_stop \n",
    "def score_function(engine):\n",
    "    val_loss = engine.state.metrics['auc']\n",
    "    return val_loss\n",
    "\n",
    "Eearly_stop_handler = EarlyStopping(patience=cfg.params.patience, score_function=score_function, trainer=trainer)\n",
    "val_evaluator.add_event_handler(Events.COMPLETED, Eearly_stop_handler)"
>>>>>>> ignite
   ]
  },
  {
   "cell_type": "code",
<<<<<<< HEAD
   "execution_count": 28,
   "id": "8694e807",
=======
   "execution_count": 80,
   "id": "1fcb3aad",
>>>>>>> ignite
   "metadata": {},
   "outputs": [],
   "source": [
    "model = EntityCat(embedding_size = embedding_size, num_numerical_cols = len(num_feature),\n",
    "               output_size = 2)\n",
    "model.to(device)\n",
    "loss_function = nn.BCEWithLogitsLoss()\n",
    "optimizer = optim.Adam(model.parameters(), lr=0.001)"
   ]
  },
  {
   "cell_type": "code",
<<<<<<< HEAD
   "execution_count": 29,
   "id": "2f38e4bd",
   "metadata": {
    "scrolled": false
   },
=======
   "execution_count": 81,
   "id": "da94de4e",
   "metadata": {
    "scrolled": false
   },
   "outputs": [],
   "source": [
    "# trainer.run(train_loader, max_epochs=2)"
   ]
  },
  {
   "cell_type": "code",
   "execution_count": 82,
   "id": "98f374d2",
   "metadata": {},
>>>>>>> ignite
   "outputs": [
    {
     "name": "stdout",
     "output_type": "stream",
     "text": [
      "EntityCat(\n",
      "  (all_embeddings): ModuleList(\n",
      "    (0): Embedding(89946, 50)\n",
      "    (1): Embedding(139292, 50)\n",
      "    (2): Embedding(6296, 50)\n",
      "    (3): Embedding(5405, 50)\n",
      "  )\n",
      "  (embedding_dropout): Dropout(p=0.4, inplace=False)\n",
      "  (layers): Sequential(\n",
      "    (0): Linear(in_features=200, out_features=100, bias=True)\n",
      "    (1): ReLU(inplace=True)\n",
      "    (2): Dropout(p=0.4, inplace=False)\n",
      "    (3): Linear(in_features=100, out_features=2, bias=True)\n",
      "  )\n",
      ")\n"
     ]
    }
   ],
   "source": [
    "print(model)"
   ]
  },
  {
   "cell_type": "code",
   "execution_count": 30,
   "id": "f71833ec",
   "metadata": {
    "scrolled": false
   },
   "outputs": [
    {
     "name": "stdout",
     "output_type": "stream",
     "text": [
      "EPOCH 0/10: ---------\n"
     ]
    },
    {
     "name": "stderr",
     "output_type": "stream",
     "text": [
      "100%|█████████████████████████████████████████████| 1/1 [00:14<00:00, 14.12s/it]\n",
      "100%|████████████████████████████████████| 74091/74091 [04:51<00:00, 254.25it/s]\n"
     ]
    },
    {
     "name": "stdout",
     "output_type": "stream",
     "text": [
      "The time elapse/epoch: 00: 05: 05\n",
      "test_loss:0.9422452772290033\n",
      "test_HR:0.10564036117747094            \n",
      "test_NDCG:0.047514795444033905\n",
      "test_ROC:0.5113564400534478            \n",
      "test_ROC@k:0\n",
      "EPOCH 1/10: ---------\n"
     ]
    },
    {
     "name": "stderr",
     "output_type": "stream",
     "text": [
      "100%|█████████████████████████████████████████████| 1/1 [00:13<00:00, 13.23s/it]\n",
      " 91%|████████████████████████████████▋   | 67265/74091 [04:26<00:27, 251.95it/s]\n"
     ]
    },
    {
     "ename": "KeyboardInterrupt",
     "evalue": "",
     "output_type": "error",
     "traceback": [
      "\u001b[0;31m---------------------------------------------------------------------------\u001b[0m",
      "\u001b[0;31mKeyboardInterrupt\u001b[0m                         Traceback (most recent call last)",
      "Input \u001b[0;32mIn [30]\u001b[0m, in \u001b[0;36m<cell line: 46>\u001b[0;34m()\u001b[0m\n\u001b[1;32m     52\u001b[0m avg_loss_train, \u001b[38;5;241m*\u001b[39mb \u001b[38;5;241m=\u001b[39m run_one_epoch(model,epoch,writer, data_loader\u001b[38;5;241m=\u001b[39mtrain_loader, is_train\u001b[38;5;241m=\u001b[39m\u001b[38;5;28;01mTrue\u001b[39;00m)\n\u001b[1;32m     53\u001b[0m model\u001b[38;5;241m.\u001b[39mtrain(\u001b[38;5;28;01mFalse\u001b[39;00m)\n\u001b[1;32m     54\u001b[0m avg_loss_test, avg_HR_test, avg_NDCG_test, avg_ROC_test, avg_ROC_top_test, avg_Recall_test, avg_Precision_test \\\n\u001b[0;32m---> 55\u001b[0m \u001b[38;5;241m=\u001b[39m \u001b[43mrun_one_epoch\u001b[49m\u001b[43m(\u001b[49m\u001b[43mmodel\u001b[49m\u001b[43m,\u001b[49m\u001b[43mepoch\u001b[49m\u001b[43m,\u001b[49m\u001b[43m \u001b[49m\u001b[43mwriter\u001b[49m\u001b[43m,\u001b[49m\u001b[43m \u001b[49m\u001b[43mdata_loader\u001b[49m\u001b[38;5;241;43m=\u001b[39;49m\u001b[43mtest_loader\u001b[49m\u001b[43m,\u001b[49m\u001b[43m \u001b[49m\u001b[43mis_train\u001b[49m\u001b[38;5;241;43m=\u001b[39;49m\u001b[38;5;28;43;01mFalse\u001b[39;49;00m\u001b[43m)\u001b[49m\n\u001b[1;32m     57\u001b[0m elapsed_time \u001b[38;5;241m=\u001b[39m time\u001b[38;5;241m.\u001b[39mtime() \u001b[38;5;241m-\u001b[39m start_time\n\u001b[1;32m     58\u001b[0m \u001b[38;5;28mprint\u001b[39m(\u001b[38;5;124m\"\u001b[39m\u001b[38;5;124mThe time elapse/epoch: \u001b[39m\u001b[38;5;124m\"\u001b[39m \u001b[38;5;241m+\u001b[39m\n\u001b[1;32m     59\u001b[0m       time\u001b[38;5;241m.\u001b[39mstrftime(\u001b[38;5;124m\"\u001b[39m\u001b[38;5;124m%\u001b[39m\u001b[38;5;124mH: \u001b[39m\u001b[38;5;124m%\u001b[39m\u001b[38;5;124mM: \u001b[39m\u001b[38;5;124m%\u001b[39m\u001b[38;5;124mS\u001b[39m\u001b[38;5;124m\"\u001b[39m, time\u001b[38;5;241m.\u001b[39mgmtime(elapsed_time)))\n",
      "Input \u001b[0;32mIn [30]\u001b[0m, in \u001b[0;36mrun_one_epoch\u001b[0;34m(model, epoch_index, writer, data_loader, is_train)\u001b[0m\n\u001b[1;32m     20\u001b[0m     loss\u001b[38;5;241m.\u001b[39mbackward()\n\u001b[1;32m     21\u001b[0m     optimizer\u001b[38;5;241m.\u001b[39mstep()\n\u001b[1;32m     23\u001b[0m HR_1batch, NDCG_1batch, ROC_1batch, ROC_top1batch, Recall_1batch, Precision_1batch\u001b[38;5;241m=\u001b[39m \\\n\u001b[0;32m---> 24\u001b[0m \u001b[43mevaluate_entity\u001b[49m\u001b[38;5;241;43m.\u001b[39;49m\u001b[43mmetrics\u001b[49m\u001b[43m(\u001b[49m\u001b[43mcat_data\u001b[49m\u001b[43m,\u001b[49m\u001b[43m \u001b[49m\u001b[43mprediction\u001b[49m\u001b[43m,\u001b[49m\u001b[43m \u001b[49m\u001b[43mlabel\u001b[49m\u001b[43m,\u001b[49m\u001b[43m \u001b[49m\u001b[43mTOP_K\u001b[49m\u001b[43m,\u001b[49m\u001b[43m \u001b[49m\u001b[43mis_train\u001b[49m\u001b[43m)\u001b[49m\n\u001b[1;32m     25\u001b[0m HR\u001b[38;5;241m.\u001b[39mappend(HR_1batch)\n\u001b[1;32m     26\u001b[0m NDCG\u001b[38;5;241m.\u001b[39mappend( NDCG_1batch)\n",
      "File \u001b[0;32m~/Documents/MA_thesis_u/ncf-torch2/src/jupyter/../../src/evaluate_entity.py:54\u001b[0m, in \u001b[0;36mmetrics\u001b[0;34m(cat_data, predictions, label, top_k, is_train, threshold)\u001b[0m\n\u001b[1;32m     52\u001b[0m     ROC_top1batch \u001b[38;5;241m=\u001b[39m roc(label[indices]\u001b[38;5;241m.\u001b[39mcpu()\u001b[38;5;241m.\u001b[39mnumpy(), y_score\u001b[38;5;241m.\u001b[39mdetach()\u001b[38;5;241m.\u001b[39mcpu()\u001b[38;5;241m.\u001b[39mnumpy())\n\u001b[1;32m     53\u001b[0m     recall_1batch \u001b[38;5;241m=\u001b[39m recall(label[indices]\u001b[38;5;241m.\u001b[39mcpu()\u001b[38;5;241m.\u001b[39mcpu()\u001b[38;5;241m.\u001b[39mnumpy(), y_score\u001b[38;5;241m.\u001b[39mdetach()\u001b[38;5;241m.\u001b[39mcpu()\u001b[38;5;241m.\u001b[39mnumpy(), threshold)\n\u001b[0;32m---> 54\u001b[0m     precision_1batch \u001b[38;5;241m=\u001b[39m \u001b[43mprecision\u001b[49m\u001b[43m(\u001b[49m\u001b[43mlabel\u001b[49m\u001b[43m[\u001b[49m\u001b[43mindices\u001b[49m\u001b[43m]\u001b[49m\u001b[38;5;241;43m.\u001b[39;49m\u001b[43mcpu\u001b[49m\u001b[43m(\u001b[49m\u001b[43m)\u001b[49m\u001b[38;5;241;43m.\u001b[39;49m\u001b[43mnumpy\u001b[49m\u001b[43m(\u001b[49m\u001b[43m)\u001b[49m\u001b[43m,\u001b[49m\u001b[43m \u001b[49m\u001b[43my_score\u001b[49m\u001b[38;5;241;43m.\u001b[39;49m\u001b[43mdetach\u001b[49m\u001b[43m(\u001b[49m\u001b[43m)\u001b[49m\u001b[38;5;241;43m.\u001b[39;49m\u001b[43mcpu\u001b[49m\u001b[43m(\u001b[49m\u001b[43m)\u001b[49m\u001b[38;5;241;43m.\u001b[39;49m\u001b[43mnumpy\u001b[49m\u001b[43m(\u001b[49m\u001b[43m)\u001b[49m\u001b[43m,\u001b[49m\u001b[43m \u001b[49m\u001b[43mthreshold\u001b[49m\u001b[43m)\u001b[49m\n\u001b[1;32m     55\u001b[0m \u001b[38;5;28;01mreturn\u001b[39;00m HR_1batch, NDCG_1batch, ROC_1batch, ROC_top1batch, recall_1batch, precision_1batch\n",
      "File \u001b[0;32m~/Documents/MA_thesis_u/ncf-torch2/src/jupyter/../../src/evaluate_entity.py:33\u001b[0m, in \u001b[0;36mprecision\u001b[0;34m(gt, prob, th)\u001b[0m\n\u001b[1;32m     32\u001b[0m \u001b[38;5;28;01mdef\u001b[39;00m \u001b[38;5;21mprecision\u001b[39m(gt, prob, th):\n\u001b[0;32m---> 33\u001b[0m     y_pred \u001b[38;5;241m=\u001b[39m [\u001b[38;5;241m1\u001b[39m \u001b[38;5;28;01mif\u001b[39;00m y \u001b[38;5;241m>\u001b[39m\u001b[38;5;241m=\u001b[39m th \u001b[38;5;28;01melse\u001b[39;00m \u001b[38;5;241m0\u001b[39m \u001b[38;5;28;01mfor\u001b[39;00m y \u001b[38;5;129;01min\u001b[39;00m prob]\n\u001b[1;32m     34\u001b[0m     \u001b[38;5;28;01mreturn\u001b[39;00m precision_score(gt, y_pred, zero_division\u001b[38;5;241m=\u001b[39m\u001b[38;5;241m0\u001b[39m)\n",
      "File \u001b[0;32m~/Documents/MA_thesis_u/ncf-torch2/src/jupyter/../../src/evaluate_entity.py:33\u001b[0m, in \u001b[0;36m<listcomp>\u001b[0;34m(.0)\u001b[0m\n\u001b[1;32m     32\u001b[0m \u001b[38;5;28;01mdef\u001b[39;00m \u001b[38;5;21mprecision\u001b[39m(gt, prob, th):\n\u001b[0;32m---> 33\u001b[0m     y_pred \u001b[38;5;241m=\u001b[39m [\u001b[38;5;241m1\u001b[39m \u001b[38;5;28;01mif\u001b[39;00m \u001b[43my\u001b[49m\u001b[43m \u001b[49m\u001b[38;5;241;43m>\u001b[39;49m\u001b[38;5;241;43m=\u001b[39;49m\u001b[43m \u001b[49m\u001b[43mth\u001b[49m \u001b[38;5;28;01melse\u001b[39;00m \u001b[38;5;241m0\u001b[39m \u001b[38;5;28;01mfor\u001b[39;00m y \u001b[38;5;129;01min\u001b[39;00m prob]\n\u001b[1;32m     34\u001b[0m     \u001b[38;5;28;01mreturn\u001b[39;00m precision_score(gt, y_pred, zero_division\u001b[38;5;241m=\u001b[39m\u001b[38;5;241m0\u001b[39m)\n",
      "\u001b[0;31mKeyboardInterrupt\u001b[0m: "
     ]
    }
   ],
   "source": [
    "timestamp = datetime.now().strftime('%m-%d_%H-%M-%S')\n",
    "writer = SummaryWriter('runs/trainer_{}_{}'.format(tb_cf, timestamp))\n",
    "plot_n_batch = 10\n",
    "\n",
    "\n",
    "\n",
    "def run_one_epoch(model, epoch_index, writer, data_loader=train_loader, is_train=True):\n",
    "    running_loss = 0.\n",
    "    avg_loss = 0.\n",
    "    HR, NDCG, ROC, ROC_top, Recall, Precision = [], [], [], [], [], []\n",
    "    \n",
    "    for batch, (cat_data, label) in enumerate(tqdm.tqdm(data_loader)):\n",
    "        cat_data = cat_data.to(device)\n",
    "        label = label.to(device).float()\n",
    "        prediction = model(cat_data)[:,1]\n",
    "        loss = loss_function(prediction, label)\n",
    "        running_loss += loss.item()\n",
    "        if is_train:\n",
    "            optimizer.zero_grad()\n",
    "            loss.backward()\n",
    "            optimizer.step()\n",
    "            \n",
    "        HR_1batch, NDCG_1batch, ROC_1batch, ROC_top1batch, Recall_1batch, Precision_1batch= \\\n",
    "        evaluate_entity.metrics(cat_data, prediction, label, TOP_K, is_train)\n",
    "        HR.append(HR_1batch)\n",
    "        NDCG.append( NDCG_1batch)\n",
    "        ROC.append( ROC_1batch)\n",
    "        ROC_top.append(ROC_top1batch)\n",
    "        Recall.append(Recall_1batch)\n",
    "        Precision.append(Precision_1batch)\n",
    "        \n",
    "    avg_loss = running_loss / (batch +1)  \n",
    " \n",
    "    avg_HR = np.mean(HR)\n",
    "    avg_NDCG = np.mean(NDCG)\n",
    "    avg_ROC = np.mean(ROC)\n",
    "    try:\n",
    "        avg_ROC_top = np.mean(ROC_top)\n",
    "    except:\n",
    "        avg_ROC_top = 0\n",
    "    avg_recall = np.mean(Recall)\n",
    "    avg_precision = np.mean(Precision)\n",
    "    return avg_loss, avg_HR, avg_NDCG , avg_ROC, avg_ROC_top, avg_recall, avg_precision\n",
    "\n",
    " \n",
    "for epoch in range(EPOCHS):\n",
    "    print('EPOCH {}/{}: ---------'.format(epoch, EPOCHS))\n",
    "    start_time = time.time()\n",
    "    # Make sure gradient tracking is on, and do a pass over the data\n",
    " \n",
    "    model.train(True)\n",
    "    avg_loss_train, *b = run_one_epoch(model,epoch,writer, data_loader=train_loader, is_train=True)\n",
    "    model.train(False)\n",
    "    avg_loss_test, avg_HR_test, avg_NDCG_test, avg_ROC_test, avg_ROC_top_test, avg_Recall_test, avg_Precision_test \\\n",
    "    = run_one_epoch(model,epoch, writer, data_loader=test_loader, is_train=False)\n",
    "    \n",
    "    elapsed_time = time.time() - start_time\n",
    "    print(\"The time elapse/epoch: \" +\n",
    "          time.strftime(\"%H: %M: %S\", time.gmtime(elapsed_time)))\n",
    "    \n",
    "#     print(f\"train_loss:{avg_loss_train}\\ntrain_HR:{avg_HR_train}\\\n",
    "#             \\ntrain_NDCG:{avg_NDCG_train}\\ntrain_ROC:{avg_ROC_train}\\ntrain_ROC_top:{avg_ROC_top_train})\n",
    "    print(f\"test_loss:{avg_loss_test}\\ntest_HR:{avg_HR_test}\\\n",
    "            \\ntest_NDCG:{avg_NDCG_test}\\ntest_ROC:{avg_ROC_test}\\\n",
    "            \\ntest_ROC@k:{avg_ROC_top_test}\")\n",
    " \n",
    "    writer.add_scalars('Loss',\n",
    "                    { 'Train' : avg_loss_train, 'Test' : avg_loss_test },\n",
    "                    epoch )\n",
    "\n",
    "#    writer.add_scalars('HitRate',\n",
    "#                 { 'Train' : avg_HR_train, 'Test' : avg_HR_test },\n",
    "#                 epoch)\n",
    "    \n",
    "#     writer.add_scalars('NDCG',\n",
    "#             { 'Train' : avg_NDCG_train, 'Test' : avg_NDCG_test },\n",
    "#             epoch)\n",
    "    \n",
    "#     writer.add_scalars('ROC',\n",
    "#             { 'Train' : avg_ROC_train, 'Test' : avg_ROC_test },\n",
    "#             epoch)\n",
    "\n",
    "# # model_path = 'runs/model_{}'.format(timestamp)\n",
    "# # torch.save(model.state_dict(), model_path)\n",
    "\n",
    "writer.flush()\n",
    "writer.close()"
   ]
  },
  {
   "cell_type": "code",
   "execution_count": null,
<<<<<<< HEAD
   "id": "e602b1b5",
   "metadata": {},
   "outputs": [],
=======
   "id": "d00efa98",
   "metadata": {},
   "outputs": [],
   "source": []
  },
  {
   "cell_type": "markdown",
   "id": "2c4729bf",
   "metadata": {},
   "source": [
    "## Quality evaluation \n",
    "display the recommended items for the user. Sample the recommended test users "
   ]
  },
  {
   "cell_type": "code",
   "execution_count": 281,
   "id": "321b24cc",
   "metadata": {},
   "outputs": [
    {
     "data": {
      "text/plain": [
       "array([53693, 31989, 72002, 33852,  1441])"
      ]
     },
     "execution_count": 281,
     "metadata": {},
     "output_type": "execute_result"
    }
   ],
>>>>>>> ignite
   "source": [
    "from sklearn.metrics import precision_score\n",
    ">>> from sklearn.metrics import average_precision_score,recall_score,precision_recall_curve\n"
   ]
  },
  {
   "cell_type": "code",
<<<<<<< HEAD
   "execution_count": null,
   "id": "7ca8db7f",
=======
   "execution_count": 282,
   "id": "0f6396d9",
>>>>>>> ignite
   "metadata": {
    "scrolled": true
   },
   "outputs": [],
   "source": [
<<<<<<< HEAD
    "y_true = [0, 0, 0, 1]\n",
    "y_scores = [0.261, 0.21, 0.161, 0.361]\n",
    "# average_precision_score(y_true, y_scores)"
=======
    "df_test_sub = df_test[df_test[DEFAULT_USER_COL].isin(sub_users_test)]\n",
    "# df_test_sub"
   ]
  },
  {
   "cell_type": "code",
   "execution_count": 287,
   "id": "f3275d18",
   "metadata": {},
   "outputs": [],
   "source": [
    "np_test_sub = df_test_sub.values"
   ]
  },
  {
   "cell_type": "code",
   "execution_count": 288,
   "id": "743235e1",
   "metadata": {},
   "outputs": [],
   "source": [
    "test_dataset_sample = CatData(np_test_sub)\n",
    "test_sample_loader = data.DataLoader(test_dataset_sample, batch_size=cfg.params.neg_test+1, shuffle=False, num_workers=0,worker_init_fn=seed_worker,generator=g)"
>>>>>>> ignite
   ]
  },
  {
   "cell_type": "code",
<<<<<<< HEAD
   "execution_count": null,
   "id": "c8dd93a0",
=======
   "execution_count": 289,
   "id": "d745b0ae",
   "metadata": {},
   "outputs": [],
   "source": [
    "class RecoList(Metric):\n",
    "    '''\n",
    "    The recommendation list \n",
    "    '''\n",
    "    def __init__(self, output_transform=lambda x: [x['pos_item'], x['reco_item'], x['userid'], x['y_pred_top'], x['indices']], device=\"cpu\"):\n",
    "#         self._reco_dict = []\n",
    "        self.item= np.array([])\n",
    "        self.userid= np.array([])\n",
    "        self.prob= np.array([])\n",
    "        self.indices = []\n",
    "#         self.cnt = 0\n",
    "        super(RecoList, self).__init__(output_transform=output_transform, device=device)\n",
    "\n",
    "    @reinit__is_reduced\n",
    "    def reset(self):\n",
    "        self.item= np.array([])\n",
    "        self.userid= np.array([])\n",
    "        self.prob= np.array([])\n",
    "#         self.cnt = 0\n",
    "        super(RecoList, self).reset()\n",
    "\n",
    "    @reinit__is_reduced\n",
    "    def update(self, output):\n",
    "        gt_item = output[0]\n",
    "        reco_item = output[1]\n",
    "        userid = output[2]\n",
    "        prob = output[3]\n",
    "        indices = output[4]\n",
    "        self.item = np.append(self.item, reco_item)\n",
    "        self.userid = np.append(self.userid, userid)\n",
    "        self.prob = np.append(self.prob, prob)\n",
    "        self.indices.append(indices)\n",
    "        \n",
    "    @sync_all_reduce(\"_reco_dict\")\n",
    "    def compute(self):\n",
    "        return self.indices, self.prob"
   ]
  },
  {
   "cell_type": "code",
   "execution_count": 290,
   "id": "99c31971",
   "metadata": {},
   "outputs": [],
   "source": [
    "val_metrics_test_quanlity = {\n",
    "    'recolist': RecoList()\n",
    "}"
   ]
  },
  {
   "cell_type": "code",
   "execution_count": 291,
   "id": "6c0ffb60",
>>>>>>> ignite
   "metadata": {},
   "outputs": [],
   "source": [
    "# len(np.unique(y_scores))"
   ]
  },
  {
   "cell_type": "code",
<<<<<<< HEAD
   "execution_count": null,
   "id": "abd5d76c",
=======
   "execution_count": 292,
   "id": "8d97696e",
>>>>>>> ignite
   "metadata": {},
   "outputs": [],
   "source": [
    "# precision_recall_curve(y_true, y_scores)"
   ]
  },
  {
   "cell_type": "code",
<<<<<<< HEAD
   "execution_count": null,
   "id": "df829226",
=======
   "execution_count": 293,
   "id": "4ebbfd38",
>>>>>>> ignite
   "metadata": {},
   "outputs": [],
   "source": [
    "y_pred = [1 if y>0.5 else 0 for y in y_scores ]\n",
    "y_pred"
   ]
  },
  {
   "cell_type": "code",
<<<<<<< HEAD
   "execution_count": null,
   "id": "6fc5fc92",
=======
   "execution_count": 294,
   "id": "4fb31094",
   "metadata": {
    "scrolled": false
   },
   "outputs": [
    {
     "data": {
      "text/plain": [
       "State:\n",
       "\titeration: 5\n",
       "\tepoch: 1\n",
       "\tepoch_length: 5\n",
       "\tmax_epochs: 1\n",
       "\toutput: <class 'dict'>\n",
       "\tbatch: <class 'list'>\n",
       "\tmetrics: <class 'dict'>\n",
       "\tdataloader: <class 'torch.utils.data.dataloader.DataLoader'>\n",
       "\tseed: <class 'NoneType'>\n",
       "\ttimes: <class 'dict'>\n",
       "\ttopk: 10"
      ]
     },
     "execution_count": 294,
     "metadata": {},
     "output_type": "execute_result"
    }
   ],
   "source": [
    "test_q_evaluator.run(test_sample_loader)"
   ]
  },
  {
   "cell_type": "code",
   "execution_count": 295,
   "id": "7af42558",
>>>>>>> ignite
   "metadata": {
    "scrolled": true
   },
   "outputs": [],
   "source": [
<<<<<<< HEAD
    "recall_score(y_true, y_pred, average='binary', zero_division=0)"
=======
    "reco_indices, prob =test_q_evaluator.state.metrics['recolist']"
   ]
  },
  {
   "cell_type": "code",
   "execution_count": 296,
   "id": "80477de7",
   "metadata": {},
   "outputs": [
    {
     "data": {
      "text/plain": [
       "[[0, 96, 81, 93, 66, 85, 77, 90, 51, 86],\n",
       " [0, 62, 43, 17, 82, 25, 29, 49, 67, 35],\n",
       " [66, 96, 0, 81, 93, 75, 77, 85, 62, 71],\n",
       " [75, 77, 76, 93, 85, 0, 59, 42, 81, 96],\n",
       " [76, 77, 0, 93, 85, 59, 42, 81, 96, 62]]"
      ]
     },
     "execution_count": 296,
     "metadata": {},
     "output_type": "execute_result"
    }
   ],
   "source": [
    "reco_indices"
>>>>>>> ignite
   ]
  },
  {
   "cell_type": "code",
<<<<<<< HEAD
   "execution_count": null,
   "id": "04dac0d1",
=======
   "execution_count": 304,
   "id": "48e585da",
   "metadata": {},
   "outputs": [],
   "source": [
    "reco_indices_extend = []\n",
    "for i in range(len(reco_indices)):\n",
    "    reco_indices_extend += [(cfg.params.neg_test+1)*(i)+j for j in reco_indices[i]]"
   ]
  },
  {
   "cell_type": "code",
   "execution_count": 305,
   "id": "98bf8699",
   "metadata": {},
   "outputs": [],
   "source": [
    "# df_test_sub.iloc[reco]"
   ]
  },
  {
   "cell_type": "code",
   "execution_count": 306,
   "id": "59a4b26f",
   "metadata": {},
   "outputs": [],
   "source": [
    "df_reco = df_test_sub.iloc[reco_indices_extend].copy()"
   ]
  },
  {
   "cell_type": "code",
   "execution_count": 309,
   "id": "37ba4f96",
   "metadata": {},
   "outputs": [],
   "source": [
    "# df_reco"
   ]
  },
  {
   "cell_type": "code",
   "execution_count": 310,
   "id": "aac520ec",
   "metadata": {},
   "outputs": [],
   "source": [
    "df_reco['prob'] = prob"
   ]
  },
  {
   "cell_type": "code",
   "execution_count": 171,
   "id": "40809303",
   "metadata": {},
   "outputs": [],
   "source": [
    "job_info = pd.read_csv('../../data/jobs/jobid_title.csv')"
   ]
  },
  {
   "cell_type": "code",
   "execution_count": 172,
   "id": "0a5db613",
>>>>>>> ignite
   "metadata": {},
   "outputs": [],
   "source": [
    "recall = tp/tp+fn"
   ]
  },
  {
   "cell_type": "code",
<<<<<<< HEAD
   "execution_count": null,
   "id": "bf3e0ea9",
   "metadata": {},
   "outputs": [],
   "source": [
    "precision = tp/tp+fp"
=======
   "execution_count": 173,
   "id": "cb1dd79f",
   "metadata": {},
   "outputs": [],
   "source": [
    "# job_info"
   ]
  },
  {
   "cell_type": "code",
   "execution_count": 312,
   "id": "2ca70990",
   "metadata": {},
   "outputs": [
    {
     "data": {
      "text/html": [
       "<div>\n",
       "<style scoped>\n",
       "    .dataframe tbody tr th:only-of-type {\n",
       "        vertical-align: middle;\n",
       "    }\n",
       "\n",
       "    .dataframe tbody tr th {\n",
       "        vertical-align: top;\n",
       "    }\n",
       "\n",
       "    .dataframe thead th {\n",
       "        text-align: right;\n",
       "    }\n",
       "</style>\n",
       "<table border=\"1\" class=\"dataframe\">\n",
       "  <thead>\n",
       "    <tr style=\"text-align: right;\">\n",
       "      <th></th>\n",
       "      <th>userid</th>\n",
       "      <th>itemid</th>\n",
       "      <th>rating</th>\n",
       "      <th>prob</th>\n",
       "      <th>Unnamed: 0</th>\n",
       "      <th>Title</th>\n",
       "    </tr>\n",
       "  </thead>\n",
       "  <tbody>\n",
       "    <tr>\n",
       "      <th>0</th>\n",
       "      <td>1441</td>\n",
       "      <td>26715</td>\n",
       "      <td>1</td>\n",
       "      <td>0.990982</td>\n",
       "      <td>979738</td>\n",
       "      <td>Truck Driver- CDL</td>\n",
       "    </tr>\n",
       "    <tr>\n",
       "      <th>1</th>\n",
       "      <td>1441</td>\n",
       "      <td>126099</td>\n",
       "      <td>0</td>\n",
       "      <td>0.978732</td>\n",
       "      <td>595954</td>\n",
       "      <td>Data Analyst</td>\n",
       "    </tr>\n",
       "    <tr>\n",
       "      <th>2</th>\n",
       "      <td>1441</td>\n",
       "      <td>57477</td>\n",
       "      <td>0</td>\n",
       "      <td>0.016489</td>\n",
       "      <td>447313</td>\n",
       "      <td>Sears HAS Store Manager_Clifton,NJ (JC)</td>\n",
       "    </tr>\n",
       "    <tr>\n",
       "      <th>3</th>\n",
       "      <td>1441</td>\n",
       "      <td>46944</td>\n",
       "      <td>0</td>\n",
       "      <td>0.014807</td>\n",
       "      <td>726375</td>\n",
       "      <td>Training and Application Engineer</td>\n",
       "    </tr>\n",
       "    <tr>\n",
       "      <th>4</th>\n",
       "      <td>1441</td>\n",
       "      <td>128873</td>\n",
       "      <td>0</td>\n",
       "      <td>0.009509</td>\n",
       "      <td>990232</td>\n",
       "      <td>C-12 Avionics Technician - ROVER</td>\n",
       "    </tr>\n",
       "    <tr>\n",
       "      <th>5</th>\n",
       "      <td>1441</td>\n",
       "      <td>115613</td>\n",
       "      <td>0</td>\n",
       "      <td>0.004872</td>\n",
       "      <td>31673</td>\n",
       "      <td>Thin Film Process Engineer</td>\n",
       "    </tr>\n",
       "    <tr>\n",
       "      <th>6</th>\n",
       "      <td>1441</td>\n",
       "      <td>114149</td>\n",
       "      <td>0</td>\n",
       "      <td>0.004324</td>\n",
       "      <td>30451</td>\n",
       "      <td>Carpenter/Crater</td>\n",
       "    </tr>\n",
       "    <tr>\n",
       "      <th>7</th>\n",
       "      <td>1441</td>\n",
       "      <td>51852</td>\n",
       "      <td>0</td>\n",
       "      <td>0.004047</td>\n",
       "      <td>866714</td>\n",
       "      <td>Sales - Insurance - Account Executive</td>\n",
       "    </tr>\n",
       "    <tr>\n",
       "      <th>8</th>\n",
       "      <td>1441</td>\n",
       "      <td>98719</td>\n",
       "      <td>0</td>\n",
       "      <td>0.003649</td>\n",
       "      <td>25546</td>\n",
       "      <td>Layout Technician</td>\n",
       "    </tr>\n",
       "    <tr>\n",
       "      <th>9</th>\n",
       "      <td>1441</td>\n",
       "      <td>31263</td>\n",
       "      <td>0</td>\n",
       "      <td>0.003600</td>\n",
       "      <td>864560</td>\n",
       "      <td>Hair Stylist &amp; Nail Techs  Full/Part Time  Sig...</td>\n",
       "    </tr>\n",
       "    <tr>\n",
       "      <th>10</th>\n",
       "      <td>31989</td>\n",
       "      <td>75824</td>\n",
       "      <td>1</td>\n",
       "      <td>0.998222</td>\n",
       "      <td>730234</td>\n",
       "      <td>Clinical Lab Scientist I</td>\n",
       "    </tr>\n",
       "    <tr>\n",
       "      <th>11</th>\n",
       "      <td>31989</td>\n",
       "      <td>124702</td>\n",
       "      <td>0</td>\n",
       "      <td>0.996315</td>\n",
       "      <td>595415</td>\n",
       "      <td>Quality Assurance Specialist</td>\n",
       "    </tr>\n",
       "    <tr>\n",
       "      <th>12</th>\n",
       "      <td>31989</td>\n",
       "      <td>39113</td>\n",
       "      <td>0</td>\n",
       "      <td>0.995447</td>\n",
       "      <td>980667</td>\n",
       "      <td>Sr. Analyst-Energy</td>\n",
       "    </tr>\n",
       "    <tr>\n",
       "      <th>13</th>\n",
       "      <td>31989</td>\n",
       "      <td>89897</td>\n",
       "      <td>0</td>\n",
       "      <td>0.993566</td>\n",
       "      <td>871061</td>\n",
       "      <td>Software Engineer V</td>\n",
       "    </tr>\n",
       "    <tr>\n",
       "      <th>14</th>\n",
       "      <td>31989</td>\n",
       "      <td>82758</td>\n",
       "      <td>0</td>\n",
       "      <td>0.993053</td>\n",
       "      <td>731200</td>\n",
       "      <td>Java/C# Developer for Commodities Technology- ...</td>\n",
       "    </tr>\n",
       "    <tr>\n",
       "      <th>15</th>\n",
       "      <td>31989</td>\n",
       "      <td>93754</td>\n",
       "      <td>0</td>\n",
       "      <td>0.982932</td>\n",
       "      <td>871347</td>\n",
       "      <td>Sales / Franchise</td>\n",
       "    </tr>\n",
       "    <tr>\n",
       "      <th>16</th>\n",
       "      <td>31989</td>\n",
       "      <td>31388</td>\n",
       "      <td>0</td>\n",
       "      <td>0.971512</td>\n",
       "      <td>444298</td>\n",
       "      <td>MEDICAL RECORDS SUPERVISOR Responsible for all...</td>\n",
       "    </tr>\n",
       "    <tr>\n",
       "      <th>17</th>\n",
       "      <td>31989</td>\n",
       "      <td>117759</td>\n",
       "      <td>0</td>\n",
       "      <td>0.971093</td>\n",
       "      <td>301296</td>\n",
       "      <td>Operations Supervisor</td>\n",
       "    </tr>\n",
       "    <tr>\n",
       "      <th>18</th>\n",
       "      <td>31989</td>\n",
       "      <td>40001</td>\n",
       "      <td>0</td>\n",
       "      <td>0.966091</td>\n",
       "      <td>725533</td>\n",
       "      <td>Customer Service Representative</td>\n",
       "    </tr>\n",
       "    <tr>\n",
       "      <th>19</th>\n",
       "      <td>31989</td>\n",
       "      <td>40167</td>\n",
       "      <td>0</td>\n",
       "      <td>0.872735</td>\n",
       "      <td>445382</td>\n",
       "      <td>Sales Management Trainee</td>\n",
       "    </tr>\n",
       "    <tr>\n",
       "      <th>20</th>\n",
       "      <td>33852</td>\n",
       "      <td>128870</td>\n",
       "      <td>0</td>\n",
       "      <td>0.991595</td>\n",
       "      <td>874731</td>\n",
       "      <td>Sr. Desktop Support</td>\n",
       "    </tr>\n",
       "    <tr>\n",
       "      <th>21</th>\n",
       "      <td>33852</td>\n",
       "      <td>126096</td>\n",
       "      <td>0</td>\n",
       "      <td>0.983924</td>\n",
       "      <td>735890</td>\n",
       "      <td>Robotic Welder</td>\n",
       "    </tr>\n",
       "    <tr>\n",
       "      <th>22</th>\n",
       "      <td>33852</td>\n",
       "      <td>78647</td>\n",
       "      <td>1</td>\n",
       "      <td>0.981839</td>\n",
       "      <td>295593</td>\n",
       "      <td>Lead Web Developer, .NET</td>\n",
       "    </tr>\n",
       "    <tr>\n",
       "      <th>23</th>\n",
       "      <td>33852</td>\n",
       "      <td>57474</td>\n",
       "      <td>0</td>\n",
       "      <td>0.980833</td>\n",
       "      <td>447311</td>\n",
       "      <td>Assistant Manager (Credit Sales / Customer Ser...</td>\n",
       "    </tr>\n",
       "    <tr>\n",
       "      <th>24</th>\n",
       "      <td>33852</td>\n",
       "      <td>112647</td>\n",
       "      <td>0</td>\n",
       "      <td>0.980617</td>\n",
       "      <td>28978</td>\n",
       "      <td>Customer Service Representative</td>\n",
       "    </tr>\n",
       "    <tr>\n",
       "      <th>25</th>\n",
       "      <td>33852</td>\n",
       "      <td>112394</td>\n",
       "      <td>0</td>\n",
       "      <td>0.972080</td>\n",
       "      <td>28730</td>\n",
       "      <td>Senior Internal Auditor</td>\n",
       "    </tr>\n",
       "    <tr>\n",
       "      <th>26</th>\n",
       "      <td>33852</td>\n",
       "      <td>114146</td>\n",
       "      <td>0</td>\n",
       "      <td>0.263925</td>\n",
       "      <td>30448</td>\n",
       "      <td>Electronics Engineering Technician</td>\n",
       "    </tr>\n",
       "    <tr>\n",
       "      <th>27</th>\n",
       "      <td>33852</td>\n",
       "      <td>115610</td>\n",
       "      <td>0</td>\n",
       "      <td>0.016332</td>\n",
       "      <td>300356</td>\n",
       "      <td>Engineer-Hardware</td>\n",
       "    </tr>\n",
       "    <tr>\n",
       "      <th>28</th>\n",
       "      <td>33852</td>\n",
       "      <td>124648</td>\n",
       "      <td>0</td>\n",
       "      <td>0.014104</td>\n",
       "      <td>735277</td>\n",
       "      <td>Microstrategy BI Analyst</td>\n",
       "    </tr>\n",
       "    <tr>\n",
       "      <th>29</th>\n",
       "      <td>33852</td>\n",
       "      <td>113508</td>\n",
       "      <td>0</td>\n",
       "      <td>0.003165</td>\n",
       "      <td>29826</td>\n",
       "      <td>Panel Wirer</td>\n",
       "    </tr>\n",
       "    <tr>\n",
       "      <th>30</th>\n",
       "      <td>53693</td>\n",
       "      <td>112391</td>\n",
       "      <td>0</td>\n",
       "      <td>0.996682</td>\n",
       "      <td>28727</td>\n",
       "      <td>Staff Accountant</td>\n",
       "    </tr>\n",
       "    <tr>\n",
       "      <th>31</th>\n",
       "      <td>53693</td>\n",
       "      <td>114143</td>\n",
       "      <td>0</td>\n",
       "      <td>0.993413</td>\n",
       "      <td>30445</td>\n",
       "      <td>Architect - Senior Designer/PM</td>\n",
       "    </tr>\n",
       "    <tr>\n",
       "      <th>32</th>\n",
       "      <td>53693</td>\n",
       "      <td>109812</td>\n",
       "      <td>0</td>\n",
       "      <td>0.990457</td>\n",
       "      <td>27741</td>\n",
       "      <td>Demand Planner  Job #1281</td>\n",
       "    </tr>\n",
       "    <tr>\n",
       "      <th>33</th>\n",
       "      <td>53693</td>\n",
       "      <td>112645</td>\n",
       "      <td>0</td>\n",
       "      <td>0.980421</td>\n",
       "      <td>28976</td>\n",
       "      <td>Administrative Assistant</td>\n",
       "    </tr>\n",
       "    <tr>\n",
       "      <th>34</th>\n",
       "      <td>53693</td>\n",
       "      <td>115606</td>\n",
       "      <td>0</td>\n",
       "      <td>0.979899</td>\n",
       "      <td>31668</td>\n",
       "      <td>Database Coordinator</td>\n",
       "    </tr>\n",
       "    <tr>\n",
       "      <th>35</th>\n",
       "      <td>53693</td>\n",
       "      <td>68651</td>\n",
       "      <td>1</td>\n",
       "      <td>0.979260</td>\n",
       "      <td>984295</td>\n",
       "      <td>Sales – Insurance Sales Agent – Senior Sales R...</td>\n",
       "    </tr>\n",
       "    <tr>\n",
       "      <th>36</th>\n",
       "      <td>53693</td>\n",
       "      <td>53908</td>\n",
       "      <td>0</td>\n",
       "      <td>0.763874</td>\n",
       "      <td>446956</td>\n",
       "      <td>Teacher (K-8)</td>\n",
       "    </tr>\n",
       "    <tr>\n",
       "      <th>37</th>\n",
       "      <td>53693</td>\n",
       "      <td>125036</td>\n",
       "      <td>0</td>\n",
       "      <td>0.412950</td>\n",
       "      <td>873481</td>\n",
       "      <td>Senior Scheduler</td>\n",
       "    </tr>\n",
       "    <tr>\n",
       "      <th>38</th>\n",
       "      <td>53693</td>\n",
       "      <td>57470</td>\n",
       "      <td>0</td>\n",
       "      <td>0.320316</td>\n",
       "      <td>867295</td>\n",
       "      <td>Account Manager</td>\n",
       "    </tr>\n",
       "    <tr>\n",
       "      <th>39</th>\n",
       "      <td>53693</td>\n",
       "      <td>60390</td>\n",
       "      <td>0</td>\n",
       "      <td>0.311365</td>\n",
       "      <td>447644</td>\n",
       "      <td>Own Your Own Franchise!</td>\n",
       "    </tr>\n",
       "    <tr>\n",
       "      <th>40</th>\n",
       "      <td>72002</td>\n",
       "      <td>109811</td>\n",
       "      <td>0</td>\n",
       "      <td>0.996356</td>\n",
       "      <td>734413</td>\n",
       "      <td>Manufacturing Supervisor</td>\n",
       "    </tr>\n",
       "    <tr>\n",
       "      <th>41</th>\n",
       "      <td>72002</td>\n",
       "      <td>114142</td>\n",
       "      <td>0</td>\n",
       "      <td>0.995981</td>\n",
       "      <td>30444</td>\n",
       "      <td>SQL DBA</td>\n",
       "    </tr>\n",
       "    <tr>\n",
       "      <th>42</th>\n",
       "      <td>72002</td>\n",
       "      <td>138864</td>\n",
       "      <td>1</td>\n",
       "      <td>0.991188</td>\n",
       "      <td>597312</td>\n",
       "      <td>Environmental Engineer (Air)</td>\n",
       "    </tr>\n",
       "    <tr>\n",
       "      <th>43</th>\n",
       "      <td>72002</td>\n",
       "      <td>46942</td>\n",
       "      <td>0</td>\n",
       "      <td>0.982020</td>\n",
       "      <td>585887</td>\n",
       "      <td>Director, Product Management</td>\n",
       "    </tr>\n",
       "    <tr>\n",
       "      <th>44</th>\n",
       "      <td>72002</td>\n",
       "      <td>49217</td>\n",
       "      <td>0</td>\n",
       "      <td>0.876936</td>\n",
       "      <td>292002</td>\n",
       "      <td>Retail Sales Associate ~ Dover Mall</td>\n",
       "    </tr>\n",
       "    <tr>\n",
       "      <th>45</th>\n",
       "      <td>72002</td>\n",
       "      <td>53908</td>\n",
       "      <td>0</td>\n",
       "      <td>0.766141</td>\n",
       "      <td>446956</td>\n",
       "      <td>Teacher (K-8)</td>\n",
       "    </tr>\n",
       "    <tr>\n",
       "      <th>46</th>\n",
       "      <td>72002</td>\n",
       "      <td>125036</td>\n",
       "      <td>0</td>\n",
       "      <td>0.415962</td>\n",
       "      <td>873481</td>\n",
       "      <td>Senior Scheduler</td>\n",
       "    </tr>\n",
       "    <tr>\n",
       "      <th>47</th>\n",
       "      <td>72002</td>\n",
       "      <td>57470</td>\n",
       "      <td>0</td>\n",
       "      <td>0.322972</td>\n",
       "      <td>867295</td>\n",
       "      <td>Account Manager</td>\n",
       "    </tr>\n",
       "    <tr>\n",
       "      <th>48</th>\n",
       "      <td>72002</td>\n",
       "      <td>60390</td>\n",
       "      <td>0</td>\n",
       "      <td>0.314088</td>\n",
       "      <td>447644</td>\n",
       "      <td>Own Your Own Franchise!</td>\n",
       "    </tr>\n",
       "    <tr>\n",
       "      <th>49</th>\n",
       "      <td>72002</td>\n",
       "      <td>124644</td>\n",
       "      <td>0</td>\n",
       "      <td>0.276864</td>\n",
       "      <td>873446</td>\n",
       "      <td>Estimator</td>\n",
       "    </tr>\n",
       "  </tbody>\n",
       "</table>\n",
       "</div>"
      ],
      "text/plain": [
       "    userid  itemid  rating      prob  Unnamed: 0  \\\n",
       "0     1441   26715       1  0.990982      979738   \n",
       "1     1441  126099       0  0.978732      595954   \n",
       "2     1441   57477       0  0.016489      447313   \n",
       "3     1441   46944       0  0.014807      726375   \n",
       "4     1441  128873       0  0.009509      990232   \n",
       "5     1441  115613       0  0.004872       31673   \n",
       "6     1441  114149       0  0.004324       30451   \n",
       "7     1441   51852       0  0.004047      866714   \n",
       "8     1441   98719       0  0.003649       25546   \n",
       "9     1441   31263       0  0.003600      864560   \n",
       "10   31989   75824       1  0.998222      730234   \n",
       "11   31989  124702       0  0.996315      595415   \n",
       "12   31989   39113       0  0.995447      980667   \n",
       "13   31989   89897       0  0.993566      871061   \n",
       "14   31989   82758       0  0.993053      731200   \n",
       "15   31989   93754       0  0.982932      871347   \n",
       "16   31989   31388       0  0.971512      444298   \n",
       "17   31989  117759       0  0.971093      301296   \n",
       "18   31989   40001       0  0.966091      725533   \n",
       "19   31989   40167       0  0.872735      445382   \n",
       "20   33852  128870       0  0.991595      874731   \n",
       "21   33852  126096       0  0.983924      735890   \n",
       "22   33852   78647       1  0.981839      295593   \n",
       "23   33852   57474       0  0.980833      447311   \n",
       "24   33852  112647       0  0.980617       28978   \n",
       "25   33852  112394       0  0.972080       28730   \n",
       "26   33852  114146       0  0.263925       30448   \n",
       "27   33852  115610       0  0.016332      300356   \n",
       "28   33852  124648       0  0.014104      735277   \n",
       "29   33852  113508       0  0.003165       29826   \n",
       "30   53693  112391       0  0.996682       28727   \n",
       "31   53693  114143       0  0.993413       30445   \n",
       "32   53693  109812       0  0.990457       27741   \n",
       "33   53693  112645       0  0.980421       28976   \n",
       "34   53693  115606       0  0.979899       31668   \n",
       "35   53693   68651       1  0.979260      984295   \n",
       "36   53693   53908       0  0.763874      446956   \n",
       "37   53693  125036       0  0.412950      873481   \n",
       "38   53693   57470       0  0.320316      867295   \n",
       "39   53693   60390       0  0.311365      447644   \n",
       "40   72002  109811       0  0.996356      734413   \n",
       "41   72002  114142       0  0.995981       30444   \n",
       "42   72002  138864       1  0.991188      597312   \n",
       "43   72002   46942       0  0.982020      585887   \n",
       "44   72002   49217       0  0.876936      292002   \n",
       "45   72002   53908       0  0.766141      446956   \n",
       "46   72002  125036       0  0.415962      873481   \n",
       "47   72002   57470       0  0.322972      867295   \n",
       "48   72002   60390       0  0.314088      447644   \n",
       "49   72002  124644       0  0.276864      873446   \n",
       "\n",
       "                                                Title  \n",
       "0                                   Truck Driver- CDL  \n",
       "1                                        Data Analyst  \n",
       "2             Sears HAS Store Manager_Clifton,NJ (JC)  \n",
       "3                   Training and Application Engineer  \n",
       "4                    C-12 Avionics Technician - ROVER  \n",
       "5                          Thin Film Process Engineer  \n",
       "6                                    Carpenter/Crater  \n",
       "7               Sales - Insurance - Account Executive  \n",
       "8                                   Layout Technician  \n",
       "9   Hair Stylist & Nail Techs  Full/Part Time  Sig...  \n",
       "10                           Clinical Lab Scientist I  \n",
       "11                       Quality Assurance Specialist  \n",
       "12                                 Sr. Analyst-Energy  \n",
       "13                                Software Engineer V  \n",
       "14  Java/C# Developer for Commodities Technology- ...  \n",
       "15                                  Sales / Franchise  \n",
       "16  MEDICAL RECORDS SUPERVISOR Responsible for all...  \n",
       "17                              Operations Supervisor  \n",
       "18                    Customer Service Representative  \n",
       "19                           Sales Management Trainee  \n",
       "20                                Sr. Desktop Support  \n",
       "21                                     Robotic Welder  \n",
       "22                           Lead Web Developer, .NET  \n",
       "23  Assistant Manager (Credit Sales / Customer Ser...  \n",
       "24                    Customer Service Representative  \n",
       "25                            Senior Internal Auditor  \n",
       "26                 Electronics Engineering Technician  \n",
       "27                                  Engineer-Hardware  \n",
       "28                           Microstrategy BI Analyst  \n",
       "29                                        Panel Wirer  \n",
       "30                                   Staff Accountant  \n",
       "31                     Architect - Senior Designer/PM  \n",
       "32                          Demand Planner  Job #1281  \n",
       "33                           Administrative Assistant  \n",
       "34                               Database Coordinator  \n",
       "35  Sales – Insurance Sales Agent – Senior Sales R...  \n",
       "36                                      Teacher (K-8)  \n",
       "37                                   Senior Scheduler  \n",
       "38                                    Account Manager  \n",
       "39                            Own Your Own Franchise!  \n",
       "40                           Manufacturing Supervisor  \n",
       "41                                            SQL DBA  \n",
       "42                       Environmental Engineer (Air)  \n",
       "43                       Director, Product Management  \n",
       "44                Retail Sales Associate ~ Dover Mall  \n",
       "45                                      Teacher (K-8)  \n",
       "46                                   Senior Scheduler  \n",
       "47                                    Account Manager  \n",
       "48                            Own Your Own Franchise!  \n",
       "49                                          Estimator  "
      ]
     },
     "execution_count": 312,
     "metadata": {},
     "output_type": "execute_result"
    }
   ],
   "source": [
    "pd.merge(df_reco, job_info, how='left', on='itemid')"
>>>>>>> ignite
   ]
  },
  {
   "cell_type": "code",
   "execution_count": null,
<<<<<<< HEAD
   "id": "eb015a87",
=======
   "id": "1c75ecbd",
   "metadata": {},
   "outputs": [],
   "source": []
  },
  {
   "cell_type": "code",
   "execution_count": null,
   "id": "d6386622",
   "metadata": {},
   "outputs": [],
   "source": []
  },
  {
   "cell_type": "code",
   "execution_count": null,
   "id": "61ee7372",
   "metadata": {},
   "outputs": [],
   "source": []
  },
  {
   "cell_type": "code",
   "execution_count": null,
   "id": "b74d6e9d",
>>>>>>> ignite
   "metadata": {},
   "outputs": [],
   "source": []
  }
 ],
 "metadata": {
  "kernelspec": {
   "display_name": "Python 3 (ipykernel)",
   "language": "python",
   "name": "python3"
  },
  "language_info": {
   "codemirror_mode": {
    "name": "ipython",
    "version": 3
   },
   "file_extension": ".py",
   "mimetype": "text/x-python",
   "name": "python",
   "nbconvert_exporter": "python",
   "pygments_lexer": "ipython3",
<<<<<<< HEAD
   "version": "3.8.10"
=======
   "version": "3.7.3"
>>>>>>> ignite
  }
 },
 "nbformat": 4,
 "nbformat_minor": 5
}
