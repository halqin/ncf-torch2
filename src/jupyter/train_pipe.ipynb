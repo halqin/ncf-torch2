{
 "cells": [
  {
   "cell_type": "code",
   "execution_count": 1,
   "id": "0d3cbac2",
   "metadata": {},
   "outputs": [
    {
     "name": "stderr",
     "output_type": "stream",
     "text": [
      "/Users/hao/.pyenv/versions/3.6.15/envs/torch-cpu5/lib/python3.6/site-packages/tqdm/auto.py:22: TqdmWarning: IProgress not found. Please update jupyter and ipywidgets. See https://ipywidgets.readthedocs.io/en/stable/user_install.html\n",
      "  from .autonotebook import tqdm as notebook_tqdm\n"
     ]
    },
    {
     "data": {
      "text/plain": [
       "<torch._C.Generator at 0x10ad35d68>"
      ]
     },
     "execution_count": 1,
     "metadata": {},
     "output_type": "execute_result"
    }
   ],
   "source": [
    "import os\n",
    "import sys\n",
    "sys.path.append('../../src')\n",
    "import pandas as pd\n",
    "import numpy as np\n",
    "from tqdm import tqdm\n",
    "import random\n",
    "from datetime import datetime\n",
    "import time\n",
    "# import config\n",
    "\n",
    "import data_process.neg_sample as ng_sample\n",
    "from data_process.utils import mix_merge\n",
    "from data_process.data_split import data_split_user\n",
    "from evaluate_entity import CustomHR, CustomNDCG, CustomRoc, CustomRoctop, CustomRecall_top, CustomPrecision_top\n",
    "from model_entity import EntityCat\n",
    "from data_utils import CatData\n",
    "from utils.constants import DEFAULT_USER_COL,DEFAULT_ITEM_COL,DEFAULT_RATING_COL, DEFAULT_TIMESTAMP_COL\n",
    "\n",
    "\n",
    "from sklearn import metrics, preprocessing\n",
    "# from sklearn.model_selection import train_test_split\n",
    "from sklearn.metrics import roc_auc_score, average_precision_score, recall_score, precision_score\n",
    "\n",
    "import torch\n",
    "import torch.nn as nn\n",
    "import torch.utils.data as data\n",
    "import torch.optim as optim\n",
    "import torch.nn.functional as F\n",
    "from torch.utils.tensorboard import SummaryWriter\n",
    "\n",
    "# import argparse\n",
    "torch.manual_seed(0)"
   ]
  },
  {
   "cell_type": "code",
   "execution_count": 2,
   "id": "452234bb",
   "metadata": {},
   "outputs": [],
   "source": [
    "from ignite.engine import Engine, Events, create_supervised_trainer, create_supervised_evaluator, RemovableEventHandle\n",
    "from ignite.metrics import Accuracy, Loss, Metric\n",
    "from ignite.handlers import ModelCheckpoint, EarlyStopping\n",
    "from ignite.exceptions import NotComputableError\n",
    "from ignite.metrics.metric import sync_all_reduce, reinit__is_reduced\n",
    "from ignite.contrib.handlers.tqdm_logger import ProgressBar\n",
    "# from ignite.contrib.handlers import TensorboardLogger \n",
    "from ignite.contrib.handlers.wandb_logger import *"
   ]
  },
  {
   "cell_type": "code",
   "execution_count": 3,
   "id": "c6c9d49c",
   "metadata": {},
   "outputs": [],
   "source": [
    "device = torch.device('cuda:0' if torch.cuda.is_available() else 'cpu')"
   ]
  },
  {
   "cell_type": "code",
   "execution_count": 4,
   "id": "cbff8d78",
   "metadata": {
    "scrolled": true
   },
   "outputs": [
    {
     "data": {
      "text/plain": [
       "device(type='cpu')"
      ]
     },
     "execution_count": 4,
     "metadata": {},
     "output_type": "execute_result"
    }
   ],
   "source": [
    "device"
   ]
  },
  {
   "cell_type": "code",
   "execution_count": 5,
   "id": "f3fca5ff",
   "metadata": {},
   "outputs": [],
   "source": [
    "device='cpu'\n",
    "if device =='cpu':\n",
    "    BATCH_SIZE = 20\n",
    "else:\n",
    "    BATCH_SIZE = 2**20\n",
    "EPOCHS  = 20\n",
    "TOP_K = 10\n",
    "NEG_TEST = 100\n",
    "NEG_TRAIN = 4"
   ]
  },
  {
   "cell_type": "code",
   "execution_count": 33,
   "id": "9e094616",
   "metadata": {},
   "outputs": [],
   "source": [
    "if device == 'cpu':\n",
    "    use_amp=False\n",
    "    df_train1  = ng_sample.read_feather(\"../../data/jobs/leave_one_train.csv\")\n",
    "    df_train2 = pd.read_feather(\"../../data/jobs/leave_one_train_neg\")\n",
    "    df_test_ori = pd.read_feather(\"../../data/jobs/test_pos_neg\").iloc[:202,]\n",
    "    df_all_features = pd.read_csv('../../data/jobs/merged_sub_clean.csv')\n",
    "    df_train1 = df_train1.sort_values(by=[DEFAULT_USER_COL]).iloc[:100,].reset_index(drop=True)\n",
    "    df_train2 = df_train2.sort_values(by=[DEFAULT_USER_COL]).iloc[:100*NEG_TRAIN,].reset_index(drop=True)\n",
    "else:\n",
    "    use_amp=True\n",
    "    df_train1  = ng_sample.read_feather(\"../../data/jobs/leave_one_train.csv\")\n",
    "    df_train2 = pd.read_feather(\"../../data/jobs/leave_one_train_neg\")\n",
    "    df_test_ori = pd.read_feather(\"../../data/jobs/test_pos_neg\")\n",
    "    df_all_features = pd.read_csv('../../data/jobs/merged_sub_clean.csv')\n",
    "    df_train1 = df_train1.sort_values(by=[DEFAULT_USER_COL]).reset_index(drop=True)\n",
    "    df_train2 = df_train2.sort_values(by=[DEFAULT_USER_COL]).reset_index(drop=True)"
   ]
  },
  {
   "cell_type": "code",
   "execution_count": 34,
   "id": "97918f20",
   "metadata": {},
   "outputs": [],
   "source": [
    "df_train1[DEFAULT_RATING_COL] = 1"
   ]
  },
  {
   "cell_type": "code",
   "execution_count": 35,
   "id": "b9b8c57d",
   "metadata": {},
   "outputs": [],
   "source": [
    "def concat_index(df1, df2, NEG_TRAIN):\n",
    "    df2.index = df2.index//NEG_TRAIN\n",
    "    return pd.concat([df1, df2], axis=0).sort_index(kind='mregesort').reset_index(drop=True)"
   ]
  },
  {
   "cell_type": "code",
   "execution_count": 36,
   "id": "103e06ea",
   "metadata": {},
   "outputs": [],
   "source": [
    "df_train_all = concat_index(df_train1, df_train2, NEG_TRAIN)"
   ]
  },
  {
   "cell_type": "code",
   "execution_count": 37,
   "id": "9255ce14",
   "metadata": {},
   "outputs": [],
   "source": [
    "df_train_all['flag'] = 1\n",
    "df_test_ori['flag'] = 0\n",
    "df_all = pd.concat([df_train_all, df_test_ori], axis=0).reset_index(drop=True)"
   ]
  },
  {
   "cell_type": "markdown",
   "id": "17bc6348",
   "metadata": {},
   "source": [
    "user features: \n",
    "       'WindowID_user', 'Split', 'City',\n",
    "       'State', 'Country', 'Zip_user', 'DegreeType', 'Major', 'GraduationDate',\n",
    "       'WorkHistoryCount', 'TotalYearsExperience', 'CurrentlyEmployed',\n",
    "       'ManagedOthers', 'ManagedHowMany',\n",
    "       \n",
    "job features: \n",
    "       'WindowID_job', 'City_job',\n",
    "       'State_job', 'Country_job', 'Zip_job', 'StartDate', 'EndDate',"
   ]
  },
  {
   "cell_type": "markdown",
   "id": "0715af10",
   "metadata": {},
   "source": [
    "### Choose the features and process data for the training"
   ]
  },
  {
   "cell_type": "code",
   "execution_count": 11,
   "id": "23a67e87",
   "metadata": {},
   "outputs": [],
   "source": [
    "user_features = ['City']\n",
    "user_features_extend = [DEFAULT_USER_COL] + user_features\n",
    "\n",
    "item_features = ['City_job']\n",
    "item_features_extend =[DEFAULT_ITEM_COL] + item_features\n",
    "\n",
    "base_features = [DEFAULT_USER_COL, DEFAULT_ITEM_COL, DEFAULT_RATING_COL]"
   ]
  },
  {
   "cell_type": "code",
   "execution_count": 12,
   "id": "d0be3c66",
   "metadata": {},
   "outputs": [],
   "source": [
    "df_mix_merge = mix_merge(git , df_all_features, user_features_extend, item_features_extend)"
   ]
  },
  {
   "cell_type": "code",
   "execution_count": 13,
   "id": "f02b46ed",
   "metadata": {},
   "outputs": [],
   "source": [
    "def _cat_encode(df_data, list_f, encoder):\n",
    "    for f in list_f:\n",
    "        df_data[f] = encoder.fit_transform(df_data[f].astype('category').cat.codes.values)\n",
    "    return df_data"
   ]
  },
  {
   "cell_type": "code",
   "execution_count": 14,
   "id": "085724f9",
   "metadata": {},
   "outputs": [],
   "source": [
    "def _embedding_dimension(df_all_encode, features_to_train, max_dim=50):\n",
    "\n",
    "    embedding_size = []\n",
    "    features_to_em = [i for i in features_to_train if i !=DEFAULT_RATING_COL]\n",
    "    for c in features_to_em:\n",
    "        num_unique_values = int(df_all_encode[c].nunique())\n",
    "        embed_dim = int(min(np.ceil(num_unique_values/2), max_dim))\n",
    "        embedding_size.append([num_unique_values, embed_dim])  \n",
    "    return embedding_size"
   ]
  },
  {
   "cell_type": "code",
   "execution_count": 15,
   "id": "0478ac39",
   "metadata": {},
   "outputs": [],
   "source": [
    "def encode_data(df_mix_merge, features_to_code, features_to_train, max_dim=50):\n",
    "    encoder = preprocessing.LabelEncoder()\n",
    "#     features_to_code = df_mix_merge.columns\n",
    "    df_all_encode = _cat_encode(df_mix_merge, features_to_code, encoder)\n",
    "    df_train = df_all_encode[df_all.flag==1]\n",
    "    df_test = df_all_encode[df_all.flag==0]\n",
    "    df_train = df_train[features_to_train]\n",
    "    df_test = df_test[features_to_train]\n",
    "    embedding_size = _embedding_dimension(df_all_encode, features_to_train, max_dim)\n",
    "    return df_train, df_test, embedding_size"
   ]
  },
  {
   "cell_type": "code",
   "execution_count": 21,
   "id": "9370037a",
   "metadata": {},
   "outputs": [
    {
     "name": "stdout",
     "output_type": "stream",
     "text": [
      "The size of embedding layers:[[36, 18], [413, 50], [35, 18], [230, 50]]\n"
     ]
    }
   ],
   "source": [
    "num_feature=[]\n",
    "features_to_code = df_mix_merge.columns\n",
    "features_to_train = [DEFAULT_USER_COL, DEFAULT_ITEM_COL]+ user_features + item_features +[DEFAULT_RATING_COL]\n",
    "df_train,  df_test, embedding_size = encode_data(df_mix_merge, features_to_code, features_to_train, max_dim=50)\n",
    "\n",
    "print(f'The size of embedding layers:{embedding_size}')"
   ]
  },
  {
   "cell_type": "code",
   "execution_count": 22,
   "id": "98032331",
   "metadata": {},
   "outputs": [],
   "source": [
    "df_train_split, df_val_split = data_split_user(df_train, val_size=0.2)\n",
    "\n",
    "np_train = df_train_split.values\n",
    "np_val = df_val_split.values\n",
    "np_test = df_test.values"
   ]
  },
  {
   "cell_type": "code",
   "execution_count": 23,
   "id": "6fb2a567",
   "metadata": {
    "scrolled": true
   },
   "outputs": [
    {
     "data": {
      "text/plain": [
       "<torch._C.Generator at 0x126e7db70>"
      ]
     },
     "execution_count": 23,
     "metadata": {},
     "output_type": "execute_result"
    }
   ],
   "source": [
    "def seed_worker(worker_id):\n",
    "    worker_seed = torch.initial_seed() % 2**32\n",
    "    numpy.random.seed(worker_seed)\n",
    "    random.seed(worker_seed)\n",
    "\n",
    "g = torch.Generator()\n",
    "g.manual_seed(0)"
   ]
  },
  {
   "cell_type": "code",
   "execution_count": 24,
   "id": "269226d7",
   "metadata": {},
   "outputs": [],
   "source": [
    "train_dataset = CatData(np_train)\n",
    "val_dataset = CatData(np_val)\n",
    "test_dataset = CatData(np_test) \n",
    "train_loader = data.DataLoader(train_dataset, batch_size=BATCH_SIZE, shuffle=False, num_workers=0,  worker_init_fn=seed_worker,generator=g)\n",
    "val_loader = data.DataLoader(val_dataset, batch_size=len(val_dataset), shuffle=False, num_workers=0,  worker_init_fn=seed_worker,generator=g)\n",
    "test_loader = data.DataLoader(test_dataset, batch_size=NEG_TEST+1, shuffle=False, num_workers=0,worker_init_fn=seed_worker,generator=g )"
   ]
  },
  {
   "cell_type": "code",
   "execution_count": 43,
   "id": "8694e807",
   "metadata": {},
   "outputs": [
    {
     "data": {
      "text/plain": [
       "EntityCat(\n",
       "  (all_embeddings): ModuleList(\n",
       "    (0): Embedding(36, 18)\n",
       "    (1): Embedding(413, 50)\n",
       "    (2): Embedding(35, 18)\n",
       "    (3): Embedding(230, 50)\n",
       "  )\n",
       "  (embedding_dropout): Dropout(p=0.4, inplace=False)\n",
       "  (layers): Sequential(\n",
       "    (0): Linear(in_features=136, out_features=100, bias=True)\n",
       "    (1): ReLU(inplace=True)\n",
       "    (2): Dropout(p=0.4, inplace=False)\n",
       "    (3): Linear(in_features=100, out_features=2, bias=True)\n",
       "  )\n",
       ")"
      ]
     },
     "execution_count": 43,
     "metadata": {},
     "output_type": "execute_result"
    }
   ],
   "source": [
    "model = EntityCat(embedding_size = embedding_size, num_numerical_cols = len(num_feature),\n",
    "               output_size = 2)\n",
    "model.to(device)"
   ]
  },
  {
   "cell_type": "code",
   "execution_count": 44,
   "id": "a7098e89",
   "metadata": {},
   "outputs": [],
   "source": [
    "criterion = nn.BCEWithLogitsLoss()\n",
    "optimizer = optim.Adam(model.parameters(), lr=0.001)"
   ]
  },
  {
   "cell_type": "code",
   "execution_count": 45,
   "id": "2f38e4bd",
   "metadata": {
    "scrolled": false
   },
   "outputs": [
    {
     "name": "stdout",
     "output_type": "stream",
     "text": [
      "EntityCat(\n",
      "  (all_embeddings): ModuleList(\n",
      "    (0): Embedding(36, 18)\n",
      "    (1): Embedding(413, 50)\n",
      "    (2): Embedding(35, 18)\n",
      "    (3): Embedding(230, 50)\n",
      "  )\n",
      "  (embedding_dropout): Dropout(p=0.4, inplace=False)\n",
      "  (layers): Sequential(\n",
      "    (0): Linear(in_features=136, out_features=100, bias=True)\n",
      "    (1): ReLU(inplace=True)\n",
      "    (2): Dropout(p=0.4, inplace=False)\n",
      "    (3): Linear(in_features=100, out_features=2, bias=True)\n",
      "  )\n",
      ")\n"
     ]
    }
   ],
   "source": [
    "print(model)"
   ]
  },
  {
   "cell_type": "markdown",
   "id": "8e67a830",
   "metadata": {},
   "source": [
    "## Model the training "
   ]
  },
  {
   "cell_type": "code",
   "execution_count": 28,
   "id": "9670b731",
   "metadata": {},
   "outputs": [],
   "source": [
    "def output_trans_loss(output):\n",
    "    return output['y_pred'], output['label']\n",
    "\n",
    "val_metrics_train = {\n",
    "    'auc': CustomRoc(),\n",
    "    \"loss\": Loss(criterion, output_transform=output_trans_loss)\n",
    "}\n",
    "\n",
    "val_metrics_test = {\n",
    "    'hr': CustomHR(),\n",
    "    'ndcg': CustomNDCG(),\n",
    "    'auc': CustomRoc(),\n",
    "    'roc_top': CustomRoctop(),\n",
    "    'recall_top': CustomRecall_top(threshold=0.5),\n",
    "    'precision_top': CustomPrecision_top(threshold=0.5),\n",
    "    \"loss\": Loss(criterion, output_transform=output_trans_loss)\n",
    "}"
   ]
  },
  {
   "cell_type": "code",
   "execution_count": 29,
   "id": "df93a20f",
   "metadata": {},
   "outputs": [
    {
     "data": {
      "text/plain": [
       "<ignite.engine.events.RemovableEventHandle at 0x133ed3cf8>"
      ]
     },
     "execution_count": 29,
     "metadata": {},
     "output_type": "execute_result"
    }
   ],
   "source": [
    "scaler = torch.cuda.amp.GradScaler(enabled=use_amp)\n",
    "def train_step(engine, batch):\n",
    "    model.train()\n",
    "    optimizer.zero_grad()\n",
    "    x, y = batch[0].to(device), batch[1].to(device)\n",
    "    with torch.cuda.amp.autocast(enabled=use_amp):\n",
    "        y_pred = model(x)[:,1]\n",
    "        loss = criterion(y_pred, y.float())\n",
    "    scaler.scale(loss).backward()\n",
    "    scaler.step(optimizer)\n",
    "    scaler.update()\n",
    "    return loss.item()\n",
    "\n",
    "def validation_step(engine, batch):\n",
    "    model.eval()\n",
    "    with torch.no_grad():\n",
    "        x, label = batch[0].to(device), batch[1].to(device)\n",
    "        y_pred = model(x)[:,1]\n",
    "        label=label.float()\n",
    "        return {'label':label, 'y_pred':y_pred}\n",
    "\n",
    "def test_step(engine, batch):\n",
    "    model.eval()\n",
    "    with torch.no_grad():\n",
    "        x, label = batch[0].to(device), batch[1].to(device)\n",
    "        y_pred = model(x)[:,1]\n",
    "        label=label.float()\n",
    "        y_pred_top, indices = torch.topk(y_pred, engine.state.topk)\n",
    "        y_pred_top = y_pred_top.detach().cpu().numpy()\n",
    "        reco_item = torch.take(x[:,1], indices).cpu().numpy().tolist()\n",
    "        pos_item = x[0,1].cpu().numpy().tolist()  # ground truth, item id\n",
    "        label_top = label[indices].cpu().numpy()\n",
    "        return {'pos_item':pos_item, 'reco_item':reco_item, 'y_pred_top':y_pred_top, 'label_top':label_top, 'label':label, 'y_pred':y_pred}\n",
    "\n",
    "trainer = Engine(train_step)\n",
    "\n",
    "train_evaluator = Engine(validation_step)\n",
    "# train_evaluator.state_dict_user_keys.append('topk')\n",
    "\n",
    "val_evaluator = Engine(validation_step)\n",
    "# val_evaluator.state_dict_user_keys.append('topk')\n",
    "\n",
    "test_evaluator = Engine(test_step)\n",
    "test_evaluator.state_dict_user_keys.append('topk')\n",
    "\n",
    "# @val_evaluator.on(Events.STARTED)\n",
    "# def init_user_value():\n",
    "#     val_evaluator.state.topk=3\n",
    "    \n",
    "# @train_evaluator.on(Events.STARTED)\n",
    "# def init_user_value():\n",
    "#     train_evaluator.state.topk=3\n",
    "\n",
    "@train_evaluator.on(Events.STARTED)\n",
    "def init_user_value():\n",
    "    test_evaluator.state.topk=10\n",
    "    \n",
    "    \n",
    "# Attach metrics to the evaluators\n",
    "for name, metric in val_metrics_train.items():\n",
    "    metric.attach(train_evaluator, name)\n",
    "\n",
    "for name, metric in val_metrics_train.items():\n",
    "    metric.attach(val_evaluator, name)\n",
    "\n",
    "    \n",
    "for name, metric in val_metrics_test.items():\n",
    "    metric.attach(test_evaluator, name)\n",
    "    \n",
    "# Eearly_stop \n",
    "def score_function(engine):\n",
    "    val_loss = engine.state.metrics['auc']\n",
    "    return val_loss\n",
    "\n",
    "Eearly_stop_handler = EarlyStopping(patience=10, score_function=score_function, trainer=trainer)\n",
    "val_evaluator.add_event_handler(Events.COMPLETED, Eearly_stop_handler)"
   ]
  },
  {
   "cell_type": "code",
   "execution_count": 30,
   "id": "8b9d6ea5",
   "metadata": {},
   "outputs": [],
   "source": [
    "@trainer.on(Events.EPOCH_COMPLETED)\n",
    "def log_training_results(trainer):\n",
    "    train_evaluator.run(train_loader)\n",
    "    metrics = train_evaluator.state.metrics\n",
    "    auc = metrics['auc']\n",
    "    loss = metrics['loss']\n",
    "    print(f'Training Results- Epoch[{trainer.state.epoch}]  Avg loss: {loss:.2f} \\\n",
    "          Avg auc:{auc:.2f}')\n",
    "\n",
    "\n",
    "@trainer.on(Events.EPOCH_COMPLETED)\n",
    "def log_validation_results(trainer):\n",
    "    val_evaluator.run(val_loader)\n",
    "    metrics = val_evaluator.state.metrics\n",
    "    auc = metrics['auc']\n",
    "    loss = metrics['loss']\n",
    "    print(f'Validation Results- Epoch[{trainer.state.epoch}]  Avg loss: {loss:.2f} \\\n",
    "          Avg auc:{auc:.2f}')\n",
    "\n",
    "    \n",
    "@trainer.on(Events.COMPLETED)\n",
    "def log_test_results(trainer):\n",
    "    test_evaluator.run(test_loader)\n",
    "    metrics = test_evaluator.state.metrics\n",
    "    hr = metrics['hr']\n",
    "    ndcg = metrics['ndcg']\n",
    "    auc = metrics['auc']\n",
    "    roc_top = metrics['roc_top']\n",
    "    recall = metrics['recall_top']\n",
    "    precision = metrics['precision_top']\n",
    "    loss = metrics['loss']\n",
    "    print(f\"Test Results - Epoch[{trainer.state.epoch}]  Avg loss: {loss:.2f} \\\n",
    "     Avg ndcg: {ndcg:.2f}  Avg auc: {auc:.2f}  Avg auc_top: {roc_top:.2f} \\\n",
    "      Avg recall: {recall:.2f}  Avg precision: {precision:.2f}\")\n",
    "\n",
    "pbar = ProgressBar(persist=False)\n",
    "# pbar.attach(trainer)\n",
    "pbar.attach(trainer)\n",
    "# from ignite.handlers import Timer\n",
    "# timer = Timer(average=True)\n",
    "# timer.attach(trainer,\n",
    "#              start=Events.STARTED,\n",
    "#              resume=Events.EPOCH_STARTED,\n",
    "#              pause=Events.EPOCH_COMPLETED,\n",
    "#              step=Events.EPOCH_COMPLETED)"
   ]
  },
  {
   "cell_type": "code",
   "execution_count": 31,
   "id": "af997b32",
   "metadata": {},
   "outputs": [
    {
     "name": "stderr",
     "output_type": "stream",
     "text": [
      "/Users/hao/.pyenv/versions/3.6.15/envs/torch-cpu5/lib/python3.6/site-packages/torch/autocast_mode.py:141: UserWarning: User provided device_type of 'cuda', but CUDA is not available. Disabling\n",
      "  warnings.warn('User provided device_type of \\'cuda\\', but CUDA is not available. Disabling')\n",
      "/Users/hao/.pyenv/versions/3.6.15/envs/torch-cpu5/lib/python3.6/site-packages/torch/autocast_mode.py:141: UserWarning: User provided device_type of 'cuda', but CUDA is not available. Disabling\n",
      "  warnings.warn('User provided device_type of \\'cuda\\', but CUDA is not available. Disabling')\n"
     ]
    },
    {
     "name": "stdout",
     "output_type": "stream",
     "text": [
      "Training Results- Epoch[1]  Avg loss: 0.79           Avg auc:0.80\n",
      "Validation Results- Epoch[1]  Avg loss: 0.80           Avg auc:0.69\n"
     ]
    },
    {
     "name": "stderr",
     "output_type": "stream",
     "text": [
      "/Users/hao/.pyenv/versions/3.6.15/envs/torch-cpu5/lib/python3.6/site-packages/torch/autocast_mode.py:141: UserWarning: User provided device_type of 'cuda', but CUDA is not available. Disabling\n",
      "  warnings.warn('User provided device_type of \\'cuda\\', but CUDA is not available. Disabling')\n"
     ]
    },
    {
     "name": "stdout",
     "output_type": "stream",
     "text": [
      "Training Results- Epoch[2]  Avg loss: 0.74           Avg auc:0.87\n",
      "Validation Results- Epoch[2]  Avg loss: 0.76           Avg auc:0.74\n"
     ]
    },
    {
     "name": "stderr",
     "output_type": "stream",
     "text": [
      "/Users/hao/.pyenv/versions/3.6.15/envs/torch-cpu5/lib/python3.6/site-packages/torch/autocast_mode.py:141: UserWarning: User provided device_type of 'cuda', but CUDA is not available. Disabling\n",
      "  warnings.warn('User provided device_type of \\'cuda\\', but CUDA is not available. Disabling')\n"
     ]
    },
    {
     "name": "stdout",
     "output_type": "stream",
     "text": [
      "Training Results- Epoch[3]  Avg loss: 0.71           Avg auc:0.89\n",
      "Validation Results- Epoch[3]  Avg loss: 0.74           Avg auc:0.76\n"
     ]
    },
    {
     "name": "stderr",
     "output_type": "stream",
     "text": [
      "/Users/hao/.pyenv/versions/3.6.15/envs/torch-cpu5/lib/python3.6/site-packages/torch/autocast_mode.py:141: UserWarning: User provided device_type of 'cuda', but CUDA is not available. Disabling\n",
      "  warnings.warn('User provided device_type of \\'cuda\\', but CUDA is not available. Disabling')\n"
     ]
    },
    {
     "name": "stdout",
     "output_type": "stream",
     "text": [
      "Training Results- Epoch[4]  Avg loss: 0.70           Avg auc:0.91\n",
      "Validation Results- Epoch[4]  Avg loss: 0.72           Avg auc:0.78\n"
     ]
    },
    {
     "name": "stderr",
     "output_type": "stream",
     "text": [
      "/Users/hao/.pyenv/versions/3.6.15/envs/torch-cpu5/lib/python3.6/site-packages/torch/autocast_mode.py:141: UserWarning: User provided device_type of 'cuda', but CUDA is not available. Disabling\n",
      "  warnings.warn('User provided device_type of \\'cuda\\', but CUDA is not available. Disabling')\n"
     ]
    },
    {
     "name": "stdout",
     "output_type": "stream",
     "text": [
      "Training Results- Epoch[5]  Avg loss: 0.70           Avg auc:0.93\n",
      "Validation Results- Epoch[5]  Avg loss: 0.72           Avg auc:0.79\n"
     ]
    },
    {
     "name": "stderr",
     "output_type": "stream",
     "text": [
      "/Users/hao/.pyenv/versions/3.6.15/envs/torch-cpu5/lib/python3.6/site-packages/torch/autocast_mode.py:141: UserWarning: User provided device_type of 'cuda', but CUDA is not available. Disabling\n",
      "  warnings.warn('User provided device_type of \\'cuda\\', but CUDA is not available. Disabling')\n"
     ]
    },
    {
     "name": "stdout",
     "output_type": "stream",
     "text": [
      "Training Results- Epoch[6]  Avg loss: 0.69           Avg auc:0.93\n",
      "Validation Results- Epoch[6]  Avg loss: 0.71           Avg auc:0.79\n"
     ]
    },
    {
     "name": "stderr",
     "output_type": "stream",
     "text": [
      "/Users/hao/.pyenv/versions/3.6.15/envs/torch-cpu5/lib/python3.6/site-packages/torch/autocast_mode.py:141: UserWarning: User provided device_type of 'cuda', but CUDA is not available. Disabling\n",
      "  warnings.warn('User provided device_type of \\'cuda\\', but CUDA is not available. Disabling')\n"
     ]
    },
    {
     "name": "stdout",
     "output_type": "stream",
     "text": [
      "Training Results- Epoch[7]  Avg loss: 0.69           Avg auc:0.94\n",
      "Validation Results- Epoch[7]  Avg loss: 0.71           Avg auc:0.79\n"
     ]
    },
    {
     "name": "stderr",
     "output_type": "stream",
     "text": [
      "/Users/hao/.pyenv/versions/3.6.15/envs/torch-cpu5/lib/python3.6/site-packages/torch/autocast_mode.py:141: UserWarning: User provided device_type of 'cuda', but CUDA is not available. Disabling\n",
      "  warnings.warn('User provided device_type of \\'cuda\\', but CUDA is not available. Disabling')\n"
     ]
    },
    {
     "name": "stdout",
     "output_type": "stream",
     "text": [
      "Training Results- Epoch[8]  Avg loss: 0.69           Avg auc:0.94\n",
      "Validation Results- Epoch[8]  Avg loss: 0.71           Avg auc:0.80\n"
     ]
    },
    {
     "name": "stderr",
     "output_type": "stream",
     "text": [
      "/Users/hao/.pyenv/versions/3.6.15/envs/torch-cpu5/lib/python3.6/site-packages/torch/autocast_mode.py:141: UserWarning: User provided device_type of 'cuda', but CUDA is not available. Disabling\n",
      "  warnings.warn('User provided device_type of \\'cuda\\', but CUDA is not available. Disabling')\n"
     ]
    },
    {
     "name": "stdout",
     "output_type": "stream",
     "text": [
      "Training Results- Epoch[9]  Avg loss: 0.68           Avg auc:0.95\n",
      "Validation Results- Epoch[9]  Avg loss: 0.71           Avg auc:0.80\n"
     ]
    },
    {
     "name": "stderr",
     "output_type": "stream",
     "text": [
      "Epoch [10/20]: [19/20]  95%|█████████▌ [00:00<00:00]"
     ]
    },
    {
     "name": "stdout",
     "output_type": "stream",
     "text": [
      "Training Results- Epoch[10]  Avg loss: 0.68           Avg auc:0.95\n"
     ]
    },
    {
     "name": "stderr",
     "output_type": "stream",
     "text": [
      "/Users/hao/.pyenv/versions/3.6.15/envs/torch-cpu5/lib/python3.6/site-packages/torch/autocast_mode.py:141: UserWarning: User provided device_type of 'cuda', but CUDA is not available. Disabling\n",
      "  warnings.warn('User provided device_type of \\'cuda\\', but CUDA is not available. Disabling')\n"
     ]
    },
    {
     "name": "stdout",
     "output_type": "stream",
     "text": [
      "Validation Results- Epoch[10]  Avg loss: 0.70           Avg auc:0.80\n"
     ]
    },
    {
     "name": "stderr",
     "output_type": "stream",
     "text": [
      "/Users/hao/.pyenv/versions/3.6.15/envs/torch-cpu5/lib/python3.6/site-packages/torch/autocast_mode.py:141: UserWarning: User provided device_type of 'cuda', but CUDA is not available. Disabling\n",
      "  warnings.warn('User provided device_type of \\'cuda\\', but CUDA is not available. Disabling')\n"
     ]
    },
    {
     "name": "stdout",
     "output_type": "stream",
     "text": [
      "Training Results- Epoch[11]  Avg loss: 0.68           Avg auc:0.95\n",
      "Validation Results- Epoch[11]  Avg loss: 0.70           Avg auc:0.79\n"
     ]
    },
    {
     "name": "stderr",
     "output_type": "stream",
     "text": [
      "/Users/hao/.pyenv/versions/3.6.15/envs/torch-cpu5/lib/python3.6/site-packages/torch/autocast_mode.py:141: UserWarning: User provided device_type of 'cuda', but CUDA is not available. Disabling\n",
      "  warnings.warn('User provided device_type of \\'cuda\\', but CUDA is not available. Disabling')\n"
     ]
    },
    {
     "name": "stdout",
     "output_type": "stream",
     "text": [
      "Training Results- Epoch[12]  Avg loss: 0.68           Avg auc:0.95\n",
      "Validation Results- Epoch[12]  Avg loss: 0.70           Avg auc:0.79\n"
     ]
    },
    {
     "name": "stderr",
     "output_type": "stream",
     "text": [
      "/Users/hao/.pyenv/versions/3.6.15/envs/torch-cpu5/lib/python3.6/site-packages/torch/autocast_mode.py:141: UserWarning: User provided device_type of 'cuda', but CUDA is not available. Disabling\n",
      "  warnings.warn('User provided device_type of \\'cuda\\', but CUDA is not available. Disabling')\n"
     ]
    },
    {
     "name": "stdout",
     "output_type": "stream",
     "text": [
      "Training Results- Epoch[13]  Avg loss: 0.67           Avg auc:0.95\n",
      "Validation Results- Epoch[13]  Avg loss: 0.70           Avg auc:0.79\n"
     ]
    },
    {
     "name": "stderr",
     "output_type": "stream",
     "text": [
      "/Users/hao/.pyenv/versions/3.6.15/envs/torch-cpu5/lib/python3.6/site-packages/torch/autocast_mode.py:141: UserWarning: User provided device_type of 'cuda', but CUDA is not available. Disabling\n",
      "  warnings.warn('User provided device_type of \\'cuda\\', but CUDA is not available. Disabling')\n"
     ]
    },
    {
     "name": "stdout",
     "output_type": "stream",
     "text": [
      "Training Results- Epoch[14]  Avg loss: 0.67           Avg auc:0.96\n",
      "Validation Results- Epoch[14]  Avg loss: 0.70           Avg auc:0.78\n"
     ]
    },
    {
     "name": "stderr",
     "output_type": "stream",
     "text": [
      "/Users/hao/.pyenv/versions/3.6.15/envs/torch-cpu5/lib/python3.6/site-packages/torch/autocast_mode.py:141: UserWarning: User provided device_type of 'cuda', but CUDA is not available. Disabling\n",
      "  warnings.warn('User provided device_type of \\'cuda\\', but CUDA is not available. Disabling')\n"
     ]
    },
    {
     "name": "stdout",
     "output_type": "stream",
     "text": [
      "Training Results- Epoch[15]  Avg loss: 0.67           Avg auc:0.96\n",
      "Validation Results- Epoch[15]  Avg loss: 0.70           Avg auc:0.77\n"
     ]
    },
    {
     "name": "stderr",
     "output_type": "stream",
     "text": [
      "/Users/hao/.pyenv/versions/3.6.15/envs/torch-cpu5/lib/python3.6/site-packages/torch/autocast_mode.py:141: UserWarning: User provided device_type of 'cuda', but CUDA is not available. Disabling\n",
      "  warnings.warn('User provided device_type of \\'cuda\\', but CUDA is not available. Disabling')\n"
     ]
    },
    {
     "name": "stdout",
     "output_type": "stream",
     "text": [
      "Training Results- Epoch[16]  Avg loss: 0.66           Avg auc:0.96\n",
      "Validation Results- Epoch[16]  Avg loss: 0.70           Avg auc:0.77\n"
     ]
    },
    {
     "name": "stderr",
     "output_type": "stream",
     "text": [
      "/Users/hao/.pyenv/versions/3.6.15/envs/torch-cpu5/lib/python3.6/site-packages/torch/autocast_mode.py:141: UserWarning: User provided device_type of 'cuda', but CUDA is not available. Disabling\n",
      "  warnings.warn('User provided device_type of \\'cuda\\', but CUDA is not available. Disabling')\n"
     ]
    },
    {
     "name": "stdout",
     "output_type": "stream",
     "text": [
      "Training Results- Epoch[17]  Avg loss: 0.66           Avg auc:0.97\n",
      "Validation Results- Epoch[17]  Avg loss: 0.70           Avg auc:0.76\n"
     ]
    },
    {
     "name": "stderr",
     "output_type": "stream",
     "text": [
      "/Users/hao/.pyenv/versions/3.6.15/envs/torch-cpu5/lib/python3.6/site-packages/torch/autocast_mode.py:141: UserWarning: User provided device_type of 'cuda', but CUDA is not available. Disabling\n",
      "  warnings.warn('User provided device_type of \\'cuda\\', but CUDA is not available. Disabling')\n"
     ]
    },
    {
     "name": "stdout",
     "output_type": "stream",
     "text": [
      "Training Results- Epoch[18]  Avg loss: 0.65           Avg auc:0.97\n",
      "Validation Results- Epoch[18]  Avg loss: 0.70           Avg auc:0.76\n"
     ]
    },
    {
     "name": "stderr",
     "output_type": "stream",
     "text": [
      "Epoch [19/20]: [19/20]  95%|█████████▌ [00:00<00:00]2022-06-30 11:54:10,936 ignite.handlers.early_stopping.EarlyStopping INFO: EarlyStopping: Stop training\n",
      "                                                    \r"
     ]
    },
    {
     "name": "stdout",
     "output_type": "stream",
     "text": [
      "Training Results- Epoch[19]  Avg loss: 0.65           Avg auc:0.98\n",
      "Validation Results- Epoch[19]  Avg loss: 0.70           Avg auc:0.75\n",
      "Test Results - Epoch[19]  Avg loss: 0.78      Avg ndcg: 0.00  Avg auc: 0.49  Avg auc_top: 0.00       Avg recall: 0.00  Avg precision: 0.00\n"
     ]
    },
    {
     "data": {
      "text/plain": [
       "State:\n",
       "\titeration: 380\n",
       "\tepoch: 19\n",
       "\tepoch_length: 20\n",
       "\tmax_epochs: 20\n",
       "\toutput: 0.6739777326583862\n",
       "\tbatch: <class 'list'>\n",
       "\tmetrics: <class 'dict'>\n",
       "\tdataloader: torch.utils.data.dataloader.DataLoader\n",
       "\tseed: <class 'NoneType'>\n",
       "\ttimes: <class 'dict'>"
      ]
     },
     "execution_count": 31,
     "metadata": {},
     "output_type": "execute_result"
    }
   ],
   "source": [
    "trainer.run(train_loader, max_epochs=20)"
   ]
  },
  {
   "cell_type": "code",
   "execution_count": null,
   "id": "c630d13f",
   "metadata": {},
   "outputs": [],
   "source": []
  },
  {
   "cell_type": "code",
   "execution_count": null,
   "id": "5a58e427",
   "metadata": {},
   "outputs": [],
   "source": []
  },
  {
   "cell_type": "code",
   "execution_count": 78,
   "id": "b18f030d",
   "metadata": {},
   "outputs": [
    {
     "data": {
      "text/html": [
       "wandb version 0.12.20 is available!  To upgrade, please run:\n",
       " $ pip install wandb --upgrade"
      ],
      "text/plain": [
       "<IPython.core.display.HTML object>"
      ]
     },
     "metadata": {},
     "output_type": "display_data"
    },
    {
     "data": {
      "text/html": [
       "Tracking run with wandb version 0.12.19"
      ],
      "text/plain": [
       "<IPython.core.display.HTML object>"
      ]
     },
     "metadata": {},
     "output_type": "display_data"
    },
    {
     "data": {
      "text/html": [
       "Run data is saved locally in <code>/Users/hao/Documents/MA_thesis/ncf-torch2/src/jupyter/wandb/run-20220629_221020-3kerdex0</code>"
      ],
      "text/plain": [
       "<IPython.core.display.HTML object>"
      ]
     },
     "metadata": {},
     "output_type": "display_data"
    },
    {
     "data": {
      "text/html": [
       "Syncing run <strong><a href=\"https://wandb.ai/tiyuok2023/pytorch-jrs/runs/3kerdex0\" target=\"_blank\">City-City_job</a></strong> to <a href=\"https://wandb.ai/tiyuok2023/pytorch-jrs\" target=\"_blank\">Weights & Biases</a> (<a href=\"https://wandb.me/run\" target=\"_blank\">docs</a>)<br/>"
      ],
      "text/plain": [
       "<IPython.core.display.HTML object>"
      ]
     },
     "metadata": {},
     "output_type": "display_data"
    },
    {
     "name": "stderr",
     "output_type": "stream",
     "text": [
      "/Users/hao/.pyenv/versions/3.6.15/envs/torch-cpu5/lib/python3.6/site-packages/torch/autocast_mode.py:141: UserWarning: User provided device_type of 'cuda', but CUDA is not available. Disabling\n",
      "  warnings.warn('User provided device_type of \\'cuda\\', but CUDA is not available. Disabling')\n",
      "\n",
      "\n",
      "[1/21]   5%|▍          [00:00<?]\u001b[A\u001b[A\n",
      "\n",
      "Epoch [1/20]: [1/21]   5%|▍          [00:00<?]\u001b[A\u001b[A\n",
      "\n",
      "Epoch [1/20]: [1/21]   5%|▍          [00:00<?]\u001b[A\u001b[A\n",
      "\n",
      "Epoch [1/20]: [2/21]  10%|▉          [00:00<00:00]\u001b[A\u001b[A\n",
      "\n",
      "Epoch [1/20]: [3/21]  14%|█▍         [00:00<00:00]\u001b[A\u001b[A\n",
      "\n",
      "Epoch [1/20]: [4/21]  19%|█▉         [00:00<00:00]\u001b[A\u001b[A\n",
      "\n",
      "Epoch [1/20]: [5/21]  24%|██▍        [00:00<00:00]\u001b[A\u001b[A\n",
      "\n",
      "Epoch [1/20]: [6/21]  29%|██▊        [00:00<00:00]\u001b[A\u001b[A\n",
      "\n",
      "Epoch [1/20]: [7/21]  33%|███▎       [00:00<00:00]\u001b[A\u001b[A\n",
      "\n",
      "Epoch [1/20]: [8/21]  38%|███▊       [00:00<00:00]\u001b[A\u001b[A\n",
      "\n",
      "Epoch [1/20]: [8/21]  38%|███▊       [00:00<00:00]\u001b[A\u001b[A\n",
      "\n",
      "Epoch [1/20]: [9/21]  43%|████▎      [00:00<00:00]\u001b[A\u001b[A\n",
      "\n",
      "Epoch [1/20]: [10/21]  48%|████▊      [00:00<00:00]\u001b[A\u001b[A\n",
      "\n",
      "Epoch [1/20]: [11/21]  52%|█████▏     [00:00<00:00]\u001b[A\u001b[A\n",
      "\n",
      "Epoch [1/20]: [12/21]  57%|█████▋     [00:00<00:00]\u001b[A\u001b[A\n",
      "\n",
      "Epoch [1/20]: [13/21]  62%|██████▏    [00:00<00:00]\u001b[A\u001b[A\n",
      "\n",
      "Epoch [1/20]: [14/21]  67%|██████▋    [00:00<00:00]\u001b[A\u001b[A\n",
      "\n",
      "Epoch [1/20]: [15/21]  71%|███████▏   [00:00<00:00]\u001b[A\u001b[A\n",
      "\n",
      "Epoch [1/20]: [15/21]  71%|███████▏   [00:00<00:00]\u001b[A\u001b[A\n",
      "\n",
      "Epoch [1/20]: [16/21]  76%|███████▌   [00:00<00:00]\u001b[A\u001b[A\n",
      "\n",
      "Epoch [1/20]: [17/21]  81%|████████   [00:00<00:00]\u001b[A\u001b[A\n",
      "\n",
      "Epoch [1/20]: [18/21]  86%|████████▌  [00:00<00:00]\u001b[A\u001b[A\n",
      "\n",
      "Epoch [1/20]: [19/21]  90%|█████████  [00:00<00:00]\u001b[A\u001b[A\n",
      "\n",
      "Epoch [1/20]: [20/21]  95%|█████████▌ [00:00<00:00]\u001b[A\u001b[A\n",
      "\n",
      "                                                   \u001b[A\u001b[A/Users/hao/.pyenv/versions/3.6.15/envs/torch-cpu5/lib/python3.6/site-packages/torch/autocast_mode.py:141: UserWarning: User provided device_type of 'cuda', but CUDA is not available. Disabling\n",
      "  warnings.warn('User provided device_type of \\'cuda\\', but CUDA is not available. Disabling')\n"
     ]
    },
    {
     "name": "stdout",
     "output_type": "stream",
     "text": [
      "Training Results- Epoch[1]  Avg loss: 0.62           Avg auc:0.99\n",
      "Validation Results- Epoch[1]  Avg loss: 0.71           Avg auc:0.71\n"
     ]
    },
    {
     "name": "stderr",
     "output_type": "stream",
     "text": [
      "\n",
      "\n",
      "[1/21]   5%|▍          [00:00<?]\u001b[A\u001b[A\n",
      "\n",
      "Epoch [2/20]: [1/21]   5%|▍          [00:00<?]\u001b[A\u001b[A\n",
      "\n",
      "Epoch [2/20]: [1/21]   5%|▍          [00:00<?]\u001b[A\u001b[A\n",
      "\n",
      "Epoch [2/20]: [2/21]  10%|▉          [00:00<00:01]\u001b[A\u001b[A\n",
      "\n",
      "Epoch [2/20]: [3/21]  14%|█▍         [00:00<00:00]\u001b[A\u001b[A\n",
      "\n",
      "Epoch [2/20]: [4/21]  19%|█▉         [00:00<00:00]\u001b[A\u001b[A\n",
      "\n",
      "Epoch [2/20]: [5/21]  24%|██▍        [00:00<00:00]\u001b[A\u001b[A\n",
      "\n",
      "Epoch [2/20]: [6/21]  29%|██▊        [00:00<00:00]\u001b[A\u001b[A\n",
      "\n",
      "Epoch [2/20]: [6/21]  29%|██▊        [00:00<00:00]\u001b[A\u001b[A\n",
      "\n",
      "Epoch [2/20]: [7/21]  33%|███▎       [00:00<00:00]\u001b[A\u001b[A\n",
      "\n",
      "Epoch [2/20]: [8/21]  38%|███▊       [00:00<00:00]\u001b[A\u001b[A\n",
      "\n",
      "Epoch [2/20]: [9/21]  43%|████▎      [00:00<00:00]\u001b[A\u001b[A\n",
      "\n",
      "Epoch [2/20]: [10/21]  48%|████▊      [00:00<00:00]\u001b[A\u001b[A\n",
      "\n",
      "Epoch [2/20]: [11/21]  52%|█████▏     [00:00<00:00]\u001b[A\u001b[A\n",
      "\n",
      "Epoch [2/20]: [12/21]  57%|█████▋     [00:00<00:00]\u001b[A\u001b[A\n",
      "\n",
      "Epoch [2/20]: [12/21]  57%|█████▋     [00:00<00:00]\u001b[A\u001b[A\n",
      "\n",
      "Epoch [2/20]: [13/21]  62%|██████▏    [00:00<00:00]\u001b[A\u001b[A\n",
      "\n",
      "Epoch [2/20]: [14/21]  67%|██████▋    [00:00<00:00]\u001b[A\u001b[A\n",
      "\n",
      "Epoch [2/20]: [15/21]  71%|███████▏   [00:00<00:00]\u001b[A\u001b[A\n",
      "\n",
      "Epoch [2/20]: [16/21]  76%|███████▌   [00:00<00:00]\u001b[A\u001b[A\n",
      "\n",
      "Epoch [2/20]: [17/21]  81%|████████   [00:00<00:00]\u001b[A\u001b[A\n",
      "\n",
      "Epoch [2/20]: [18/21]  86%|████████▌  [00:00<00:00]\u001b[A\u001b[A\n",
      "\n",
      "Epoch [2/20]: [18/21]  86%|████████▌  [00:00<00:00]\u001b[A\u001b[A\n",
      "\n",
      "Epoch [2/20]: [19/21]  90%|█████████  [00:00<00:00]\u001b[A\u001b[A\n",
      "\n",
      "Epoch [2/20]: [20/21]  95%|█████████▌ [00:00<00:00]\u001b[A\u001b[A\n",
      "\n",
      "                                                   \u001b[A\u001b[A/Users/hao/.pyenv/versions/3.6.15/envs/torch-cpu5/lib/python3.6/site-packages/torch/autocast_mode.py:141: UserWarning: User provided device_type of 'cuda', but CUDA is not available. Disabling\n",
      "  warnings.warn('User provided device_type of \\'cuda\\', but CUDA is not available. Disabling')\n"
     ]
    },
    {
     "name": "stdout",
     "output_type": "stream",
     "text": [
      "Training Results- Epoch[2]  Avg loss: 0.62           Avg auc:0.99\n",
      "Validation Results- Epoch[2]  Avg loss: 0.71           Avg auc:0.72\n"
     ]
    },
    {
     "name": "stderr",
     "output_type": "stream",
     "text": [
      "\n",
      "\n",
      "[1/21]   5%|▍          [00:00<?]\u001b[A\u001b[A\n",
      "\n",
      "Epoch [3/20]: [1/21]   5%|▍          [00:00<?]\u001b[A\u001b[A\n",
      "\n",
      "Epoch [3/20]: [1/21]   5%|▍          [00:00<?]\u001b[A\u001b[A\n",
      "\n",
      "Epoch [3/20]: [2/21]  10%|▉          [00:00<00:00]\u001b[A\u001b[A\n",
      "\n",
      "Epoch [3/20]: [3/21]  14%|█▍         [00:00<00:00]\u001b[A\u001b[A\n",
      "\n",
      "Epoch [3/20]: [4/21]  19%|█▉         [00:00<00:00]\u001b[A\u001b[A\n",
      "\n",
      "Epoch [3/20]: [5/21]  24%|██▍        [00:00<00:00]\u001b[A\u001b[A\n",
      "\n",
      "Epoch [3/20]: [6/21]  29%|██▊        [00:00<00:00]\u001b[A\u001b[A\n",
      "\n",
      "Epoch [3/20]: [7/21]  33%|███▎       [00:00<00:00]\u001b[A\u001b[A\n",
      "\n",
      "Epoch [3/20]: [8/21]  38%|███▊       [00:00<00:00]\u001b[A\u001b[A\n",
      "\n",
      "Epoch [3/20]: [9/21]  43%|████▎      [00:00<00:00]\u001b[A\u001b[A\n",
      "\n",
      "Epoch [3/20]: [9/21]  43%|████▎      [00:00<00:00]\u001b[A\u001b[A\n",
      "\n",
      "Epoch [3/20]: [10/21]  48%|████▊      [00:00<00:00]\u001b[A\u001b[A\n",
      "\n",
      "Epoch [3/20]: [11/21]  52%|█████▏     [00:00<00:00]\u001b[A\u001b[A\n",
      "\n",
      "Epoch [3/20]: [12/21]  57%|█████▋     [00:00<00:00]\u001b[A\u001b[A\n",
      "\n",
      "Epoch [3/20]: [13/21]  62%|██████▏    [00:00<00:00]\u001b[A\u001b[A\n",
      "\n",
      "Epoch [3/20]: [14/21]  67%|██████▋    [00:00<00:00]\u001b[A\u001b[A\n",
      "\n",
      "Epoch [3/20]: [15/21]  71%|███████▏   [00:00<00:00]\u001b[A\u001b[A\n",
      "\n",
      "Epoch [3/20]: [16/21]  76%|███████▌   [00:00<00:00]\u001b[A\u001b[A\n",
      "\n",
      "Epoch [3/20]: [17/21]  81%|████████   [00:00<00:00]\u001b[A\u001b[A\n",
      "\n",
      "Epoch [3/20]: [18/21]  86%|████████▌  [00:00<00:00]\u001b[A\u001b[A\n",
      "\n",
      "Epoch [3/20]: [18/21]  86%|████████▌  [00:00<00:00]\u001b[A\u001b[A\n",
      "\n",
      "Epoch [3/20]: [19/21]  90%|█████████  [00:00<00:00]\u001b[A\u001b[A\n",
      "\n",
      "Epoch [3/20]: [20/21]  95%|█████████▌ [00:00<00:00]\u001b[A\u001b[A\n",
      "\n",
      "                                                   \u001b[A\u001b[A/Users/hao/.pyenv/versions/3.6.15/envs/torch-cpu5/lib/python3.6/site-packages/torch/autocast_mode.py:141: UserWarning: User provided device_type of 'cuda', but CUDA is not available. Disabling\n",
      "  warnings.warn('User provided device_type of \\'cuda\\', but CUDA is not available. Disabling')\n"
     ]
    },
    {
     "name": "stdout",
     "output_type": "stream",
     "text": [
      "Training Results- Epoch[3]  Avg loss: 0.62           Avg auc:0.99\n",
      "Validation Results- Epoch[3]  Avg loss: 0.71           Avg auc:0.72\n"
     ]
    },
    {
     "name": "stderr",
     "output_type": "stream",
     "text": [
      "\n",
      "\n",
      "[1/21]   5%|▍          [00:00<?]\u001b[A\u001b[A\n",
      "\n",
      "Epoch [4/20]: [1/21]   5%|▍          [00:00<?]\u001b[A\u001b[A\n",
      "\n",
      "Epoch [4/20]: [1/21]   5%|▍          [00:00<?]\u001b[A\u001b[A\n",
      "\n",
      "Epoch [4/20]: [2/21]  10%|▉          [00:00<00:00]\u001b[A\u001b[A\n",
      "\n",
      "Epoch [4/20]: [3/21]  14%|█▍         [00:00<00:00]\u001b[A\u001b[A\n",
      "\n",
      "Epoch [4/20]: [4/21]  19%|█▉         [00:00<00:00]\u001b[A\u001b[A\n",
      "\n",
      "Epoch [4/20]: [5/21]  24%|██▍        [00:00<00:00]\u001b[A\u001b[A\n",
      "\n",
      "Epoch [4/20]: [6/21]  29%|██▊        [00:00<00:00]\u001b[A\u001b[A\n",
      "\n",
      "Epoch [4/20]: [7/21]  33%|███▎       [00:00<00:00]\u001b[A\u001b[A\n",
      "\n",
      "Epoch [4/20]: [8/21]  38%|███▊       [00:00<00:00]\u001b[A\u001b[A\n",
      "\n",
      "Epoch [4/20]: [9/21]  43%|████▎      [00:00<00:00]\u001b[A\u001b[A\n",
      "\n",
      "Epoch [4/20]: [9/21]  43%|████▎      [00:00<00:00]\u001b[A\u001b[A\n",
      "\n",
      "Epoch [4/20]: [10/21]  48%|████▊      [00:00<00:00]\u001b[A\u001b[A\n",
      "\n",
      "Epoch [4/20]: [11/21]  52%|█████▏     [00:00<00:00]\u001b[A\u001b[A\n",
      "\n",
      "Epoch [4/20]: [12/21]  57%|█████▋     [00:00<00:00]\u001b[A\u001b[A\n",
      "\n",
      "Epoch [4/20]: [13/21]  62%|██████▏    [00:00<00:00]\u001b[A\u001b[A\n",
      "\n",
      "Epoch [4/20]: [14/21]  67%|██████▋    [00:00<00:00]\u001b[A\u001b[A\n",
      "\n",
      "Epoch [4/20]: [15/21]  71%|███████▏   [00:00<00:00]\u001b[A\u001b[A\n",
      "\n",
      "Epoch [4/20]: [16/21]  76%|███████▌   [00:00<00:00]\u001b[A\u001b[A\n",
      "\n",
      "Epoch [4/20]: [17/21]  81%|████████   [00:00<00:00]\u001b[A\u001b[A\n",
      "\n",
      "Epoch [4/20]: [17/21]  81%|████████   [00:00<00:00]\u001b[A\u001b[A\n",
      "\n",
      "Epoch [4/20]: [18/21]  86%|████████▌  [00:00<00:00]\u001b[A\u001b[A\n",
      "\n",
      "Epoch [4/20]: [19/21]  90%|█████████  [00:00<00:00]\u001b[A\u001b[A\n",
      "\n",
      "Epoch [4/20]: [20/21]  95%|█████████▌ [00:00<00:00]\u001b[A\u001b[A\n",
      "\n",
      "                                                   \u001b[A\u001b[A/Users/hao/.pyenv/versions/3.6.15/envs/torch-cpu5/lib/python3.6/site-packages/torch/autocast_mode.py:141: UserWarning: User provided device_type of 'cuda', but CUDA is not available. Disabling\n",
      "  warnings.warn('User provided device_type of \\'cuda\\', but CUDA is not available. Disabling')\n"
     ]
    },
    {
     "name": "stdout",
     "output_type": "stream",
     "text": [
      "Training Results- Epoch[4]  Avg loss: 0.62           Avg auc:0.99\n",
      "Validation Results- Epoch[4]  Avg loss: 0.71           Avg auc:0.72\n"
     ]
    },
    {
     "name": "stderr",
     "output_type": "stream",
     "text": [
      "\n",
      "\n",
      "[1/21]   5%|▍          [00:00<?]\u001b[A\u001b[A\n",
      "\n",
      "Epoch [5/20]: [1/21]   5%|▍          [00:00<?]\u001b[A\u001b[A\n",
      "\n",
      "Epoch [5/20]: [1/21]   5%|▍          [00:00<?]\u001b[A\u001b[A\n",
      "\n",
      "Epoch [5/20]: [2/21]  10%|▉          [00:00<00:00]\u001b[A\u001b[A\n",
      "\n",
      "Epoch [5/20]: [3/21]  14%|█▍         [00:00<00:00]\u001b[A\u001b[A\n",
      "\n",
      "Epoch [5/20]: [4/21]  19%|█▉         [00:00<00:00]\u001b[A\u001b[A\n",
      "\n",
      "Epoch [5/20]: [5/21]  24%|██▍        [00:00<00:00]\u001b[A\u001b[A\n",
      "\n",
      "Epoch [5/20]: [6/21]  29%|██▊        [00:00<00:00]\u001b[A\u001b[A\n",
      "\n",
      "Epoch [5/20]: [7/21]  33%|███▎       [00:00<00:00]\u001b[A\u001b[A\n",
      "\n",
      "Epoch [5/20]: [8/21]  38%|███▊       [00:00<00:00]\u001b[A\u001b[A\n",
      "\n",
      "Epoch [5/20]: [8/21]  38%|███▊       [00:00<00:00]\u001b[A\u001b[A\n",
      "\n",
      "Epoch [5/20]: [9/21]  43%|████▎      [00:00<00:00]\u001b[A\u001b[A\n",
      "\n",
      "Epoch [5/20]: [10/21]  48%|████▊      [00:00<00:00]\u001b[A\u001b[A\n",
      "\n",
      "Epoch [5/20]: [11/21]  52%|█████▏     [00:00<00:00]\u001b[A\u001b[A\n",
      "\n",
      "Epoch [5/20]: [12/21]  57%|█████▋     [00:00<00:00]\u001b[A\u001b[A\n",
      "\n",
      "Epoch [5/20]: [13/21]  62%|██████▏    [00:00<00:00]\u001b[A\u001b[A\n",
      "\n",
      "Epoch [5/20]: [14/21]  67%|██████▋    [00:00<00:00]\u001b[A\u001b[A\n",
      "\n",
      "Epoch [5/20]: [15/21]  71%|███████▏   [00:00<00:00]\u001b[A\u001b[A\n",
      "\n",
      "Epoch [5/20]: [15/21]  71%|███████▏   [00:00<00:00]\u001b[A\u001b[A\n",
      "\n",
      "Epoch [5/20]: [16/21]  76%|███████▌   [00:00<00:00]\u001b[A\u001b[A\n",
      "\n",
      "Epoch [5/20]: [17/21]  81%|████████   [00:00<00:00]\u001b[A\u001b[A\n",
      "\n",
      "Epoch [5/20]: [18/21]  86%|████████▌  [00:00<00:00]\u001b[A\u001b[A\n",
      "\n",
      "Epoch [5/20]: [19/21]  90%|█████████  [00:00<00:00]\u001b[A\u001b[A\n",
      "\n",
      "Epoch [5/20]: [20/21]  95%|█████████▌ [00:00<00:00]\u001b[A\u001b[A\n",
      "\n",
      "                                                   \u001b[A\u001b[A/Users/hao/.pyenv/versions/3.6.15/envs/torch-cpu5/lib/python3.6/site-packages/torch/autocast_mode.py:141: UserWarning: User provided device_type of 'cuda', but CUDA is not available. Disabling\n",
      "  warnings.warn('User provided device_type of \\'cuda\\', but CUDA is not available. Disabling')\n"
     ]
    },
    {
     "name": "stdout",
     "output_type": "stream",
     "text": [
      "Training Results- Epoch[5]  Avg loss: 0.62           Avg auc:0.99\n",
      "Validation Results- Epoch[5]  Avg loss: 0.71           Avg auc:0.72\n"
     ]
    },
    {
     "name": "stderr",
     "output_type": "stream",
     "text": [
      "\n",
      "\n",
      "[1/21]   5%|▍          [00:00<?]\u001b[A\u001b[A\n",
      "\n",
      "Epoch [6/20]: [1/21]   5%|▍          [00:00<?]\u001b[A\u001b[A\n",
      "\n",
      "Epoch [6/20]: [1/21]   5%|▍          [00:00<?]\u001b[A\u001b[A\n",
      "\n",
      "Epoch [6/20]: [2/21]  10%|▉          [00:00<00:00]\u001b[A\u001b[A\n",
      "\n",
      "Epoch [6/20]: [3/21]  14%|█▍         [00:00<00:00]\u001b[A\u001b[A\n",
      "\n",
      "Epoch [6/20]: [4/21]  19%|█▉         [00:00<00:00]\u001b[A\u001b[A\n",
      "\n",
      "Epoch [6/20]: [5/21]  24%|██▍        [00:00<00:00]\u001b[A\u001b[A\n",
      "\n",
      "Epoch [6/20]: [6/21]  29%|██▊        [00:00<00:00]\u001b[A\u001b[A\n",
      "\n",
      "Epoch [6/20]: [7/21]  33%|███▎       [00:00<00:00]\u001b[A\u001b[A\n",
      "\n",
      "Epoch [6/20]: [7/21]  33%|███▎       [00:00<00:00]\u001b[A\u001b[A\n",
      "\n",
      "Epoch [6/20]: [8/21]  38%|███▊       [00:00<00:00]\u001b[A\u001b[A\n",
      "\n",
      "Epoch [6/20]: [9/21]  43%|████▎      [00:00<00:00]\u001b[A\u001b[A\n",
      "\n",
      "Epoch [6/20]: [10/21]  48%|████▊      [00:00<00:00]\u001b[A\u001b[A\n",
      "\n",
      "Epoch [6/20]: [11/21]  52%|█████▏     [00:00<00:00]\u001b[A\u001b[A\n",
      "\n",
      "Epoch [6/20]: [12/21]  57%|█████▋     [00:00<00:00]\u001b[A\u001b[A\n",
      "\n",
      "Epoch [6/20]: [13/21]  62%|██████▏    [00:00<00:00]\u001b[A\u001b[A\n",
      "\n",
      "Epoch [6/20]: [14/21]  67%|██████▋    [00:00<00:00]\u001b[A\u001b[A\n",
      "\n",
      "Epoch [6/20]: [15/21]  71%|███████▏   [00:00<00:00]\u001b[A\u001b[A\n",
      "\n",
      "Epoch [6/20]: [15/21]  71%|███████▏   [00:00<00:00]\u001b[A\u001b[A\n",
      "\n",
      "Epoch [6/20]: [16/21]  76%|███████▌   [00:00<00:00]\u001b[A\u001b[A\n",
      "\n",
      "Epoch [6/20]: [17/21]  81%|████████   [00:00<00:00]\u001b[A\u001b[A\n",
      "\n",
      "Epoch [6/20]: [18/21]  86%|████████▌  [00:00<00:00]\u001b[A\u001b[A\n",
      "\n",
      "Epoch [6/20]: [19/21]  90%|█████████  [00:00<00:00]\u001b[A\u001b[A\n",
      "\n",
      "Epoch [6/20]: [20/21]  95%|█████████▌ [00:00<00:00]\u001b[A\u001b[A\n",
      "\n",
      "                                                   \u001b[A\u001b[A/Users/hao/.pyenv/versions/3.6.15/envs/torch-cpu5/lib/python3.6/site-packages/torch/autocast_mode.py:141: UserWarning: User provided device_type of 'cuda', but CUDA is not available. Disabling\n",
      "  warnings.warn('User provided device_type of \\'cuda\\', but CUDA is not available. Disabling')\n"
     ]
    },
    {
     "name": "stdout",
     "output_type": "stream",
     "text": [
      "Training Results- Epoch[6]  Avg loss: 0.62           Avg auc:0.99\n",
      "Validation Results- Epoch[6]  Avg loss: 0.71           Avg auc:0.72\n"
     ]
    },
    {
     "name": "stderr",
     "output_type": "stream",
     "text": [
      "\n",
      "\n",
      "[1/21]   5%|▍          [00:00<?]\u001b[A\u001b[A\n",
      "\n",
      "Epoch [7/20]: [1/21]   5%|▍          [00:00<?]\u001b[A\u001b[A\n",
      "\n",
      "Epoch [7/20]: [1/21]   5%|▍          [00:00<?]\u001b[A\u001b[A\n",
      "\n",
      "Epoch [7/20]: [2/21]  10%|▉          [00:00<00:00]\u001b[A\u001b[A\n",
      "\n",
      "Epoch [7/20]: [3/21]  14%|█▍         [00:00<00:00]\u001b[A\u001b[A\n",
      "\n",
      "Epoch [7/20]: [4/21]  19%|█▉         [00:00<00:00]\u001b[A\u001b[A\n",
      "\n",
      "Epoch [7/20]: [5/21]  24%|██▍        [00:00<00:00]\u001b[A\u001b[A\n",
      "\n",
      "Epoch [7/20]: [6/21]  29%|██▊        [00:00<00:00]\u001b[A\u001b[A\n",
      "\n",
      "Epoch [7/20]: [7/21]  33%|███▎       [00:00<00:00]\u001b[A\u001b[A\n",
      "\n",
      "Epoch [7/20]: [8/21]  38%|███▊       [00:00<00:00]\u001b[A\u001b[A\n",
      "\n",
      "Epoch [7/20]: [9/21]  43%|████▎      [00:00<00:00]\u001b[A\u001b[A\n",
      "\n",
      "Epoch [7/20]: [9/21]  43%|████▎      [00:00<00:00]\u001b[A\u001b[A\n",
      "\n",
      "Epoch [7/20]: [10/21]  48%|████▊      [00:00<00:00]\u001b[A\u001b[A\n",
      "\n",
      "Epoch [7/20]: [11/21]  52%|█████▏     [00:00<00:00]\u001b[A\u001b[A\n",
      "\n",
      "Epoch [7/20]: [12/21]  57%|█████▋     [00:00<00:00]\u001b[A\u001b[A\n",
      "\n",
      "Epoch [7/20]: [13/21]  62%|██████▏    [00:00<00:00]\u001b[A\u001b[A\n",
      "\n",
      "Epoch [7/20]: [14/21]  67%|██████▋    [00:00<00:00]\u001b[A\u001b[A\n",
      "\n",
      "Epoch [7/20]: [15/21]  71%|███████▏   [00:00<00:00]\u001b[A\u001b[A\n",
      "\n",
      "Epoch [7/20]: [16/21]  76%|███████▌   [00:00<00:00]\u001b[A\u001b[A\n",
      "\n",
      "Epoch [7/20]: [17/21]  81%|████████   [00:00<00:00]\u001b[A\u001b[A\n",
      "\n",
      "Epoch [7/20]: [17/21]  81%|████████   [00:00<00:00]\u001b[A\u001b[A\n",
      "\n",
      "Epoch [7/20]: [18/21]  86%|████████▌  [00:00<00:00]\u001b[A\u001b[A\n",
      "\n",
      "Epoch [7/20]: [19/21]  90%|█████████  [00:00<00:00]\u001b[A\u001b[A\n",
      "\n",
      "Epoch [7/20]: [20/21]  95%|█████████▌ [00:00<00:00]\u001b[A\u001b[A\n",
      "\n",
      "                                                   \u001b[A\u001b[A/Users/hao/.pyenv/versions/3.6.15/envs/torch-cpu5/lib/python3.6/site-packages/torch/autocast_mode.py:141: UserWarning: User provided device_type of 'cuda', but CUDA is not available. Disabling\n",
      "  warnings.warn('User provided device_type of \\'cuda\\', but CUDA is not available. Disabling')\n"
     ]
    },
    {
     "name": "stdout",
     "output_type": "stream",
     "text": [
      "Training Results- Epoch[7]  Avg loss: 0.62           Avg auc:0.99\n",
      "Validation Results- Epoch[7]  Avg loss: 0.71           Avg auc:0.73\n"
     ]
    },
    {
     "name": "stderr",
     "output_type": "stream",
     "text": [
      "\n",
      "\n",
      "[1/21]   5%|▍          [00:00<?]\u001b[A\u001b[A\n",
      "\n",
      "Epoch [8/20]: [1/21]   5%|▍          [00:00<?]\u001b[A\u001b[A\n",
      "\n",
      "Epoch [8/20]: [1/21]   5%|▍          [00:00<?]\u001b[A\u001b[A\n",
      "\n",
      "Epoch [8/20]: [2/21]  10%|▉          [00:00<00:00]\u001b[A\u001b[A\n",
      "\n",
      "Epoch [8/20]: [3/21]  14%|█▍         [00:00<00:00]\u001b[A\u001b[A\n",
      "\n",
      "Epoch [8/20]: [4/21]  19%|█▉         [00:00<00:00]\u001b[A\u001b[A\n",
      "\n",
      "Epoch [8/20]: [5/21]  24%|██▍        [00:00<00:00]\u001b[A\u001b[A\n",
      "\n",
      "Epoch [8/20]: [6/21]  29%|██▊        [00:00<00:00]\u001b[A\u001b[A\n",
      "\n",
      "Epoch [8/20]: [7/21]  33%|███▎       [00:00<00:00]\u001b[A\u001b[A\n",
      "\n",
      "Epoch [8/20]: [8/21]  38%|███▊       [00:00<00:00]\u001b[A\u001b[A\n",
      "\n",
      "Epoch [8/20]: [9/21]  43%|████▎      [00:00<00:00]\u001b[A\u001b[A\n",
      "\n",
      "Epoch [8/20]: [9/21]  43%|████▎      [00:00<00:00]\u001b[A\u001b[A\n",
      "\n",
      "Epoch [8/20]: [10/21]  48%|████▊      [00:00<00:00]\u001b[A\u001b[A\n",
      "\n",
      "Epoch [8/20]: [11/21]  52%|█████▏     [00:00<00:00]\u001b[A\u001b[A\n",
      "\n",
      "Epoch [8/20]: [12/21]  57%|█████▋     [00:00<00:00]\u001b[A\u001b[A\n",
      "\n",
      "Epoch [8/20]: [13/21]  62%|██████▏    [00:00<00:00]\u001b[A\u001b[A\n",
      "\n",
      "Epoch [8/20]: [14/21]  67%|██████▋    [00:00<00:00]\u001b[A\u001b[A\n",
      "\n",
      "Epoch [8/20]: [15/21]  71%|███████▏   [00:00<00:00]\u001b[A\u001b[A\n",
      "\n",
      "Epoch [8/20]: [16/21]  76%|███████▌   [00:00<00:00]\u001b[A\u001b[A\n",
      "\n",
      "Epoch [8/20]: [17/21]  81%|████████   [00:00<00:00]\u001b[A\u001b[A\n",
      "\n",
      "Epoch [8/20]: [17/21]  81%|████████   [00:00<00:00]\u001b[A\u001b[A\n",
      "\n",
      "Epoch [8/20]: [18/21]  86%|████████▌  [00:00<00:00]\u001b[A\u001b[A\n",
      "\n",
      "Epoch [8/20]: [19/21]  90%|█████████  [00:00<00:00]\u001b[A\u001b[A\n",
      "\n",
      "Epoch [8/20]: [20/21]  95%|█████████▌ [00:00<00:00]\u001b[A\u001b[A\n",
      "\n",
      "                                                   \u001b[A\u001b[A/Users/hao/.pyenv/versions/3.6.15/envs/torch-cpu5/lib/python3.6/site-packages/torch/autocast_mode.py:141: UserWarning: User provided device_type of 'cuda', but CUDA is not available. Disabling\n",
      "  warnings.warn('User provided device_type of \\'cuda\\', but CUDA is not available. Disabling')\n"
     ]
    },
    {
     "name": "stdout",
     "output_type": "stream",
     "text": [
      "Training Results- Epoch[8]  Avg loss: 0.62           Avg auc:0.99\n",
      "Validation Results- Epoch[8]  Avg loss: 0.71           Avg auc:0.73\n"
     ]
    },
    {
     "name": "stderr",
     "output_type": "stream",
     "text": [
      "\n",
      "\n",
      "[1/21]   5%|▍          [00:00<?]\u001b[A\u001b[A\n",
      "\n",
      "Epoch [9/20]: [1/21]   5%|▍          [00:00<?]\u001b[A\u001b[A\n",
      "\n",
      "Epoch [9/20]: [1/21]   5%|▍          [00:00<?]\u001b[A\u001b[A\n",
      "\n",
      "Epoch [9/20]: [2/21]  10%|▉          [00:00<00:00]\u001b[A\u001b[A\n",
      "\n",
      "Epoch [9/20]: [3/21]  14%|█▍         [00:00<00:00]\u001b[A\u001b[A\n",
      "\n",
      "Epoch [9/20]: [4/21]  19%|█▉         [00:00<00:00]\u001b[A\u001b[A\n",
      "\n",
      "Epoch [9/20]: [5/21]  24%|██▍        [00:00<00:00]\u001b[A\u001b[A\n",
      "\n",
      "Epoch [9/20]: [6/21]  29%|██▊        [00:00<00:00]\u001b[A\u001b[A\n",
      "\n",
      "Epoch [9/20]: [7/21]  33%|███▎       [00:00<00:00]\u001b[A\u001b[A\n",
      "\n",
      "Epoch [9/20]: [7/21]  33%|███▎       [00:00<00:00]\u001b[A\u001b[A\n",
      "\n",
      "Epoch [9/20]: [8/21]  38%|███▊       [00:00<00:00]\u001b[A\u001b[A\n",
      "\n",
      "Epoch [9/20]: [9/21]  43%|████▎      [00:00<00:00]\u001b[A\u001b[A\n",
      "\n",
      "Epoch [9/20]: [10/21]  48%|████▊      [00:00<00:00]\u001b[A\u001b[A\n",
      "\n",
      "Epoch [9/20]: [11/21]  52%|█████▏     [00:00<00:00]\u001b[A\u001b[A\n",
      "\n",
      "Epoch [9/20]: [12/21]  57%|█████▋     [00:00<00:00]\u001b[A\u001b[A\n",
      "\n",
      "Epoch [9/20]: [13/21]  62%|██████▏    [00:00<00:00]\u001b[A\u001b[A\n",
      "\n",
      "Epoch [9/20]: [14/21]  67%|██████▋    [00:00<00:00]\u001b[A\u001b[A\n",
      "\n",
      "Epoch [9/20]: [15/21]  71%|███████▏   [00:00<00:00]\u001b[A\u001b[A\n",
      "\n",
      "Epoch [9/20]: [15/21]  71%|███████▏   [00:00<00:00]\u001b[A\u001b[A\n",
      "\n",
      "Epoch [9/20]: [16/21]  76%|███████▌   [00:00<00:00]\u001b[A\u001b[A\n",
      "\n",
      "Epoch [9/20]: [17/21]  81%|████████   [00:00<00:00]\u001b[A\u001b[A\n",
      "\n",
      "Epoch [9/20]: [18/21]  86%|████████▌  [00:00<00:00]\u001b[A\u001b[A\n",
      "\n",
      "Epoch [9/20]: [19/21]  90%|█████████  [00:00<00:00]\u001b[A\u001b[A\n",
      "\n",
      "Epoch [9/20]: [20/21]  95%|█████████▌ [00:00<00:00]\u001b[A\u001b[A\n",
      "\n",
      "                                                   \u001b[A\u001b[A/Users/hao/.pyenv/versions/3.6.15/envs/torch-cpu5/lib/python3.6/site-packages/torch/autocast_mode.py:141: UserWarning: User provided device_type of 'cuda', but CUDA is not available. Disabling\n",
      "  warnings.warn('User provided device_type of \\'cuda\\', but CUDA is not available. Disabling')\n"
     ]
    },
    {
     "name": "stdout",
     "output_type": "stream",
     "text": [
      "Training Results- Epoch[9]  Avg loss: 0.62           Avg auc:0.99\n",
      "Validation Results- Epoch[9]  Avg loss: 0.71           Avg auc:0.74\n"
     ]
    },
    {
     "name": "stderr",
     "output_type": "stream",
     "text": [
      "\n",
      "\n",
      "[1/21]   5%|▍          [00:00<?]\u001b[A\u001b[A\n",
      "\n",
      "Epoch [10/20]: [1/21]   5%|▍          [00:00<?]\u001b[A\u001b[A\n",
      "\n",
      "Epoch [10/20]: [1/21]   5%|▍          [00:00<?]\u001b[A\u001b[A\n",
      "\n",
      "Epoch [10/20]: [2/21]  10%|▉          [00:00<00:00]\u001b[A\u001b[A\n",
      "\n",
      "Epoch [10/20]: [3/21]  14%|█▍         [00:00<00:00]\u001b[A\u001b[A\n",
      "\n",
      "Epoch [10/20]: [4/21]  19%|█▉         [00:00<00:00]\u001b[A\u001b[A\n",
      "\n",
      "Epoch [10/20]: [5/21]  24%|██▍        [00:00<00:00]\u001b[A\u001b[A\n",
      "\n",
      "Epoch [10/20]: [6/21]  29%|██▊        [00:00<00:00]\u001b[A\u001b[A\n",
      "\n",
      "Epoch [10/20]: [7/21]  33%|███▎       [00:00<00:00]\u001b[A\u001b[A\n",
      "\n",
      "Epoch [10/20]: [8/21]  38%|███▊       [00:00<00:00]\u001b[A\u001b[A\n",
      "\n",
      "Epoch [10/20]: [9/21]  43%|████▎      [00:00<00:00]\u001b[A\u001b[A\n",
      "\n",
      "Epoch [10/20]: [9/21]  43%|████▎      [00:00<00:00]\u001b[A\u001b[A\n",
      "\n",
      "Epoch [10/20]: [10/21]  48%|████▊      [00:00<00:00]\u001b[A\u001b[A\n",
      "\n",
      "Epoch [10/20]: [11/21]  52%|█████▏     [00:00<00:00]\u001b[A\u001b[A\n",
      "\n",
      "Epoch [10/20]: [12/21]  57%|█████▋     [00:00<00:00]\u001b[A\u001b[A\n",
      "\n",
      "Epoch [10/20]: [13/21]  62%|██████▏    [00:00<00:00]\u001b[A\u001b[A\n",
      "\n",
      "Epoch [10/20]: [14/21]  67%|██████▋    [00:00<00:00]\u001b[A\u001b[A\n",
      "\n",
      "Epoch [10/20]: [15/21]  71%|███████▏   [00:00<00:00]\u001b[A\u001b[A\n",
      "\n",
      "Epoch [10/20]: [16/21]  76%|███████▌   [00:00<00:00]\u001b[A\u001b[A\n",
      "\n",
      "Epoch [10/20]: [17/21]  81%|████████   [00:00<00:00]\u001b[A\u001b[A\n",
      "\n",
      "Epoch [10/20]: [18/21]  86%|████████▌  [00:00<00:00]\u001b[A\u001b[A\n",
      "\n",
      "Epoch [10/20]: [18/21]  86%|████████▌  [00:00<00:00]\u001b[A\u001b[A\n",
      "\n",
      "Epoch [10/20]: [19/21]  90%|█████████  [00:00<00:00]\u001b[A\u001b[A\n",
      "\n",
      "Epoch [10/20]: [20/21]  95%|█████████▌ [00:00<00:00]\u001b[A\u001b[A\n",
      "\n",
      "                                                    \u001b[A\u001b[A/Users/hao/.pyenv/versions/3.6.15/envs/torch-cpu5/lib/python3.6/site-packages/torch/autocast_mode.py:141: UserWarning: User provided device_type of 'cuda', but CUDA is not available. Disabling\n",
      "  warnings.warn('User provided device_type of \\'cuda\\', but CUDA is not available. Disabling')\n"
     ]
    },
    {
     "name": "stdout",
     "output_type": "stream",
     "text": [
      "Training Results- Epoch[10]  Avg loss: 0.62           Avg auc:0.99\n",
      "Validation Results- Epoch[10]  Avg loss: 0.71           Avg auc:0.74\n"
     ]
    },
    {
     "name": "stderr",
     "output_type": "stream",
     "text": [
      "\n",
      "\n",
      "[1/21]   5%|▍          [00:00<?]\u001b[A\u001b[A\n",
      "\n",
      "Epoch [11/20]: [1/21]   5%|▍          [00:00<?]\u001b[A\u001b[A\n",
      "\n",
      "Epoch [11/20]: [1/21]   5%|▍          [00:00<?]\u001b[A\u001b[A\n",
      "\n",
      "Epoch [11/20]: [2/21]  10%|▉          [00:00<00:00]\u001b[A\u001b[A\n",
      "\n",
      "Epoch [11/20]: [3/21]  14%|█▍         [00:00<00:00]\u001b[A\u001b[A\n",
      "\n",
      "Epoch [11/20]: [4/21]  19%|█▉         [00:00<00:00]\u001b[A\u001b[A\n",
      "\n",
      "Epoch [11/20]: [5/21]  24%|██▍        [00:00<00:00]\u001b[A\u001b[A\n",
      "\n",
      "Epoch [11/20]: [6/21]  29%|██▊        [00:00<00:00]\u001b[A\u001b[A\n",
      "\n",
      "Epoch [11/20]: [7/21]  33%|███▎       [00:00<00:00]\u001b[A\u001b[A\n",
      "\n",
      "Epoch [11/20]: [8/21]  38%|███▊       [00:00<00:00]\u001b[A\u001b[A\n",
      "\n",
      "Epoch [11/20]: [9/21]  43%|████▎      [00:00<00:00]\u001b[A\u001b[A\n",
      "\n",
      "Epoch [11/20]: [10/21]  48%|████▊      [00:00<00:00]\u001b[A\u001b[A\n",
      "\n",
      "Epoch [11/20]: [10/21]  48%|████▊      [00:00<00:00]\u001b[A\u001b[A\n",
      "\n",
      "Epoch [11/20]: [11/21]  52%|█████▏     [00:00<00:00]\u001b[A\u001b[A\n",
      "\n",
      "Epoch [11/20]: [12/21]  57%|█████▋     [00:00<00:00]\u001b[A\u001b[A\n",
      "\n",
      "Epoch [11/20]: [13/21]  62%|██████▏    [00:00<00:00]\u001b[A\u001b[A\n",
      "\n",
      "Epoch [11/20]: [14/21]  67%|██████▋    [00:00<00:00]\u001b[A\u001b[A\n",
      "\n",
      "Epoch [11/20]: [15/21]  71%|███████▏   [00:00<00:00]\u001b[A\u001b[A\n",
      "\n",
      "Epoch [11/20]: [16/21]  76%|███████▌   [00:00<00:00]\u001b[A\u001b[A\n",
      "\n",
      "Epoch [11/20]: [17/21]  81%|████████   [00:00<00:00]\u001b[A\u001b[A\n",
      "\n",
      "Epoch [11/20]: [18/21]  86%|████████▌  [00:00<00:00]\u001b[A\u001b[A\n",
      "\n",
      "Epoch [11/20]: [19/21]  90%|█████████  [00:00<00:00]\u001b[A\u001b[A\n",
      "\n",
      "Epoch [11/20]: [19/21]  90%|█████████  [00:00<00:00]\u001b[A\u001b[A\n",
      "\n",
      "Epoch [11/20]: [20/21]  95%|█████████▌ [00:00<00:00]\u001b[A\u001b[A\n",
      "\n",
      "                                                    \u001b[A\u001b[A/Users/hao/.pyenv/versions/3.6.15/envs/torch-cpu5/lib/python3.6/site-packages/torch/autocast_mode.py:141: UserWarning: User provided device_type of 'cuda', but CUDA is not available. Disabling\n",
      "  warnings.warn('User provided device_type of \\'cuda\\', but CUDA is not available. Disabling')\n"
     ]
    },
    {
     "name": "stdout",
     "output_type": "stream",
     "text": [
      "Training Results- Epoch[11]  Avg loss: 0.62           Avg auc:0.99\n",
      "Validation Results- Epoch[11]  Avg loss: 0.71           Avg auc:0.75\n"
     ]
    },
    {
     "name": "stderr",
     "output_type": "stream",
     "text": [
      "\n",
      "\n",
      "[1/21]   5%|▍          [00:00<?]\u001b[A\u001b[A\n",
      "\n",
      "Epoch [12/20]: [1/21]   5%|▍          [00:00<?]\u001b[A\u001b[A\n",
      "\n",
      "Epoch [12/20]: [1/21]   5%|▍          [00:00<?]\u001b[A\u001b[A\n",
      "\n",
      "Epoch [12/20]: [2/21]  10%|▉          [00:00<00:00]\u001b[A\u001b[A\n",
      "\n",
      "Epoch [12/20]: [3/21]  14%|█▍         [00:00<00:00]\u001b[A\u001b[A\n",
      "\n",
      "Epoch [12/20]: [4/21]  19%|█▉         [00:00<00:00]\u001b[A\u001b[A\n",
      "\n",
      "Epoch [12/20]: [5/21]  24%|██▍        [00:00<00:00]\u001b[A\u001b[A\n",
      "\n",
      "Epoch [12/20]: [6/21]  29%|██▊        [00:00<00:00]\u001b[A\u001b[A\n",
      "\n",
      "Epoch [12/20]: [7/21]  33%|███▎       [00:00<00:00]\u001b[A\u001b[A\n",
      "\n",
      "Epoch [12/20]: [8/21]  38%|███▊       [00:00<00:00]\u001b[A\u001b[A\n",
      "\n",
      "Epoch [12/20]: [9/21]  43%|████▎      [00:00<00:00]\u001b[A\u001b[A\n",
      "\n",
      "Epoch [12/20]: [10/21]  48%|████▊      [00:00<00:00]\u001b[A\u001b[A\n",
      "\n",
      "Epoch [12/20]: [10/21]  48%|████▊      [00:00<00:00]\u001b[A\u001b[A\n",
      "\n",
      "Epoch [12/20]: [11/21]  52%|█████▏     [00:00<00:00]\u001b[A\u001b[A\n",
      "\n",
      "Epoch [12/20]: [12/21]  57%|█████▋     [00:00<00:00]\u001b[A\u001b[A\n",
      "\n",
      "Epoch [12/20]: [13/21]  62%|██████▏    [00:00<00:00]\u001b[A\u001b[A\n",
      "\n",
      "Epoch [12/20]: [14/21]  67%|██████▋    [00:00<00:00]\u001b[A\u001b[A\n",
      "\n",
      "Epoch [12/20]: [15/21]  71%|███████▏   [00:00<00:00]\u001b[A\u001b[A\n",
      "\n",
      "Epoch [12/20]: [16/21]  76%|███████▌   [00:00<00:00]\u001b[A\u001b[A\n",
      "\n",
      "Epoch [12/20]: [17/21]  81%|████████   [00:00<00:00]\u001b[A\u001b[A\n",
      "\n",
      "Epoch [12/20]: [18/21]  86%|████████▌  [00:00<00:00]\u001b[A\u001b[A\n",
      "\n",
      "Epoch [12/20]: [19/21]  90%|█████████  [00:00<00:00]\u001b[A\u001b[A\n",
      "\n",
      "Epoch [12/20]: [19/21]  90%|█████████  [00:00<00:00]\u001b[A\u001b[A\n",
      "\n",
      "Epoch [12/20]: [20/21]  95%|█████████▌ [00:00<00:00]\u001b[A\u001b[A\n",
      "\n",
      "                                                    \u001b[A\u001b[A/Users/hao/.pyenv/versions/3.6.15/envs/torch-cpu5/lib/python3.6/site-packages/torch/autocast_mode.py:141: UserWarning: User provided device_type of 'cuda', but CUDA is not available. Disabling\n",
      "  warnings.warn('User provided device_type of \\'cuda\\', but CUDA is not available. Disabling')\n"
     ]
    },
    {
     "name": "stdout",
     "output_type": "stream",
     "text": [
      "Training Results- Epoch[12]  Avg loss: 0.62           Avg auc:0.99\n",
      "Validation Results- Epoch[12]  Avg loss: 0.71           Avg auc:0.74\n"
     ]
    },
    {
     "name": "stderr",
     "output_type": "stream",
     "text": [
      "\n",
      "\n",
      "[1/21]   5%|▍          [00:00<?]\u001b[A\u001b[A\n",
      "\n",
      "Epoch [13/20]: [1/21]   5%|▍          [00:00<?]\u001b[A\u001b[A\n",
      "\n",
      "Epoch [13/20]: [1/21]   5%|▍          [00:00<?]\u001b[A\u001b[A\n",
      "\n",
      "Epoch [13/20]: [2/21]  10%|▉          [00:00<00:00]\u001b[A\u001b[A\n",
      "\n",
      "Epoch [13/20]: [3/21]  14%|█▍         [00:00<00:00]\u001b[A\u001b[A\n",
      "\n",
      "Epoch [13/20]: [4/21]  19%|█▉         [00:00<00:00]\u001b[A\u001b[A\n",
      "\n",
      "Epoch [13/20]: [5/21]  24%|██▍        [00:00<00:00]\u001b[A\u001b[A\n",
      "\n",
      "Epoch [13/20]: [6/21]  29%|██▊        [00:00<00:00]\u001b[A\u001b[A\n",
      "\n",
      "Epoch [13/20]: [7/21]  33%|███▎       [00:00<00:00]\u001b[A\u001b[A\n",
      "\n",
      "Epoch [13/20]: [8/21]  38%|███▊       [00:00<00:00]\u001b[A\u001b[A\n",
      "\n",
      "Epoch [13/20]: [9/21]  43%|████▎      [00:00<00:00]\u001b[A\u001b[A\n",
      "\n",
      "Epoch [13/20]: [9/21]  43%|████▎      [00:00<00:00]\u001b[A\u001b[A\n",
      "\n",
      "Epoch [13/20]: [10/21]  48%|████▊      [00:00<00:00]\u001b[A\u001b[A\n",
      "\n",
      "Epoch [13/20]: [11/21]  52%|█████▏     [00:00<00:00]\u001b[A\u001b[A\n",
      "\n",
      "Epoch [13/20]: [12/21]  57%|█████▋     [00:00<00:00]\u001b[A\u001b[A\n",
      "\n",
      "Epoch [13/20]: [13/21]  62%|██████▏    [00:00<00:00]\u001b[A\u001b[A\n",
      "\n",
      "Epoch [13/20]: [14/21]  67%|██████▋    [00:00<00:00]\u001b[A\u001b[A\n",
      "\n",
      "Epoch [13/20]: [15/21]  71%|███████▏   [00:00<00:00]\u001b[A\u001b[A\n",
      "\n",
      "Epoch [13/20]: [16/21]  76%|███████▌   [00:00<00:00]\u001b[A\u001b[A\n",
      "\n",
      "Epoch [13/20]: [17/21]  81%|████████   [00:00<00:00]\u001b[A\u001b[A\n",
      "\n",
      "Epoch [13/20]: [17/21]  81%|████████   [00:00<00:00]\u001b[A\u001b[A\n",
      "\n",
      "Epoch [13/20]: [18/21]  86%|████████▌  [00:00<00:00]\u001b[A\u001b[A\n",
      "\n",
      "Epoch [13/20]: [19/21]  90%|█████████  [00:00<00:00]\u001b[A\u001b[A\n",
      "\n",
      "Epoch [13/20]: [20/21]  95%|█████████▌ [00:00<00:00]\u001b[A\u001b[A\n",
      "\n",
      "                                                    \u001b[A\u001b[A/Users/hao/.pyenv/versions/3.6.15/envs/torch-cpu5/lib/python3.6/site-packages/torch/autocast_mode.py:141: UserWarning: User provided device_type of 'cuda', but CUDA is not available. Disabling\n",
      "  warnings.warn('User provided device_type of \\'cuda\\', but CUDA is not available. Disabling')\n"
     ]
    },
    {
     "name": "stdout",
     "output_type": "stream",
     "text": [
      "Training Results- Epoch[13]  Avg loss: 0.62           Avg auc:0.99\n",
      "Validation Results- Epoch[13]  Avg loss: 0.71           Avg auc:0.74\n"
     ]
    },
    {
     "name": "stderr",
     "output_type": "stream",
     "text": [
      "\n",
      "\n",
      "[1/21]   5%|▍          [00:00<?]\u001b[A\u001b[A\n",
      "\n",
      "Epoch [14/20]: [1/21]   5%|▍          [00:00<?]\u001b[A\u001b[A\n",
      "\n",
      "Epoch [14/20]: [1/21]   5%|▍          [00:00<?]\u001b[A\u001b[A\n",
      "\n",
      "Epoch [14/20]: [2/21]  10%|▉          [00:00<00:00]\u001b[A\u001b[A\n",
      "\n",
      "Epoch [14/20]: [3/21]  14%|█▍         [00:00<00:00]\u001b[A\u001b[A\n",
      "\n",
      "Epoch [14/20]: [4/21]  19%|█▉         [00:00<00:00]\u001b[A\u001b[A\n",
      "\n",
      "Epoch [14/20]: [5/21]  24%|██▍        [00:00<00:00]\u001b[A\u001b[A\n",
      "\n",
      "Epoch [14/20]: [6/21]  29%|██▊        [00:00<00:00]\u001b[A\u001b[A\n",
      "\n",
      "Epoch [14/20]: [7/21]  33%|███▎       [00:00<00:00]\u001b[A\u001b[A\n",
      "\n",
      "Epoch [14/20]: [8/21]  38%|███▊       [00:00<00:00]\u001b[A\u001b[A\n",
      "\n",
      "Epoch [14/20]: [9/21]  43%|████▎      [00:00<00:00]\u001b[A\u001b[A\n",
      "\n",
      "Epoch [14/20]: [10/21]  48%|████▊      [00:00<00:00]\u001b[A\u001b[A\n",
      "\n",
      "Epoch [14/20]: [10/21]  48%|████▊      [00:00<00:00]\u001b[A\u001b[A\n",
      "\n",
      "Epoch [14/20]: [11/21]  52%|█████▏     [00:00<00:00]\u001b[A\u001b[A\n",
      "\n",
      "Epoch [14/20]: [12/21]  57%|█████▋     [00:00<00:00]\u001b[A\u001b[A\n",
      "\n",
      "Epoch [14/20]: [13/21]  62%|██████▏    [00:00<00:00]\u001b[A\u001b[A\n",
      "\n",
      "Epoch [14/20]: [14/21]  67%|██████▋    [00:00<00:00]\u001b[A\u001b[A\n",
      "\n",
      "Epoch [14/20]: [15/21]  71%|███████▏   [00:00<00:00]\u001b[A\u001b[A\n",
      "\n",
      "Epoch [14/20]: [16/21]  76%|███████▌   [00:00<00:00]\u001b[A\u001b[A\n",
      "\n",
      "Epoch [14/20]: [17/21]  81%|████████   [00:00<00:00]\u001b[A\u001b[A\n",
      "\n",
      "Epoch [14/20]: [18/21]  86%|████████▌  [00:00<00:00]\u001b[A\u001b[A\n",
      "\n",
      "Epoch [14/20]: [19/21]  90%|█████████  [00:00<00:00]\u001b[A\u001b[A\n",
      "\n",
      "Epoch [14/20]: [19/21]  90%|█████████  [00:00<00:00]\u001b[A\u001b[A\n",
      "\n",
      "Epoch [14/20]: [20/21]  95%|█████████▌ [00:00<00:00]\u001b[A\u001b[A\n",
      "\n",
      "                                                    \u001b[A\u001b[A/Users/hao/.pyenv/versions/3.6.15/envs/torch-cpu5/lib/python3.6/site-packages/torch/autocast_mode.py:141: UserWarning: User provided device_type of 'cuda', but CUDA is not available. Disabling\n",
      "  warnings.warn('User provided device_type of \\'cuda\\', but CUDA is not available. Disabling')\n"
     ]
    },
    {
     "name": "stdout",
     "output_type": "stream",
     "text": [
      "Training Results- Epoch[14]  Avg loss: 0.62           Avg auc:0.99\n",
      "Validation Results- Epoch[14]  Avg loss: 0.71           Avg auc:0.74\n"
     ]
    },
    {
     "name": "stderr",
     "output_type": "stream",
     "text": [
      "\n",
      "\n",
      "[1/21]   5%|▍          [00:00<?]\u001b[A\u001b[A\n",
      "\n",
      "Epoch [15/20]: [1/21]   5%|▍          [00:00<?]\u001b[A\u001b[A\n",
      "\n",
      "Epoch [15/20]: [1/21]   5%|▍          [00:00<?]\u001b[A\u001b[A\n",
      "\n",
      "Epoch [15/20]: [2/21]  10%|▉          [00:00<00:00]\u001b[A\u001b[A\n",
      "\n",
      "Epoch [15/20]: [3/21]  14%|█▍         [00:00<00:00]\u001b[A\u001b[A\n",
      "\n",
      "Epoch [15/20]: [4/21]  19%|█▉         [00:00<00:00]\u001b[A\u001b[A\n",
      "\n",
      "Epoch [15/20]: [5/21]  24%|██▍        [00:00<00:00]\u001b[A\u001b[A\n",
      "\n",
      "Epoch [15/20]: [6/21]  29%|██▊        [00:00<00:00]\u001b[A\u001b[A\n",
      "\n",
      "Epoch [15/20]: [7/21]  33%|███▎       [00:00<00:00]\u001b[A\u001b[A\n",
      "\n",
      "Epoch [15/20]: [7/21]  33%|███▎       [00:00<00:00]\u001b[A\u001b[A\n",
      "\n",
      "Epoch [15/20]: [8/21]  38%|███▊       [00:00<00:00]\u001b[A\u001b[A\n",
      "\n",
      "Epoch [15/20]: [9/21]  43%|████▎      [00:00<00:00]\u001b[A\u001b[A\n",
      "\n",
      "Epoch [15/20]: [10/21]  48%|████▊      [00:00<00:00]\u001b[A\u001b[A\n",
      "\n",
      "Epoch [15/20]: [11/21]  52%|█████▏     [00:00<00:00]\u001b[A\u001b[A\n",
      "\n",
      "Epoch [15/20]: [12/21]  57%|█████▋     [00:00<00:00]\u001b[A\u001b[A\n",
      "\n",
      "Epoch [15/20]: [13/21]  62%|██████▏    [00:00<00:00]\u001b[A\u001b[A\n",
      "\n",
      "Epoch [15/20]: [14/21]  67%|██████▋    [00:00<00:00]\u001b[A\u001b[A\n",
      "\n",
      "Epoch [15/20]: [15/21]  71%|███████▏   [00:00<00:00]\u001b[A\u001b[A\n",
      "\n",
      "Epoch [15/20]: [16/21]  76%|███████▌   [00:00<00:00]\u001b[A\u001b[A\n",
      "\n",
      "Epoch [15/20]: [16/21]  76%|███████▌   [00:00<00:00]\u001b[A\u001b[A\n",
      "\n",
      "Epoch [15/20]: [17/21]  81%|████████   [00:00<00:00]\u001b[A\u001b[A\n",
      "\n",
      "Epoch [15/20]: [18/21]  86%|████████▌  [00:00<00:00]\u001b[A\u001b[A\n",
      "\n",
      "Epoch [15/20]: [19/21]  90%|█████████  [00:00<00:00]\u001b[A\u001b[A\n",
      "\n",
      "Epoch [15/20]: [20/21]  95%|█████████▌ [00:00<00:00]\u001b[A\u001b[A\n",
      "\n",
      "                                                    \u001b[A\u001b[A/Users/hao/.pyenv/versions/3.6.15/envs/torch-cpu5/lib/python3.6/site-packages/torch/autocast_mode.py:141: UserWarning: User provided device_type of 'cuda', but CUDA is not available. Disabling\n",
      "  warnings.warn('User provided device_type of \\'cuda\\', but CUDA is not available. Disabling')\n"
     ]
    },
    {
     "name": "stdout",
     "output_type": "stream",
     "text": [
      "Training Results- Epoch[15]  Avg loss: 0.62           Avg auc:0.99\n",
      "Validation Results- Epoch[15]  Avg loss: 0.71           Avg auc:0.74\n"
     ]
    },
    {
     "name": "stderr",
     "output_type": "stream",
     "text": [
      "\n",
      "\n",
      "[1/21]   5%|▍          [00:00<?]\u001b[A\u001b[A\n",
      "\n",
      "Epoch [16/20]: [1/21]   5%|▍          [00:00<?]\u001b[A\u001b[A\n",
      "\n",
      "Epoch [16/20]: [1/21]   5%|▍          [00:00<?]\u001b[A\u001b[A\n",
      "\n",
      "Epoch [16/20]: [2/21]  10%|▉          [00:00<00:00]\u001b[A\u001b[A\n",
      "\n",
      "Epoch [16/20]: [3/21]  14%|█▍         [00:00<00:00]\u001b[A\u001b[A\n",
      "\n",
      "Epoch [16/20]: [4/21]  19%|█▉         [00:00<00:00]\u001b[A\u001b[A\n",
      "\n",
      "Epoch [16/20]: [5/21]  24%|██▍        [00:00<00:00]\u001b[A\u001b[A\n",
      "\n",
      "Epoch [16/20]: [6/21]  29%|██▊        [00:00<00:00]\u001b[A\u001b[A\n",
      "\n",
      "Epoch [16/20]: [7/21]  33%|███▎       [00:00<00:00]\u001b[A\u001b[A\n",
      "\n",
      "Epoch [16/20]: [8/21]  38%|███▊       [00:00<00:00]\u001b[A\u001b[A\n",
      "\n",
      "Epoch [16/20]: [9/21]  43%|████▎      [00:00<00:00]\u001b[A\u001b[A\n",
      "\n",
      "Epoch [16/20]: [10/21]  48%|████▊      [00:00<00:00]\u001b[A\u001b[A\n",
      "\n",
      "Epoch [16/20]: [10/21]  48%|████▊      [00:00<00:00]\u001b[A\u001b[A\n",
      "\n",
      "Epoch [16/20]: [11/21]  52%|█████▏     [00:00<00:00]\u001b[A\u001b[A\n",
      "\n",
      "Epoch [16/20]: [12/21]  57%|█████▋     [00:00<00:00]\u001b[A\u001b[A\n",
      "\n",
      "Epoch [16/20]: [13/21]  62%|██████▏    [00:00<00:00]\u001b[A\u001b[A\n",
      "\n",
      "Epoch [16/20]: [14/21]  67%|██████▋    [00:00<00:00]\u001b[A\u001b[A\n",
      "\n",
      "Epoch [16/20]: [15/21]  71%|███████▏   [00:00<00:00]\u001b[A\u001b[A\n",
      "\n",
      "Epoch [16/20]: [16/21]  76%|███████▌   [00:00<00:00]\u001b[A\u001b[A\n",
      "\n",
      "Epoch [16/20]: [17/21]  81%|████████   [00:00<00:00]\u001b[A\u001b[A\n",
      "\n",
      "Epoch [16/20]: [18/21]  86%|████████▌  [00:00<00:00]\u001b[A\u001b[A\n",
      "\n",
      "Epoch [16/20]: [19/21]  90%|█████████  [00:00<00:00]\u001b[A\u001b[A\n",
      "\n",
      "Epoch [16/20]: [19/21]  90%|█████████  [00:00<00:00]\u001b[A\u001b[A\n",
      "\n",
      "Epoch [16/20]: [20/21]  95%|█████████▌ [00:00<00:00]\u001b[A\u001b[A\n",
      "\n",
      "                                                    \u001b[A\u001b[A/Users/hao/.pyenv/versions/3.6.15/envs/torch-cpu5/lib/python3.6/site-packages/torch/autocast_mode.py:141: UserWarning: User provided device_type of 'cuda', but CUDA is not available. Disabling\n",
      "  warnings.warn('User provided device_type of \\'cuda\\', but CUDA is not available. Disabling')\n"
     ]
    },
    {
     "name": "stdout",
     "output_type": "stream",
     "text": [
      "Training Results- Epoch[16]  Avg loss: 0.62           Avg auc:0.99\n",
      "Validation Results- Epoch[16]  Avg loss: 0.71           Avg auc:0.74\n"
     ]
    },
    {
     "name": "stderr",
     "output_type": "stream",
     "text": [
      "\n",
      "\n",
      "[1/21]   5%|▍          [00:00<?]\u001b[A\u001b[A\n",
      "\n",
      "Epoch [17/20]: [1/21]   5%|▍          [00:00<?]\u001b[A\u001b[A\n",
      "\n",
      "Epoch [17/20]: [1/21]   5%|▍          [00:00<?]\u001b[A\u001b[A\n",
      "\n",
      "Epoch [17/20]: [2/21]  10%|▉          [00:00<00:00]\u001b[A\u001b[A\n",
      "\n",
      "Epoch [17/20]: [3/21]  14%|█▍         [00:00<00:00]\u001b[A\u001b[A\n",
      "\n",
      "Epoch [17/20]: [4/21]  19%|█▉         [00:00<00:00]\u001b[A\u001b[A\n",
      "\n",
      "Epoch [17/20]: [5/21]  24%|██▍        [00:00<00:00]\u001b[A\u001b[A\n",
      "\n",
      "Epoch [17/20]: [6/21]  29%|██▊        [00:00<00:00]\u001b[A\u001b[A\n",
      "\n",
      "Epoch [17/20]: [7/21]  33%|███▎       [00:00<00:00]\u001b[A\u001b[A\n",
      "\n",
      "Epoch [17/20]: [8/21]  38%|███▊       [00:00<00:00]\u001b[A\u001b[A\n",
      "\n",
      "Epoch [17/20]: [9/21]  43%|████▎      [00:00<00:00]\u001b[A\u001b[A\n",
      "\n",
      "Epoch [17/20]: [9/21]  43%|████▎      [00:00<00:00]\u001b[A\u001b[A\n",
      "\n",
      "Epoch [17/20]: [10/21]  48%|████▊      [00:00<00:00]\u001b[A\u001b[A\n",
      "\n",
      "Epoch [17/20]: [11/21]  52%|█████▏     [00:00<00:00]\u001b[A\u001b[A\n",
      "\n",
      "Epoch [17/20]: [12/21]  57%|█████▋     [00:00<00:00]\u001b[A\u001b[A\n",
      "\n",
      "Epoch [17/20]: [13/21]  62%|██████▏    [00:00<00:00]\u001b[A\u001b[A\n",
      "\n",
      "Epoch [17/20]: [14/21]  67%|██████▋    [00:00<00:00]\u001b[A\u001b[A\n",
      "\n",
      "Epoch [17/20]: [15/21]  71%|███████▏   [00:00<00:00]\u001b[A\u001b[A\n",
      "\n",
      "Epoch [17/20]: [16/21]  76%|███████▌   [00:00<00:00]\u001b[A\u001b[A\n",
      "\n",
      "Epoch [17/20]: [17/21]  81%|████████   [00:00<00:00]\u001b[A\u001b[A\n",
      "\n",
      "Epoch [17/20]: [17/21]  81%|████████   [00:00<00:00]\u001b[A\u001b[A\n",
      "\n",
      "Epoch [17/20]: [18/21]  86%|████████▌  [00:00<00:00]\u001b[A\u001b[A\n",
      "\n",
      "Epoch [17/20]: [19/21]  90%|█████████  [00:00<00:00]\u001b[A\u001b[A\n",
      "\n",
      "Epoch [17/20]: [20/21]  95%|█████████▌ [00:00<00:00]\u001b[A\u001b[A\n",
      "\n",
      "                                                    \u001b[A\u001b[A/Users/hao/.pyenv/versions/3.6.15/envs/torch-cpu5/lib/python3.6/site-packages/torch/autocast_mode.py:141: UserWarning: User provided device_type of 'cuda', but CUDA is not available. Disabling\n",
      "  warnings.warn('User provided device_type of \\'cuda\\', but CUDA is not available. Disabling')\n"
     ]
    },
    {
     "name": "stdout",
     "output_type": "stream",
     "text": [
      "Training Results- Epoch[17]  Avg loss: 0.62           Avg auc:0.99\n",
      "Validation Results- Epoch[17]  Avg loss: 0.71           Avg auc:0.75\n"
     ]
    },
    {
     "name": "stderr",
     "output_type": "stream",
     "text": [
      "\n",
      "\n",
      "[1/21]   5%|▍          [00:00<?]\u001b[A\u001b[A\n",
      "\n",
      "Epoch [18/20]: [1/21]   5%|▍          [00:00<?]\u001b[A\u001b[A\n",
      "\n",
      "Epoch [18/20]: [1/21]   5%|▍          [00:00<?]\u001b[A\u001b[A\n",
      "\n",
      "Epoch [18/20]: [2/21]  10%|▉          [00:00<00:01]\u001b[A\u001b[A\n",
      "\n",
      "Epoch [18/20]: [3/21]  14%|█▍         [00:00<00:00]\u001b[A\u001b[A\n",
      "\n",
      "Epoch [18/20]: [4/21]  19%|█▉         [00:00<00:00]\u001b[A\u001b[A\n",
      "\n",
      "Epoch [18/20]: [5/21]  24%|██▍        [00:00<00:00]\u001b[A\u001b[A\n",
      "\n",
      "Epoch [18/20]: [5/21]  24%|██▍        [00:00<00:00]\u001b[A\u001b[A\n",
      "\n",
      "Epoch [18/20]: [6/21]  29%|██▊        [00:00<00:00]\u001b[A\u001b[A\n",
      "\n",
      "Epoch [18/20]: [7/21]  33%|███▎       [00:00<00:00]\u001b[A\u001b[A\n",
      "\n",
      "Epoch [18/20]: [8/21]  38%|███▊       [00:00<00:00]\u001b[A\u001b[A\n",
      "\n",
      "Epoch [18/20]: [9/21]  43%|████▎      [00:00<00:00]\u001b[A\u001b[A\n",
      "\n",
      "Epoch [18/20]: [10/21]  48%|████▊      [00:00<00:00]\u001b[A\u001b[A\n",
      "\n",
      "Epoch [18/20]: [11/21]  52%|█████▏     [00:00<00:00]\u001b[A\u001b[A\n",
      "\n",
      "Epoch [18/20]: [12/21]  57%|█████▋     [00:00<00:00]\u001b[A\u001b[A\n",
      "\n",
      "Epoch [18/20]: [13/21]  62%|██████▏    [00:00<00:00]\u001b[A\u001b[A\n",
      "\n",
      "Epoch [18/20]: [13/21]  62%|██████▏    [00:00<00:00]\u001b[A\u001b[A\n",
      "\n",
      "Epoch [18/20]: [14/21]  67%|██████▋    [00:00<00:00]\u001b[A\u001b[A\n",
      "\n",
      "Epoch [18/20]: [15/21]  71%|███████▏   [00:00<00:00]\u001b[A\u001b[A\n",
      "\n",
      "Epoch [18/20]: [16/21]  76%|███████▌   [00:00<00:00]\u001b[A\u001b[A\n",
      "\n",
      "Epoch [18/20]: [17/21]  81%|████████   [00:00<00:00]\u001b[A\u001b[A\n",
      "\n",
      "Epoch [18/20]: [18/21]  86%|████████▌  [00:00<00:00]\u001b[A\u001b[A\n",
      "\n",
      "Epoch [18/20]: [19/21]  90%|█████████  [00:00<00:00]\u001b[A\u001b[A\n",
      "\n",
      "Epoch [18/20]: [20/21]  95%|█████████▌ [00:00<00:00]\u001b[A\u001b[A\n",
      "\n",
      "                                                    \u001b[A\u001b[A/Users/hao/.pyenv/versions/3.6.15/envs/torch-cpu5/lib/python3.6/site-packages/torch/autocast_mode.py:141: UserWarning: User provided device_type of 'cuda', but CUDA is not available. Disabling\n",
      "  warnings.warn('User provided device_type of \\'cuda\\', but CUDA is not available. Disabling')\n"
     ]
    },
    {
     "name": "stdout",
     "output_type": "stream",
     "text": [
      "Training Results- Epoch[18]  Avg loss: 0.62           Avg auc:0.99\n",
      "Validation Results- Epoch[18]  Avg loss: 0.71           Avg auc:0.75\n"
     ]
    },
    {
     "name": "stderr",
     "output_type": "stream",
     "text": [
      "\n",
      "\n",
      "[1/21]   5%|▍          [00:00<?]\u001b[A\u001b[A\n",
      "\n",
      "Epoch [19/20]: [1/21]   5%|▍          [00:00<?]\u001b[A\u001b[A\n",
      "\n",
      "Epoch [19/20]: [1/21]   5%|▍          [00:00<?]\u001b[A\u001b[A\n",
      "\n",
      "Epoch [19/20]: [2/21]  10%|▉          [00:00<00:00]\u001b[A\u001b[A\n",
      "\n",
      "Epoch [19/20]: [3/21]  14%|█▍         [00:00<00:00]\u001b[A\u001b[A\n",
      "\n",
      "Epoch [19/20]: [4/21]  19%|█▉         [00:00<00:00]\u001b[A\u001b[A\n",
      "\n",
      "Epoch [19/20]: [5/21]  24%|██▍        [00:00<00:00]\u001b[A\u001b[A\n",
      "\n",
      "Epoch [19/20]: [6/21]  29%|██▊        [00:00<00:00]\u001b[A\u001b[A\n",
      "\n",
      "Epoch [19/20]: [7/21]  33%|███▎       [00:00<00:00]\u001b[A\u001b[A\n",
      "\n",
      "Epoch [19/20]: [8/21]  38%|███▊       [00:00<00:00]\u001b[A\u001b[A\n",
      "\n",
      "Epoch [19/20]: [8/21]  38%|███▊       [00:00<00:00]\u001b[A\u001b[A\n",
      "\n",
      "Epoch [19/20]: [9/21]  43%|████▎      [00:00<00:00]\u001b[A\u001b[A\n",
      "\n",
      "Epoch [19/20]: [10/21]  48%|████▊      [00:00<00:00]\u001b[A\u001b[A\n",
      "\n",
      "Epoch [19/20]: [11/21]  52%|█████▏     [00:00<00:00]\u001b[A\u001b[A\n",
      "\n",
      "Epoch [19/20]: [12/21]  57%|█████▋     [00:00<00:00]\u001b[A\u001b[A\n",
      "\n",
      "Epoch [19/20]: [13/21]  62%|██████▏    [00:00<00:00]\u001b[A\u001b[A\n",
      "\n",
      "Epoch [19/20]: [14/21]  67%|██████▋    [00:00<00:00]\u001b[A\u001b[A\n",
      "\n",
      "Epoch [19/20]: [15/21]  71%|███████▏   [00:00<00:00]\u001b[A\u001b[A\n",
      "\n",
      "Epoch [19/20]: [16/21]  76%|███████▌   [00:00<00:00]\u001b[A\u001b[A\n",
      "\n",
      "Epoch [19/20]: [17/21]  81%|████████   [00:00<00:00]\u001b[A\u001b[A\n",
      "\n",
      "Epoch [19/20]: [17/21]  81%|████████   [00:00<00:00]\u001b[A\u001b[A\n",
      "\n",
      "Epoch [19/20]: [18/21]  86%|████████▌  [00:00<00:00]\u001b[A\u001b[A\n",
      "\n",
      "Epoch [19/20]: [19/21]  90%|█████████  [00:00<00:00]\u001b[A\u001b[A\n",
      "\n",
      "Epoch [19/20]: [20/21]  95%|█████████▌ [00:00<00:00]\u001b[A\u001b[A\n",
      "\n",
      "                                                    \u001b[A\u001b[A/Users/hao/.pyenv/versions/3.6.15/envs/torch-cpu5/lib/python3.6/site-packages/torch/autocast_mode.py:141: UserWarning: User provided device_type of 'cuda', but CUDA is not available. Disabling\n",
      "  warnings.warn('User provided device_type of \\'cuda\\', but CUDA is not available. Disabling')\n"
     ]
    },
    {
     "name": "stdout",
     "output_type": "stream",
     "text": [
      "Training Results- Epoch[19]  Avg loss: 0.62           Avg auc:0.99\n",
      "Validation Results- Epoch[19]  Avg loss: 0.71           Avg auc:0.75\n"
     ]
    },
    {
     "name": "stderr",
     "output_type": "stream",
     "text": [
      "\n",
      "\n",
      "[1/21]   5%|▍          [00:00<?]\u001b[A\u001b[A\n",
      "\n",
      "Epoch [20/20]: [1/21]   5%|▍          [00:00<?]\u001b[A\u001b[A\n",
      "\n",
      "Epoch [20/20]: [1/21]   5%|▍          [00:00<?]\u001b[A\u001b[A\n",
      "\n",
      "Epoch [20/20]: [2/21]  10%|▉          [00:00<00:00]\u001b[A\u001b[A\n",
      "\n",
      "Epoch [20/20]: [3/21]  14%|█▍         [00:00<00:00]\u001b[A\u001b[A\n",
      "\n",
      "Epoch [20/20]: [4/21]  19%|█▉         [00:00<00:00]\u001b[A\u001b[A\n",
      "\n",
      "Epoch [20/20]: [5/21]  24%|██▍        [00:00<00:00]\u001b[A\u001b[A\n",
      "\n",
      "Epoch [20/20]: [6/21]  29%|██▊        [00:00<00:00]\u001b[A\u001b[A\n",
      "\n",
      "Epoch [20/20]: [7/21]  33%|███▎       [00:00<00:00]\u001b[A\u001b[A\n",
      "\n",
      "Epoch [20/20]: [8/21]  38%|███▊       [00:00<00:00]\u001b[A\u001b[A\n",
      "\n",
      "Epoch [20/20]: [8/21]  38%|███▊       [00:00<00:00]\u001b[A\u001b[A\n",
      "\n",
      "Epoch [20/20]: [9/21]  43%|████▎      [00:00<00:00]\u001b[A\u001b[A\n",
      "\n",
      "Epoch [20/20]: [10/21]  48%|████▊      [00:00<00:00]\u001b[A\u001b[A\n",
      "\n",
      "Epoch [20/20]: [11/21]  52%|█████▏     [00:00<00:00]\u001b[A\u001b[A\n",
      "\n",
      "Epoch [20/20]: [12/21]  57%|█████▋     [00:00<00:00]\u001b[A\u001b[A\n",
      "\n",
      "Epoch [20/20]: [13/21]  62%|██████▏    [00:00<00:00]\u001b[A\u001b[A\n",
      "\n",
      "Epoch [20/20]: [14/21]  67%|██████▋    [00:00<00:00]\u001b[A\u001b[A\n",
      "\n",
      "Epoch [20/20]: [15/21]  71%|███████▏   [00:00<00:00]\u001b[A\u001b[A\n",
      "\n",
      "Epoch [20/20]: [16/21]  76%|███████▌   [00:00<00:00]\u001b[A\u001b[A\n",
      "\n",
      "Epoch [20/20]: [16/21]  76%|███████▌   [00:00<00:00]\u001b[A\u001b[A\n",
      "\n",
      "Epoch [20/20]: [17/21]  81%|████████   [00:00<00:00]\u001b[A\u001b[A\n",
      "\n",
      "Epoch [20/20]: [18/21]  86%|████████▌  [00:00<00:00]\u001b[A\u001b[A\n",
      "\n",
      "Epoch [20/20]: [19/21]  90%|█████████  [00:00<00:00]\u001b[A\u001b[A\n",
      "\n",
      "Epoch [20/20]: [20/21]  95%|█████████▌ [00:00<00:00]\u001b[A\u001b[A\n",
      "\n",
      "                                                    \u001b[A\u001b[A"
     ]
    },
    {
     "name": "stdout",
     "output_type": "stream",
     "text": [
      "Training Results- Epoch[20]  Avg loss: 0.62           Avg auc:0.99\n",
      "Validation Results- Epoch[20]  Avg loss: 0.71           Avg auc:0.74\n",
      "Test Results - Epoch[20]  Avg loss: 0.83      Avg ndcg: 0.00  Avg auc: 0.42  Avg auc_top: 0.00       Avg recall: 0.00  Avg precision: 0.00\n"
     ]
    },
    {
     "data": {
      "text/html": [
       "Waiting for W&B process to finish... <strong style=\"color:green\">(success).</strong>"
      ],
      "text/plain": [
       "<IPython.core.display.HTML object>"
      ]
     },
     "metadata": {},
     "output_type": "display_data"
    },
    {
     "data": {
      "text/html": [
       "<style>\n",
       "    table.wandb td:nth-child(1) { padding: 0 10px; text-align: left ; width: auto;} td:nth-child(2) {text-align: left ; width: 100%}\n",
       "    .wandb-row { display: flex; flex-direction: row; flex-wrap: wrap; justify-content: flex-start; width: 100% }\n",
       "    .wandb-col { display: flex; flex-direction: column; flex-basis: 100%; flex: 1; padding: 10px; }\n",
       "    </style>\n",
       "<div class=\"wandb-row\"><div class=\"wandb-col\"><h3>Run history:</h3><br/><table class=\"wandb\"><tr><td>lr/group_0</td><td>▁▁▁▁▁▁▁▁▁▁▁▁▁▁▁▁▁▁▁▁▁▁▁▁▁▁▁▁▁▁▁▁▁▁▁▁▁▁▁▁</td></tr><tr><td>test/auc</td><td>▁</td></tr><tr><td>test/hr</td><td>▁</td></tr><tr><td>test/loss</td><td>▁</td></tr><tr><td>test/ndcg</td><td>▁</td></tr><tr><td>test/precision_top</td><td>▁</td></tr><tr><td>test/recall_top</td><td>▁</td></tr><tr><td>test/roc_top</td><td>▁</td></tr><tr><td>training/auc</td><td>▃▃▃▃▅▃▃▃▁▃▆▅▅▃▃▃▃▅▅█</td></tr><tr><td>training/loss</td><td>▁▃▇█▂▂▆▂▂▁▅█▂▁▇▆▁▅▁▁▃▁▆▃▁▂▁▇▂▁▁▃▁▅▃▁▇▃▄▂</td></tr><tr><td>validation/auc</td><td>▁▂▂▂▁▃▃▄▆▇▇▇▇▅▆▇▇▇█▇</td></tr><tr><td>validation/loss</td><td>▆▄▅▇█▅▂▃▁▁▃▃▃▆▇▇▃▄▄▅</td></tr></table><br/></div><div class=\"wandb-col\"><h3>Run summary:</h3><br/><table class=\"wandb\"><tr><td>lr/group_0</td><td>0.001</td></tr><tr><td>test/auc</td><td>0.42</td></tr><tr><td>test/hr</td><td>0.0</td></tr><tr><td>test/loss</td><td>0.83236</td></tr><tr><td>test/ndcg</td><td>0.0</td></tr><tr><td>test/precision_top</td><td>0.0</td></tr><tr><td>test/recall_top</td><td>0.0</td></tr><tr><td>test/roc_top</td><td>0.0</td></tr><tr><td>training/auc</td><td>0.99182</td></tr><tr><td>training/loss</td><td>0.62048</td></tr><tr><td>validation/auc</td><td>0.74307</td></tr><tr><td>validation/loss</td><td>0.70733</td></tr></table><br/></div></div>"
      ],
      "text/plain": [
       "<IPython.core.display.HTML object>"
      ]
     },
     "metadata": {},
     "output_type": "display_data"
    },
    {
     "data": {
      "text/html": [
       "Synced <strong style=\"color:#cdcd00\">City-City_job</strong>: <a href=\"https://wandb.ai/tiyuok2023/pytorch-jrs/runs/3kerdex0\" target=\"_blank\">https://wandb.ai/tiyuok2023/pytorch-jrs/runs/3kerdex0</a><br/>Synced 5 W&B file(s), 0 media file(s), 0 artifact file(s) and 2 other file(s)"
      ],
      "text/plain": [
       "<IPython.core.display.HTML object>"
      ]
     },
     "metadata": {},
     "output_type": "display_data"
    },
    {
     "data": {
      "text/html": [
       "Find logs at: <code>./wandb/run-20220629_221020-3kerdex0/logs</code>"
      ],
      "text/plain": [
       "<IPython.core.display.HTML object>"
      ]
     },
     "metadata": {},
     "output_type": "display_data"
    }
   ],
   "source": [
    "wandb_logger = WandBLogger(\n",
    "    project=\"pytorch-jrs\",\n",
    "    name=\"-\".join(user_features)+'-'+'-'.join(item_features),\n",
    "    config={\"max_epochs\": EPOCHS,\"batch_size\":BATCH_SIZE, 'Freatures':user_features+item_features},\n",
    "    tags=[\"entity\", \"jrs\"]\n",
    ")\n",
    "\n",
    "to_save = {'model': model}\n",
    "checkpoint_handler = ModelCheckpoint(\n",
    "    wandb_logger.run.dir,\n",
    "    n_saved=2, filename_prefix='best',\n",
    "    score_name=\"auc\",\n",
    "    global_step_transform=global_step_from_engine(trainer)\n",
    ")\n",
    "\n",
    "val_evaluator.add_event_handler(Events.COMPLETED, checkpoint_handler, to_save)\n",
    "\n",
    "    \n",
    "wandb_logger.attach_output_handler(\n",
    "    trainer,\n",
    "    event_name=Events.ITERATION_COMPLETED,\n",
    "    tag=\"training\",\n",
    "    output_transform=lambda loss: {\"loss\": loss}\n",
    ")\n",
    "\n",
    "wandb_logger.attach_output_handler(\n",
    "    train_evaluator,\n",
    "    event_name=Events.EPOCH_COMPLETED,\n",
    "    tag=\"training\",\n",
    "    metric_names=['loss','auc'],\n",
    "    global_step_transform=lambda *_: trainer.state.iteration,\n",
    ")\n",
    "\n",
    "wandb_logger.attach_output_handler(\n",
    "    val_evaluator,\n",
    "    event_name=Events.EPOCH_COMPLETED,\n",
    "    tag=\"validation\",\n",
    "    metric_names=['loss',\"auc\"],\n",
    "    global_step_transform=lambda *_: trainer.state.iteration,\n",
    ")\n",
    "\n",
    "\n",
    "wandb_logger.attach_output_handler(\n",
    "    test_evaluator,\n",
    "    event_name=Events.COMPLETED,\n",
    "    tag=\"test\",\n",
    "    metric_names=['loss',\"auc\", 'hr', 'ndcg', 'roc_top', 'recall_top', 'precision_top'],\n",
    "    global_step_transform=lambda *_: trainer.state.iteration,\n",
    ")\n",
    "\n",
    "\n",
    "wandb_logger.attach_opt_params_handler(\n",
    "    trainer,\n",
    "    event_name=Events.ITERATION_STARTED,\n",
    "    optimizer=optimizer,\n",
    "    param_name='lr'  # optional\n",
    ")\n",
    "\n",
    "# wandb_logger.watch(model) \n",
    "\n",
    "# trainer.run(train_loader, max_epochs=EPOCHS)\n",
    "wandb_logger.close()"
   ]
  },
  {
   "cell_type": "code",
   "execution_count": null,
   "id": "ea211e74",
   "metadata": {},
   "outputs": [],
   "source": []
  },
  {
   "cell_type": "code",
   "execution_count": null,
   "id": "c0f0bff1",
   "metadata": {},
   "outputs": [],
   "source": []
  },
  {
   "cell_type": "code",
   "execution_count": null,
   "id": "44689aeb",
   "metadata": {},
   "outputs": [],
   "source": []
  }
 ],
 "metadata": {
  "kernelspec": {
   "display_name": "Python 3",
   "language": "python",
   "name": "python3"
  },
  "language_info": {
   "codemirror_mode": {
    "name": "ipython",
    "version": 3
   },
   "file_extension": ".py",
   "mimetype": "text/x-python",
   "name": "python",
   "nbconvert_exporter": "python",
   "pygments_lexer": "ipython3",
   "version": "3.6.15"
  }
 },
 "nbformat": 4,
 "nbformat_minor": 5
}
