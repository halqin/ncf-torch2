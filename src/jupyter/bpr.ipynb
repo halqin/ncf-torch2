{
 "cells": [
  {
   "cell_type": "code",
   "execution_count": 65,
   "id": "3ee1b655",
   "metadata": {},
   "outputs": [],
   "source": [
    "import os\n",
    "import sys\n",
    "sys.path.append('../../src')\n",
    "from hydra import initialize, compose\n",
    "import pathlib\n",
    "import pandas as pd\n",
    "import numpy as np\n",
    "import pickle\n",
    "from tqdm.auto import tqdm\n",
    "\n",
    "# from datasets.jobdataset import generate_dataset, _hfd5_from_dataframe\n",
    "from datasets.job_hdf5 import hdf5_from_dataframe, get_career\n",
    "import data_process.neg_sample as ng_sample\n",
    "from utils.constants import DEFAULT_USER_COL,DEFAULT_ITEM_COL,DEFAULT_RATING_COL, DEFAULT_PREDICTION_COL\n",
    "# from implicit_eval import microsoft_eval,model_infer_df\n",
    "# from implicit.als import AlternatingLeastSquares\n",
    "# from implicit.bpr import BayesianPersonalizedRanking\n",
    "# from implicit.lmf import LogisticMatrixFactorization\n",
    "from implicit_build import bpr, als, lmf\n",
    "from metrics import ranking\n",
    "from metrics.evaluate_ignite import model_infer2\n",
    "\n",
    "with initialize(version_base=None, config_path=\"../conf\"):\n",
    "    cfg = compose(config_name=\"config\", overrides=[])"
   ]
  },
  {
   "cell_type": "markdown",
   "id": "76593aa6",
   "metadata": {},
   "source": [
    "# Create the the data pipe"
   ]
  },
  {
   "cell_type": "code",
   "execution_count": 66,
   "id": "1dd920d2",
   "metadata": {},
   "outputs": [],
   "source": [
    "df_train_pos  = ng_sample.read_feather(pathlib.Path(cfg.path.root, cfg.file.train_pos))"
   ]
  },
  {
   "cell_type": "code",
   "execution_count": 67,
   "id": "dff7b576",
   "metadata": {},
   "outputs": [],
   "source": [
    "df_train_pos[DEFAULT_RATING_COL] = 1"
   ]
  },
  {
   "cell_type": "code",
   "execution_count": 68,
   "id": "4f95dc4f",
   "metadata": {},
   "outputs": [],
   "source": [
    "# df_train_pos[DEFAULT_USER_COL] = df_train_pos[DEFAULT_USER_COL].astype(str)\n",
    "# df_train_pos[DEFAULT_ITEM_COL] = df_train_pos[DEFAULT_ITEM_COL].astype(str)\n",
    "df_train_pos[DEFAULT_USER_COL] = df_train_pos[DEFAULT_USER_COL].astype(\"category\")\n",
    "df_train_pos[DEFAULT_ITEM_COL] = df_train_pos[DEFAULT_ITEM_COL].astype(\"category\")"
   ]
  },
  {
   "cell_type": "code",
   "execution_count": 69,
   "id": "55e6e0ac",
   "metadata": {},
   "outputs": [],
   "source": [
    "# df_train_pos[DEFAULT_USER_COL]"
   ]
  },
  {
   "cell_type": "code",
   "execution_count": 70,
   "id": "384bda8f",
   "metadata": {},
   "outputs": [],
   "source": [
    "# pathlib.Path(cfg.path.root, cfg.file.hdf5)"
   ]
  },
  {
   "cell_type": "code",
   "execution_count": 71,
   "id": "86adffc4",
   "metadata": {},
   "outputs": [],
   "source": [
    "hdf5_from_dataframe(df_train_pos, pathlib.Path(cfg.path.root, cfg.file.hdf5))"
   ]
  },
  {
   "cell_type": "markdown",
   "id": "c4f29f47",
   "metadata": {},
   "source": [
    "## Read data & Train"
   ]
  },
  {
   "cell_type": "code",
   "execution_count": 72,
   "id": "d46bdf9f",
   "metadata": {},
   "outputs": [],
   "source": [
    "jobsid, usersid, user_job_app = get_career(pathlib.Path(cfg.path.root, cfg.file.hdf5))\n",
    "model_path = \"./models\""
   ]
  },
  {
   "cell_type": "code",
   "execution_count": 73,
   "id": "913b6dfc",
   "metadata": {},
   "outputs": [],
   "source": [
    "# user_job_app"
   ]
  },
  {
   "cell_type": "code",
   "execution_count": 74,
   "id": "545afd0e",
   "metadata": {},
   "outputs": [
    {
     "name": "stderr",
     "output_type": "stream",
     "text": [
      "100%|██████████| 100/100 [00:38<00:00,  2.62it/s, train_auc=93.11%, skipped=0.10%]\n"
     ]
    }
   ],
   "source": [
    "# user_job_app = job_user_app.T.tocsr()\n",
    "bpr(model_path, user_job_app)\n",
    "# als(model_path, user_job_app)\n",
    "# lmf(model_path, user_job_app)"
   ]
  },
  {
   "cell_type": "code",
   "execution_count": 75,
   "id": "526cb48c",
   "metadata": {},
   "outputs": [],
   "source": [
    "# df_train_pos.userid.unique()"
   ]
  },
  {
   "cell_type": "code",
   "execution_count": 76,
   "id": "83036205",
   "metadata": {},
   "outputs": [],
   "source": [
    "def read_train_gd_csv(data_testgd_path, usecols):\n",
    "    test_gddf = pd.read_csv(data_testgd_path, usecols=usecols)\n",
    "#     test_gddf[DEFAULT_USER_COL] = test_gddf[DEFAULT_USER_COL].astype('str')\n",
    "#     test_gddf[DEFAULT_ITEM_COL] = test_gddf[DEFAULT_ITEM_COL].astype('str')\n",
    "    return test_gddf"
   ]
  },
  {
   "cell_type": "code",
   "execution_count": 77,
   "id": "ba437309",
   "metadata": {},
   "outputs": [],
   "source": [
    "df_test_ori = pd.read_feather(pathlib.Path(cfg.path.root, cfg.file.test))\n",
    "\n",
    "\n",
    "df_train =read_train_gd_csv('../../data/jobs/leave_one_train_neg.csv', usecols=[DEFAULT_USER_COL, DEFAULT_ITEM_COL, DEFAULT_RATING_COL])\n",
    "\n",
    "df_test =read_train_gd_csv('../../data/jobs/leave_one_test.csv', usecols=[DEFAULT_USER_COL, DEFAULT_ITEM_COL, DEFAULT_RATING_COL])\n"
   ]
  },
  {
   "cell_type": "code",
   "execution_count": 78,
   "id": "300d983a",
   "metadata": {},
   "outputs": [],
   "source": [
    "with open('./models/model_bpr.sav','rb') as pickle_in:\n",
    "    model = pickle.load(pickle_in)\n",
    "#     microsoft_eval(model, user_job_app, test_gddf=df_test, usersid=usersid, jobsid=jobsid, k=10, logger=None)\n",
    "    \n",
    "#     model.recommend(test_user_indexes, df_train[test_user_indexes], N=10)"
   ]
  },
  {
   "cell_type": "code",
   "execution_count": 79,
   "id": "c7cf6b7d",
   "metadata": {},
   "outputs": [],
   "source": [
    "# df_test_ori[DEFAULT_USER_COL] = df_test_ori[DEFAULT_USER_COL].astype('str')\n",
    "# df_test_ori[DEFAULT_ITEM_COL] = df_test_ori[DEFAULT_ITEM_COL].astype('str')"
   ]
  },
  {
   "cell_type": "code",
   "execution_count": 80,
   "id": "98f60153",
   "metadata": {},
   "outputs": [],
   "source": [
    "apps_true = df_test_ori[df_test_ori['userid'].isin([1472090])]\n",
    "# apps_true = df_test_ori"
   ]
  },
  {
   "cell_type": "code",
   "execution_count": 12,
   "id": "0c2ba974",
   "metadata": {},
   "outputs": [
    {
     "data": {
      "text/html": [
       "<div>\n",
       "<style scoped>\n",
       "    .dataframe tbody tr th:only-of-type {\n",
       "        vertical-align: middle;\n",
       "    }\n",
       "\n",
       "    .dataframe tbody tr th {\n",
       "        vertical-align: top;\n",
       "    }\n",
       "\n",
       "    .dataframe thead th {\n",
       "        text-align: right;\n",
       "    }\n",
       "</style>\n",
       "<table border=\"1\" class=\"dataframe\">\n",
       "  <thead>\n",
       "    <tr style=\"text-align: right;\">\n",
       "      <th></th>\n",
       "      <th>userid</th>\n",
       "      <th>itemid</th>\n",
       "      <th>rating</th>\n",
       "    </tr>\n",
       "  </thead>\n",
       "  <tbody>\n",
       "    <tr>\n",
       "      <th>7483090</th>\n",
       "      <td>1472090</td>\n",
       "      <td>254881</td>\n",
       "      <td>1</td>\n",
       "    </tr>\n",
       "    <tr>\n",
       "      <th>7483091</th>\n",
       "      <td>1472090</td>\n",
       "      <td>516136</td>\n",
       "      <td>0</td>\n",
       "    </tr>\n",
       "    <tr>\n",
       "      <th>7483092</th>\n",
       "      <td>1472090</td>\n",
       "      <td>544291</td>\n",
       "      <td>0</td>\n",
       "    </tr>\n",
       "    <tr>\n",
       "      <th>7483093</th>\n",
       "      <td>1472090</td>\n",
       "      <td>372900</td>\n",
       "      <td>0</td>\n",
       "    </tr>\n",
       "    <tr>\n",
       "      <th>7483094</th>\n",
       "      <td>1472090</td>\n",
       "      <td>954885</td>\n",
       "      <td>0</td>\n",
       "    </tr>\n",
       "    <tr>\n",
       "      <th>...</th>\n",
       "      <td>...</td>\n",
       "      <td>...</td>\n",
       "      <td>...</td>\n",
       "    </tr>\n",
       "    <tr>\n",
       "      <th>7483186</th>\n",
       "      <td>1472090</td>\n",
       "      <td>493793</td>\n",
       "      <td>0</td>\n",
       "    </tr>\n",
       "    <tr>\n",
       "      <th>7483187</th>\n",
       "      <td>1472090</td>\n",
       "      <td>1076061</td>\n",
       "      <td>0</td>\n",
       "    </tr>\n",
       "    <tr>\n",
       "      <th>7483188</th>\n",
       "      <td>1472090</td>\n",
       "      <td>807312</td>\n",
       "      <td>0</td>\n",
       "    </tr>\n",
       "    <tr>\n",
       "      <th>7483189</th>\n",
       "      <td>1472090</td>\n",
       "      <td>273190</td>\n",
       "      <td>0</td>\n",
       "    </tr>\n",
       "    <tr>\n",
       "      <th>7483190</th>\n",
       "      <td>1472090</td>\n",
       "      <td>205010</td>\n",
       "      <td>0</td>\n",
       "    </tr>\n",
       "  </tbody>\n",
       "</table>\n",
       "<p>101 rows × 3 columns</p>\n",
       "</div>"
      ],
      "text/plain": [
       "          userid   itemid  rating\n",
       "7483090  1472090   254881       1\n",
       "7483091  1472090   516136       0\n",
       "7483092  1472090   544291       0\n",
       "7483093  1472090   372900       0\n",
       "7483094  1472090   954885       0\n",
       "...          ...      ...     ...\n",
       "7483186  1472090   493793       0\n",
       "7483187  1472090  1076061       0\n",
       "7483188  1472090   807312       0\n",
       "7483189  1472090   273190       0\n",
       "7483190  1472090   205010       0\n",
       "\n",
       "[101 rows x 3 columns]"
      ]
     },
     "execution_count": 12,
     "metadata": {},
     "output_type": "execute_result"
    }
   ],
   "source": [
    "apps_true"
   ]
  },
  {
   "cell_type": "code",
   "execution_count": 13,
   "id": "0989a939",
   "metadata": {},
   "outputs": [],
   "source": [
    "gt_pos, reco_ind, scores = model_infer2(df_true=apps_true, jobsid=jobsid, usersid=usersid, \n",
    "                                 model=model, u_i_matrix=user_job_app, n=cfg.params.neg_test+1)"
   ]
  },
  {
   "cell_type": "code",
   "execution_count": 14,
   "id": "bfe9a35e",
   "metadata": {},
   "outputs": [
    {
     "data": {
      "text/plain": [
       "(85,)"
      ]
     },
     "execution_count": 14,
     "metadata": {},
     "output_type": "execute_result"
    }
   ],
   "source": [
    "gt_pos.flatten().shape"
   ]
  },
  {
   "cell_type": "code",
   "execution_count": 15,
   "id": "6948315b",
   "metadata": {},
   "outputs": [
    {
     "data": {
      "text/plain": [
       "(85,)"
      ]
     },
     "execution_count": 15,
     "metadata": {},
     "output_type": "execute_result"
    }
   ],
   "source": [
    "reco_ind.shape"
   ]
  },
  {
   "cell_type": "code",
   "execution_count": 16,
   "id": "b9523e7a",
   "metadata": {},
   "outputs": [
    {
     "data": {
      "text/plain": [
       "0.8452380952380952"
      ]
     },
     "execution_count": 16,
     "metadata": {},
     "output_type": "execute_result"
    }
   ],
   "source": [
    "auc_test = ranking.AUC()\n",
    "auc_test.compute(pd_scores=scores, gt_pos=gt_pos)"
   ]
  },
  {
   "cell_type": "code",
   "execution_count": 17,
   "id": "d848e87b",
   "metadata": {},
   "outputs": [],
   "source": [
    "p = ranking.Precision(k=20)"
   ]
  },
  {
   "cell_type": "code",
   "execution_count": 18,
   "id": "851724bc",
   "metadata": {},
   "outputs": [
    {
     "data": {
      "text/plain": [
       "(85,)"
      ]
     },
     "execution_count": 18,
     "metadata": {},
     "output_type": "execute_result"
    }
   ],
   "source": [
    "gt_pos.shape"
   ]
  },
  {
   "cell_type": "code",
   "execution_count": 19,
   "id": "4457114f",
   "metadata": {},
   "outputs": [
    {
     "data": {
      "text/plain": [
       "(85,)"
      ]
     },
     "execution_count": 19,
     "metadata": {},
     "output_type": "execute_result"
    }
   ],
   "source": [
    "reco_ind.shape"
   ]
  },
  {
   "cell_type": "code",
   "execution_count": 20,
   "id": "f01cc68d",
   "metadata": {},
   "outputs": [
    {
     "data": {
      "text/plain": [
       "0.05"
      ]
     },
     "execution_count": 20,
     "metadata": {},
     "output_type": "execute_result"
    }
   ],
   "source": [
    "p.compute(gt_pos=gt_pos, pd_rank=reco_ind)"
   ]
  },
  {
   "cell_type": "code",
   "execution_count": 22,
   "id": "c2a28fdf",
   "metadata": {},
   "outputs": [
    {
     "data": {
      "text/plain": [
       "1.0"
      ]
     },
     "execution_count": 22,
     "metadata": {},
     "output_type": "execute_result"
    }
   ],
   "source": [
    "r = ranking.Recall(k=20)\n",
    "r.compute(gt_pos=gt_pos, pd_rank=reco_ind)"
   ]
  },
  {
   "cell_type": "code",
   "execution_count": null,
   "id": "56454b73",
   "metadata": {},
   "outputs": [],
   "source": []
  },
  {
   "cell_type": "code",
   "execution_count": 61,
   "id": "9f7eebb6",
   "metadata": {},
   "outputs": [],
   "source": [
    "class HitRate():\n",
    "    def __init__(self, k=-1):\n",
    "        self.k=k\n",
    "    def compute(self, gt_pos,pd_rank, **kwargs):\n",
    "        if self.k > 0:\n",
    "            truncated_pd_rank = pd_rank[: self.k]\n",
    "        else:\n",
    "            truncated_pd_rank = pd_rank\n",
    "        gt_pos_k = gt_pos[truncated_pd_rank]\n",
    "        if sum(gt_pos_k)==0:\n",
    "            return 0\n",
    "        else:\n",
    "            return 1"
   ]
  },
  {
   "cell_type": "code",
   "execution_count": 48,
   "id": "fe1026ec",
   "metadata": {},
   "outputs": [
    {
     "data": {
      "text/plain": [
       "1"
      ]
     },
     "execution_count": 48,
     "metadata": {},
     "output_type": "execute_result"
    }
   ],
   "source": [
    "hr = hit_rate(k=20)\n",
    "hr.compute(gt_pos=gt_pos)"
   ]
  },
  {
   "cell_type": "code",
   "execution_count": 23,
   "id": "9a75546f",
   "metadata": {},
   "outputs": [],
   "source": [
    "# test_items[test_items_sort_ind]"
   ]
  },
  {
   "cell_type": "code",
   "execution_count": 30,
   "id": "671f680a",
   "metadata": {},
   "outputs": [],
   "source": [
    "def cal_p(apps_true, jobsid, usersid,model, u_i_matrix, n, metric):\n",
    "    gt_item, reco_ind, _ = model_infer2(df_true=apps_true, jobsid=jobsid, usersid=usersid, \n",
    "                                 model=model, u_i_matrix=user_job_app, n=cfg.params.neg_test+1) \n",
    "    return metric.compute(gt_pos=gt_item, pd_rank=reco_ind)\n",
    "    "
   ]
  },
  {
   "cell_type": "code",
   "execution_count": 24,
   "id": "feab42e5",
   "metadata": {},
   "outputs": [],
   "source": [
    "def cal_auc(apps_true, jobsid, usersid,model, u_i_matrix, n, metric):\n",
    "    gt_item, reco_ind, pd_scores = model_infer2(df_true=apps_true, jobsid=jobsid, usersid=usersid, \n",
    "                                 model=model, u_i_matrix=user_job_app, n=cfg.params.neg_test+1) \n",
    "    return metric.compute(gt_pos=gt_item, pd_scores=pd_scores)\n",
    "    "
   ]
  },
  {
   "cell_type": "code",
   "execution_count": 63,
   "id": "8984f00f",
   "metadata": {},
   "outputs": [],
   "source": [
    "def cal_hit(apps_true, jobsid, usersid,model, u_i_matrix, n, metric):\n",
    "    gt_item, reco_ind, pd_scores = model_infer2(df_true=apps_true, jobsid=jobsid, usersid=usersid, \n",
    "                                 model=model, u_i_matrix=user_job_app, n=cfg.params.neg_test+1) \n",
    "    return metric.compute(gt_pos=gt_item, pd_rank=reco_ind)   "
   ]
  },
  {
   "cell_type": "code",
   "execution_count": 25,
   "id": "ba487e87",
   "metadata": {},
   "outputs": [],
   "source": [
    "# aa= df_test_ori[df_test_ori['userid'].isin(['7','999368'])]\n",
    "#  '1327949',\n",
    "#  '543701',\n",
    "#  '860552',\n",
    "#  '298359' ])]\n",
    "tqdm.pandas()\n"
   ]
  },
  {
   "cell_type": "markdown",
   "id": "cdfa92e7",
   "metadata": {},
   "source": [
    "## Precision"
   ]
  },
  {
   "cell_type": "code",
   "execution_count": 81,
   "id": "5a900036",
   "metadata": {},
   "outputs": [
    {
     "name": "stderr",
     "output_type": "stream",
     "text": [
      "100%|██████████| 74091/74091 [09:19<00:00, 132.46it/s]"
     ]
    },
    {
     "name": "stdout",
     "output_type": "stream",
     "text": [
      "0.05736864126544292\n"
     ]
    },
    {
     "name": "stderr",
     "output_type": "stream",
     "text": [
      "\n"
     ]
    }
   ],
   "source": [
    "metric = ranking.Precision(k=10)\n",
    "\n",
    "metric_result = df_test_ori.groupby('userid').progress_apply(cal_p, jobsid=jobsid, usersid=usersid, \n",
    "                            model=model, u_i_matrix=user_job_app, \n",
    "                           n=cfg.params.neg_test+1, metric=metric)\n",
    "\n",
    "print(sum(metric_result)/len(metric_result))"
   ]
  },
  {
   "cell_type": "markdown",
   "id": "43ccd7b7",
   "metadata": {},
   "source": [
    "## Recall"
   ]
  },
  {
   "cell_type": "code",
   "execution_count": 57,
   "id": "98e0e392",
   "metadata": {},
   "outputs": [
    {
     "name": "stderr",
     "output_type": "stream",
     "text": [
      "100%|██████████| 74091/74091 [08:24<00:00, 146.84it/s]"
     ]
    },
    {
     "name": "stdout",
     "output_type": "stream",
     "text": [
      "0.8477142972830708\n"
     ]
    },
    {
     "name": "stderr",
     "output_type": "stream",
     "text": [
      "\n"
     ]
    }
   ],
   "source": [
    "metric = ranking.Recall(k=10)\n",
    "\n",
    "metric_result = df_test_ori.groupby('userid').progress_apply(cal_p, jobsid=jobsid, usersid=usersid, \n",
    "                            model=model, u_i_matrix=user_job_app, \n",
    "                           n=cfg.params.neg_test+1, metric=metric)\n",
    "\n",
    "print(sum(metric_result)/len(metric_result))"
   ]
  },
  {
   "cell_type": "code",
   "execution_count": null,
   "id": "527fb5e1",
   "metadata": {},
   "outputs": [],
   "source": []
  },
  {
   "cell_type": "markdown",
   "id": "54c95272",
   "metadata": {},
   "source": [
    "## NDCG "
   ]
  },
  {
   "cell_type": "code",
   "execution_count": 82,
   "id": "e1dbd0c3",
   "metadata": {},
   "outputs": [
    {
     "name": "stderr",
     "output_type": "stream",
     "text": [
      "100%|██████████| 74091/74091 [09:30<00:00, 129.79it/s]"
     ]
    },
    {
     "name": "stdout",
     "output_type": "stream",
     "text": [
      "0.45821665254537375\n"
     ]
    },
    {
     "name": "stderr",
     "output_type": "stream",
     "text": [
      "\n"
     ]
    }
   ],
   "source": [
    "metric = ranking.NDCG(k=10)\n",
    "\n",
    "metric_result = df_test_ori.groupby('userid').progress_apply(cal_p, jobsid=jobsid, usersid=usersid, \n",
    "                            model=model, u_i_matrix=user_job_app, \n",
    "                           n=cfg.params.neg_test+1, metric=metric)\n",
    "\n",
    "print(sum(metric_result)/len(metric_result))"
   ]
  },
  {
   "cell_type": "code",
   "execution_count": null,
   "id": "6edce10f",
   "metadata": {},
   "outputs": [],
   "source": []
  },
  {
   "cell_type": "markdown",
   "id": "3257d198",
   "metadata": {},
   "source": [
    "# Auc@k"
   ]
  },
  {
   "cell_type": "code",
   "execution_count": 83,
   "id": "3e4c78dd",
   "metadata": {},
   "outputs": [
    {
     "name": "stderr",
     "output_type": "stream",
     "text": [
      "100%|██████████| 74091/74091 [14:43<00:00, 83.87it/s]  "
     ]
    },
    {
     "name": "stdout",
     "output_type": "stream",
     "text": [
      "0.5127078043264857\n"
     ]
    },
    {
     "name": "stderr",
     "output_type": "stream",
     "text": [
      "\n"
     ]
    }
   ],
   "source": [
    "metric = ranking.AUC()\n",
    "\n",
    "metric_result = df_test_ori.groupby('userid').progress_apply(cal_auc, jobsid=jobsid, usersid=usersid, \n",
    "                            model=model, u_i_matrix=user_job_app, \n",
    "                           n=cfg.params.neg_test+1, metric=metric)\n",
    "\n",
    "print(sum(metric_result)/len(metric_result))"
   ]
  },
  {
   "cell_type": "markdown",
   "id": "e1a1da3d",
   "metadata": {},
   "source": [
    "# Hit Rate"
   ]
  },
  {
   "cell_type": "code",
   "execution_count": 64,
   "id": "8cc1e107",
   "metadata": {},
   "outputs": [
    {
     "name": "stderr",
     "output_type": "stream",
     "text": [
      "100%|██████████| 74091/74091 [09:11<00:00, 134.27it/s]"
     ]
    },
    {
     "name": "stdout",
     "output_type": "stream",
     "text": [
      "0.12826119231755545\n"
     ]
    },
    {
     "name": "stderr",
     "output_type": "stream",
     "text": [
      "\n"
     ]
    }
   ],
   "source": [
    "metric = hit_rate(k=10)\n",
    "\n",
    "metric_result = df_test_ori.groupby('userid').progress_apply(cal_hit, jobsid=jobsid, usersid=usersid, \n",
    "                            model=model, u_i_matrix=user_job_app, \n",
    "                           n=cfg.params.neg_test+1, metric=metric)\n",
    "\n",
    "print(sum(metric_result)/len(metric_result))"
   ]
  },
  {
   "cell_type": "code",
   "execution_count": null,
   "id": "8af1c251",
   "metadata": {},
   "outputs": [],
   "source": []
  },
  {
   "cell_type": "code",
   "execution_count": null,
   "id": "814f4677",
   "metadata": {},
   "outputs": [],
   "source": []
  }
 ],
 "metadata": {
  "kernelspec": {
   "display_name": "Python 3",
   "language": "python",
   "name": "python3"
  },
  "language_info": {
   "codemirror_mode": {
    "name": "ipython",
    "version": 3
   },
   "file_extension": ".py",
   "mimetype": "text/x-python",
   "name": "python",
   "nbconvert_exporter": "python",
   "pygments_lexer": "ipython3",
   "version": "3.6.15"
  }
 },
 "nbformat": 4,
 "nbformat_minor": 5
}
