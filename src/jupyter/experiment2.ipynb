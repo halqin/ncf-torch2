{
 "cells": [
  {
   "cell_type": "code",
   "execution_count": 2,
   "id": "577fc924",
   "metadata": {},
   "outputs": [],
   "source": [
    "import torch\n",
    "import pandas as pd\n",
    "import numpy as np\n",
    "from sklearn import metrics, preprocessing\n",
    "import torch.nn as nn\n",
    "import torch.utils.data as data\n",
    "import torch.optim as optim\n",
    "import tqdm\n",
    "import torch.nn.functional as F"
   ]
  },
  {
   "cell_type": "code",
   "execution_count": 5,
   "id": "39460d35",
   "metadata": {},
   "outputs": [],
   "source": [
    "device = torch.device('cuda:0' if torch.cuda.is_available() else 'cpu')"
   ]
  },
  {
   "cell_type": "code",
   "execution_count": 6,
   "id": "8df65a75",
   "metadata": {},
   "outputs": [],
   "source": [
    "train = pd.read_csv(\"../Data/catfeature/train.csv\")\n",
    "test = pd.read_csv(\"../Data/catfeature/test.csv\")\n",
    "sample = pd.read_csv(\"../Data/catfeature/sample_submission.csv\")\n",
    "# sample = pd.read_csv(\"../input/cat-in-the-dat-ii/sample_submission.csv\")"
   ]
  },
  {
   "cell_type": "code",
   "execution_count": 7,
   "id": "7005bc2a",
   "metadata": {},
   "outputs": [],
   "source": [
    "le = preprocessing.LabelEncoder()"
   ]
  },
  {
   "cell_type": "code",
   "execution_count": 8,
   "id": "add55c90",
   "metadata": {},
   "outputs": [],
   "source": [
    "test['target'] = 1\n",
    "features = [x for x in test.columns if x not in ['id', 'target']]\n",
    "data_ori = pd.concat([train, test]).reset_index(drop=True)\n",
    "for f in features:\n",
    "    data_ori[f] = le.fit_transform(data_ori[f].fillna(\"-1\").astype(str).values)"
   ]
  },
  {
   "cell_type": "code",
   "execution_count": 9,
   "id": "561b0335",
   "metadata": {},
   "outputs": [
    {
     "data": {
      "text/plain": [
       "(1000000, 25)"
      ]
     },
     "execution_count": 9,
     "metadata": {},
     "output_type": "execute_result"
    }
   ],
   "source": [
    "data_ori.shape"
   ]
  },
  {
   "cell_type": "code",
   "execution_count": 10,
   "id": "7eda089a",
   "metadata": {},
   "outputs": [],
   "source": [
    "train = data_ori[data_ori.target != -1].reset_index(drop=True)\n",
    "test = data_ori[data_ori.target == -1].reset_index(drop=True)"
   ]
  },
  {
   "cell_type": "code",
   "execution_count": 11,
   "id": "e4298154",
   "metadata": {},
   "outputs": [],
   "source": [
    "train_sub = train[['id','bin_0', 'bin_1', 'target']].iloc[:100, :].copy()\n",
    "test_sub = test[['id','bin_0', 'bin_1', 'target']].iloc[:100, :].copy()"
   ]
  },
  {
   "cell_type": "code",
   "execution_count": 12,
   "id": "c58d114a",
   "metadata": {},
   "outputs": [],
   "source": [
    "train_sub = train[['id','bin_0', 'bin_1', 'target']].copy()\n",
    "test_sub = test[['id','bin_0', 'bin_1', 'target']].copy()"
   ]
  },
  {
   "cell_type": "code",
   "execution_count": 13,
   "id": "64005b6b",
   "metadata": {},
   "outputs": [],
   "source": [
    "# train_sub['id_1'] = train['id']\n",
    "# test_sub['id_1'] = test['id']\n",
    "# train_sub['id_2'] = train['id']\n",
    "# test_sub['id_2'] = test['id']"
   ]
  },
  {
   "cell_type": "code",
   "execution_count": 14,
   "id": "1fbdc906",
   "metadata": {},
   "outputs": [
    {
     "data": {
      "text/plain": [
       "Index(['id', 'bin_0', 'bin_1', 'target'], dtype='object')"
      ]
     },
     "execution_count": 14,
     "metadata": {},
     "output_type": "execute_result"
    }
   ],
   "source": [
    "train_sub.columns"
   ]
  },
  {
   "cell_type": "code",
   "execution_count": 15,
   "id": "b3e5e3b4",
   "metadata": {},
   "outputs": [],
   "source": [
    "cat_feature = ['bin_0', 'bin_1']\n",
    "# cat_feature = []\n",
    "num_feature = ['id']"
   ]
  },
  {
   "cell_type": "code",
   "execution_count": 16,
   "id": "8bc9e553",
   "metadata": {},
   "outputs": [],
   "source": [
    "embedding_size = []\n",
    "for c in cat_feature:\n",
    "    num_unique_values = int(data_ori[c].nunique())\n",
    "    embed_dim = int(min(np.ceil(num_unique_values/2), 50))\n",
    "    embedding_size.append([num_unique_values, embed_dim])  "
   ]
  },
  {
   "cell_type": "code",
   "execution_count": 17,
   "id": "83f0eb7b",
   "metadata": {
    "scrolled": true
   },
   "outputs": [
    {
     "data": {
      "text/plain": [
       "[[3, 2], [3, 2]]"
      ]
     },
     "execution_count": 17,
     "metadata": {},
     "output_type": "execute_result"
    }
   ],
   "source": [
    "embedding_size"
   ]
  },
  {
   "cell_type": "code",
   "execution_count": 18,
   "id": "5a95fdb0",
   "metadata": {},
   "outputs": [
    {
     "data": {
      "text/plain": [
       "(1000000, 4)"
      ]
     },
     "execution_count": 18,
     "metadata": {},
     "output_type": "execute_result"
    }
   ],
   "source": [
    "train_sub.shape"
   ]
  },
  {
   "cell_type": "code",
   "execution_count": 19,
   "id": "5e6e1684",
   "metadata": {},
   "outputs": [],
   "source": [
    "class entity(nn.Module):\n",
    "    def __init__(self, embedding_size, num_numerical_cols, \n",
    "                 output_size, layers=[5], p = 0.4):\n",
    "        '''\n",
    "        embedding_size: Contains the embedding size for the categorical columns\n",
    "        num_numerical_cols: Stores the total number of numerical columns\n",
    "        output_size: The size of the output layer or the number of possible outputs.\n",
    "        layers: List which contains number of neurons for all the layers.\n",
    "        p: Dropout with the default value of 0.5\n",
    "        \n",
    "        '''\n",
    "        super(entity, self).__init__()\n",
    "        #list of ModuleList objects for all categorical columns\n",
    "        self.all_embeddings = nn.ModuleList([nn.Embedding(ni, nf) for ni, nf in embedding_size])\n",
    "        \n",
    "        #drop out value for all layers\n",
    "        self.embedding_dropout = nn.Dropout(p)\n",
    "        \n",
    "        #list of 1 dimension batch normalization objects for all numerical columns\n",
    "#         self.batch_norm_num = nn.BatchNorm1d(num_numerical_cols)\n",
    "\n",
    "        #the number of categorical and numerical columns are added together and stored in input_size\n",
    "        all_layers = nn.ModuleList() \n",
    "        num_categorical_cols = sum((nf for ni, nf in embedding_size))\n",
    "        input_size = num_categorical_cols + num_numerical_cols\n",
    "        \n",
    "        #loop iterates to add corresonding layers to all_layers list above\n",
    "        for i in layers:\n",
    "            all_layers.append(nn.Linear(input_size, i))\n",
    "            all_layers.append(nn.ReLU(inplace=True))\n",
    "#             all_layers.append(nn.BatchNorm1d(i))\n",
    "            all_layers.append(nn.Dropout(p))\n",
    "            input_size = i\n",
    "            \n",
    "        #append output layer to list of layers    \n",
    "        all_layers.append(nn.Linear(layers[-1], output_size))\n",
    "        \n",
    "        #pass all layers to the sequential class\n",
    "        self.layers = nn.Sequential(*all_layers)\n",
    "        \n",
    "#     def _init_weight_(self):\n",
    "\n",
    "    def forward(self, x_categorical, x_numerical):\n",
    "        #this starts the embedding of categorical columns\n",
    "        embeddings = []\n",
    "        for i,e in enumerate(self.all_embeddings):\n",
    "            embeddings.append(e(x_categorical[:,i]))\n",
    "\n",
    "        x = torch.cat(embeddings, 1)\n",
    "#         print(x.shape)\n",
    "        x = self.embedding_dropout(x)\n",
    "\n",
    "        #normalizing numerical columns\n",
    "#         x_numerical = self.batch_norm_num(x_numerical)\n",
    "        #concatenating numerical and categorical columns        \n",
    "#         x_numerical = x_numerical.reshape(-1,1)\n",
    "#         print('hao--------1', x.shape)\n",
    "#         print('hao--------2',x_numerical.shape)\n",
    "        x = torch.cat([x, x_numerical], 1)\n",
    "        x = self.layers(x)\n",
    "        x = torch.sigmoid(x)\n",
    "        return x"
   ]
  },
  {
   "cell_type": "code",
   "execution_count": 20,
   "id": "2f22e66d",
   "metadata": {},
   "outputs": [],
   "source": [
    "class catData(data.Dataset):\n",
    "    '''\n",
    "    num_f: the numerical features\n",
    "    cat_f: the categorical features \n",
    "    '''\n",
    "    def __init__(self, inp_data, num_f,cat_f):\n",
    "        self.data = inp_data\n",
    "        self.label = inp_data['target']\n",
    "        self.cat_f = cat_f\n",
    "        self.num_f = num_f\n",
    "    def __len__(self):\n",
    "        return len(self.label)\n",
    "    def __getitem__(self, idx):\n",
    "#         num_data = np.array(self.data.iloc[idx, 0]).reshape(-1,1)\n",
    "#         cat_data = np.array(self.data.iloc[idx, 1:-1])\n",
    "        num_data = np.array(self.data[self.num_f])[idx]\n",
    "        cat_data = np.array(self.data[self.cat_f])[idx]\n",
    "        label = self.label[idx]\n",
    "#         print('hao-------!!', label)\n",
    "        return num_data, cat_data, label\n",
    "        "
   ]
  },
  {
   "cell_type": "code",
   "execution_count": 27,
   "id": "2d78cbff",
   "metadata": {},
   "outputs": [],
   "source": [
    "train_dataset = catData(train_sub, num_feature, cat_feature)\n",
    "test_dataset = catData(test_sub, num_feature, cat_feature) \n",
    "train_loader = data.DataLoader(train_dataset, batch_size=100, shuffle=False, num_workers=0)\n",
    "test_loader = data.DataLoader(test_dataset, batch_size=100, shuffle=False, num_workers=0 )"
   ]
  },
  {
   "cell_type": "code",
   "execution_count": 28,
   "id": "c9c8fc98",
   "metadata": {},
   "outputs": [],
   "source": [
    "# def __init__(self, embedding_size, num_numerical_cols, output_size, layers=[2], p = 0.4):\n",
    "# "
   ]
  },
  {
   "cell_type": "code",
   "execution_count": 29,
   "id": "6207a0ce",
   "metadata": {},
   "outputs": [],
   "source": [
    "model = entity(embedding_size = embedding_size, num_numerical_cols = len(num_feature),\n",
    "               output_size = 2)\n",
    "model.to(device)\n",
    "loss_function = nn.BCEWithLogitsLoss()\n",
    "optimizer = optim.Adam(model.parameters(), lr=0.001)"
   ]
  },
  {
   "cell_type": "code",
   "execution_count": 30,
   "id": "ff7b58c0",
   "metadata": {},
   "outputs": [
    {
     "name": "stdout",
     "output_type": "stream",
     "text": [
      "entity(\n",
      "  (all_embeddings): ModuleList(\n",
      "    (0): Embedding(3, 2)\n",
      "    (1): Embedding(3, 2)\n",
      "  )\n",
      "  (embedding_dropout): Dropout(p=0.4, inplace=False)\n",
      "  (layers): Sequential(\n",
      "    (0): Linear(in_features=5, out_features=5, bias=True)\n",
      "    (1): ReLU(inplace=True)\n",
      "    (2): Dropout(p=0.4, inplace=False)\n",
      "    (3): Linear(in_features=5, out_features=2, bias=True)\n",
      "  )\n",
      ")\n"
     ]
    }
   ],
   "source": [
    "print(model)"
   ]
  },
  {
   "cell_type": "code",
   "execution_count": 31,
   "id": "12c1d6e6",
   "metadata": {},
   "outputs": [
    {
     "name": "stderr",
     "output_type": "stream",
     "text": [
      "  0%|                                                    | 0/20 [03:34<?, ?it/s]\n"
     ]
    },
    {
     "ename": "KeyboardInterrupt",
     "evalue": "",
     "output_type": "error",
     "traceback": [
      "\u001b[0;31m---------------------------------------------------------------------------\u001b[0m",
      "\u001b[0;31mKeyboardInterrupt\u001b[0m                         Traceback (most recent call last)",
      "Input \u001b[0;32mIn [31]\u001b[0m, in \u001b[0;36m<cell line: 1>\u001b[0;34m()\u001b[0m\n\u001b[1;32m      1\u001b[0m \u001b[38;5;28;01mfor\u001b[39;00m epoch \u001b[38;5;129;01min\u001b[39;00m tqdm\u001b[38;5;241m.\u001b[39mtqdm(\u001b[38;5;28mrange\u001b[39m(\u001b[38;5;241m20\u001b[39m)):\n\u001b[1;32m      2\u001b[0m     model\u001b[38;5;241m.\u001b[39mtrain()\n\u001b[0;32m----> 3\u001b[0m     \u001b[38;5;28;01mfor\u001b[39;00m batch, (num_data, cat_data, label) \u001b[38;5;129;01min\u001b[39;00m \u001b[38;5;28menumerate\u001b[39m(train_loader):\n\u001b[1;32m      4\u001b[0m         model\u001b[38;5;241m.\u001b[39mzero_grad()\n\u001b[1;32m      5\u001b[0m         num_data \u001b[38;5;241m=\u001b[39m num_data\u001b[38;5;241m.\u001b[39mto(device)\n",
      "File \u001b[0;32m~/virtualenvs/ncf-torch-gpu/lib/python3.8/site-packages/torch/utils/data/dataloader.py:530\u001b[0m, in \u001b[0;36m_BaseDataLoaderIter.__next__\u001b[0;34m(self)\u001b[0m\n\u001b[1;32m    528\u001b[0m \u001b[38;5;28;01mif\u001b[39;00m \u001b[38;5;28mself\u001b[39m\u001b[38;5;241m.\u001b[39m_sampler_iter \u001b[38;5;129;01mis\u001b[39;00m \u001b[38;5;28;01mNone\u001b[39;00m:\n\u001b[1;32m    529\u001b[0m     \u001b[38;5;28mself\u001b[39m\u001b[38;5;241m.\u001b[39m_reset()\n\u001b[0;32m--> 530\u001b[0m data \u001b[38;5;241m=\u001b[39m \u001b[38;5;28;43mself\u001b[39;49m\u001b[38;5;241;43m.\u001b[39;49m\u001b[43m_next_data\u001b[49m\u001b[43m(\u001b[49m\u001b[43m)\u001b[49m\n\u001b[1;32m    531\u001b[0m \u001b[38;5;28mself\u001b[39m\u001b[38;5;241m.\u001b[39m_num_yielded \u001b[38;5;241m+\u001b[39m\u001b[38;5;241m=\u001b[39m \u001b[38;5;241m1\u001b[39m\n\u001b[1;32m    532\u001b[0m \u001b[38;5;28;01mif\u001b[39;00m \u001b[38;5;28mself\u001b[39m\u001b[38;5;241m.\u001b[39m_dataset_kind \u001b[38;5;241m==\u001b[39m _DatasetKind\u001b[38;5;241m.\u001b[39mIterable \u001b[38;5;129;01mand\u001b[39;00m \\\n\u001b[1;32m    533\u001b[0m         \u001b[38;5;28mself\u001b[39m\u001b[38;5;241m.\u001b[39m_IterableDataset_len_called \u001b[38;5;129;01mis\u001b[39;00m \u001b[38;5;129;01mnot\u001b[39;00m \u001b[38;5;28;01mNone\u001b[39;00m \u001b[38;5;129;01mand\u001b[39;00m \\\n\u001b[1;32m    534\u001b[0m         \u001b[38;5;28mself\u001b[39m\u001b[38;5;241m.\u001b[39m_num_yielded \u001b[38;5;241m>\u001b[39m \u001b[38;5;28mself\u001b[39m\u001b[38;5;241m.\u001b[39m_IterableDataset_len_called:\n",
      "File \u001b[0;32m~/virtualenvs/ncf-torch-gpu/lib/python3.8/site-packages/torch/utils/data/dataloader.py:570\u001b[0m, in \u001b[0;36m_SingleProcessDataLoaderIter._next_data\u001b[0;34m(self)\u001b[0m\n\u001b[1;32m    568\u001b[0m \u001b[38;5;28;01mdef\u001b[39;00m \u001b[38;5;21m_next_data\u001b[39m(\u001b[38;5;28mself\u001b[39m):\n\u001b[1;32m    569\u001b[0m     index \u001b[38;5;241m=\u001b[39m \u001b[38;5;28mself\u001b[39m\u001b[38;5;241m.\u001b[39m_next_index()  \u001b[38;5;66;03m# may raise StopIteration\u001b[39;00m\n\u001b[0;32m--> 570\u001b[0m     data \u001b[38;5;241m=\u001b[39m \u001b[38;5;28;43mself\u001b[39;49m\u001b[38;5;241;43m.\u001b[39;49m\u001b[43m_dataset_fetcher\u001b[49m\u001b[38;5;241;43m.\u001b[39;49m\u001b[43mfetch\u001b[49m\u001b[43m(\u001b[49m\u001b[43mindex\u001b[49m\u001b[43m)\u001b[49m  \u001b[38;5;66;03m# may raise StopIteration\u001b[39;00m\n\u001b[1;32m    571\u001b[0m     \u001b[38;5;28;01mif\u001b[39;00m \u001b[38;5;28mself\u001b[39m\u001b[38;5;241m.\u001b[39m_pin_memory:\n\u001b[1;32m    572\u001b[0m         data \u001b[38;5;241m=\u001b[39m _utils\u001b[38;5;241m.\u001b[39mpin_memory\u001b[38;5;241m.\u001b[39mpin_memory(data)\n",
      "File \u001b[0;32m~/virtualenvs/ncf-torch-gpu/lib/python3.8/site-packages/torch/utils/data/_utils/fetch.py:49\u001b[0m, in \u001b[0;36m_MapDatasetFetcher.fetch\u001b[0;34m(self, possibly_batched_index)\u001b[0m\n\u001b[1;32m     47\u001b[0m \u001b[38;5;28;01mdef\u001b[39;00m \u001b[38;5;21mfetch\u001b[39m(\u001b[38;5;28mself\u001b[39m, possibly_batched_index):\n\u001b[1;32m     48\u001b[0m     \u001b[38;5;28;01mif\u001b[39;00m \u001b[38;5;28mself\u001b[39m\u001b[38;5;241m.\u001b[39mauto_collation:\n\u001b[0;32m---> 49\u001b[0m         data \u001b[38;5;241m=\u001b[39m [\u001b[38;5;28mself\u001b[39m\u001b[38;5;241m.\u001b[39mdataset[idx] \u001b[38;5;28;01mfor\u001b[39;00m idx \u001b[38;5;129;01min\u001b[39;00m possibly_batched_index]\n\u001b[1;32m     50\u001b[0m     \u001b[38;5;28;01melse\u001b[39;00m:\n\u001b[1;32m     51\u001b[0m         data \u001b[38;5;241m=\u001b[39m \u001b[38;5;28mself\u001b[39m\u001b[38;5;241m.\u001b[39mdataset[possibly_batched_index]\n",
      "File \u001b[0;32m~/virtualenvs/ncf-torch-gpu/lib/python3.8/site-packages/torch/utils/data/_utils/fetch.py:49\u001b[0m, in \u001b[0;36m<listcomp>\u001b[0;34m(.0)\u001b[0m\n\u001b[1;32m     47\u001b[0m \u001b[38;5;28;01mdef\u001b[39;00m \u001b[38;5;21mfetch\u001b[39m(\u001b[38;5;28mself\u001b[39m, possibly_batched_index):\n\u001b[1;32m     48\u001b[0m     \u001b[38;5;28;01mif\u001b[39;00m \u001b[38;5;28mself\u001b[39m\u001b[38;5;241m.\u001b[39mauto_collation:\n\u001b[0;32m---> 49\u001b[0m         data \u001b[38;5;241m=\u001b[39m [\u001b[38;5;28;43mself\u001b[39;49m\u001b[38;5;241;43m.\u001b[39;49m\u001b[43mdataset\u001b[49m\u001b[43m[\u001b[49m\u001b[43midx\u001b[49m\u001b[43m]\u001b[49m \u001b[38;5;28;01mfor\u001b[39;00m idx \u001b[38;5;129;01min\u001b[39;00m possibly_batched_index]\n\u001b[1;32m     50\u001b[0m     \u001b[38;5;28;01melse\u001b[39;00m:\n\u001b[1;32m     51\u001b[0m         data \u001b[38;5;241m=\u001b[39m \u001b[38;5;28mself\u001b[39m\u001b[38;5;241m.\u001b[39mdataset[possibly_batched_index]\n",
      "Input \u001b[0;32mIn [20]\u001b[0m, in \u001b[0;36mcatData.__getitem__\u001b[0;34m(self, idx)\u001b[0m\n\u001b[1;32m     13\u001b[0m     \u001b[38;5;28;01mdef\u001b[39;00m \u001b[38;5;21m__getitem__\u001b[39m(\u001b[38;5;28mself\u001b[39m, idx):\n\u001b[1;32m     14\u001b[0m \u001b[38;5;66;03m#         num_data = np.array(self.data.iloc[idx, 0]).reshape(-1,1)\u001b[39;00m\n\u001b[1;32m     15\u001b[0m \u001b[38;5;66;03m#         cat_data = np.array(self.data.iloc[idx, 1:-1])\u001b[39;00m\n\u001b[1;32m     16\u001b[0m         num_data \u001b[38;5;241m=\u001b[39m np\u001b[38;5;241m.\u001b[39marray(\u001b[38;5;28mself\u001b[39m\u001b[38;5;241m.\u001b[39mdata[\u001b[38;5;28mself\u001b[39m\u001b[38;5;241m.\u001b[39mnum_f])[idx]\n\u001b[0;32m---> 17\u001b[0m         cat_data \u001b[38;5;241m=\u001b[39m \u001b[43mnp\u001b[49m\u001b[38;5;241;43m.\u001b[39;49m\u001b[43marray\u001b[49m\u001b[43m(\u001b[49m\u001b[38;5;28;43mself\u001b[39;49m\u001b[38;5;241;43m.\u001b[39;49m\u001b[43mdata\u001b[49m\u001b[43m[\u001b[49m\u001b[38;5;28;43mself\u001b[39;49m\u001b[38;5;241;43m.\u001b[39;49m\u001b[43mcat_f\u001b[49m\u001b[43m]\u001b[49m\u001b[43m)\u001b[49m[idx]\n\u001b[1;32m     18\u001b[0m         label \u001b[38;5;241m=\u001b[39m \u001b[38;5;28mself\u001b[39m\u001b[38;5;241m.\u001b[39mlabel[idx]\n\u001b[1;32m     19\u001b[0m \u001b[38;5;66;03m#         print('hao-------!!', label)\u001b[39;00m\n",
      "\u001b[0;31mKeyboardInterrupt\u001b[0m: "
     ]
    }
   ],
   "source": [
    "for epoch in tqdm.tqdm(range(20)):\n",
    "    model.train()\n",
    "    for batch, (num_data, cat_data, label) in enumerate(train_loader):\n",
    "        model.zero_grad()\n",
    "        num_data = num_data.to(device)\n",
    "        cat_data = cat_data.to(device)\n",
    "        label = label.to(device)\n",
    "        prediction = model(cat_data,num_data)[:,1]\n",
    "#         print(prediction)\n",
    "        label = label.float()\n",
    "        loss = loss_function(prediction, label)\n",
    "        loss.backward()\n",
    "        optimizer.step()"
   ]
  },
  {
   "cell_type": "code",
   "execution_count": null,
   "id": "c8e0a086",
   "metadata": {},
   "outputs": [],
   "source": []
  },
  {
   "cell_type": "code",
   "execution_count": null,
   "id": "f679c7ee",
   "metadata": {},
   "outputs": [],
   "source": []
  },
  {
   "cell_type": "code",
   "execution_count": null,
   "id": "2f4fba79",
   "metadata": {},
   "outputs": [],
   "source": []
  },
  {
   "cell_type": "code",
   "execution_count": null,
   "id": "c527c219",
   "metadata": {},
   "outputs": [],
   "source": []
  }
 ],
 "metadata": {
  "kernelspec": {
   "display_name": "Python 3 (ipykernel)",
   "language": "python",
   "name": "python3"
  },
  "language_info": {
   "codemirror_mode": {
    "name": "ipython",
    "version": 3
   },
   "file_extension": ".py",
   "mimetype": "text/x-python",
   "name": "python",
   "nbconvert_exporter": "python",
   "pygments_lexer": "ipython3",
   "version": "3.8.10"
  }
 },
 "nbformat": 4,
 "nbformat_minor": 5
}
