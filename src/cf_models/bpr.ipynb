{
 "cells": [
  {
   "cell_type": "code",
   "execution_count": 45,
   "id": "3ee1b655",
   "metadata": {},
   "outputs": [],
   "source": [
    "import os\n",
    "import sys\n",
    "sys.path.append('../../src')\n",
    "from hydra import initialize, compose\n",
    "import pathlib\n",
    "import pandas as pd\n",
    "import numpy as np\n",
    "import pickle\n",
    "\n",
    "# from datasets.jobdataset import generate_dataset, _hfd5_from_dataframe\n",
    "from datasets.job_hdf5 import hdf5_from_dataframe, get_career\n",
    "import data_process.neg_sample as ng_sample\n",
    "from utils.constants import DEFAULT_USER_COL,DEFAULT_ITEM_COL,DEFAULT_RATING_COL, DEFAULT_PREDICTION_COL\n",
    "from implicit_eval import microsoft_eval,model_infer_df\n",
    "# from implicit.als import AlternatingLeastSquares\n",
    "# from implicit.bpr import BayesianPersonalizedRanking\n",
    "# from implicit.lmf import LogisticMatrixFactorization\n",
    "from implicit_build import bpr\n",
    "from metrics import ranking\n",
    "\n",
    "with initialize(version_base=None, config_path=\"../conf\"):\n",
    "    cfg = compose(config_name=\"config\", overrides=[])"
   ]
  },
  {
   "cell_type": "markdown",
   "id": "76593aa6",
   "metadata": {},
   "source": [
    "# Create the the data pipe"
   ]
  },
  {
   "cell_type": "code",
   "execution_count": null,
   "id": "684ca45c",
   "metadata": {},
   "outputs": [],
   "source": []
  },
  {
   "cell_type": "code",
   "execution_count": 2,
   "id": "1dd920d2",
   "metadata": {},
   "outputs": [],
   "source": [
    "df_train_pos  = ng_sample.read_feather(pathlib.Path(cfg.path.root, cfg.file.train_pos))"
   ]
  },
  {
   "cell_type": "code",
   "execution_count": 3,
   "id": "dff7b576",
   "metadata": {},
   "outputs": [],
   "source": [
    "df_train_pos[DEFAULT_RATING_COL] = 1"
   ]
  },
  {
   "cell_type": "code",
   "execution_count": 4,
   "id": "4f95dc4f",
   "metadata": {},
   "outputs": [],
   "source": [
    "df_train_pos[DEFAULT_USER_COL] = df_train_pos[DEFAULT_USER_COL].astype(str)\n",
    "df_train_pos[DEFAULT_ITEM_COL] = df_train_pos[DEFAULT_ITEM_COL].astype(str)\n",
    "df_train_pos[DEFAULT_USER_COL] = df_train_pos[DEFAULT_USER_COL].astype(\"category\")\n",
    "df_train_pos[DEFAULT_ITEM_COL] = df_train_pos[DEFAULT_ITEM_COL].astype(\"category\")"
   ]
  },
  {
   "cell_type": "code",
   "execution_count": 5,
   "id": "86adffc4",
   "metadata": {},
   "outputs": [],
   "source": [
    "# hdf5_from_dataframe(df_train_pos, pathlib.Path(cfg.path.root, cfg.file.hdf5))"
   ]
  },
  {
   "cell_type": "code",
   "execution_count": 6,
   "id": "350100e8",
   "metadata": {},
   "outputs": [],
   "source": [
    "# df_train_pos[DEFAULT_ITEM_COL].unique()"
   ]
  },
  {
   "cell_type": "markdown",
   "id": "c4f29f47",
   "metadata": {},
   "source": [
    "## Read data & Train"
   ]
  },
  {
   "cell_type": "code",
   "execution_count": 2,
   "id": "6d22be15",
   "metadata": {},
   "outputs": [],
   "source": [
    "jobsid, usersid, user_job_app = get_career(pathlib.Path(cfg.path.root, cfg.file.hdf5))\n",
    "model_path = \"./models\""
   ]
  },
  {
   "cell_type": "code",
   "execution_count": 3,
   "id": "3e14cffd",
   "metadata": {},
   "outputs": [],
   "source": [
    "# user_job_app"
   ]
  },
  {
   "cell_type": "code",
   "execution_count": 4,
   "id": "545afd0e",
   "metadata": {},
   "outputs": [],
   "source": [
    "# user_job_app = job_user_app.T.tocsr()\n",
    "# bpr(model_path, user_job_app)\n",
    "# als(model_path, user_job_app)\n",
    "# lmf(model_path, user_job_app)"
   ]
  },
  {
   "cell_type": "code",
   "execution_count": 5,
   "id": "526cb48c",
   "metadata": {},
   "outputs": [],
   "source": [
    "# df_train_pos.userid.unique()"
   ]
  },
  {
   "cell_type": "code",
   "execution_count": 7,
   "id": "83036205",
   "metadata": {},
   "outputs": [],
   "source": [
    "def read_train_gd_csv(data_testgd_path, usecols):\n",
    "    test_gddf = pd.read_csv(data_testgd_path, usecols=usecols)\n",
    "    test_gddf[DEFAULT_USER_COL] = test_gddf[DEFAULT_USER_COL].astype('str')\n",
    "    test_gddf[DEFAULT_ITEM_COL] = test_gddf[DEFAULT_ITEM_COL].astype('str')\n",
    "    return test_gddf"
   ]
  },
  {
   "cell_type": "code",
   "execution_count": 8,
   "id": "7a780185",
   "metadata": {},
   "outputs": [],
   "source": [
    "df_test_ori = pd.read_feather(pathlib.Path(cfg.path.root, cfg.file.test))\n"
   ]
  },
  {
   "cell_type": "code",
   "execution_count": 9,
   "id": "d8d28e05",
   "metadata": {},
   "outputs": [],
   "source": [
    "df_train =read_train_gd_csv('../../data/jobs/leave_one_train_neg.csv', usecols=[DEFAULT_USER_COL, DEFAULT_ITEM_COL, DEFAULT_RATING_COL])"
   ]
  },
  {
   "cell_type": "code",
   "execution_count": 12,
   "id": "62da57d2",
   "metadata": {},
   "outputs": [],
   "source": [
    "df_test =read_train_gd_csv('../../data/jobs/leave_one_test.csv', usecols=[DEFAULT_USER_COL, DEFAULT_ITEM_COL, DEFAULT_RATING_COL])\n"
   ]
  },
  {
   "cell_type": "code",
   "execution_count": 13,
   "id": "300d983a",
   "metadata": {},
   "outputs": [],
   "source": [
    "with open('./models/model_bpr.sav','rb') as pickle_in:\n",
    "    model = pickle.load(pickle_in)\n",
    "#     microsoft_eval(model, user_job_app, test_gddf=df_test, usersid=usersid, jobsid=jobsid, k=10, logger=None)\n",
    "    \n",
    "#     model.recommend(test_user_indexes, df_train[test_user_indexes], N=10)"
   ]
  },
  {
   "cell_type": "code",
   "execution_count": 14,
   "id": "14b08c28",
   "metadata": {},
   "outputs": [],
   "source": [
    "df_test_ori[DEFAULT_USER_COL] = df_test_ori[DEFAULT_USER_COL].astype('str')\n",
    "df_test_ori[DEFAULT_ITEM_COL] = df_test_ori[DEFAULT_ITEM_COL].astype('str')"
   ]
  },
  {
   "cell_type": "code",
   "execution_count": 34,
   "id": "81bee2ef",
   "metadata": {},
   "outputs": [],
   "source": [
    "apps_true = df_test_ori[df_test_ori['userid'].isin(['7', '1472090'])]"
   ]
  },
  {
   "cell_type": "code",
   "execution_count": 35,
   "id": "6c7c0544",
   "metadata": {},
   "outputs": [],
   "source": [
    "test_items = apps_true.itemid.values\n",
    "test_items_indexes = np.searchsorted(jobsid, test_items)"
   ]
  },
  {
   "cell_type": "code",
   "execution_count": 36,
   "id": "1a621210",
   "metadata": {},
   "outputs": [],
   "source": [
    "test_users = apps_true[DEFAULT_USER_COL].unique()\n",
    "test_user_indexes = np.searchsorted(usersid, test_users)\n",
    "ids, scores = model.recommend(test_user_indexes, user_job_app[test_user_indexes],\n",
    "                              N=10, filter_already_liked_items=True,\n",
    "                             items=test_items_indexes)"
   ]
  },
  {
   "cell_type": "code",
   "execution_count": 13,
   "id": "760e7222",
   "metadata": {},
   "outputs": [],
   "source": [
    "predict_df = model_infer_df(df_test, usersid, jobsid, model, user_job_app, k=10)"
   ]
  },
  {
   "cell_type": "code",
   "execution_count": 46,
   "id": "e238a8c9",
   "metadata": {},
   "outputs": [],
   "source": [
    "def model_infer_df2(apps_true, usersid, jobsid, model, train, k):\n",
    "#     reco_jobsid = []\n",
    "    test_items = apps_true.itemid.values\n",
    "    test_items_indexes = np.searchsorted(jobsid, test_items)\n",
    "    \n",
    "    test_users = apps_true[DEFAULT_USER_COL].unique()\n",
    "    test_user_indexes = np.searchsorted(usersid, test_users)\n",
    "    ids, scores = model.recommend(test_user_indexes, user_job_app[test_user_indexes],\n",
    "                                  N=k, filter_already_liked_items=True,\n",
    "                                 items=test_items_indexes)\n",
    "    \n",
    "    reco_jobsid = [jobsid[i] for i in ids.flatten()]\n",
    "    reco_users = np.repeat(test_users, k)\n",
    "    results = pd.DataFrame()\n",
    "    results[DEFAULT_USER_COL] = reco_users\n",
    "    results[DEFAULT_ITEM_COL] = reco_jobsid\n",
    "    results[DEFAULT_RATING_COL] = 1\n",
    "    results[DEFAULT_PREDICTION_COL] = scores.flatten()\n",
    "\n",
    "    results[DEFAULT_USER_COL] = results[DEFAULT_USER_COL].astype('str')\n",
    "    results[DEFAULT_ITEM_COL] = results[DEFAULT_ITEM_COL].astype('str')\n",
    "    # results.to_csv('../data/clean/sub/predict_result.csv')\n",
    "    return results"
   ]
  },
  {
   "cell_type": "code",
   "execution_count": null,
   "id": "53be0e06",
   "metadata": {},
   "outputs": [],
   "source": []
  },
  {
   "cell_type": "code",
   "execution_count": null,
   "id": "05be6012",
   "metadata": {},
   "outputs": [],
   "source": []
  },
  {
   "cell_type": "code",
   "execution_count": null,
   "id": "677da770",
   "metadata": {},
   "outputs": [],
   "source": []
  },
  {
   "cell_type": "code",
   "execution_count": 47,
   "id": "f080a772",
   "metadata": {},
   "outputs": [],
   "source": [
    "predict_df = model_infer_df2(apps_true, usersid, jobsid, model, user_job_app, k=10)"
   ]
  },
  {
   "cell_type": "code",
   "execution_count": 50,
   "id": "ce82e8c8",
   "metadata": {},
   "outputs": [
    {
     "data": {
      "text/plain": [
       "(20, 4)"
      ]
     },
     "execution_count": 50,
     "metadata": {},
     "output_type": "execute_result"
    }
   ],
   "source": [
    "predict_df.shape"
   ]
  },
  {
   "cell_type": "code",
   "execution_count": 51,
   "id": "905b692f",
   "metadata": {},
   "outputs": [
    {
     "data": {
      "text/html": [
       "<div>\n",
       "<style scoped>\n",
       "    .dataframe tbody tr th:only-of-type {\n",
       "        vertical-align: middle;\n",
       "    }\n",
       "\n",
       "    .dataframe tbody tr th {\n",
       "        vertical-align: top;\n",
       "    }\n",
       "\n",
       "    .dataframe thead th {\n",
       "        text-align: right;\n",
       "    }\n",
       "</style>\n",
       "<table border=\"1\" class=\"dataframe\">\n",
       "  <thead>\n",
       "    <tr style=\"text-align: right;\">\n",
       "      <th></th>\n",
       "      <th>userid</th>\n",
       "      <th>itemid</th>\n",
       "      <th>rating</th>\n",
       "    </tr>\n",
       "  </thead>\n",
       "  <tbody>\n",
       "    <tr>\n",
       "      <th>0</th>\n",
       "      <td>7</td>\n",
       "      <td>703889</td>\n",
       "      <td>1</td>\n",
       "    </tr>\n",
       "    <tr>\n",
       "      <th>1</th>\n",
       "      <td>7</td>\n",
       "      <td>516136</td>\n",
       "      <td>0</td>\n",
       "    </tr>\n",
       "    <tr>\n",
       "      <th>2</th>\n",
       "      <td>7</td>\n",
       "      <td>544291</td>\n",
       "      <td>0</td>\n",
       "    </tr>\n",
       "    <tr>\n",
       "      <th>3</th>\n",
       "      <td>7</td>\n",
       "      <td>372900</td>\n",
       "      <td>0</td>\n",
       "    </tr>\n",
       "    <tr>\n",
       "      <th>4</th>\n",
       "      <td>7</td>\n",
       "      <td>954885</td>\n",
       "      <td>0</td>\n",
       "    </tr>\n",
       "    <tr>\n",
       "      <th>...</th>\n",
       "      <td>...</td>\n",
       "      <td>...</td>\n",
       "      <td>...</td>\n",
       "    </tr>\n",
       "    <tr>\n",
       "      <th>7483186</th>\n",
       "      <td>1472090</td>\n",
       "      <td>493793</td>\n",
       "      <td>0</td>\n",
       "    </tr>\n",
       "    <tr>\n",
       "      <th>7483187</th>\n",
       "      <td>1472090</td>\n",
       "      <td>1076061</td>\n",
       "      <td>0</td>\n",
       "    </tr>\n",
       "    <tr>\n",
       "      <th>7483188</th>\n",
       "      <td>1472090</td>\n",
       "      <td>807312</td>\n",
       "      <td>0</td>\n",
       "    </tr>\n",
       "    <tr>\n",
       "      <th>7483189</th>\n",
       "      <td>1472090</td>\n",
       "      <td>273190</td>\n",
       "      <td>0</td>\n",
       "    </tr>\n",
       "    <tr>\n",
       "      <th>7483190</th>\n",
       "      <td>1472090</td>\n",
       "      <td>205010</td>\n",
       "      <td>0</td>\n",
       "    </tr>\n",
       "  </tbody>\n",
       "</table>\n",
       "<p>7483191 rows × 3 columns</p>\n",
       "</div>"
      ],
      "text/plain": [
       "          userid   itemid  rating\n",
       "0              7   703889       1\n",
       "1              7   516136       0\n",
       "2              7   544291       0\n",
       "3              7   372900       0\n",
       "4              7   954885       0\n",
       "...          ...      ...     ...\n",
       "7483186  1472090   493793       0\n",
       "7483187  1472090  1076061       0\n",
       "7483188  1472090   807312       0\n",
       "7483189  1472090   273190       0\n",
       "7483190  1472090   205010       0\n",
       "\n",
       "[7483191 rows x 3 columns]"
      ]
     },
     "execution_count": 51,
     "metadata": {},
     "output_type": "execute_result"
    }
   ],
   "source": [
    "df_test_ori"
   ]
  },
  {
   "cell_type": "code",
   "execution_count": null,
   "id": "d11282f6",
   "metadata": {},
   "outputs": [],
   "source": []
  },
  {
   "cell_type": "code",
   "execution_count": 19,
   "id": "e123388d",
   "metadata": {},
   "outputs": [],
   "source": [
    "# implicit.evaluation.AUC_at_k(model, )"
   ]
  },
  {
   "cell_type": "code",
   "execution_count": null,
   "id": "472e6edf",
   "metadata": {},
   "outputs": [],
   "source": []
  },
  {
   "cell_type": "code",
   "execution_count": null,
   "id": "dcb53c6b",
   "metadata": {},
   "outputs": [],
   "source": []
  },
  {
   "cell_type": "code",
   "execution_count": null,
   "id": "6d4fc276",
   "metadata": {},
   "outputs": [],
   "source": []
  },
  {
   "cell_type": "code",
   "execution_count": null,
   "id": "590fcd14",
   "metadata": {},
   "outputs": [],
   "source": []
  },
  {
   "cell_type": "code",
   "execution_count": null,
   "id": "76439985",
   "metadata": {},
   "outputs": [],
   "source": []
  },
  {
   "cell_type": "code",
   "execution_count": null,
   "id": "2d0d22d4",
   "metadata": {},
   "outputs": [],
   "source": []
  },
  {
   "cell_type": "code",
   "execution_count": null,
   "id": "e406385d",
   "metadata": {},
   "outputs": [],
   "source": []
  },
  {
   "cell_type": "code",
   "execution_count": null,
   "id": "46e4377a",
   "metadata": {},
   "outputs": [],
   "source": []
  },
  {
   "cell_type": "code",
   "execution_count": 44,
   "id": "d65c0896",
   "metadata": {},
   "outputs": [],
   "source": [
    "k =3"
   ]
  },
  {
   "cell_type": "code",
   "execution_count": 73,
   "id": "e29e32fb",
   "metadata": {},
   "outputs": [
    {
     "data": {
      "text/plain": [
       "array([4, 0, 3, 2, 1])"
      ]
     },
     "execution_count": 73,
     "metadata": {},
     "output_type": "execute_result"
    }
   ],
   "source": [
    "gt_pos = np.asarray([0, 1, 0, 0, 0]) \n",
    "item_score = np.asarray([.5, .2, .3, .4, .6])\n",
    "item_rank = item_score.argsort()[::-1]\n",
    "item_rank"
   ]
  },
  {
   "cell_type": "code",
   "execution_count": 70,
   "id": "4b1d0d87",
   "metadata": {},
   "outputs": [],
   "source": [
    "pd_rank = item_rank"
   ]
  },
  {
   "cell_type": "code",
   "execution_count": null,
   "id": "0c042525",
   "metadata": {},
   "outputs": [],
   "source": []
  },
  {
   "cell_type": "code",
   "execution_count": 71,
   "id": "cc7a507f",
   "metadata": {},
   "outputs": [],
   "source": [
    "# gt_pos = np.asarray([0, 0, 0, 1, 1])  # [1, 0, 1]\n",
    "# pd_rank = np.asarray([4, 3, 0,1,2])  # [1, 1, 1]"
   ]
  },
  {
   "cell_type": "code",
   "execution_count": 72,
   "id": "d597bb1e",
   "metadata": {},
   "outputs": [
    {
     "name": "stdout",
     "output_type": "stream",
     "text": [
      "[4 0 3]\n",
      "pred [1 0 0 1 1]\n",
      "choose the topk [0 0 0 0 0]\n",
      "tp 0\n",
      "tp_fn 1\n",
      "tp_fp 3\n"
     ]
    }
   ],
   "source": [
    "if k > 0:\n",
    "    truncated_pd_rank = pd_rank[:k]\n",
    "else:\n",
    "    truncated_pd_rank = pd_rank\n",
    "    \n",
    "print(truncated_pd_rank)\n",
    "pred = np.zeros_like(gt_pos)\n",
    "pred[truncated_pd_rank] = 1\n",
    "print('pred', pred)\n",
    "print('choose the topk', pred*gt_pos)\n",
    "tp = np.sum(pred * gt_pos)\n",
    "print('tp', tp)\n",
    "tp_fn = np.sum(gt_pos)\n",
    "print('tp_fn', tp_fn)\n",
    "tp_fp = np.sum(pred)\n",
    "print('tp_fp', tp_fp)"
   ]
  },
  {
   "cell_type": "code",
   "execution_count": 37,
   "id": "5295e8b1",
   "metadata": {},
   "outputs": [],
   "source": [
    "score = np.asarray([0.3, 0.4, 0.1])"
   ]
  },
  {
   "cell_type": "code",
   "execution_count": 24,
   "id": "bd22760a",
   "metadata": {},
   "outputs": [],
   "source": [
    "rank = score.argsort()[::-1]"
   ]
  },
  {
   "cell_type": "code",
   "execution_count": 25,
   "id": "f8ab6303",
   "metadata": {},
   "outputs": [
    {
     "data": {
      "text/plain": [
       "array([1, 0, 2])"
      ]
     },
     "execution_count": 25,
     "metadata": {},
     "output_type": "execute_result"
    }
   ],
   "source": [
    "rank"
   ]
  },
  {
   "cell_type": "code",
   "execution_count": null,
   "id": "c339277a",
   "metadata": {},
   "outputs": [],
   "source": []
  }
 ],
 "metadata": {
  "kernelspec": {
   "display_name": "Python 3",
   "language": "python",
   "name": "python3"
  },
  "language_info": {
   "codemirror_mode": {
    "name": "ipython",
    "version": 3
   },
   "file_extension": ".py",
   "mimetype": "text/x-python",
   "name": "python",
   "nbconvert_exporter": "python",
   "pygments_lexer": "ipython3",
   "version": "3.9.13"
  }
 },
 "nbformat": 4,
 "nbformat_minor": 5
}
