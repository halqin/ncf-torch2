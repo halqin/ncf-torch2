{
 "cells": [
  {
   "cell_type": "code",
   "execution_count": 13,
   "id": "3ee1b655",
   "metadata": {},
   "outputs": [],
   "source": [
    "import os\n",
    "import sys\n",
    "sys.path.append('../../src')\n",
    "from hydra import initialize, compose\n",
    "import pathlib\n",
    "import pandas as pd\n",
    "import numpy as np\n",
    "import pickle\n",
    "from tqdm.auto import tqdm\n",
    "\n",
    "# from datasets.jobdataset import generate_dataset, _hfd5_from_dataframe\n",
    "from datasets.job_hdf5 import hdf5_from_dataframe, get_career\n",
    "import data_process.neg_sample as ng_sample\n",
    "from utils.constants import DEFAULT_USER_COL,DEFAULT_ITEM_COL,DEFAULT_RATING_COL, DEFAULT_PREDICTION_COL\n",
    "# from implicit_eval import microsoft_eval,model_infer_df\n",
    "# from implicit.als import AlternatingLeastSquares\n",
    "# from implicit.bpr import BayesianPersonalizedRanking\n",
    "# from implicit.lmf import LogisticMatrixFactorization\n",
    "from implicit_build import bpr, bpr, lmf\n",
    "from metrics import ranking\n",
    "from metrics.evaluate_ignite import model_infer2\n",
    "\n",
    "with initialize(version_base=None, config_path=\"../conf\"):\n",
    "    cfg = compose(config_name=\"config\", overrides=[])"
   ]
  },
  {
   "cell_type": "markdown",
   "id": "76593aa6",
   "metadata": {},
   "source": [
    "# Create the the data pipe"
   ]
  },
  {
   "cell_type": "code",
   "execution_count": 6,
   "id": "1dd920d2",
   "metadata": {},
   "outputs": [],
   "source": [
    "df_train_pos  = ng_sample.read_feather(pathlib.Path(cfg.path.root, cfg.file.train_pos))"
   ]
  },
  {
   "cell_type": "code",
   "execution_count": 7,
   "id": "dff7b576",
   "metadata": {},
   "outputs": [],
   "source": [
    "df_train_pos[DEFAULT_RATING_COL] = 1"
   ]
  },
  {
   "cell_type": "code",
   "execution_count": 8,
   "id": "4f95dc4f",
   "metadata": {},
   "outputs": [],
   "source": [
    "# df_train_pos[DEFAULT_USER_COL] = df_train_pos[DEFAULT_USER_COL].astype(str)\n",
    "# df_train_pos[DEFAULT_ITEM_COL] = df_train_pos[DEFAULT_ITEM_COL].astype(str)\n",
    "df_train_pos[DEFAULT_USER_COL] = df_train_pos[DEFAULT_USER_COL].astype(\"category\")\n",
    "df_train_pos[DEFAULT_ITEM_COL] = df_train_pos[DEFAULT_ITEM_COL].astype(\"category\")"
   ]
  },
  {
   "cell_type": "code",
   "execution_count": 9,
   "id": "55e6e0ac",
   "metadata": {},
   "outputs": [],
   "source": [
    "# df_train_pos[DEFAULT_USER_COL]"
   ]
  },
  {
   "cell_type": "code",
   "execution_count": 10,
   "id": "384bda8f",
   "metadata": {},
   "outputs": [],
   "source": [
    "# pathlib.Path(cfg.path.root, cfg.file.hdf5)"
   ]
  },
  {
   "cell_type": "code",
   "execution_count": 11,
   "id": "86adffc4",
   "metadata": {},
   "outputs": [],
   "source": [
    "hdf5_from_dataframe(df_train_pos, pathlib.Path(cfg.path.root, cfg.file.hdf5))"
   ]
  },
  {
   "cell_type": "markdown",
   "id": "c4f29f47",
   "metadata": {},
   "source": [
    "## Read data & Train"
   ]
  },
  {
   "cell_type": "code",
   "execution_count": 12,
   "id": "d46bdf9f",
   "metadata": {},
   "outputs": [],
   "source": [
    "jobsid, usersid, user_job_app = get_career(pathlib.Path(cfg.path.root, cfg.file.hdf5))\n",
    "model_path = \"./models\""
   ]
  },
  {
   "cell_type": "code",
   "execution_count": 4,
   "id": "913b6dfc",
   "metadata": {},
   "outputs": [],
   "source": [
    "# user_job_app"
   ]
  },
  {
   "cell_type": "code",
   "execution_count": 15,
   "id": "545afd0e",
   "metadata": {},
   "outputs": [
    {
     "data": {
      "application/vnd.jupyter.widget-view+json": {
       "model_id": "0c1d4838314b4c13a2232eafb4fbc5f0",
       "version_major": 2,
       "version_minor": 0
      },
      "text/plain": [
       "  0%|          | 0/30 [00:00<?, ?it/s]"
      ]
     },
     "metadata": {},
     "output_type": "display_data"
    }
   ],
   "source": [
    "# user_job_app = job_user_app.T.tocsr()\n",
    "# bpr(model_path, user_job_app)\n",
    "# als(model_path, user_job_app)\n",
    "lmf(model_path, user_job_app)"
   ]
  },
  {
   "cell_type": "code",
   "execution_count": 6,
   "id": "526cb48c",
   "metadata": {},
   "outputs": [],
   "source": [
    "# df_train_pos.userid.unique()"
   ]
  },
  {
   "cell_type": "code",
   "execution_count": 16,
   "id": "83036205",
   "metadata": {},
   "outputs": [],
   "source": [
    "def read_train_gd_csv(data_testgd_path, usecols):\n",
    "    test_gddf = pd.read_csv(data_testgd_path, usecols=usecols)\n",
    "#     test_gddf[DEFAULT_USER_COL] = test_gddf[DEFAULT_USER_COL].astype('str')\n",
    "#     test_gddf[DEFAULT_ITEM_COL] = test_gddf[DEFAULT_ITEM_COL].astype('str')\n",
    "    return test_gddf"
   ]
  },
  {
   "cell_type": "code",
   "execution_count": 17,
   "id": "ba437309",
   "metadata": {},
   "outputs": [],
   "source": [
    "df_test_ori = pd.read_feather(pathlib.Path(cfg.path.root, cfg.file.test))\n",
    "\n",
    "\n",
    "df_train =read_train_gd_csv('../../data/jobs/leave_one_train_neg.csv', usecols=[DEFAULT_USER_COL, DEFAULT_ITEM_COL, DEFAULT_RATING_COL])\n",
    "\n",
    "df_test =read_train_gd_csv('../../data/jobs/leave_one_test.csv', usecols=[DEFAULT_USER_COL, DEFAULT_ITEM_COL, DEFAULT_RATING_COL])\n"
   ]
  },
  {
   "cell_type": "code",
   "execution_count": 18,
   "id": "300d983a",
   "metadata": {},
   "outputs": [],
   "source": [
    "with open('./models/model_lmf.sav','rb') as pickle_in:\n",
    "    model = pickle.load(pickle_in)\n",
    "#     microsoft_eval(model, user_job_app, test_gddf=df_test, usersid=usersid, jobsid=jobsid, k=10, logger=None)\n",
    "    \n",
    "#     model.recommend(test_user_indexes, df_train[test_user_indexes], N=10)"
   ]
  },
  {
   "cell_type": "code",
   "execution_count": 19,
   "id": "c7cf6b7d",
   "metadata": {},
   "outputs": [],
   "source": [
    "# df_test_ori[DEFAULT_USER_COL] = df_test_ori[DEFAULT_USER_COL].astype('str')\n",
    "# df_test_ori[DEFAULT_ITEM_COL] = df_test_ori[DEFAULT_ITEM_COL].astype('str')"
   ]
  },
  {
   "cell_type": "code",
   "execution_count": 20,
   "id": "98f60153",
   "metadata": {},
   "outputs": [],
   "source": [
    "apps_true = df_test_ori[df_test_ori['userid'].isin([1472090])]\n",
    "# apps_true = df_test_ori"
   ]
  },
  {
   "cell_type": "code",
   "execution_count": 21,
   "id": "72808231",
   "metadata": {},
   "outputs": [
    {
     "data": {
      "text/html": [
       "<div>\n",
       "<style scoped>\n",
       "    .dataframe tbody tr th:only-of-type {\n",
       "        vertical-align: middle;\n",
       "    }\n",
       "\n",
       "    .dataframe tbody tr th {\n",
       "        vertical-align: top;\n",
       "    }\n",
       "\n",
       "    .dataframe thead th {\n",
       "        text-align: right;\n",
       "    }\n",
       "</style>\n",
       "<table border=\"1\" class=\"dataframe\">\n",
       "  <thead>\n",
       "    <tr style=\"text-align: right;\">\n",
       "      <th></th>\n",
       "      <th>userid</th>\n",
       "      <th>itemid</th>\n",
       "      <th>rating</th>\n",
       "    </tr>\n",
       "  </thead>\n",
       "  <tbody>\n",
       "    <tr>\n",
       "      <th>7483090</th>\n",
       "      <td>1472090</td>\n",
       "      <td>254881</td>\n",
       "      <td>1</td>\n",
       "    </tr>\n",
       "    <tr>\n",
       "      <th>7483091</th>\n",
       "      <td>1472090</td>\n",
       "      <td>516136</td>\n",
       "      <td>0</td>\n",
       "    </tr>\n",
       "    <tr>\n",
       "      <th>7483092</th>\n",
       "      <td>1472090</td>\n",
       "      <td>544291</td>\n",
       "      <td>0</td>\n",
       "    </tr>\n",
       "    <tr>\n",
       "      <th>7483093</th>\n",
       "      <td>1472090</td>\n",
       "      <td>372900</td>\n",
       "      <td>0</td>\n",
       "    </tr>\n",
       "    <tr>\n",
       "      <th>7483094</th>\n",
       "      <td>1472090</td>\n",
       "      <td>954885</td>\n",
       "      <td>0</td>\n",
       "    </tr>\n",
       "    <tr>\n",
       "      <th>...</th>\n",
       "      <td>...</td>\n",
       "      <td>...</td>\n",
       "      <td>...</td>\n",
       "    </tr>\n",
       "    <tr>\n",
       "      <th>7483186</th>\n",
       "      <td>1472090</td>\n",
       "      <td>493793</td>\n",
       "      <td>0</td>\n",
       "    </tr>\n",
       "    <tr>\n",
       "      <th>7483187</th>\n",
       "      <td>1472090</td>\n",
       "      <td>1076061</td>\n",
       "      <td>0</td>\n",
       "    </tr>\n",
       "    <tr>\n",
       "      <th>7483188</th>\n",
       "      <td>1472090</td>\n",
       "      <td>807312</td>\n",
       "      <td>0</td>\n",
       "    </tr>\n",
       "    <tr>\n",
       "      <th>7483189</th>\n",
       "      <td>1472090</td>\n",
       "      <td>273190</td>\n",
       "      <td>0</td>\n",
       "    </tr>\n",
       "    <tr>\n",
       "      <th>7483190</th>\n",
       "      <td>1472090</td>\n",
       "      <td>205010</td>\n",
       "      <td>0</td>\n",
       "    </tr>\n",
       "  </tbody>\n",
       "</table>\n",
       "<p>101 rows × 3 columns</p>\n",
       "</div>"
      ],
      "text/plain": [
       "          userid   itemid  rating\n",
       "7483090  1472090   254881       1\n",
       "7483091  1472090   516136       0\n",
       "7483092  1472090   544291       0\n",
       "7483093  1472090   372900       0\n",
       "7483094  1472090   954885       0\n",
       "...          ...      ...     ...\n",
       "7483186  1472090   493793       0\n",
       "7483187  1472090  1076061       0\n",
       "7483188  1472090   807312       0\n",
       "7483189  1472090   273190       0\n",
       "7483190  1472090   205010       0\n",
       "\n",
       "[101 rows x 3 columns]"
      ]
     },
     "execution_count": 21,
     "metadata": {},
     "output_type": "execute_result"
    }
   ],
   "source": [
    "apps_true"
   ]
  },
  {
   "cell_type": "code",
   "execution_count": 22,
   "id": "0989a939",
   "metadata": {},
   "outputs": [],
   "source": [
    "gt_pos, reco_ind, scores = model_infer2(df_true=apps_true, jobsid=jobsid, usersid=usersid, \n",
    "                                 model=model, u_i_matrix=user_job_app, n=cfg.params.neg_test+1)"
   ]
  },
  {
   "cell_type": "code",
   "execution_count": 23,
   "id": "a14bcc9d",
   "metadata": {},
   "outputs": [
    {
     "data": {
      "text/plain": [
       "(85,)"
      ]
     },
     "execution_count": 23,
     "metadata": {},
     "output_type": "execute_result"
    }
   ],
   "source": [
    "gt_pos.flatten().shape"
   ]
  },
  {
   "cell_type": "code",
   "execution_count": 24,
   "id": "6320e53c",
   "metadata": {},
   "outputs": [
    {
     "data": {
      "text/plain": [
       "(85,)"
      ]
     },
     "execution_count": 24,
     "metadata": {},
     "output_type": "execute_result"
    }
   ],
   "source": [
    "reco_ind.shape"
   ]
  },
  {
   "cell_type": "code",
   "execution_count": 25,
   "id": "b9523e7a",
   "metadata": {},
   "outputs": [
    {
     "data": {
      "text/plain": [
       "0.8452380952380952"
      ]
     },
     "execution_count": 25,
     "metadata": {},
     "output_type": "execute_result"
    }
   ],
   "source": [
    "auc_test = ranking.AUC()\n",
    "auc_test.compute(pd_scores=scores, gt_pos=gt_pos)"
   ]
  },
  {
   "cell_type": "code",
   "execution_count": 26,
   "id": "d848e87b",
   "metadata": {},
   "outputs": [],
   "source": [
    "p = ranking.Precision(k=20)"
   ]
  },
  {
   "cell_type": "code",
   "execution_count": 27,
   "id": "395af883",
   "metadata": {},
   "outputs": [
    {
     "data": {
      "text/plain": [
       "(85,)"
      ]
     },
     "execution_count": 27,
     "metadata": {},
     "output_type": "execute_result"
    }
   ],
   "source": [
    "gt_pos.shape"
   ]
  },
  {
   "cell_type": "code",
   "execution_count": 28,
   "id": "110a5356",
   "metadata": {},
   "outputs": [
    {
     "data": {
      "text/plain": [
       "(85,)"
      ]
     },
     "execution_count": 28,
     "metadata": {},
     "output_type": "execute_result"
    }
   ],
   "source": [
    "reco_ind.shape"
   ]
  },
  {
   "cell_type": "code",
   "execution_count": 29,
   "id": "f01cc68d",
   "metadata": {},
   "outputs": [
    {
     "data": {
      "text/plain": [
       "0.05"
      ]
     },
     "execution_count": 29,
     "metadata": {},
     "output_type": "execute_result"
    }
   ],
   "source": [
    "p.compute(gt_pos=gt_pos, pd_rank=reco_ind)"
   ]
  },
  {
   "cell_type": "code",
   "execution_count": 30,
   "id": "c2a28fdf",
   "metadata": {},
   "outputs": [
    {
     "data": {
      "text/plain": [
       "1.0"
      ]
     },
     "execution_count": 30,
     "metadata": {},
     "output_type": "execute_result"
    }
   ],
   "source": [
    "r = ranking.Recall(k=20)\n",
    "r.compute(gt_pos=gt_pos, pd_rank=reco_ind)"
   ]
  },
  {
   "cell_type": "code",
   "execution_count": 31,
   "id": "9a75546f",
   "metadata": {},
   "outputs": [],
   "source": [
    "class HitRate():\n",
    "    def __init__(self, k=-1):\n",
    "        self.k=k\n",
    "    def compute(self, gt_pos,pd_rank, **kwargs):\n",
    "        if self.k > 0:\n",
    "            truncated_pd_rank = pd_rank[: self.k]\n",
    "\n",
    "        else:\n",
    "            truncated_pd_rank = pd_rank\n",
    "        gt_pos_k = gt_pos[truncated_pd_rank]\n",
    "        if sum(gt_pos_k)==0:\n",
    "            return 0\n",
    "        else:\n",
    "            return 1"
   ]
  },
  {
   "cell_type": "code",
   "execution_count": 32,
   "id": "671f680a",
   "metadata": {},
   "outputs": [],
   "source": [
    "def cal_p(apps_true, jobsid, usersid,model, u_i_matrix, n, metric):\n",
    "    gt_item, reco_ind, _ = model_infer2(df_true=apps_true, jobsid=jobsid, usersid=usersid, \n",
    "                                 model=model, u_i_matrix=user_job_app, n=cfg.params.neg_test+1) \n",
    "    return metric.compute(gt_pos=gt_item, pd_rank=reco_ind)\n",
    "    "
   ]
  },
  {
   "cell_type": "code",
   "execution_count": 33,
   "id": "8457f11a",
   "metadata": {},
   "outputs": [],
   "source": [
    "def cal_auc(apps_true, jobsid, usersid,model, u_i_matrix, n, metric):\n",
    "    gt_item, reco_ind, pd_scores = model_infer2(df_true=apps_true, jobsid=jobsid, usersid=usersid, \n",
    "                                 model=model, u_i_matrix=user_job_app, n=cfg.params.neg_test+1) \n",
    "    return metric.compute(gt_pos=gt_item, pd_scores=pd_scores)\n",
    "    "
   ]
  },
  {
   "cell_type": "code",
   "execution_count": 34,
   "id": "ba487e87",
   "metadata": {},
   "outputs": [],
   "source": [
    "# aa= df_test_ori[df_test_ori['userid'].isin(['7','999368'])]\n",
    "#  '1327949',\n",
    "#  '543701',\n",
    "#  '860552',\n",
    "#  '298359' ])]\n",
    "tqdm.pandas()\n"
   ]
  },
  {
   "cell_type": "markdown",
   "id": "a8a22ae0",
   "metadata": {},
   "source": [
    "## Precision"
   ]
  },
  {
   "cell_type": "code",
   "execution_count": 35,
   "id": "5a900036",
   "metadata": {},
   "outputs": [
    {
     "data": {
      "application/vnd.jupyter.widget-view+json": {
       "model_id": "b76790ed96a147138f4d1454cde8f26f",
       "version_major": 2,
       "version_minor": 0
      },
      "text/plain": [
       "  0%|          | 0/74091 [00:00<?, ?it/s]"
      ]
     },
     "metadata": {},
     "output_type": "display_data"
    },
    {
     "name": "stdout",
     "output_type": "stream",
     "text": [
      "0.07869511816554886\n"
     ]
    }
   ],
   "source": [
    "metric = ranking.Precision(k=10)\n",
    "\n",
    "metric_result = df_test_ori.groupby('userid').progress_apply(cal_p, jobsid=jobsid, usersid=usersid, \n",
    "                            model=model, u_i_matrix=user_job_app, \n",
    "                           n=cfg.params.neg_test+1, metric=metric)\n",
    "\n",
    "print(sum(metric_result)/len(metric_result))"
   ]
  },
  {
   "cell_type": "markdown",
   "id": "30ab7c2d",
   "metadata": {},
   "source": [
    "## Recall"
   ]
  },
  {
   "cell_type": "code",
   "execution_count": 36,
   "id": "98e0e392",
   "metadata": {},
   "outputs": [
    {
     "data": {
      "application/vnd.jupyter.widget-view+json": {
       "model_id": "f9a250f7c68b483aa3de19f001af3f96",
       "version_major": 2,
       "version_minor": 0
      },
      "text/plain": [
       "  0%|          | 0/74091 [00:00<?, ?it/s]"
      ]
     },
     "metadata": {},
     "output_type": "display_data"
    },
    {
     "name": "stdout",
     "output_type": "stream",
     "text": [
      "0.7869511816549918\n"
     ]
    }
   ],
   "source": [
    "metric = ranking.Recall(k=10)\n",
    "\n",
    "metric_result = df_test_ori.groupby('userid').progress_apply(cal_p, jobsid=jobsid, usersid=usersid, \n",
    "                            model=model, u_i_matrix=user_job_app, \n",
    "                           n=cfg.params.neg_test+1, metric=metric)\n",
    "\n",
    "print(sum(metric_result)/len(metric_result))"
   ]
  },
  {
   "cell_type": "code",
   "execution_count": null,
   "id": "527fb5e1",
   "metadata": {},
   "outputs": [],
   "source": []
  },
  {
   "cell_type": "markdown",
   "id": "7fad0c03",
   "metadata": {},
   "source": [
    "## NDCG "
   ]
  },
  {
   "cell_type": "code",
   "execution_count": 37,
   "id": "d1d32a38",
   "metadata": {},
   "outputs": [
    {
     "data": {
      "application/vnd.jupyter.widget-view+json": {
       "model_id": "95beebc63071422fb3570c7e77592ad4",
       "version_major": 2,
       "version_minor": 0
      },
      "text/plain": [
       "  0%|          | 0/74091 [00:00<?, ?it/s]"
      ]
     },
     "metadata": {},
     "output_type": "display_data"
    },
    {
     "name": "stdout",
     "output_type": "stream",
     "text": [
      "0.673416040049069\n"
     ]
    }
   ],
   "source": [
    "metric = ranking.NDCG(k=10)\n",
    "\n",
    "metric_result = df_test_ori.groupby('userid').progress_apply(cal_p, jobsid=jobsid, usersid=usersid, \n",
    "                            model=model, u_i_matrix=user_job_app, \n",
    "                           n=cfg.params.neg_test+1, metric=metric)\n",
    "\n",
    "print(sum(metric_result)/len(metric_result))"
   ]
  },
  {
   "cell_type": "code",
   "execution_count": null,
   "id": "cfb8721b",
   "metadata": {},
   "outputs": [],
   "source": []
  },
  {
   "cell_type": "markdown",
   "id": "0bef94b4",
   "metadata": {},
   "source": [
    "# Auc@k"
   ]
  },
  {
   "cell_type": "code",
   "execution_count": 38,
   "id": "dd00de3e",
   "metadata": {},
   "outputs": [
    {
     "data": {
      "application/vnd.jupyter.widget-view+json": {
       "model_id": "c9034a99c9d54017b6ad3c2741a2727e",
       "version_major": 2,
       "version_minor": 0
      },
      "text/plain": [
       "  0%|          | 0/74091 [00:00<?, ?it/s]"
      ]
     },
     "metadata": {},
     "output_type": "display_data"
    },
    {
     "name": "stdout",
     "output_type": "stream",
     "text": [
      "0.5127074770203228\n"
     ]
    }
   ],
   "source": [
    "metric = ranking.AUC()\n",
    "\n",
    "metric_result = df_test_ori.groupby('userid').progress_apply(cal_auc, jobsid=jobsid, usersid=usersid, \n",
    "                            model=model, u_i_matrix=user_job_app, \n",
    "                           n=cfg.params.neg_test+1, metric=metric)\n",
    "\n",
    "print(sum(metric_result)/len(metric_result))"
   ]
  },
  {
   "cell_type": "code",
   "execution_count": null,
   "id": "8f88c938",
   "metadata": {},
   "outputs": [],
   "source": []
  }
 ],
 "metadata": {
  "kernelspec": {
   "display_name": "Python 3 (ipykernel)",
   "language": "python",
   "name": "python3"
  },
  "language_info": {
   "codemirror_mode": {
    "name": "ipython",
    "version": 3
   },
   "file_extension": ".py",
   "mimetype": "text/x-python",
   "name": "python",
   "nbconvert_exporter": "python",
   "pygments_lexer": "ipython3",
   "version": "3.8.10"
  }
 },
 "nbformat": 4,
 "nbformat_minor": 5
}
