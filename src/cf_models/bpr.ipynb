{
 "cells": [
  {
   "cell_type": "code",
   "execution_count": 1,
   "id": "3ee1b655",
   "metadata": {},
   "outputs": [],
   "source": [
    "import os\n",
    "import sys\n",
    "sys.path.append('../../src')\n",
    "from hydra import initialize, compose\n",
    "import pathlib\n",
    "import pandas as pd\n",
    "import numpy as np\n",
    "import pickle\n",
    "from tqdm.auto import tqdm\n",
    "\n",
    "# from datasets.jobdataset import generate_dataset, _hfd5_from_dataframe\n",
    "from datasets.job_hdf5 import hdf5_from_dataframe, get_career\n",
    "import data_process.neg_sample as ng_sample\n",
    "from utils.constants import DEFAULT_USER_COL,DEFAULT_ITEM_COL,DEFAULT_RATING_COL, DEFAULT_PREDICTION_COL\n",
    "from implicit_eval import microsoft_eval,model_infer_df\n",
    "# from implicit.als import AlternatingLeastSquares\n",
    "# from implicit.bpr import BayesianPersonalizedRanking\n",
    "# from implicit.lmf import LogisticMatrixFactorization\n",
    "from implicit_build import bpr\n",
    "from metrics import ranking\n",
    "\n",
    "with initialize(version_base=None, config_path=\"../conf\"):\n",
    "    cfg = compose(config_name=\"config\", overrides=[])"
   ]
  },
  {
   "cell_type": "markdown",
   "id": "76593aa6",
   "metadata": {},
   "source": [
    "# Create the the data pipe"
   ]
  },
  {
   "cell_type": "code",
   "execution_count": 2,
   "id": "1dd920d2",
   "metadata": {},
   "outputs": [],
   "source": [
    "df_train_pos  = ng_sample.read_feather(pathlib.Path(cfg.path.root, cfg.file.train_pos))"
   ]
  },
  {
   "cell_type": "code",
   "execution_count": 3,
   "id": "dff7b576",
   "metadata": {},
   "outputs": [],
   "source": [
    "df_train_pos[DEFAULT_RATING_COL] = 1"
   ]
  },
  {
   "cell_type": "code",
   "execution_count": 4,
   "id": "4f95dc4f",
   "metadata": {},
   "outputs": [],
   "source": [
    "# df_train_pos[DEFAULT_USER_COL] = df_train_pos[DEFAULT_USER_COL].astype(str)\n",
    "# df_train_pos[DEFAULT_ITEM_COL] = df_train_pos[DEFAULT_ITEM_COL].astype(str)\n",
    "df_train_pos[DEFAULT_USER_COL] = df_train_pos[DEFAULT_USER_COL].astype(\"category\")\n",
    "df_train_pos[DEFAULT_ITEM_COL] = df_train_pos[DEFAULT_ITEM_COL].astype(\"category\")"
   ]
  },
  {
   "cell_type": "code",
   "execution_count": 5,
   "id": "55e6e0ac",
   "metadata": {},
   "outputs": [],
   "source": [
    "# df_train_pos[DEFAULT_USER_COL]"
   ]
  },
  {
   "cell_type": "code",
   "execution_count": 6,
   "id": "384bda8f",
   "metadata": {},
   "outputs": [],
   "source": [
    "# pathlib.Path(cfg.path.root, cfg.file.hdf5)"
   ]
  },
  {
   "cell_type": "code",
   "execution_count": 7,
   "id": "86adffc4",
   "metadata": {},
   "outputs": [],
   "source": [
    "hdf5_from_dataframe(df_train_pos, pathlib.Path(cfg.path.root, cfg.file.hdf5))"
   ]
  },
  {
   "cell_type": "markdown",
   "id": "c4f29f47",
   "metadata": {},
   "source": [
    "## Read data & Train"
   ]
  },
  {
   "cell_type": "code",
   "execution_count": 8,
   "id": "d46bdf9f",
   "metadata": {},
   "outputs": [],
   "source": [
    "jobsid, usersid, user_job_app = get_career(pathlib.Path(cfg.path.root, cfg.file.hdf5))\n",
    "model_path = \"./models\""
   ]
  },
  {
   "cell_type": "code",
   "execution_count": 9,
   "id": "913b6dfc",
   "metadata": {},
   "outputs": [],
   "source": [
    "# user_job_app"
   ]
  },
  {
   "cell_type": "code",
   "execution_count": 10,
   "id": "545afd0e",
   "metadata": {},
   "outputs": [
    {
     "data": {
      "application/vnd.jupyter.widget-view+json": {
       "model_id": "462a962aac2a4b7f81ca1bccceb4bbc3",
       "version_major": 2,
       "version_minor": 0
      },
      "text/plain": [
       "  0%|          | 0/100 [00:00<?, ?it/s]"
      ]
     },
     "metadata": {},
     "output_type": "display_data"
    }
   ],
   "source": [
    "# user_job_app = job_user_app.T.tocsr()\n",
    "bpr(model_path, user_job_app)\n",
    "# als(model_path, user_job_app)\n",
    "# lmf(model_path, user_job_app)"
   ]
  },
  {
   "cell_type": "code",
   "execution_count": 11,
   "id": "526cb48c",
   "metadata": {},
   "outputs": [],
   "source": [
    "# df_train_pos.userid.unique()"
   ]
  },
  {
   "cell_type": "code",
   "execution_count": 12,
   "id": "83036205",
   "metadata": {},
   "outputs": [],
   "source": [
    "def read_train_gd_csv(data_testgd_path, usecols):\n",
    "    test_gddf = pd.read_csv(data_testgd_path, usecols=usecols)\n",
    "#     test_gddf[DEFAULT_USER_COL] = test_gddf[DEFAULT_USER_COL].astype('str')\n",
    "#     test_gddf[DEFAULT_ITEM_COL] = test_gddf[DEFAULT_ITEM_COL].astype('str')\n",
    "    return test_gddf"
   ]
  },
  {
   "cell_type": "code",
   "execution_count": 13,
   "id": "ba437309",
   "metadata": {},
   "outputs": [],
   "source": [
    "df_test_ori = pd.read_feather(pathlib.Path(cfg.path.root, cfg.file.test))\n"
   ]
  },
  {
   "cell_type": "code",
   "execution_count": 14,
   "id": "d8d28e05",
   "metadata": {},
   "outputs": [],
   "source": [
    "df_train =read_train_gd_csv('../../data/jobs/leave_one_train_neg.csv', usecols=[DEFAULT_USER_COL, DEFAULT_ITEM_COL, DEFAULT_RATING_COL])"
   ]
  },
  {
   "cell_type": "code",
   "execution_count": 15,
   "id": "62da57d2",
   "metadata": {},
   "outputs": [],
   "source": [
    "df_test =read_train_gd_csv('../../data/jobs/leave_one_test.csv', usecols=[DEFAULT_USER_COL, DEFAULT_ITEM_COL, DEFAULT_RATING_COL])\n"
   ]
  },
  {
   "cell_type": "code",
   "execution_count": 16,
   "id": "300d983a",
   "metadata": {},
   "outputs": [],
   "source": [
    "with open('./models/model_bpr.sav','rb') as pickle_in:\n",
    "    model = pickle.load(pickle_in)\n",
    "#     microsoft_eval(model, user_job_app, test_gddf=df_test, usersid=usersid, jobsid=jobsid, k=10, logger=None)\n",
    "    \n",
    "#     model.recommend(test_user_indexes, df_train[test_user_indexes], N=10)"
   ]
  },
  {
   "cell_type": "code",
   "execution_count": 17,
   "id": "c7cf6b7d",
   "metadata": {},
   "outputs": [],
   "source": [
    "# df_test_ori[DEFAULT_USER_COL] = df_test_ori[DEFAULT_USER_COL].astype('str')\n",
    "# df_test_ori[DEFAULT_ITEM_COL] = df_test_ori[DEFAULT_ITEM_COL].astype('str')"
   ]
  },
  {
   "cell_type": "code",
   "execution_count": 18,
   "id": "98f60153",
   "metadata": {},
   "outputs": [],
   "source": [
    "apps_true = df_test_ori[df_test_ori['userid'].isin([1472090])]"
   ]
  },
  {
   "cell_type": "code",
   "execution_count": 19,
   "id": "44f86756",
   "metadata": {},
   "outputs": [],
   "source": [
    "def model_infer2(apps_true, jobsid, usersid,model, u_i_matrix, n):\n",
    "    test_items = apps_true.itemid.values\n",
    "    test_items_indices = np.where(np.isin(jobsid, test_items))\n",
    "    test_items_rating = apps_true.rating.values\n",
    "    test_users = apps_true[DEFAULT_USER_COL].unique()\n",
    "    test_user_indices = np.where(np.isin(usersid, test_users))[0]\n",
    "    ids, scores = model.recommend(test_user_indices, \n",
    "                                  user_job_app[test_user_indices],\n",
    "                                  N=n,\n",
    "                                  items=test_items_indices[0])\n",
    "    reco_jobsid = jobsid[ids][0]\n",
    "#     reco_jobsid = reco_jobsid.astype(np.int32)\n",
    "#     test_items = test_items.astype(np.int32)\n",
    "    test_items_sort_ind = np.argsort(test_items)\n",
    "    test_items_rating = test_items_rating[test_items_sort_ind]\n",
    "    reco_indices = np.searchsorted(test_items[test_items_sort_ind], reco_jobsid)\n",
    "    return test_items_rating, reco_indices"
   ]
  },
  {
   "cell_type": "code",
   "execution_count": 20,
   "id": "0989a939",
   "metadata": {},
   "outputs": [],
   "source": [
    "gt_item, reco_ind = model_infer2(apps_true=apps_true, jobsid=jobsid, usersid=usersid, \n",
    "                                 model=model, u_i_matrix=user_job_app, n=cfg.params.neg_test+1)"
   ]
  },
  {
   "cell_type": "code",
   "execution_count": null,
   "id": "b9523e7a",
   "metadata": {},
   "outputs": [],
   "source": []
  },
  {
   "cell_type": "code",
   "execution_count": 24,
   "id": "405b6bb5",
   "metadata": {},
   "outputs": [],
   "source": [
    "# precision_list=[]\n",
    "# for u in range(users):\n",
    "#     gt_item, reco_ind = model_infer2(apps_true=apps_true, jobsid=jobsid, usersid=usersid, \n",
    "#                                  model=model, u_i_matrix=user_job_app, n=cfg.params.neg_test+1) \n",
    "#     p = ranking.Precision(k=20)\n",
    "#     precision_list.append(p.compute(gt_pos=gt_item, pd_rank=reco_ind))\n",
    "    "
   ]
  },
  {
   "cell_type": "code",
   "execution_count": 28,
   "id": "d848e87b",
   "metadata": {},
   "outputs": [],
   "source": [
    "p = ranking.Precision(k=20)"
   ]
  },
  {
   "cell_type": "code",
   "execution_count": 29,
   "id": "f01cc68d",
   "metadata": {},
   "outputs": [
    {
     "data": {
      "text/plain": [
       "0.0"
      ]
     },
     "execution_count": 29,
     "metadata": {},
     "output_type": "execute_result"
    }
   ],
   "source": [
    "p.compute(gt_pos=gt_item, pd_rank=reco_ind)"
   ]
  },
  {
   "cell_type": "code",
   "execution_count": 30,
   "id": "c2a28fdf",
   "metadata": {},
   "outputs": [
    {
     "data": {
      "text/plain": [
       "0.0"
      ]
     },
     "execution_count": 30,
     "metadata": {},
     "output_type": "execute_result"
    }
   ],
   "source": [
    "r = ranking.Recall(k=20)\n",
    "r.compute(gt_pos=gt_item, pd_rank=reco_ind)"
   ]
  },
  {
   "cell_type": "code",
   "execution_count": 384,
   "id": "9a75546f",
   "metadata": {},
   "outputs": [],
   "source": [
    "# test_items[test_items_sort_ind]"
   ]
  },
  {
   "cell_type": "code",
   "execution_count": 25,
   "id": "671f680a",
   "metadata": {},
   "outputs": [],
   "source": [
    "metric = ranking.Precision(k=80)\n",
    "def cal_p(apps_true, jobsid, usersid,model, u_i_matrix, n, metric):\n",
    "    gt_item, reco_ind = model_infer2(apps_true=apps_true, jobsid=jobsid, usersid=usersid, \n",
    "                                 model=model, u_i_matrix=user_job_app, n=cfg.params.neg_test+1) \n",
    "    return metric.compute(gt_pos=gt_item, pd_rank=reco_ind)\n",
    "    "
   ]
  },
  {
   "cell_type": "code",
   "execution_count": 26,
   "id": "ba487e87",
   "metadata": {},
   "outputs": [],
   "source": [
    "# aa= df_test_ori[df_test_ori['userid'].isin(['7','999368'])]\n",
    "#  '1327949',\n",
    "#  '543701',\n",
    "#  '860552',\n",
    "#  '298359' ])]\n",
    "tqdm.pandas()\n"
   ]
  },
  {
   "cell_type": "code",
   "execution_count": 27,
   "id": "bb4d8dbc",
   "metadata": {},
   "outputs": [],
   "source": [
    "# set(df_test_ori.userid)"
   ]
  },
  {
   "cell_type": "code",
   "execution_count": null,
   "id": "5a900036",
   "metadata": {},
   "outputs": [],
   "source": []
  },
  {
   "cell_type": "code",
   "execution_count": 28,
   "id": "26a30f94",
   "metadata": {
    "scrolled": true
   },
   "outputs": [
    {
     "data": {
      "application/vnd.jupyter.widget-view+json": {
       "model_id": "8ff128ccbcf34def90f089c6325501a3",
       "version_major": 2,
       "version_minor": 0
      },
      "text/plain": [
       "  0%|          | 0/74091 [00:00<?, ?it/s]"
      ]
     },
     "metadata": {},
     "output_type": "display_data"
    }
   ],
   "source": [
    "metric_result = df_test_ori.groupby('userid').progress_apply(cal_p, jobsid=jobsid, usersid=usersid, \n",
    "                            model=model, u_i_matrix=user_job_app, \n",
    "                           n=cfg.params.neg_test+1, metric=metric)"
   ]
  },
  {
   "cell_type": "code",
   "execution_count": 29,
   "id": "b557c52b",
   "metadata": {},
   "outputs": [
    {
     "data": {
      "text/plain": [
       "0.012028185142849796"
      ]
     },
     "execution_count": 29,
     "metadata": {},
     "output_type": "execute_result"
    }
   ],
   "source": [
    "sum(metric_result)/len(metric_result)"
   ]
  },
  {
   "cell_type": "code",
   "execution_count": null,
   "id": "7c929d94",
   "metadata": {},
   "outputs": [],
   "source": []
  },
  {
   "cell_type": "code",
   "execution_count": null,
   "id": "98e0e392",
   "metadata": {},
   "outputs": [],
   "source": []
  },
  {
   "cell_type": "code",
   "execution_count": 73,
   "id": "adae9a17",
   "metadata": {},
   "outputs": [
    {
     "data": {
      "text/plain": [
       "array([4, 0, 3, 2, 1])"
      ]
     },
     "execution_count": 73,
     "metadata": {},
     "output_type": "execute_result"
    }
   ],
   "source": [
    "gt_pos = np.asarray([0, 1, 0, 0, 0]) \n",
    "item_score = np.asarray([.5, .2, .3, .4, .6])\n",
    "item_rank = item_score.argsort()[::-1]\n",
    "item_rank"
   ]
  },
  {
   "cell_type": "code",
   "execution_count": 70,
   "id": "4e5ae748",
   "metadata": {},
   "outputs": [],
   "source": [
    "pd_rank = item_rank"
   ]
  },
  {
   "cell_type": "code",
   "execution_count": 71,
   "id": "08eba4bb",
   "metadata": {},
   "outputs": [],
   "source": [
    "# gt_pos = np.asarray([0, 0, 0, 1, 1])  # [1, 0, 1]\n",
    "# pd_rank = np.asarray([4, 3, 0,1,2])  # [1, 1, 1]"
   ]
  },
  {
   "cell_type": "code",
   "execution_count": 72,
   "id": "dc709712",
   "metadata": {},
   "outputs": [
    {
     "name": "stdout",
     "output_type": "stream",
     "text": [
      "[4 0 3]\n",
      "pred [1 0 0 1 1]\n",
      "choose the topk [0 0 0 0 0]\n",
      "tp 0\n",
      "tp_fn 1\n",
      "tp_fp 3\n"
     ]
    }
   ],
   "source": [
    "if k > 0:\n",
    "    truncated_pd_rank = pd_rank[:k]\n",
    "else:\n",
    "    truncated_pd_rank = pd_rank\n",
    "    \n",
    "print(truncated_pd_rank)\n",
    "pred = np.zeros_like(gt_pos)\n",
    "pred[truncated_pd_rank] = 1\n",
    "print('pred', pred)\n",
    "print('choose the topk', pred*gt_pos)\n",
    "tp = np.sum(pred * gt_pos)\n",
    "print('tp', tp)\n",
    "tp_fn = np.sum(gt_pos)\n",
    "print('tp_fn', tp_fn)\n",
    "tp_fp = np.sum(pred)\n",
    "print('tp_fp', tp_fp)"
   ]
  },
  {
   "cell_type": "code",
   "execution_count": 37,
   "id": "48886069",
   "metadata": {},
   "outputs": [],
   "source": [
    "score = np.asarray([0.3, 0.4, 0.1])"
   ]
  },
  {
   "cell_type": "code",
   "execution_count": 24,
   "id": "9ade1e40",
   "metadata": {},
   "outputs": [],
   "source": [
    "rank = score.argsort()[::-1]"
   ]
  },
  {
   "cell_type": "code",
   "execution_count": 25,
   "id": "c27a5f96",
   "metadata": {},
   "outputs": [
    {
     "data": {
      "text/plain": [
       "array([1, 0, 2])"
      ]
     },
     "execution_count": 25,
     "metadata": {},
     "output_type": "execute_result"
    }
   ],
   "source": [
    "rank"
   ]
  },
  {
   "cell_type": "code",
   "execution_count": null,
   "id": "527fb5e1",
   "metadata": {},
   "outputs": [],
   "source": []
  }
 ],
 "metadata": {
  "kernelspec": {
   "display_name": "Python 3 (ipykernel)",
   "language": "python",
   "name": "python3"
  },
  "language_info": {
   "codemirror_mode": {
    "name": "ipython",
    "version": 3
   },
   "file_extension": ".py",
   "mimetype": "text/x-python",
   "name": "python",
   "nbconvert_exporter": "python",
   "pygments_lexer": "ipython3",
   "version": "3.9.13"
  }
 },
 "nbformat": 4,
 "nbformat_minor": 5
}
