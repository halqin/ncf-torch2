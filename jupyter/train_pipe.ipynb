{
 "cells": [
  {
   "cell_type": "code",
   "execution_count": 4,
   "id": "165687ff",
   "metadata": {},
   "outputs": [
    {
     "data": {
      "text/plain": [
       "<torch._C.Generator at 0x10603a210>"
      ]
     },
     "execution_count": 4,
     "metadata": {},
     "output_type": "execute_result"
    }
   ],
   "source": [
    "import os\n",
    "# import sys\n",
    "# sys.path.append('../../src')\n",
    "import pandas as pd\n",
    "import numpy as np\n",
    "from tqdm import tqdm\n",
    "import random\n",
    "from datetime import datetime\n",
    "import time\n",
    "from hydra import initialize, compose\n",
    "import pathlib\n",
    "# import config\n",
    "\n",
    "import src.data_process.neg_sample as ng_sample\n",
    "from src.data_process.utils import mix_merge\n",
    "from src.data_process.data_split import data_split_user\n",
    "from src.metrics.evaluate_ignite import CustomHR, CustomNDCG, CustomAuc_top, CustomAuc, CustomRecall_top, CustomPrecision_top\n",
    "from src.model_entity import EntityCat\n",
    "from src.data_utils import CatData\n",
    "from src.utils.constants import DEFAULT_USER_COL,DEFAULT_ITEM_COL,DEFAULT_RATING_COL, DEFAULT_TIMESTAMP_COL\n",
    "\n",
    "\n",
    "from sklearn import metrics, preprocessing\n",
    "from sklearn.metrics import roc_auc_score, average_precision_score, recall_score, precision_score\n",
    "\n",
    "import torch\n",
    "import torch.nn as nn\n",
    "import torch.utils.data as data\n",
    "import torch.optim as optim\n",
    "import torch.nn.functional as F\n",
    "from torch.utils.tensorboard import SummaryWriter\n",
    "\n",
    "# import argparse\n",
    "torch.manual_seed(0)"
   ]
  },
  {
   "cell_type": "code",
   "execution_count": 36,
   "id": "dd892adc",
   "metadata": {},
   "outputs": [],
   "source": [
    "from ignite.engine import Engine, Events, create_supervised_trainer, create_supervised_evaluator, RemovableEventHandle\n",
    "from ignite.metrics import Accuracy, Loss, Metric\n",
    "from ignite.handlers import ModelCheckpoint, EarlyStopping\n",
    "from ignite.exceptions import NotComputableError\n",
    "from ignite.metrics.metric import sync_all_reduce, reinit__is_reduced\n",
    "from ignite.contrib.handlers.tqdm_logger import ProgressBar\n",
    "# from ignite.contrib.handlers import TensorboardLogger \n",
    "from ignite.contrib.handlers.wandb_logger import *"
   ]
  },
  {
   "cell_type": "code",
   "execution_count": 37,
   "id": "f7743c85",
   "metadata": {},
   "outputs": [
    {
     "data": {
      "text/plain": [
       "device(type='cpu')"
      ]
     },
     "execution_count": 37,
     "metadata": {},
     "output_type": "execute_result"
    }
   ],
   "source": [
    "device = torch.device('cuda:0' if torch.cuda.is_available() else 'cpu')\n",
    "device"
   ]
  },
  {
   "cell_type": "code",
   "execution_count": 38,
   "id": "b195b228",
   "metadata": {},
   "outputs": [],
   "source": [
    "with initialize(version_base=None, config_path=\"../conf\"):\n",
    "    cfg = compose(config_name=\"config\", overrides=[])"
   ]
  },
  {
   "cell_type": "code",
   "execution_count": 39,
   "id": "fc9c5318",
   "metadata": {},
   "outputs": [],
   "source": [
    "if device.type =='cpu':\n",
    "    BATCH_SIZE = cfg.params.batch_size_cpu\n",
    "    EPOCHS  = cfg.params.epochs_cpu\n",
    "else:\n",
    "    BATCH_SIZE = cfg.params.batch_size_gpu\n",
    "    EPOCHS  = cfg.params.epochs_gpu"
   ]
  },
  {
   "cell_type": "code",
   "execution_count": 40,
   "id": "cb0ca17a",
   "metadata": {},
   "outputs": [],
   "source": [
    "if device.type == 'cpu':\n",
    "    use_amp=False\n",
    "    df_train_pos  = ng_sample.read_feather(pathlib.Path(cfg.path.root, cfg.file.train_pos))\n",
    "    df_train_neg = pd.read_feather(pathlib.Path(cfg.path.root, cfg.file.train_neg))\n",
    "    df_test_ori = pd.read_feather(pathlib.Path(cfg.path.root, cfg.file.test)).iloc[:202,]\n",
    "    df_all_features = pd.read_csv(pathlib.Path(cfg.path.root, cfg.file.all_features))\n",
    "    df_train_pos = df_train_pos.sort_values(by=[DEFAULT_USER_COL]).iloc[:100,].reset_index(drop=True)\n",
    "    df_train_neg = df_train_neg.sort_values(by=[DEFAULT_USER_COL]).iloc[:100*cfg.params.neg_train,].reset_index(drop=True)\n",
    "else:\n",
    "    use_amp=True\n",
    "    df_train_pos  = ng_sample.read_feather(pathlib.Path(cfg.path.root, cfg.file.train_pos))\n",
    "    df_train_neg = pd.read_feather(pathlib.Path(cfg.path.root, cfg.file.train_neg))\n",
    "    df_test_ori = pd.read_feather(pathlib.Path(cfg.path.root, cfg.file.test))\n",
    "    df_all_features = pd.read_csv(pathlib.Path(cfg.path.root, cfg.file.all_features))\n",
    "    df_train_pos = df_train_pos.sort_values(by=[DEFAULT_USER_COL]).reset_index(drop=True)\n",
    "    df_train_neg = df_train_neg.sort_values(by=[DEFAULT_USER_COL]).reset_index(drop=True)"
   ]
  },
  {
   "cell_type": "code",
   "execution_count": 41,
   "id": "c39cb5e2",
   "metadata": {},
   "outputs": [],
   "source": [
    "df_train_pos[DEFAULT_RATING_COL] = 1"
   ]
  },
  {
   "cell_type": "code",
   "execution_count": 42,
   "id": "925b077d",
   "metadata": {},
   "outputs": [],
   "source": [
    "def concat_index(df1, df2):\n",
    "    df2.index = df2.index//cfg.params.neg_train\n",
    "    return pd.concat([df1, df2], axis=0).sort_index(kind='mregesort').reset_index(drop=True)"
   ]
  },
  {
   "cell_type": "code",
   "execution_count": 43,
   "id": "a7a21c68",
   "metadata": {},
   "outputs": [],
   "source": [
    "df_train_all = concat_index(df_train_pos, df_train_neg)"
   ]
  },
  {
   "cell_type": "code",
   "execution_count": 44,
   "id": "ca6f8b6b",
   "metadata": {},
   "outputs": [],
   "source": [
    "df_train_all['flag'] = 1\n",
    "df_test_ori['flag'] = 0\n",
    "df_all = pd.concat([df_train_all, df_test_ori], axis=0).reset_index(drop=True)"
   ]
  },
  {
   "cell_type": "markdown",
   "id": "1274e888",
   "metadata": {},
   "source": [
    "user features: \n",
    "       'WindowID_user', 'Split', 'City',\n",
    "       'State', 'Country', 'Zip_user', 'DegreeType', 'Major', 'GraduationDate',\n",
    "       'WorkHistoryCount', 'TotalYearsExperience', 'CurrentlyEmployed',\n",
    "       'ManagedOthers', 'ManagedHowMany',\n",
    "       \n",
    "job features: \n",
    "       'WindowID_job', 'City_job',\n",
    "       'State_job', 'Country_job', 'Zip_job', 'StartDate', 'EndDate',"
   ]
  },
  {
   "cell_type": "markdown",
   "id": "ccc28ce1",
   "metadata": {},
   "source": [
    "### Choose the features and process data for the training"
   ]
  },
  {
   "cell_type": "code",
   "execution_count": 64,
   "id": "09e518e4",
   "metadata": {},
   "outputs": [
    {
     "data": {
      "text/plain": [
       "Index(['userid', 'itemid', 'rating', 'flag'], dtype='object')"
      ]
     },
     "execution_count": 64,
     "metadata": {},
     "output_type": "execute_result"
    }
   ],
   "source": [
    "df_all.columns"
   ]
  },
  {
   "cell_type": "code",
   "execution_count": 65,
   "id": "1ee5ef1d",
   "metadata": {},
   "outputs": [],
   "source": [
    "user_features = []\n",
    "user_features_extend = [DEFAULT_USER_COL] + user_features\n",
    "\n",
    "item_features = []\n",
    "item_features_extend =[DEFAULT_ITEM_COL] + item_features\n",
    "\n",
    "base_features = [DEFAULT_USER_COL, DEFAULT_ITEM_COL, DEFAULT_RATING_COL]"
   ]
  },
  {
   "cell_type": "code",
   "execution_count": 66,
   "id": "97006f53",
   "metadata": {},
   "outputs": [],
   "source": [
    "df_mix_merge = mix_merge(df_all , df_all_features, user_features_extend, item_features_extend)"
   ]
  },
  {
   "cell_type": "code",
   "execution_count": 67,
   "id": "541af9a6",
   "metadata": {},
   "outputs": [],
   "source": [
    "def _cat_encode(df_data, list_f, encoder):\n",
    "    for f in list_f:\n",
    "        df_data[f] = encoder.fit_transform(df_data[f].astype('category').cat.codes.values)\n",
    "    return df_data"
   ]
  },
  {
   "cell_type": "code",
   "execution_count": 68,
   "id": "05810ac6",
   "metadata": {},
   "outputs": [],
   "source": [
    "def _embedding_dimension(df_all_encode, features_to_train, max_dim=50):\n",
    "\n",
    "    embedding_size = []\n",
    "    features_to_em = [i for i in features_to_train if i !=DEFAULT_RATING_COL]\n",
    "    for c in features_to_em:\n",
    "        num_unique_values = int(df_all_encode[c].nunique())\n",
    "        embed_dim = int(min(np.ceil(num_unique_values/2), max_dim))\n",
    "        embedding_size.append([num_unique_values, embed_dim])  \n",
    "    return embedding_size"
   ]
  },
  {
   "cell_type": "code",
   "execution_count": 69,
   "id": "00427718",
   "metadata": {},
   "outputs": [],
   "source": [
    "def encode_data(df_mix_merge, features_to_code, features_to_train, max_dim=50):\n",
    "    encoder = preprocessing.LabelEncoder()\n",
    "    df_all_encode = _cat_encode(df_mix_merge, features_to_code, encoder)\n",
    "    df_train = df_all_encode[df_all.flag==1]\n",
    "    df_test = df_all_encode[df_all.flag==0]\n",
    "    df_train = df_train[features_to_train]\n",
    "    df_test = df_test[features_to_train]\n",
    "    embedding_size = _embedding_dimension(df_all_encode, features_to_train, max_dim)\n",
    "    return df_train, df_test, embedding_size"
   ]
  },
  {
   "cell_type": "code",
   "execution_count": 70,
   "id": "12322996",
   "metadata": {},
   "outputs": [],
   "source": [
    "num_feature=[]\n",
    "features_to_code = df_mix_merge.columns\n",
    "features_to_train = [DEFAULT_USER_COL, DEFAULT_ITEM_COL]+ user_features + item_features +[DEFAULT_RATING_COL]\n"
   ]
  },
  {
   "cell_type": "code",
   "execution_count": 71,
   "id": "0a412b5f",
   "metadata": {
    "scrolled": true
   },
   "outputs": [
    {
     "name": "stdout",
     "output_type": "stream",
     "text": [
      "The size of embedding layers:[[36, 18], [413, 50], [35, 18], [19, 10], [36, 18], [230, 50], [39, 20], [1, 1], [245, 50]]\n"
     ]
    }
   ],
   "source": [
    "df_train,  df_test, embedding_size = encode_data(df_mix_merge, features_to_code, features_to_train, max_dim=cfg.params.emb_dim)\n",
    "\n",
    "print(f'The size of embedding layers:{embedding_size}')"
   ]
  },
  {
   "cell_type": "markdown",
   "id": "284aa26b",
   "metadata": {},
   "source": [
    "## Run data check before training "
   ]
  },
  {
   "cell_type": "markdown",
   "id": "928a418e",
   "metadata": {},
   "source": [
    "Check the ratio of positive and negative samples"
   ]
  },
  {
   "cell_type": "code",
   "execution_count": 72,
   "id": "0b400e4b",
   "metadata": {},
   "outputs": [],
   "source": [
    "assert len(df_train[df_train.rating==0])/len(df_train[df_train.rating==1]) == cfg.params.neg_train, 'wrong neg/pos ratio in training set'\n",
    "assert len(df_test[df_test.rating==0])/len(df_test[df_test.rating==1]) == cfg.params.neg_test, 'wrong neg/pos ratio in test set '\n",
    "#Check if all the users in test can be found in training set\n",
    "assert sum(np.isin(df_test.userid.unique(), df_train.userid.unique(), assume_unique=True)) == len(df_test.userid.unique()), 'cold start'\n",
    "#The the uniqueness of items between training and test. For a user, on common items between training and test dataset. \n",
    "assert df_all.shape[0] ==df_train.shape[0]+df_test.shape[0], 'wrong data concat'\n",
    "assert sum(df_all.groupby(['userid']).apply(lambda x: len(x['itemid'].unique()))) == df_all.shape[0], 'train and test have overlap item'"
   ]
  },
  {
   "cell_type": "markdown",
   "id": "8247e585",
   "metadata": {},
   "source": [
    "## Creat the numpy array for training "
   ]
  },
  {
   "cell_type": "code",
   "execution_count": 73,
   "id": "c2da9d06",
   "metadata": {},
   "outputs": [],
   "source": [
    "df_train_split, df_val_split = data_split_user(df_train, val_size=0.2)\n",
    "\n",
    "np_train = df_train_split.values\n",
    "np_val = df_val_split.values\n",
    "np_test = df_test.values"
   ]
  },
  {
   "cell_type": "code",
   "execution_count": 74,
   "id": "d3cbd82b",
   "metadata": {
    "scrolled": true
   },
   "outputs": [
    {
     "data": {
      "text/plain": [
       "<torch._C.Generator at 0x1366a3b40>"
      ]
     },
     "execution_count": 74,
     "metadata": {},
     "output_type": "execute_result"
    }
   ],
   "source": [
    "def seed_worker(worker_id):\n",
    "    worker_seed = torch.initial_seed() % 2**32\n",
    "    numpy.random.seed(worker_seed)\n",
    "    random.seed(worker_seed)\n",
    "\n",
    "g = torch.Generator()\n",
    "g.manual_seed(0)"
   ]
  },
  {
   "cell_type": "code",
   "execution_count": 75,
   "id": "e72ce888",
   "metadata": {},
   "outputs": [],
   "source": [
    "train_dataset = CatData(np_train)\n",
    "val_dataset = CatData(np_val)\n",
    "test_dataset = CatData(np_test) \n",
    "train_loader = data.DataLoader(train_dataset, batch_size=BATCH_SIZE, shuffle=False, num_workers=0,  worker_init_fn=seed_worker,generator=g)\n",
    "val_loader = data.DataLoader(val_dataset, batch_size=len(val_dataset), shuffle=False, num_workers=0,  worker_init_fn=seed_worker,generator=g)\n",
    "test_loader = data.DataLoader(test_dataset, batch_size=cfg.params.neg_test+1, shuffle=False, num_workers=0,worker_init_fn=seed_worker,generator=g )"
   ]
  },
  {
   "cell_type": "code",
   "execution_count": 76,
   "id": "29616799",
   "metadata": {},
   "outputs": [
    {
     "data": {
      "text/plain": [
       "EntityCat(\n",
       "  (all_embeddings): ModuleList(\n",
       "    (0): Embedding(36, 18)\n",
       "    (1): Embedding(413, 50)\n",
       "    (2): Embedding(35, 18)\n",
       "    (3): Embedding(19, 10)\n",
       "    (4): Embedding(36, 18)\n",
       "    (5): Embedding(230, 50)\n",
       "    (6): Embedding(39, 20)\n",
       "    (7): Embedding(1, 1)\n",
       "    (8): Embedding(245, 50)\n",
       "  )\n",
       "  (mlp_layers): Sequential(\n",
       "    (0): Linear(in_features=235, out_features=100, bias=True)\n",
       "    (1): ReLU(inplace=True)\n",
       "    (2): Dropout(p=0.4, inplace=False)\n",
       "  )\n",
       "  (predict_layer): Linear(in_features=100, out_features=1, bias=True)\n",
       ")"
      ]
     },
     "execution_count": 76,
     "metadata": {},
     "output_type": "execute_result"
    }
   ],
   "source": [
    "model = EntityCat(embedding_size = embedding_size, num_numerical_cols = len(num_feature),\n",
    "               output_size = 1)\n",
    "model.to(device)"
   ]
  },
  {
   "cell_type": "code",
   "execution_count": 77,
   "id": "1bf2ae93",
   "metadata": {},
   "outputs": [],
   "source": [
    "criterion = nn.BCEWithLogitsLoss()\n",
    "optimizer = optim.Adam(model.parameters(), lr=cfg.params.lr)"
   ]
  },
  {
   "cell_type": "markdown",
   "id": "4113d978",
   "metadata": {},
   "source": [
    "## Model the training "
   ]
  },
  {
   "cell_type": "code",
   "execution_count": 78,
   "id": "1e8ea07e",
   "metadata": {},
   "outputs": [],
   "source": [
    "def output_trans_loss(output):\n",
    "    return output['y_pred'], output['label']\n",
    "\n",
    "val_metrics_train = {\n",
    "    'auc': CustomAuc(),\n",
    "    \"loss\": Loss(criterion, output_transform=output_trans_loss)\n",
    "}\n",
    "\n",
    "val_metrics_test = {\n",
    "    'hr': CustomHR(),\n",
    "    'ndcg': CustomNDCG(k=cfg.params.topk),\n",
    "    'auc': CustomAuc(),\n",
    "    'auc_top': CustomAuc_top(),\n",
    "    'recall_top': CustomRecall_top(k=cfg.params.topk),\n",
    "    'precision_top': CustomPrecision_top(k=cfg.params.topk),\n",
    "    \"loss\": Loss(criterion, output_transform=output_trans_loss)\n",
    "}"
   ]
  },
  {
   "cell_type": "code",
   "execution_count": 79,
   "id": "3d4e163b",
   "metadata": {},
   "outputs": [
    {
     "data": {
      "text/plain": [
       "<ignite.engine.events.RemovableEventHandle at 0x134513c50>"
      ]
     },
     "execution_count": 79,
     "metadata": {},
     "output_type": "execute_result"
    }
   ],
   "source": [
    "scaler = torch.cuda.amp.GradScaler(enabled=use_amp)\n",
    "def train_step(engine, batch):\n",
    "    model.train()\n",
    "    optimizer.zero_grad()\n",
    "    x, y = batch[0].to(device), batch[1].to(device)\n",
    "    with torch.cuda.amp.autocast(enabled=use_amp):\n",
    "        y_pred = model(x).reshape(1,-1).flatten()\n",
    "        loss = criterion(y_pred, y.float())\n",
    "    scaler.scale(loss).backward()\n",
    "    scaler.step(optimizer)\n",
    "    scaler.update()\n",
    "    return loss.item()\n",
    "\n",
    "def validation_step(engine, batch):\n",
    "    model.eval()\n",
    "    with torch.no_grad():\n",
    "        x, label = batch[0].to(device), batch[1].to(device)\n",
    "        y_pred = model(x).reshape(1,-1).flatten()\n",
    "        label=label.float()\n",
    "        return {'label':label, 'y_pred':y_pred}\n",
    "\n",
    "\n",
    "def test_step(engine, batch):\n",
    "    model.eval()\n",
    "    with torch.no_grad():\n",
    "        x, label = batch[0].to(device), batch[1].to(device)\n",
    "        y_pred = model(x).reshape(1,-1).flatten()\n",
    "        label=label.float()\n",
    "        \n",
    "        y_pred_top, indices = torch.topk(y_pred, engine.state.topk)\n",
    "        \n",
    "        y_pred_top = y_pred_top.detach().cpu().numpy()\n",
    "        reco_item = torch.take(x[:,1], indices).cpu().numpy().tolist()\n",
    "        pos_item = x[0,1].cpu().numpy().tolist()  # ground truth, item id\n",
    "        label_top = label[indices].cpu().numpy()\n",
    "        indices = indices.cpu().numpy()\n",
    "        return {'pos_item':pos_item, 'reco_item':reco_item, 'y_pred_top':y_pred_top, \n",
    "                'label_top':label_top, 'label':label, 'y_pred':y_pred, 'y_indices':indices}\n",
    "    \n",
    "trainer = Engine(train_step)\n",
    "\n",
    "train_evaluator = Engine(validation_step)\n",
    "# train_evaluator.state_dict_user_keys.append('topk')\n",
    "\n",
    "val_evaluator = Engine(validation_step)\n",
    "# val_evaluator.state_dict_user_keys.append('topk')\n",
    "\n",
    "test_evaluator = Engine(test_step)\n",
    "test_evaluator.state_dict_user_keys.append('topk')\n",
    "\n",
    "# @val_evaluator.on(Events.STARTED)\n",
    "# def init_user_value():\n",
    "#     val_evaluator.state.topk=3\n",
    "    \n",
    "# @train_evaluator.on(Events.STARTED)\n",
    "# def init_user_value():\n",
    "#     train_evaluator.state.topk=3\n",
    "\n",
    "@train_evaluator.on(Events.STARTED)\n",
    "def init_user_value():\n",
    "    test_evaluator.state.topk=cfg.params.topk\n",
    "    \n",
    "    \n",
    "# Attach metrics to the evaluators\n",
    "for name, metric in val_metrics_train.items():\n",
    "    metric.attach(train_evaluator, name)\n",
    "\n",
    "for name, metric in val_metrics_train.items():\n",
    "    metric.attach(val_evaluator, name)\n",
    "\n",
    "    \n",
    "for name, metric in val_metrics_test.items():\n",
    "    metric.attach(test_evaluator, name)\n",
    "    \n",
    "# Eearly_stop \n",
    "def score_function(engine):\n",
    "    val_loss = engine.state.metrics['auc']\n",
    "    return val_loss\n",
    "\n",
    "Eearly_stop_handler = EarlyStopping(patience=cfg.params.patience, score_function=score_function, trainer=trainer)\n",
    "val_evaluator.add_event_handler(Events.COMPLETED, Eearly_stop_handler)"
   ]
  },
  {
   "cell_type": "code",
   "execution_count": 80,
   "id": "cef9860e",
   "metadata": {},
   "outputs": [],
   "source": [
    "@trainer.on(Events.EPOCH_COMPLETED)\n",
    "def log_training_results(trainer):\n",
    "    train_evaluator.run(train_loader)\n",
    "    metrics = train_evaluator.state.metrics\n",
    "    auc = metrics['auc']\n",
    "    loss = metrics['loss']\n",
    "    print(f'Training Results- Epoch[{trainer.state.epoch}]  Avg loss: {loss:.2f} \\\n",
    "          Avg auc:{auc:.2f}')\n",
    "\n",
    "\n",
    "@trainer.on(Events.EPOCH_COMPLETED)\n",
    "def log_validation_results(trainer):\n",
    "    val_evaluator.run(val_loader)\n",
    "    metrics = val_evaluator.state.metrics\n",
    "    auc = metrics['auc']\n",
    "    loss = metrics['loss']\n",
    "    print(f'Validation Results- Epoch[{trainer.state.epoch}]  Avg loss: {loss:.2f} \\\n",
    "          Avg auc:{auc:.2f}')\n",
    "\n",
    "    \n",
    "@trainer.on(Events.COMPLETED)\n",
    "def log_test_results(trainer):\n",
    "    test_evaluator.run(test_loader)\n",
    "    metrics = test_evaluator.state.metrics\n",
    "    hr = metrics['hr']\n",
    "    ndcg = metrics['ndcg']\n",
    "    auc = metrics['auc']\n",
    "    auc_top = metrics['auc_top']\n",
    "    recall = metrics['recall_top']\n",
    "    precision = metrics['precision_top']\n",
    "    loss = metrics['loss']\n",
    "    print(f\"Test Results - Epoch[{trainer.state.epoch}]  Avg loss: {loss:.2f} \\\n",
    "     Avg ndcg: {ndcg:.2f}  Avg auc: {auc:.2f}  Avg auc_top: {auc_top:.2f} \\\n",
    "      Avg recall: {recall:.2f}  Avg precision: {precision:.2f}\")\n",
    "\n",
    "pbar = ProgressBar(persist=False)\n",
    "pbar.attach(trainer)"
   ]
  },
  {
   "cell_type": "code",
   "execution_count": 81,
   "id": "07b4abac",
   "metadata": {
    "scrolled": false
   },
   "outputs": [],
   "source": [
    "# trainer.run(train_loader, max_epochs=2)"
   ]
  },
  {
   "cell_type": "code",
   "execution_count": 82,
   "id": "e3a09ab1",
   "metadata": {},
   "outputs": [
    {
     "data": {
      "text/html": [
       "wandb version 0.12.21 is available!  To upgrade, please run:\n",
       " $ pip install wandb --upgrade"
      ],
      "text/plain": [
       "<IPython.core.display.HTML object>"
      ]
     },
     "metadata": {},
     "output_type": "display_data"
    },
    {
     "data": {
      "text/html": [
       "Tracking run with wandb version 0.12.19"
      ],
      "text/plain": [
       "<IPython.core.display.HTML object>"
      ]
     },
     "metadata": {},
     "output_type": "display_data"
    },
    {
     "data": {
      "text/html": [
       "Run data is saved locally in <code>/Users/hao/Documents/MA_thesis/ncf-torch2/src/jupyter/wandb/run-20220714_135522-3837ywc9</code>"
      ],
      "text/plain": [
       "<IPython.core.display.HTML object>"
      ]
     },
     "metadata": {},
     "output_type": "display_data"
    },
    {
     "data": {
      "text/html": [
       "Syncing run <strong><a href=\"https://wandb.ai/tiyuok2023/pytorch-jrs/runs/3837ywc9\" target=\"_blank\">City-State-Zip_user-City_job-State_job-Country_job-Zip_job</a></strong> to <a href=\"https://wandb.ai/tiyuok2023/pytorch-jrs\" target=\"_blank\">Weights & Biases</a> (<a href=\"https://wandb.me/run\" target=\"_blank\">docs</a>)<br/>"
      ],
      "text/plain": [
       "<IPython.core.display.HTML object>"
      ]
     },
     "metadata": {},
     "output_type": "display_data"
    },
    {
     "name": "stderr",
     "output_type": "stream",
     "text": [
      "/Users/hao/.pyenv/versions/3.6.15/envs/torch-cpu5/lib/python3.6/site-packages/torch/autocast_mode.py:141: UserWarning: User provided device_type of 'cuda', but CUDA is not available. Disabling\n",
      "  warnings.warn('User provided device_type of \\'cuda\\', but CUDA is not available. Disabling')\n",
      "                                                   \r"
     ]
    },
    {
     "name": "stdout",
     "output_type": "stream",
     "text": [
      "Training Results- Epoch[1]  Avg loss: 0.85           Avg auc:0.92\n",
      "Validation Results- Epoch[1]  Avg loss: 0.85           Avg auc:0.72\n"
     ]
    },
    {
     "name": "stderr",
     "output_type": "stream",
     "text": [
      "                                                   \r"
     ]
    },
    {
     "name": "stdout",
     "output_type": "stream",
     "text": [
      "Training Results- Epoch[2]  Avg loss: 0.79           Avg auc:0.96\n",
      "Validation Results- Epoch[2]  Avg loss: 0.81           Avg auc:0.74\n"
     ]
    },
    {
     "name": "stderr",
     "output_type": "stream",
     "text": [
      "                                                   \r"
     ]
    },
    {
     "name": "stdout",
     "output_type": "stream",
     "text": [
      "Training Results- Epoch[3]  Avg loss: 0.70           Avg auc:0.97\n",
      "Validation Results- Epoch[3]  Avg loss: 0.74           Avg auc:0.75\n"
     ]
    },
    {
     "name": "stderr",
     "output_type": "stream",
     "text": [
      "Epoch [4/20]: [18/19]  95%|█████████▍ [00:00<00:00]"
     ]
    },
    {
     "name": "stdout",
     "output_type": "stream",
     "text": [
      "Training Results- Epoch[4]  Avg loss: 0.67           Avg auc:0.98\n"
     ]
    },
    {
     "name": "stderr",
     "output_type": "stream",
     "text": [
      "                                                   \r"
     ]
    },
    {
     "name": "stdout",
     "output_type": "stream",
     "text": [
      "Validation Results- Epoch[4]  Avg loss: 0.72           Avg auc:0.76\n"
     ]
    },
    {
     "name": "stderr",
     "output_type": "stream",
     "text": [
      "                                                   \r"
     ]
    },
    {
     "name": "stdout",
     "output_type": "stream",
     "text": [
      "Training Results- Epoch[5]  Avg loss: 0.66           Avg auc:0.99\n",
      "Validation Results- Epoch[5]  Avg loss: 0.72           Avg auc:0.77\n"
     ]
    },
    {
     "name": "stderr",
     "output_type": "stream",
     "text": [
      "                                                   \r"
     ]
    },
    {
     "name": "stdout",
     "output_type": "stream",
     "text": [
      "Training Results- Epoch[6]  Avg loss: 0.65           Avg auc:1.00\n",
      "Validation Results- Epoch[6]  Avg loss: 0.72           Avg auc:0.78\n"
     ]
    },
    {
     "name": "stderr",
     "output_type": "stream",
     "text": [
      "                                                   "
     ]
    },
    {
     "name": "stdout",
     "output_type": "stream",
     "text": [
      "Training Results- Epoch[7]  Avg loss: 0.63           Avg auc:1.00\n",
      "Validation Results- Epoch[7]  Avg loss: 0.72           Avg auc:0.80\n"
     ]
    },
    {
     "name": "stderr",
     "output_type": "stream",
     "text": [
      "                                                   \r"
     ]
    },
    {
     "name": "stdout",
     "output_type": "stream",
     "text": [
      "Training Results- Epoch[8]  Avg loss: 0.62           Avg auc:1.00\n",
      "Validation Results- Epoch[8]  Avg loss: 0.73           Avg auc:0.79\n"
     ]
    },
    {
     "name": "stderr",
     "output_type": "stream",
     "text": [
      "                                                   \r"
     ]
    },
    {
     "name": "stdout",
     "output_type": "stream",
     "text": [
      "Training Results- Epoch[9]  Avg loss: 0.62           Avg auc:1.00\n",
      "Validation Results- Epoch[9]  Avg loss: 0.73           Avg auc:0.80\n"
     ]
    },
    {
     "name": "stderr",
     "output_type": "stream",
     "text": [
      "                                                    \r"
     ]
    },
    {
     "name": "stdout",
     "output_type": "stream",
     "text": [
      "Training Results- Epoch[10]  Avg loss: 0.62           Avg auc:1.00\n",
      "Validation Results- Epoch[10]  Avg loss: 0.73           Avg auc:0.80\n"
     ]
    },
    {
     "name": "stderr",
     "output_type": "stream",
     "text": [
      "                                                    \r"
     ]
    },
    {
     "name": "stdout",
     "output_type": "stream",
     "text": [
      "Training Results- Epoch[11]  Avg loss: 0.62           Avg auc:1.00\n",
      "Validation Results- Epoch[11]  Avg loss: 0.73           Avg auc:0.80\n"
     ]
    },
    {
     "name": "stderr",
     "output_type": "stream",
     "text": [
      "                                                    \r"
     ]
    },
    {
     "name": "stdout",
     "output_type": "stream",
     "text": [
      "Training Results- Epoch[12]  Avg loss: 0.62           Avg auc:1.00\n",
      "Validation Results- Epoch[12]  Avg loss: 0.73           Avg auc:0.81\n"
     ]
    },
    {
     "name": "stderr",
     "output_type": "stream",
     "text": [
      "                                                    "
     ]
    },
    {
     "name": "stdout",
     "output_type": "stream",
     "text": [
      "Training Results- Epoch[13]  Avg loss: 0.62           Avg auc:1.00\n",
      "Validation Results- Epoch[13]  Avg loss: 0.73           Avg auc:0.81\n"
     ]
    },
    {
     "name": "stderr",
     "output_type": "stream",
     "text": [
      "                                                    \r"
     ]
    },
    {
     "name": "stdout",
     "output_type": "stream",
     "text": [
      "Training Results- Epoch[14]  Avg loss: 0.62           Avg auc:1.00\n",
      "Validation Results- Epoch[14]  Avg loss: 0.73           Avg auc:0.81\n"
     ]
    },
    {
     "name": "stderr",
     "output_type": "stream",
     "text": [
      "                                                    \r"
     ]
    },
    {
     "name": "stdout",
     "output_type": "stream",
     "text": [
      "Training Results- Epoch[15]  Avg loss: 0.62           Avg auc:1.00\n",
      "Validation Results- Epoch[15]  Avg loss: 0.73           Avg auc:0.81\n"
     ]
    },
    {
     "name": "stderr",
     "output_type": "stream",
     "text": [
      "Epoch [16/20]: [18/19]  95%|█████████▍ [00:00<00:00]"
     ]
    },
    {
     "name": "stdout",
     "output_type": "stream",
     "text": [
      "Training Results- Epoch[16]  Avg loss: 0.62           Avg auc:1.00"
     ]
    },
    {
     "name": "stderr",
     "output_type": "stream",
     "text": [
      "                                                    \r"
     ]
    },
    {
     "name": "stdout",
     "output_type": "stream",
     "text": [
      "\n",
      "Validation Results- Epoch[16]  Avg loss: 0.73           Avg auc:0.81\n"
     ]
    },
    {
     "name": "stderr",
     "output_type": "stream",
     "text": [
      "Epoch [17/20]: [18/19]  95%|█████████▍ [00:00<00:00]"
     ]
    },
    {
     "name": "stdout",
     "output_type": "stream",
     "text": [
      "Training Results- Epoch[17]  Avg loss: 0.62           Avg auc:1.00\n"
     ]
    },
    {
     "name": "stderr",
     "output_type": "stream",
     "text": [
      "                                                    \r"
     ]
    },
    {
     "name": "stdout",
     "output_type": "stream",
     "text": [
      "Validation Results- Epoch[17]  Avg loss: 0.73           Avg auc:0.81\n"
     ]
    },
    {
     "name": "stderr",
     "output_type": "stream",
     "text": [
      "                                                    "
     ]
    },
    {
     "name": "stdout",
     "output_type": "stream",
     "text": [
      "Training Results- Epoch[18]  Avg loss: 0.62           Avg auc:1.00\n",
      "Validation Results- Epoch[18]  Avg loss: 0.73           Avg auc:0.81\n"
     ]
    },
    {
     "name": "stderr",
     "output_type": "stream",
     "text": [
      "Epoch [19/20]: [18/19]  95%|█████████▍ [00:00<00:00]"
     ]
    },
    {
     "name": "stdout",
     "output_type": "stream",
     "text": [
      "Training Results- Epoch[19]  Avg loss: 0.62           Avg auc:1.00\n"
     ]
    },
    {
     "name": "stderr",
     "output_type": "stream",
     "text": [
      "                                                    \r"
     ]
    },
    {
     "name": "stdout",
     "output_type": "stream",
     "text": [
      "Validation Results- Epoch[19]  Avg loss: 0.73           Avg auc:0.81\n"
     ]
    },
    {
     "name": "stderr",
     "output_type": "stream",
     "text": [
      "                                                    \r"
     ]
    },
    {
     "name": "stdout",
     "output_type": "stream",
     "text": [
      "Training Results- Epoch[20]  Avg loss: 0.62           Avg auc:1.00\n",
      "Validation Results- Epoch[20]  Avg loss: 0.73           Avg auc:0.81\n",
      "Test Results - Epoch[20]  Avg loss: 0.89      Avg ndcg: 0.00  Avg auc: 0.51  Avg auc_top: 0.00       Avg recall: 0.00  Avg precision: 0.00\n"
     ]
    },
    {
     "data": {
      "text/html": [
       "Waiting for W&B process to finish... <strong style=\"color:green\">(success).</strong>"
      ],
      "text/plain": [
       "<IPython.core.display.HTML object>"
      ]
     },
     "metadata": {},
     "output_type": "display_data"
    },
    {
     "data": {
      "text/html": [
       "<style>\n",
       "    table.wandb td:nth-child(1) { padding: 0 10px; text-align: left ; width: auto;} td:nth-child(2) {text-align: left ; width: 100%}\n",
       "    .wandb-row { display: flex; flex-direction: row; flex-wrap: wrap; justify-content: flex-start; width: 100% }\n",
       "    .wandb-col { display: flex; flex-direction: column; flex-basis: 100%; flex: 1; padding: 10px; }\n",
       "    </style>\n",
       "<div class=\"wandb-row\"><div class=\"wandb-col\"><h3>Run history:</h3><br/><table class=\"wandb\"><tr><td>lr/group_0</td><td>▁▁▁▁▁▁▁▁▁▁▁▁▁▁▁▁▁▁▁▁▁▁▁▁▁▁▁▁▁▁▁▁▁▁▁▁▁▁▁▁</td></tr><tr><td>test/auc</td><td>▁</td></tr><tr><td>test/auc_top</td><td>▁</td></tr><tr><td>test/hr</td><td>▁</td></tr><tr><td>test/loss</td><td>▁</td></tr><tr><td>test/ndcg</td><td>▁</td></tr><tr><td>test/precision_top</td><td>▁</td></tr><tr><td>test/recall_top</td><td>▁</td></tr><tr><td>training/auc</td><td>▁▄▅▇▇███████████████</td></tr><tr><td>training/loss</td><td>██▇▆▆▅▃▃▂▂▂▂▂▂▁▁▁▁▁▁▁▁▁▁▁▁▁▁▁▁▁▁▁▁▁▁▁▁▁▁</td></tr><tr><td>validation/auc</td><td>▁▂▃▄▅▅▇▇▇███████████</td></tr><tr><td>validation/loss</td><td>█▆▂▁▁▁▁▁▂▂▂▂▂▂▂▂▂▂▂▂</td></tr></table><br/></div><div class=\"wandb-col\"><h3>Run summary:</h3><br/><table class=\"wandb\"><tr><td>lr/group_0</td><td>0.001</td></tr><tr><td>test/auc</td><td>0.505</td></tr><tr><td>test/auc_top</td><td>0.0</td></tr><tr><td>test/hr</td><td>0.0</td></tr><tr><td>test/loss</td><td>0.89434</td></tr><tr><td>test/ndcg</td><td>0.0</td></tr><tr><td>test/precision_top</td><td>0.0</td></tr><tr><td>test/recall_top</td><td>0.0</td></tr><tr><td>training/auc</td><td>1.0</td></tr><tr><td>training/loss</td><td>0.61729</td></tr><tr><td>validation/auc</td><td>0.8064</td></tr><tr><td>validation/loss</td><td>0.73252</td></tr></table><br/></div></div>"
      ],
      "text/plain": [
       "<IPython.core.display.HTML object>"
      ]
     },
     "metadata": {},
     "output_type": "display_data"
    },
    {
     "data": {
      "text/html": [
       "Synced <strong style=\"color:#cdcd00\">City-State-Zip_user-City_job-State_job-Country_job-Zip_job</strong>: <a href=\"https://wandb.ai/tiyuok2023/pytorch-jrs/runs/3837ywc9\" target=\"_blank\">https://wandb.ai/tiyuok2023/pytorch-jrs/runs/3837ywc9</a><br/>Synced 5 W&B file(s), 0 media file(s), 0 artifact file(s) and 1 other file(s)"
      ],
      "text/plain": [
       "<IPython.core.display.HTML object>"
      ]
     },
     "metadata": {},
     "output_type": "display_data"
    },
    {
     "data": {
      "text/html": [
       "Find logs at: <code>./wandb/run-20220714_135522-3837ywc9/logs</code>"
      ],
      "text/plain": [
       "<IPython.core.display.HTML object>"
      ]
     },
     "metadata": {},
     "output_type": "display_data"
    }
   ],
   "source": [
    "config_dict = dict(cfg.params)\n",
    "config_dict['Features']='-'.join(user_features+item_features)\n",
    "wandb_logger = WandBLogger(\n",
    "    project=\"pytorch-jrs\",\n",
    "    name=\"-\".join(user_features)+'-'+'-'.join(item_features),\n",
    "    config=config_dict,\n",
    "    tags=[\"entity\", \"jrs\"]\n",
    ")\n",
    "\n",
    "to_save = {'model': model}\n",
    "checkpoint_handler = ModelCheckpoint(\n",
    "    wandb_logger.run.dir,\n",
    "    n_saved=1, filename_prefix='best',\n",
    "    score_name=\"auc\",\n",
    "    global_step_transform=global_step_from_engine(trainer)\n",
    ")\n",
    "\n",
    "val_evaluator.add_event_handler(Events.COMPLETED, checkpoint_handler, to_save)\n",
    "\n",
    "    \n",
    "wandb_logger.attach_output_handler(\n",
    "    trainer,\n",
    "    event_name=Events.ITERATION_COMPLETED,\n",
    "    tag=\"training\",\n",
    "    output_transform=lambda loss: {\"loss\": loss}\n",
    ")\n",
    "\n",
    "wandb_logger.attach_output_handler(\n",
    "    train_evaluator,\n",
    "    event_name=Events.EPOCH_COMPLETED,\n",
    "    tag=\"training\",\n",
    "    metric_names=['loss','auc'],\n",
    "    global_step_transform=lambda *_: trainer.state.iteration,\n",
    ")\n",
    "\n",
    "wandb_logger.attach_output_handler(\n",
    "    val_evaluator,\n",
    "    event_name=Events.EPOCH_COMPLETED,\n",
    "    tag=\"validation\",\n",
    "    metric_names=['loss',\"auc\"],\n",
    "    global_step_transform=lambda *_: trainer.state.iteration,\n",
    ")\n",
    "\n",
    "\n",
    "wandb_logger.attach_output_handler(\n",
    "    test_evaluator,\n",
    "    event_name=Events.COMPLETED,\n",
    "    tag=\"test\",\n",
    "    metric_names=['loss',\"auc\", 'hr', 'ndcg', 'auc_top', 'recall_top', 'precision_top'],\n",
    "    global_step_transform=lambda *_: trainer.state.iteration,\n",
    ")\n",
    "\n",
    "\n",
    "wandb_logger.attach_opt_params_handler(\n",
    "    trainer,\n",
    "    event_name=Events.ITERATION_STARTED,\n",
    "    optimizer=optimizer,\n",
    "    param_name='lr'  # optional\n",
    ")\n",
    "\n",
    "# wandb_logger.watch(model) \n",
    "\n",
    "trainer.run(train_loader, max_epochs=EPOCHS)\n",
    "wandb_logger.close()"
   ]
  },
  {
   "cell_type": "code",
   "execution_count": null,
   "id": "2a595b8b",
   "metadata": {},
   "outputs": [],
   "source": []
  },
  {
   "cell_type": "markdown",
   "id": "43ee60aa",
   "metadata": {},
   "source": [
    "## Quality evaluation \n",
    "display the recommended items for the user. Sample the recommended test users "
   ]
  },
  {
   "cell_type": "code",
   "execution_count": 281,
   "id": "25939923",
   "metadata": {},
   "outputs": [
    {
     "data": {
      "text/plain": [
       "array([53693, 31989, 72002, 33852,  1441])"
      ]
     },
     "execution_count": 281,
     "metadata": {},
     "output_type": "execute_result"
    }
   ],
   "source": [
    "unique_users_test = df_test[DEFAULT_USER_COL].unique()\n",
    "# np.random.seed(123)\n",
    "sub_users_test = np.random.choice(unique_users_test, 5, replace=False)\n",
    "sub_users_test"
   ]
  },
  {
   "cell_type": "code",
   "execution_count": 282,
   "id": "236638f1",
   "metadata": {
    "scrolled": true
   },
   "outputs": [],
   "source": [
    "df_test_sub = df_test[df_test[DEFAULT_USER_COL].isin(sub_users_test)]\n",
    "# df_test_sub"
   ]
  },
  {
   "cell_type": "code",
   "execution_count": 287,
   "id": "7810b42b",
   "metadata": {},
   "outputs": [],
   "source": [
    "np_test_sub = df_test_sub.values"
   ]
  },
  {
   "cell_type": "code",
   "execution_count": 288,
   "id": "625a1c57",
   "metadata": {},
   "outputs": [],
   "source": [
    "test_dataset_sample = CatData(np_test_sub)\n",
    "test_sample_loader = data.DataLoader(test_dataset_sample, batch_size=cfg.params.neg_test+1, shuffle=False, num_workers=0,worker_init_fn=seed_worker,generator=g)"
   ]
  },
  {
   "cell_type": "code",
   "execution_count": 289,
   "id": "b7944fcf",
   "metadata": {},
   "outputs": [],
   "source": [
    "class RecoList(Metric):\n",
    "    '''\n",
    "    The recommendation list \n",
    "    '''\n",
    "    def __init__(self, output_transform=lambda x: [x['pos_item'], x['reco_item'], x['userid'], x['y_pred_top'], x['indices']], device=\"cpu\"):\n",
    "#         self._reco_dict = []\n",
    "        self.item= np.array([])\n",
    "        self.userid= np.array([])\n",
    "        self.prob= np.array([])\n",
    "        self.indices = []\n",
    "#         self.cnt = 0\n",
    "        super(RecoList, self).__init__(output_transform=output_transform, device=device)\n",
    "\n",
    "    @reinit__is_reduced\n",
    "    def reset(self):\n",
    "        self.item= np.array([])\n",
    "        self.userid= np.array([])\n",
    "        self.prob= np.array([])\n",
    "#         self.cnt = 0\n",
    "        super(RecoList, self).reset()\n",
    "\n",
    "    @reinit__is_reduced\n",
    "    def update(self, output):\n",
    "        gt_item = output[0]\n",
    "        reco_item = output[1]\n",
    "        userid = output[2]\n",
    "        prob = output[3]\n",
    "        indices = output[4]\n",
    "        self.item = np.append(self.item, reco_item)\n",
    "        self.userid = np.append(self.userid, userid)\n",
    "        self.prob = np.append(self.prob, prob)\n",
    "        self.indices.append(indices)\n",
    "        \n",
    "    @sync_all_reduce(\"_reco_dict\")\n",
    "    def compute(self):\n",
    "        return self.indices, self.prob"
   ]
  },
  {
   "cell_type": "code",
   "execution_count": 290,
   "id": "cdd7603a",
   "metadata": {},
   "outputs": [],
   "source": [
    "val_metrics_test_quanlity = {\n",
    "    'recolist': RecoList()\n",
    "}"
   ]
  },
  {
   "cell_type": "code",
   "execution_count": 291,
   "id": "850140a2",
   "metadata": {},
   "outputs": [],
   "source": [
    "def test_q_step(engine, batch):\n",
    "    model.eval()\n",
    "    with torch.no_grad():\n",
    "        x, label = batch[0].to(device), batch[1].to(device)\n",
    "        y_pred = model(x).reshape(1,-1).flatten()\n",
    "#         print(y_pred)\n",
    "        label=label.float()\n",
    "        y_pred_top, indices = torch.topk(y_pred, engine.state.topk)\n",
    "        y_pred_top = y_pred_top.cpu().numpy().tolist()\n",
    "        y_pred_top = y_pred_top\n",
    "        reco_item = torch.take(x[:,1], indices).cpu().numpy().tolist()\n",
    "        pos_item = x[0,1].cpu().numpy().tolist()  # ground truth, item id \n",
    "        userid = x[:engine.state.topk,0].cpu().numpy().tolist()\n",
    "        return {'reco_item': reco_item, 'pos_item':pos_item, 'userid':userid, 'y_pred_top':y_pred_top, 'indices':indices.cpu().numpy().tolist()}"
   ]
  },
  {
   "cell_type": "code",
   "execution_count": 292,
   "id": "225f8ebb",
   "metadata": {},
   "outputs": [],
   "source": [
    "test_q_evaluator=Engine(test_q_step)\n",
    "for name, metric in val_metrics_test_quanlity.items():\n",
    "    metric.attach(test_q_evaluator, name)"
   ]
  },
  {
   "cell_type": "code",
   "execution_count": 293,
   "id": "36792a24",
   "metadata": {},
   "outputs": [],
   "source": [
    "test_q_evaluator.state_dict_user_keys.append('topk')\n",
    "\n",
    "@test_q_evaluator.on(Events.STARTED)\n",
    "def init_user_value():\n",
    "    test_q_evaluator.state.topk=cfg.params.topk"
   ]
  },
  {
   "cell_type": "code",
   "execution_count": 294,
   "id": "b73cda94",
   "metadata": {
    "scrolled": false
   },
   "outputs": [
    {
     "data": {
      "text/plain": [
       "State:\n",
       "\titeration: 5\n",
       "\tepoch: 1\n",
       "\tepoch_length: 5\n",
       "\tmax_epochs: 1\n",
       "\toutput: <class 'dict'>\n",
       "\tbatch: <class 'list'>\n",
       "\tmetrics: <class 'dict'>\n",
       "\tdataloader: <class 'torch.utils.data.dataloader.DataLoader'>\n",
       "\tseed: <class 'NoneType'>\n",
       "\ttimes: <class 'dict'>\n",
       "\ttopk: 10"
      ]
     },
     "execution_count": 294,
     "metadata": {},
     "output_type": "execute_result"
    }
   ],
   "source": [
    "test_q_evaluator.run(test_sample_loader)"
   ]
  },
  {
   "cell_type": "code",
   "execution_count": 295,
   "id": "104f864b",
   "metadata": {
    "scrolled": false
   },
   "outputs": [],
   "source": [
    "reco_indices, prob =test_q_evaluator.state.metrics['recolist']"
   ]
  },
  {
   "cell_type": "code",
   "execution_count": 296,
   "id": "9a6f6e83",
   "metadata": {},
   "outputs": [
    {
     "data": {
      "text/plain": [
       "[[0, 96, 81, 93, 66, 85, 77, 90, 51, 86],\n",
       " [0, 62, 43, 17, 82, 25, 29, 49, 67, 35],\n",
       " [66, 96, 0, 81, 93, 75, 77, 85, 62, 71],\n",
       " [75, 77, 76, 93, 85, 0, 59, 42, 81, 96],\n",
       " [76, 77, 0, 93, 85, 59, 42, 81, 96, 62]]"
      ]
     },
     "execution_count": 296,
     "metadata": {},
     "output_type": "execute_result"
    }
   ],
   "source": [
    "reco_indices"
   ]
  },
  {
   "cell_type": "code",
   "execution_count": 304,
   "id": "03af404e",
   "metadata": {},
   "outputs": [],
   "source": [
    "reco_indices_extend = []\n",
    "for i in range(len(reco_indices)):\n",
    "    reco_indices_extend += [(cfg.params.neg_test+1)*(i)+j for j in reco_indices[i]]"
   ]
  },
  {
   "cell_type": "code",
   "execution_count": 305,
   "id": "d2a4bfad",
   "metadata": {},
   "outputs": [],
   "source": [
    "# df_test_sub.iloc[reco]"
   ]
  },
  {
   "cell_type": "code",
   "execution_count": 306,
   "id": "94839f46",
   "metadata": {},
   "outputs": [],
   "source": [
    "df_reco = df_test_sub.iloc[reco_indices_extend].copy()"
   ]
  },
  {
   "cell_type": "code",
   "execution_count": 309,
   "id": "cf110b1e",
   "metadata": {},
   "outputs": [],
   "source": [
    "# df_reco"
   ]
  },
  {
   "cell_type": "code",
   "execution_count": 310,
   "id": "b3636d1b",
   "metadata": {},
   "outputs": [],
   "source": [
    "df_reco['prob'] = prob"
   ]
  },
  {
   "cell_type": "code",
   "execution_count": 171,
   "id": "c5a62622",
   "metadata": {},
   "outputs": [],
   "source": [
    "job_info = pd.read_csv('../../data/jobs/jobid_title.csv')"
   ]
  },
  {
   "cell_type": "code",
   "execution_count": 172,
   "id": "7f8ed678",
   "metadata": {},
   "outputs": [],
   "source": [
    "job_info.rename(columns={'item_id':'itemid'}, inplace=True)"
   ]
  },
  {
   "cell_type": "code",
   "execution_count": 173,
   "id": "8b2a2e59",
   "metadata": {},
   "outputs": [],
   "source": [
    "# job_info"
   ]
  },
  {
   "cell_type": "code",
   "execution_count": 312,
   "id": "3d690cab",
   "metadata": {},
   "outputs": [
    {
     "data": {
      "text/html": [
       "<div>\n",
       "<style scoped>\n",
       "    .dataframe tbody tr th:only-of-type {\n",
       "        vertical-align: middle;\n",
       "    }\n",
       "\n",
       "    .dataframe tbody tr th {\n",
       "        vertical-align: top;\n",
       "    }\n",
       "\n",
       "    .dataframe thead th {\n",
       "        text-align: right;\n",
       "    }\n",
       "</style>\n",
       "<table border=\"1\" class=\"dataframe\">\n",
       "  <thead>\n",
       "    <tr style=\"text-align: right;\">\n",
       "      <th></th>\n",
       "      <th>userid</th>\n",
       "      <th>itemid</th>\n",
       "      <th>rating</th>\n",
       "      <th>prob</th>\n",
       "      <th>Unnamed: 0</th>\n",
       "      <th>Title</th>\n",
       "    </tr>\n",
       "  </thead>\n",
       "  <tbody>\n",
       "    <tr>\n",
       "      <th>0</th>\n",
       "      <td>1441</td>\n",
       "      <td>26715</td>\n",
       "      <td>1</td>\n",
       "      <td>0.990982</td>\n",
       "      <td>979738</td>\n",
       "      <td>Truck Driver- CDL</td>\n",
       "    </tr>\n",
       "    <tr>\n",
       "      <th>1</th>\n",
       "      <td>1441</td>\n",
       "      <td>126099</td>\n",
       "      <td>0</td>\n",
       "      <td>0.978732</td>\n",
       "      <td>595954</td>\n",
       "      <td>Data Analyst</td>\n",
       "    </tr>\n",
       "    <tr>\n",
       "      <th>2</th>\n",
       "      <td>1441</td>\n",
       "      <td>57477</td>\n",
       "      <td>0</td>\n",
       "      <td>0.016489</td>\n",
       "      <td>447313</td>\n",
       "      <td>Sears HAS Store Manager_Clifton,NJ (JC)</td>\n",
       "    </tr>\n",
       "    <tr>\n",
       "      <th>3</th>\n",
       "      <td>1441</td>\n",
       "      <td>46944</td>\n",
       "      <td>0</td>\n",
       "      <td>0.014807</td>\n",
       "      <td>726375</td>\n",
       "      <td>Training and Application Engineer</td>\n",
       "    </tr>\n",
       "    <tr>\n",
       "      <th>4</th>\n",
       "      <td>1441</td>\n",
       "      <td>128873</td>\n",
       "      <td>0</td>\n",
       "      <td>0.009509</td>\n",
       "      <td>990232</td>\n",
       "      <td>C-12 Avionics Technician - ROVER</td>\n",
       "    </tr>\n",
       "    <tr>\n",
       "      <th>5</th>\n",
       "      <td>1441</td>\n",
       "      <td>115613</td>\n",
       "      <td>0</td>\n",
       "      <td>0.004872</td>\n",
       "      <td>31673</td>\n",
       "      <td>Thin Film Process Engineer</td>\n",
       "    </tr>\n",
       "    <tr>\n",
       "      <th>6</th>\n",
       "      <td>1441</td>\n",
       "      <td>114149</td>\n",
       "      <td>0</td>\n",
       "      <td>0.004324</td>\n",
       "      <td>30451</td>\n",
       "      <td>Carpenter/Crater</td>\n",
       "    </tr>\n",
       "    <tr>\n",
       "      <th>7</th>\n",
       "      <td>1441</td>\n",
       "      <td>51852</td>\n",
       "      <td>0</td>\n",
       "      <td>0.004047</td>\n",
       "      <td>866714</td>\n",
       "      <td>Sales - Insurance - Account Executive</td>\n",
       "    </tr>\n",
       "    <tr>\n",
       "      <th>8</th>\n",
       "      <td>1441</td>\n",
       "      <td>98719</td>\n",
       "      <td>0</td>\n",
       "      <td>0.003649</td>\n",
       "      <td>25546</td>\n",
       "      <td>Layout Technician</td>\n",
       "    </tr>\n",
       "    <tr>\n",
       "      <th>9</th>\n",
       "      <td>1441</td>\n",
       "      <td>31263</td>\n",
       "      <td>0</td>\n",
       "      <td>0.003600</td>\n",
       "      <td>864560</td>\n",
       "      <td>Hair Stylist &amp; Nail Techs  Full/Part Time  Sig...</td>\n",
       "    </tr>\n",
       "    <tr>\n",
       "      <th>10</th>\n",
       "      <td>31989</td>\n",
       "      <td>75824</td>\n",
       "      <td>1</td>\n",
       "      <td>0.998222</td>\n",
       "      <td>730234</td>\n",
       "      <td>Clinical Lab Scientist I</td>\n",
       "    </tr>\n",
       "    <tr>\n",
       "      <th>11</th>\n",
       "      <td>31989</td>\n",
       "      <td>124702</td>\n",
       "      <td>0</td>\n",
       "      <td>0.996315</td>\n",
       "      <td>595415</td>\n",
       "      <td>Quality Assurance Specialist</td>\n",
       "    </tr>\n",
       "    <tr>\n",
       "      <th>12</th>\n",
       "      <td>31989</td>\n",
       "      <td>39113</td>\n",
       "      <td>0</td>\n",
       "      <td>0.995447</td>\n",
       "      <td>980667</td>\n",
       "      <td>Sr. Analyst-Energy</td>\n",
       "    </tr>\n",
       "    <tr>\n",
       "      <th>13</th>\n",
       "      <td>31989</td>\n",
       "      <td>89897</td>\n",
       "      <td>0</td>\n",
       "      <td>0.993566</td>\n",
       "      <td>871061</td>\n",
       "      <td>Software Engineer V</td>\n",
       "    </tr>\n",
       "    <tr>\n",
       "      <th>14</th>\n",
       "      <td>31989</td>\n",
       "      <td>82758</td>\n",
       "      <td>0</td>\n",
       "      <td>0.993053</td>\n",
       "      <td>731200</td>\n",
       "      <td>Java/C# Developer for Commodities Technology- ...</td>\n",
       "    </tr>\n",
       "    <tr>\n",
       "      <th>15</th>\n",
       "      <td>31989</td>\n",
       "      <td>93754</td>\n",
       "      <td>0</td>\n",
       "      <td>0.982932</td>\n",
       "      <td>871347</td>\n",
       "      <td>Sales / Franchise</td>\n",
       "    </tr>\n",
       "    <tr>\n",
       "      <th>16</th>\n",
       "      <td>31989</td>\n",
       "      <td>31388</td>\n",
       "      <td>0</td>\n",
       "      <td>0.971512</td>\n",
       "      <td>444298</td>\n",
       "      <td>MEDICAL RECORDS SUPERVISOR Responsible for all...</td>\n",
       "    </tr>\n",
       "    <tr>\n",
       "      <th>17</th>\n",
       "      <td>31989</td>\n",
       "      <td>117759</td>\n",
       "      <td>0</td>\n",
       "      <td>0.971093</td>\n",
       "      <td>301296</td>\n",
       "      <td>Operations Supervisor</td>\n",
       "    </tr>\n",
       "    <tr>\n",
       "      <th>18</th>\n",
       "      <td>31989</td>\n",
       "      <td>40001</td>\n",
       "      <td>0</td>\n",
       "      <td>0.966091</td>\n",
       "      <td>725533</td>\n",
       "      <td>Customer Service Representative</td>\n",
       "    </tr>\n",
       "    <tr>\n",
       "      <th>19</th>\n",
       "      <td>31989</td>\n",
       "      <td>40167</td>\n",
       "      <td>0</td>\n",
       "      <td>0.872735</td>\n",
       "      <td>445382</td>\n",
       "      <td>Sales Management Trainee</td>\n",
       "    </tr>\n",
       "    <tr>\n",
       "      <th>20</th>\n",
       "      <td>33852</td>\n",
       "      <td>128870</td>\n",
       "      <td>0</td>\n",
       "      <td>0.991595</td>\n",
       "      <td>874731</td>\n",
       "      <td>Sr. Desktop Support</td>\n",
       "    </tr>\n",
       "    <tr>\n",
       "      <th>21</th>\n",
       "      <td>33852</td>\n",
       "      <td>126096</td>\n",
       "      <td>0</td>\n",
       "      <td>0.983924</td>\n",
       "      <td>735890</td>\n",
       "      <td>Robotic Welder</td>\n",
       "    </tr>\n",
       "    <tr>\n",
       "      <th>22</th>\n",
       "      <td>33852</td>\n",
       "      <td>78647</td>\n",
       "      <td>1</td>\n",
       "      <td>0.981839</td>\n",
       "      <td>295593</td>\n",
       "      <td>Lead Web Developer, .NET</td>\n",
       "    </tr>\n",
       "    <tr>\n",
       "      <th>23</th>\n",
       "      <td>33852</td>\n",
       "      <td>57474</td>\n",
       "      <td>0</td>\n",
       "      <td>0.980833</td>\n",
       "      <td>447311</td>\n",
       "      <td>Assistant Manager (Credit Sales / Customer Ser...</td>\n",
       "    </tr>\n",
       "    <tr>\n",
       "      <th>24</th>\n",
       "      <td>33852</td>\n",
       "      <td>112647</td>\n",
       "      <td>0</td>\n",
       "      <td>0.980617</td>\n",
       "      <td>28978</td>\n",
       "      <td>Customer Service Representative</td>\n",
       "    </tr>\n",
       "    <tr>\n",
       "      <th>25</th>\n",
       "      <td>33852</td>\n",
       "      <td>112394</td>\n",
       "      <td>0</td>\n",
       "      <td>0.972080</td>\n",
       "      <td>28730</td>\n",
       "      <td>Senior Internal Auditor</td>\n",
       "    </tr>\n",
       "    <tr>\n",
       "      <th>26</th>\n",
       "      <td>33852</td>\n",
       "      <td>114146</td>\n",
       "      <td>0</td>\n",
       "      <td>0.263925</td>\n",
       "      <td>30448</td>\n",
       "      <td>Electronics Engineering Technician</td>\n",
       "    </tr>\n",
       "    <tr>\n",
       "      <th>27</th>\n",
       "      <td>33852</td>\n",
       "      <td>115610</td>\n",
       "      <td>0</td>\n",
       "      <td>0.016332</td>\n",
       "      <td>300356</td>\n",
       "      <td>Engineer-Hardware</td>\n",
       "    </tr>\n",
       "    <tr>\n",
       "      <th>28</th>\n",
       "      <td>33852</td>\n",
       "      <td>124648</td>\n",
       "      <td>0</td>\n",
       "      <td>0.014104</td>\n",
       "      <td>735277</td>\n",
       "      <td>Microstrategy BI Analyst</td>\n",
       "    </tr>\n",
       "    <tr>\n",
       "      <th>29</th>\n",
       "      <td>33852</td>\n",
       "      <td>113508</td>\n",
       "      <td>0</td>\n",
       "      <td>0.003165</td>\n",
       "      <td>29826</td>\n",
       "      <td>Panel Wirer</td>\n",
       "    </tr>\n",
       "    <tr>\n",
       "      <th>30</th>\n",
       "      <td>53693</td>\n",
       "      <td>112391</td>\n",
       "      <td>0</td>\n",
       "      <td>0.996682</td>\n",
       "      <td>28727</td>\n",
       "      <td>Staff Accountant</td>\n",
       "    </tr>\n",
       "    <tr>\n",
       "      <th>31</th>\n",
       "      <td>53693</td>\n",
       "      <td>114143</td>\n",
       "      <td>0</td>\n",
       "      <td>0.993413</td>\n",
       "      <td>30445</td>\n",
       "      <td>Architect - Senior Designer/PM</td>\n",
       "    </tr>\n",
       "    <tr>\n",
       "      <th>32</th>\n",
       "      <td>53693</td>\n",
       "      <td>109812</td>\n",
       "      <td>0</td>\n",
       "      <td>0.990457</td>\n",
       "      <td>27741</td>\n",
       "      <td>Demand Planner  Job #1281</td>\n",
       "    </tr>\n",
       "    <tr>\n",
       "      <th>33</th>\n",
       "      <td>53693</td>\n",
       "      <td>112645</td>\n",
       "      <td>0</td>\n",
       "      <td>0.980421</td>\n",
       "      <td>28976</td>\n",
       "      <td>Administrative Assistant</td>\n",
       "    </tr>\n",
       "    <tr>\n",
       "      <th>34</th>\n",
       "      <td>53693</td>\n",
       "      <td>115606</td>\n",
       "      <td>0</td>\n",
       "      <td>0.979899</td>\n",
       "      <td>31668</td>\n",
       "      <td>Database Coordinator</td>\n",
       "    </tr>\n",
       "    <tr>\n",
       "      <th>35</th>\n",
       "      <td>53693</td>\n",
       "      <td>68651</td>\n",
       "      <td>1</td>\n",
       "      <td>0.979260</td>\n",
       "      <td>984295</td>\n",
       "      <td>Sales – Insurance Sales Agent – Senior Sales R...</td>\n",
       "    </tr>\n",
       "    <tr>\n",
       "      <th>36</th>\n",
       "      <td>53693</td>\n",
       "      <td>53908</td>\n",
       "      <td>0</td>\n",
       "      <td>0.763874</td>\n",
       "      <td>446956</td>\n",
       "      <td>Teacher (K-8)</td>\n",
       "    </tr>\n",
       "    <tr>\n",
       "      <th>37</th>\n",
       "      <td>53693</td>\n",
       "      <td>125036</td>\n",
       "      <td>0</td>\n",
       "      <td>0.412950</td>\n",
       "      <td>873481</td>\n",
       "      <td>Senior Scheduler</td>\n",
       "    </tr>\n",
       "    <tr>\n",
       "      <th>38</th>\n",
       "      <td>53693</td>\n",
       "      <td>57470</td>\n",
       "      <td>0</td>\n",
       "      <td>0.320316</td>\n",
       "      <td>867295</td>\n",
       "      <td>Account Manager</td>\n",
       "    </tr>\n",
       "    <tr>\n",
       "      <th>39</th>\n",
       "      <td>53693</td>\n",
       "      <td>60390</td>\n",
       "      <td>0</td>\n",
       "      <td>0.311365</td>\n",
       "      <td>447644</td>\n",
       "      <td>Own Your Own Franchise!</td>\n",
       "    </tr>\n",
       "    <tr>\n",
       "      <th>40</th>\n",
       "      <td>72002</td>\n",
       "      <td>109811</td>\n",
       "      <td>0</td>\n",
       "      <td>0.996356</td>\n",
       "      <td>734413</td>\n",
       "      <td>Manufacturing Supervisor</td>\n",
       "    </tr>\n",
       "    <tr>\n",
       "      <th>41</th>\n",
       "      <td>72002</td>\n",
       "      <td>114142</td>\n",
       "      <td>0</td>\n",
       "      <td>0.995981</td>\n",
       "      <td>30444</td>\n",
       "      <td>SQL DBA</td>\n",
       "    </tr>\n",
       "    <tr>\n",
       "      <th>42</th>\n",
       "      <td>72002</td>\n",
       "      <td>138864</td>\n",
       "      <td>1</td>\n",
       "      <td>0.991188</td>\n",
       "      <td>597312</td>\n",
       "      <td>Environmental Engineer (Air)</td>\n",
       "    </tr>\n",
       "    <tr>\n",
       "      <th>43</th>\n",
       "      <td>72002</td>\n",
       "      <td>46942</td>\n",
       "      <td>0</td>\n",
       "      <td>0.982020</td>\n",
       "      <td>585887</td>\n",
       "      <td>Director, Product Management</td>\n",
       "    </tr>\n",
       "    <tr>\n",
       "      <th>44</th>\n",
       "      <td>72002</td>\n",
       "      <td>49217</td>\n",
       "      <td>0</td>\n",
       "      <td>0.876936</td>\n",
       "      <td>292002</td>\n",
       "      <td>Retail Sales Associate ~ Dover Mall</td>\n",
       "    </tr>\n",
       "    <tr>\n",
       "      <th>45</th>\n",
       "      <td>72002</td>\n",
       "      <td>53908</td>\n",
       "      <td>0</td>\n",
       "      <td>0.766141</td>\n",
       "      <td>446956</td>\n",
       "      <td>Teacher (K-8)</td>\n",
       "    </tr>\n",
       "    <tr>\n",
       "      <th>46</th>\n",
       "      <td>72002</td>\n",
       "      <td>125036</td>\n",
       "      <td>0</td>\n",
       "      <td>0.415962</td>\n",
       "      <td>873481</td>\n",
       "      <td>Senior Scheduler</td>\n",
       "    </tr>\n",
       "    <tr>\n",
       "      <th>47</th>\n",
       "      <td>72002</td>\n",
       "      <td>57470</td>\n",
       "      <td>0</td>\n",
       "      <td>0.322972</td>\n",
       "      <td>867295</td>\n",
       "      <td>Account Manager</td>\n",
       "    </tr>\n",
       "    <tr>\n",
       "      <th>48</th>\n",
       "      <td>72002</td>\n",
       "      <td>60390</td>\n",
       "      <td>0</td>\n",
       "      <td>0.314088</td>\n",
       "      <td>447644</td>\n",
       "      <td>Own Your Own Franchise!</td>\n",
       "    </tr>\n",
       "    <tr>\n",
       "      <th>49</th>\n",
       "      <td>72002</td>\n",
       "      <td>124644</td>\n",
       "      <td>0</td>\n",
       "      <td>0.276864</td>\n",
       "      <td>873446</td>\n",
       "      <td>Estimator</td>\n",
       "    </tr>\n",
       "  </tbody>\n",
       "</table>\n",
       "</div>"
      ],
      "text/plain": [
       "    userid  itemid  rating      prob  Unnamed: 0  \\\n",
       "0     1441   26715       1  0.990982      979738   \n",
       "1     1441  126099       0  0.978732      595954   \n",
       "2     1441   57477       0  0.016489      447313   \n",
       "3     1441   46944       0  0.014807      726375   \n",
       "4     1441  128873       0  0.009509      990232   \n",
       "5     1441  115613       0  0.004872       31673   \n",
       "6     1441  114149       0  0.004324       30451   \n",
       "7     1441   51852       0  0.004047      866714   \n",
       "8     1441   98719       0  0.003649       25546   \n",
       "9     1441   31263       0  0.003600      864560   \n",
       "10   31989   75824       1  0.998222      730234   \n",
       "11   31989  124702       0  0.996315      595415   \n",
       "12   31989   39113       0  0.995447      980667   \n",
       "13   31989   89897       0  0.993566      871061   \n",
       "14   31989   82758       0  0.993053      731200   \n",
       "15   31989   93754       0  0.982932      871347   \n",
       "16   31989   31388       0  0.971512      444298   \n",
       "17   31989  117759       0  0.971093      301296   \n",
       "18   31989   40001       0  0.966091      725533   \n",
       "19   31989   40167       0  0.872735      445382   \n",
       "20   33852  128870       0  0.991595      874731   \n",
       "21   33852  126096       0  0.983924      735890   \n",
       "22   33852   78647       1  0.981839      295593   \n",
       "23   33852   57474       0  0.980833      447311   \n",
       "24   33852  112647       0  0.980617       28978   \n",
       "25   33852  112394       0  0.972080       28730   \n",
       "26   33852  114146       0  0.263925       30448   \n",
       "27   33852  115610       0  0.016332      300356   \n",
       "28   33852  124648       0  0.014104      735277   \n",
       "29   33852  113508       0  0.003165       29826   \n",
       "30   53693  112391       0  0.996682       28727   \n",
       "31   53693  114143       0  0.993413       30445   \n",
       "32   53693  109812       0  0.990457       27741   \n",
       "33   53693  112645       0  0.980421       28976   \n",
       "34   53693  115606       0  0.979899       31668   \n",
       "35   53693   68651       1  0.979260      984295   \n",
       "36   53693   53908       0  0.763874      446956   \n",
       "37   53693  125036       0  0.412950      873481   \n",
       "38   53693   57470       0  0.320316      867295   \n",
       "39   53693   60390       0  0.311365      447644   \n",
       "40   72002  109811       0  0.996356      734413   \n",
       "41   72002  114142       0  0.995981       30444   \n",
       "42   72002  138864       1  0.991188      597312   \n",
       "43   72002   46942       0  0.982020      585887   \n",
       "44   72002   49217       0  0.876936      292002   \n",
       "45   72002   53908       0  0.766141      446956   \n",
       "46   72002  125036       0  0.415962      873481   \n",
       "47   72002   57470       0  0.322972      867295   \n",
       "48   72002   60390       0  0.314088      447644   \n",
       "49   72002  124644       0  0.276864      873446   \n",
       "\n",
       "                                                Title  \n",
       "0                                   Truck Driver- CDL  \n",
       "1                                        Data Analyst  \n",
       "2             Sears HAS Store Manager_Clifton,NJ (JC)  \n",
       "3                   Training and Application Engineer  \n",
       "4                    C-12 Avionics Technician - ROVER  \n",
       "5                          Thin Film Process Engineer  \n",
       "6                                    Carpenter/Crater  \n",
       "7               Sales - Insurance - Account Executive  \n",
       "8                                   Layout Technician  \n",
       "9   Hair Stylist & Nail Techs  Full/Part Time  Sig...  \n",
       "10                           Clinical Lab Scientist I  \n",
       "11                       Quality Assurance Specialist  \n",
       "12                                 Sr. Analyst-Energy  \n",
       "13                                Software Engineer V  \n",
       "14  Java/C# Developer for Commodities Technology- ...  \n",
       "15                                  Sales / Franchise  \n",
       "16  MEDICAL RECORDS SUPERVISOR Responsible for all...  \n",
       "17                              Operations Supervisor  \n",
       "18                    Customer Service Representative  \n",
       "19                           Sales Management Trainee  \n",
       "20                                Sr. Desktop Support  \n",
       "21                                     Robotic Welder  \n",
       "22                           Lead Web Developer, .NET  \n",
       "23  Assistant Manager (Credit Sales / Customer Ser...  \n",
       "24                    Customer Service Representative  \n",
       "25                            Senior Internal Auditor  \n",
       "26                 Electronics Engineering Technician  \n",
       "27                                  Engineer-Hardware  \n",
       "28                           Microstrategy BI Analyst  \n",
       "29                                        Panel Wirer  \n",
       "30                                   Staff Accountant  \n",
       "31                     Architect - Senior Designer/PM  \n",
       "32                          Demand Planner  Job #1281  \n",
       "33                           Administrative Assistant  \n",
       "34                               Database Coordinator  \n",
       "35  Sales – Insurance Sales Agent – Senior Sales R...  \n",
       "36                                      Teacher (K-8)  \n",
       "37                                   Senior Scheduler  \n",
       "38                                    Account Manager  \n",
       "39                            Own Your Own Franchise!  \n",
       "40                           Manufacturing Supervisor  \n",
       "41                                            SQL DBA  \n",
       "42                       Environmental Engineer (Air)  \n",
       "43                       Director, Product Management  \n",
       "44                Retail Sales Associate ~ Dover Mall  \n",
       "45                                      Teacher (K-8)  \n",
       "46                                   Senior Scheduler  \n",
       "47                                    Account Manager  \n",
       "48                            Own Your Own Franchise!  \n",
       "49                                          Estimator  "
      ]
     },
     "execution_count": 312,
     "metadata": {},
     "output_type": "execute_result"
    }
   ],
   "source": [
    "pd.merge(df_reco, job_info, how='left', on='itemid')"
   ]
  },
  {
   "cell_type": "code",
   "execution_count": null,
   "id": "6c5a2932",
   "metadata": {},
   "outputs": [],
   "source": []
  },
  {
   "cell_type": "code",
   "execution_count": null,
   "id": "f728df01",
   "metadata": {},
   "outputs": [],
   "source": []
  },
  {
   "cell_type": "code",
   "execution_count": null,
   "id": "321da8c0",
   "metadata": {},
   "outputs": [],
   "source": []
  },
  {
   "cell_type": "code",
   "execution_count": null,
   "id": "2c778c26",
   "metadata": {},
   "outputs": [],
   "source": []
  }
 ],
 "metadata": {
  "kernelspec": {
   "display_name": "Python 3",
   "language": "python",
   "name": "python3"
  },
  "language_info": {
   "codemirror_mode": {
    "name": "ipython",
    "version": 3
   },
   "file_extension": ".py",
   "mimetype": "text/x-python",
   "name": "python",
   "nbconvert_exporter": "python",
   "pygments_lexer": "ipython3",
   "version": "3.6.15"
  },
  "vscode": {
   "interpreter": {
    "hash": "949777d72b0d2535278d3dc13498b2535136f6dfe0678499012e853ee9abcab1"
   }
  }
 },
 "nbformat": 4,
 "nbformat_minor": 5
}
