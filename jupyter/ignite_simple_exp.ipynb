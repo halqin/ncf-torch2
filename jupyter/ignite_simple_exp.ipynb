{
 "cells": [
  {
   "cell_type": "code",
   "execution_count": 71,
   "id": "db1cdc3e",
   "metadata": {},
   "outputs": [],
   "source": [
    "import torch\n",
    "import torch.utils.data as data"
   ]
  },
  {
   "cell_type": "code",
   "execution_count": 62,
   "id": "acdf4fce",
   "metadata": {},
   "outputs": [],
   "source": [
    "from ignite.engine import Engine, Events, create_supervised_trainer, create_supervised_evaluator, RemovableEventHandle\n",
    "from ignite.metrics import Accuracy, Loss, Metric\n",
    "from ignite.handlers import ModelCheckpoint, EarlyStopping\n",
    "from ignite.exceptions import NotComputableError\n",
    "from ignite.metrics.metric import sync_all_reduce, reinit__is_reduced\n",
    "from ignite.contrib.handlers.tqdm_logger import ProgressBar\n",
    "from ignite.contrib.handlers.wandb_logger import *"
   ]
  },
  {
   "cell_type": "code",
   "execution_count": 72,
   "id": "c15f6b9c",
   "metadata": {},
   "outputs": [],
   "source": [
    "data_rand = torch.rand((4,5))"
   ]
  },
  {
   "cell_type": "code",
   "execution_count": 251,
   "id": "788f7d43",
   "metadata": {},
   "outputs": [],
   "source": [
    "data_loader = data.DataLoader(data_rand, batch_size=2)\n",
    "data_eval_loader = data.DataLoader(data_rand, batch_size=4)"
   ]
  },
  {
   "cell_type": "code",
   "execution_count": 232,
   "id": "b63d9006",
   "metadata": {},
   "outputs": [
    {
     "data": {
      "text/plain": [
       "2"
      ]
     },
     "execution_count": 232,
     "metadata": {},
     "output_type": "execute_result"
    }
   ],
   "source": [
    "len(data_loader)"
   ]
  },
  {
   "cell_type": "code",
   "execution_count": 252,
   "id": "57d03f36",
   "metadata": {},
   "outputs": [
    {
     "data": {
      "text/plain": [
       "1"
      ]
     },
     "execution_count": 252,
     "metadata": {},
     "output_type": "execute_result"
    }
   ],
   "source": [
    "len(data_eval_loader)"
   ]
  },
  {
   "cell_type": "code",
   "execution_count": 285,
   "id": "b17d400e",
   "metadata": {},
   "outputs": [],
   "source": [
    "# aa = 0\n",
    "def process_func(trainer, batch):\n",
    "#     print('do_training')\n",
    "    a = 0\n",
    "    \n",
    "def pro_func_eval(trainer, batch):\n",
    "#     aa +=1\n",
    "    print(\"doing eval\")\n",
    "\n",
    "trainer = Engine(process_func)\n",
    "evaler = Engine(pro_func_eval)"
   ]
  },
  {
   "cell_type": "code",
   "execution_count": 286,
   "id": "c4028fa2",
   "metadata": {},
   "outputs": [],
   "source": [
    "# @trainer.on(Events.ITERATION_COMPLETED)\n",
    "def every_iter():\n",
    "    print('end_of_iteration')"
   ]
  },
  {
   "cell_type": "code",
   "execution_count": 287,
   "id": "2cb29080",
   "metadata": {},
   "outputs": [],
   "source": [
    "@trainer.on(Events.EPOCH_COMPLETED)\n",
    "def run_eval():\n",
    "    evaler.run(data_eval_loader)"
   ]
  },
  {
   "cell_type": "code",
   "execution_count": 288,
   "id": "cadf46cb",
   "metadata": {},
   "outputs": [],
   "source": [
    "@trainer.on(Events.COMPLETED)\n",
    "def test_eval():\n",
    "    print('do_test_eval')"
   ]
  },
  {
   "cell_type": "code",
   "execution_count": 289,
   "id": "86b497cd",
   "metadata": {},
   "outputs": [
    {
     "data": {
      "text/plain": [
       "<ignite.engine.events.RemovableEventHandle at 0x12d26e278>"
      ]
     },
     "execution_count": 289,
     "metadata": {},
     "output_type": "execute_result"
    }
   ],
   "source": [
    "def score_func(engine):\n",
    "    lost = engine.state.iteration\n",
    "    print('score_func',-lost)\n",
    "    return -lost\n",
    "\n",
    "handler = EarlyStopping(patience=3, score_function=score_func, trainer=trainer)\n",
    "evaler.add_event_handler(Events.COMPLETED, handler)"
   ]
  },
  {
   "cell_type": "code",
   "execution_count": null,
   "id": "47984431",
   "metadata": {},
   "outputs": [],
   "source": []
  },
  {
   "cell_type": "code",
   "execution_count": 290,
   "id": "f347c092",
   "metadata": {},
   "outputs": [
    {
     "name": "stderr",
     "output_type": "stream",
     "text": [
      "2022-06-29 16:48:39,831 ignite.handlers.early_stopping.EarlyStopping INFO: EarlyStopping: Stop training\n"
     ]
    },
    {
     "name": "stdout",
     "output_type": "stream",
     "text": [
      "doing eval\n",
      "score_func -1\n",
      "doing eval\n",
      "score_func -1\n",
      "doing eval\n",
      "score_func -1\n",
      "doing eval\n",
      "score_func -1\n",
      "do_test_eval\n"
     ]
    },
    {
     "data": {
      "text/plain": [
       "State:\n",
       "\titeration: 8\n",
       "\tepoch: 4\n",
       "\tepoch_length: 2\n",
       "\tmax_epochs: 20\n",
       "\toutput: <class 'NoneType'>\n",
       "\tbatch: <class 'torch.Tensor'>\n",
       "\tmetrics: <class 'dict'>\n",
       "\tdataloader: torch.utils.data.dataloader.DataLoader\n",
       "\tseed: <class 'NoneType'>\n",
       "\ttimes: <class 'dict'>"
      ]
     },
     "execution_count": 290,
     "metadata": {},
     "output_type": "execute_result"
    }
   ],
   "source": [
    "trainer.run(data_loader, max_epochs=20)"
   ]
  },
  {
   "cell_type": "code",
   "execution_count": null,
   "id": "b1079d58",
   "metadata": {},
   "outputs": [],
   "source": []
  },
  {
   "cell_type": "code",
   "execution_count": null,
   "id": "83934ac3",
   "metadata": {},
   "outputs": [],
   "source": []
  },
  {
   "cell_type": "code",
   "execution_count": null,
   "id": "a64f9d3e",
   "metadata": {},
   "outputs": [],
   "source": []
  }
 ],
 "metadata": {
  "kernelspec": {
   "display_name": "Python 3",
   "language": "python",
   "name": "python3"
  },
  "language_info": {
   "codemirror_mode": {
    "name": "ipython",
    "version": 3
   },
   "file_extension": ".py",
   "mimetype": "text/x-python",
   "name": "python",
   "nbconvert_exporter": "python",
   "pygments_lexer": "ipython3",
   "version": "3.6.15"
  }
 },
 "nbformat": 4,
 "nbformat_minor": 5
}
