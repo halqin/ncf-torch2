{
 "cells": [
  {
   "cell_type": "code",
   "execution_count": 1,
   "id": "3ee1b655",
   "metadata": {},
   "outputs": [
    {
     "name": "stderr",
     "output_type": "stream",
     "text": [
      "/Users/hao/.pyenv/versions/3.6.15/envs/torch-cpu5/lib/python3.6/site-packages/tqdm/auto.py:22: TqdmWarning: IProgress not found. Please update jupyter and ipywidgets. See https://ipywidgets.readthedocs.io/en/stable/user_install.html\n",
      "  from .autonotebook import tqdm as notebook_tqdm\n"
     ]
    }
   ],
   "source": [
    "%load_ext autoreload\n",
    "%aimport -torch, pandas, hydra, numpy, pickle, os\n",
    "# %aimport src, src.metrics\n",
    "%autoreload 2\n",
    "import os\n",
    "from hydra import initialize, compose\n",
    "import pathlib\n",
    "import pandas as pd\n",
    "import numpy as np\n",
    "import pickle\n",
    "from tqdm.auto import tqdm\n",
    "\n",
    "# from datasets.jobdataset import generate_dataset, _hfd5_from_dataframe\n",
    "from src.data_process.job_hdf5 import hdf5_from_dataframe, get_career\n",
    "import src.data_process.neg_sample as ng_sample\n",
    "from src.utils.constants import DEFAULT_USER_COL,DEFAULT_ITEM_COL,DEFAULT_RATING_COL, DEFAULT_PREDICTION_COL\n",
    "# from implicit_eval import microsoft_eval,model_infer_df\n",
    "# from implicit.als import AlternatingLeastSquares\n",
    "# from implicit.bpr import BayesianPersonalizedRanking\n",
    "# from implicit.lmf import LogisticMatrixFactorization\n",
    "from src.implicit_build import bpr, bpr, lmf\n",
    "from src.metrics import ranking\n",
    "from src.metrics.evaluate_ignite import model_infer2\n",
    "\n",
    "with initialize(version_base=None, config_path=\"../../src/conf\"):\n",
    "    cfg = compose(config_name=\"config\", overrides=['path.root=../../data/jobs'])"
   ]
  },
  {
   "cell_type": "code",
   "execution_count": 2,
   "id": "347f28e7",
   "metadata": {},
   "outputs": [
    {
     "name": "stdout",
     "output_type": "stream",
     "text": [
      "Modules to reload:\n",
      "all-except-skipped\n",
      "\n",
      "Modules to skip:\n",
      "torch, pandas, hydra, numpy, pickle, os\n"
     ]
    }
   ],
   "source": [
    "%aimport"
   ]
  },
  {
   "cell_type": "markdown",
   "id": "76593aa6",
   "metadata": {},
   "source": [
    "# Create the the data pipe"
   ]
  },
  {
   "cell_type": "code",
   "execution_count": 2,
   "id": "1dd920d2",
   "metadata": {},
   "outputs": [],
   "source": [
    "df_train_pos  = ng_sample.read_feather(pathlib.Path(cfg.path.root, cfg.file.train_pos))"
   ]
  },
  {
   "cell_type": "code",
   "execution_count": 3,
   "id": "dff7b576",
   "metadata": {},
   "outputs": [],
   "source": [
    "df_train_pos[DEFAULT_RATING_COL] = 1"
   ]
  },
  {
   "cell_type": "code",
   "execution_count": 4,
   "id": "4f95dc4f",
   "metadata": {},
   "outputs": [],
   "source": [
    "# df_train_pos[DEFAULT_USER_COL] = df_train_pos[DEFAULT_USER_COL].astype(str)\n",
    "# df_train_pos[DEFAULT_ITEM_COL] = df_train_pos[DEFAULT_ITEM_COL].astype(str)\n",
    "df_train_pos[DEFAULT_USER_COL] = df_train_pos[DEFAULT_USER_COL].astype(\"category\")\n",
    "df_train_pos[DEFAULT_ITEM_COL] = df_train_pos[DEFAULT_ITEM_COL].astype(\"category\")"
   ]
  },
  {
   "cell_type": "code",
   "execution_count": 11,
   "id": "86adffc4",
   "metadata": {},
   "outputs": [],
   "source": [
    "# hdf5_from_dataframe(df_train_pos, pathlib.Path(cfg.path.root, cfg.file.hdf5))"
   ]
  },
  {
   "cell_type": "markdown",
   "id": "c4f29f47",
   "metadata": {},
   "source": [
    "## Read data & Train"
   ]
  },
  {
   "cell_type": "code",
   "execution_count": 6,
   "id": "d46bdf9f",
   "metadata": {},
   "outputs": [],
   "source": [
    "jobsid, usersid, user_job_app = get_career(pathlib.Path(cfg.path.root, cfg.file.hdf5))\n",
    "model_path = \"./models\""
   ]
  },
  {
   "cell_type": "code",
   "execution_count": 7,
   "id": "913b6dfc",
   "metadata": {},
   "outputs": [],
   "source": [
    "# user_job_app"
   ]
  },
  {
   "cell_type": "code",
   "execution_count": 8,
   "id": "545afd0e",
   "metadata": {},
   "outputs": [
    {
     "name": "stderr",
     "output_type": "stream",
     "text": [
      "100%|██████████| 30/30 [00:17<00:00,  1.67it/s]\n"
     ]
    }
   ],
   "source": [
    "# user_job_app = job_user_app.T.tocsr()\n",
    "# bpr(model_path, user_job_app)\n",
    "# als(model_path, user_job_app)\n",
    "lmf(model_path, user_job_app)"
   ]
  },
  {
   "cell_type": "code",
   "execution_count": 6,
   "id": "526cb48c",
   "metadata": {},
   "outputs": [],
   "source": [
    "# df_train_pos.userid.unique()"
   ]
  },
  {
   "cell_type": "code",
   "execution_count": 11,
   "id": "83036205",
   "metadata": {},
   "outputs": [],
   "source": [
    "def read_train_gd_csv(data_testgd_path, usecols):\n",
    "    test_gddf = pd.read_csv(data_testgd_path, usecols=usecols)\n",
    "#     test_gddf[DEFAULT_USER_COL] = test_gddf[DEFAULT_USER_COL].astype('str')\n",
    "#     test_gddf[DEFAULT_ITEM_COL] = test_gddf[DEFAULT_ITEM_COL].astype('str')\n",
    "    return test_gddf"
   ]
  },
  {
   "cell_type": "code",
   "execution_count": 12,
   "id": "1340149d",
   "metadata": {},
   "outputs": [],
   "source": [
    "# pathlib.Path(cfg.path.root, cfg.file.train_neg)"
   ]
  },
  {
   "cell_type": "code",
   "execution_count": 13,
   "id": "ba437309",
   "metadata": {},
   "outputs": [],
   "source": [
    "df_test_ori = pd.read_feather(pathlib.Path(cfg.path.root, cfg.file.test))\n",
    "# pathlib.Path(cfg.path.root, cfg.file.train_neg)\n",
    "df_train =read_train_gd_csv('../../data/jobs/leave_one_train_neg.csv', usecols=[DEFAULT_USER_COL, DEFAULT_ITEM_COL, DEFAULT_RATING_COL])\n",
    "# pathlib.Path(cfg.path.root, cfg.file.train_neg)\n",
    "df_test =read_train_gd_csv('../../data/jobs/leave_one_test.csv', usecols=[DEFAULT_USER_COL, DEFAULT_ITEM_COL, DEFAULT_RATING_COL])\n"
   ]
  },
  {
   "cell_type": "code",
   "execution_count": 36,
   "id": "300d983a",
   "metadata": {},
   "outputs": [],
   "source": [
    "with open('./models/model_als.sav','rb') as pickle_in:\n",
    "    model_als = pickle.load(pickle_in)\n",
    "#     microsoft_eval(model, user_job_app, test_gddf=df_test, usersid=usersid, jobsid=jobsid, k=10, logger=None)\n",
    "#     model.recommend(test_user_indexes, df_train[test_user_indexes], N=10)"
   ]
  },
  {
   "cell_type": "code",
   "execution_count": 9,
   "id": "a65961cc",
   "metadata": {},
   "outputs": [],
   "source": [
    "with open('./models/model_bpr.sav','rb') as pickle_in:\n",
    "    model_bpr = pickle.load(pickle_in)\n",
    "with open('./models/model_lmf.sav','rb') as pickle_in:\n",
    "    model_lmf = pickle.load(pickle_in)"
   ]
  },
  {
   "cell_type": "code",
   "execution_count": null,
   "id": "2d52508e",
   "metadata": {},
   "outputs": [],
   "source": []
  },
  {
   "cell_type": "code",
   "execution_count": null,
   "id": "ed5d8a6e",
   "metadata": {},
   "outputs": [],
   "source": []
  },
  {
   "cell_type": "code",
   "execution_count": 12,
   "id": "c7cf6b7d",
   "metadata": {},
   "outputs": [],
   "source": [
    "# df_test_ori[DEFAULT_USER_COL] = df_test_ori[DEFAULT_USER_COL].astype('str')\n",
    "# df_test_ori[DEFAULT_ITEM_COL] = df_test_ori[DEFAULT_ITEM_COL].astype('str')"
   ]
  },
  {
   "cell_type": "code",
   "execution_count": 13,
   "id": "98f60153",
   "metadata": {},
   "outputs": [],
   "source": [
    "apps_true = df_test_ori[df_test_ori['userid'].isin([1472090])]\n",
    "# apps_true = df_test_ori"
   ]
  },
  {
   "cell_type": "code",
   "execution_count": 14,
   "id": "0989a939",
   "metadata": {},
   "outputs": [],
   "source": [
    "gt_pos_bpr, reco_ind_bpr, scores_bpr = model_infer2(df_true=apps_true, jobsid=jobsid, usersid=usersid, \n",
    "                                 model=model_bpr, u_i_matrix=user_job_app, n=cfg.params.neg_test+1)"
   ]
  },
  {
   "cell_type": "code",
   "execution_count": 15,
   "id": "df304e15",
   "metadata": {},
   "outputs": [
    {
     "data": {
      "text/plain": [
       "1.0"
      ]
     },
     "execution_count": 15,
     "metadata": {},
     "output_type": "execute_result"
    }
   ],
   "source": [
    "gt_pos_als, reco_ind_als, scores_als = model_infer2(df_true=apps_true, jobsid=jobsid, usersid=usersid, \n",
    "                                 model=model_als, u_i_matrix=user_job_app, n=cfg.params.neg_test+1)\n",
    "auc_test = ranking.AUC()\n",
    "auc_test.compute(pd_scores=scores_als, gt_pos=gt_pos_als)"
   ]
  },
  {
   "cell_type": "code",
   "execution_count": 16,
   "id": "f143682b",
   "metadata": {},
   "outputs": [
    {
     "data": {
      "text/plain": [
       "0.8888888888888888"
      ]
     },
     "execution_count": 16,
     "metadata": {},
     "output_type": "execute_result"
    }
   ],
   "source": [
    "auc_test = ranking.AUC_k(10)\n",
    "auc_test.compute(pd_scores=scores_als, gt_pos=gt_pos_als, pd_rank=reco_ind_als)"
   ]
  },
  {
   "cell_type": "code",
   "execution_count": null,
   "id": "7d20b87e",
   "metadata": {},
   "outputs": [],
   "source": []
  },
  {
   "cell_type": "code",
   "execution_count": null,
   "id": "7e336db8",
   "metadata": {},
   "outputs": [],
   "source": []
  },
  {
   "cell_type": "code",
   "execution_count": 80,
   "id": "1d10006f",
   "metadata": {},
   "outputs": [],
   "source": [
    "def compute(pd_scores, gt_pos, gt_neg=None, **kwargs):\n",
    "    \n",
    "    if gt_neg is None:\n",
    "        gt_neg = np.logical_not(gt_pos)\n",
    "#     print(gt_pos.astype(np.bool))\n",
    "    pos_scores = pd_scores[gt_pos.astype(np.bool)]\n",
    "    print(pos_scores)\n",
    "    neg_scores = pd_scores[gt_neg.astype(np.bool)]\n",
    "    print(neg_scores)\n",
    "    ui_scores = np.repeat(pos_scores, len(neg_scores))\n",
    "    print(ui_scores)\n",
    "    uj_scores = np.tile(neg_scores, len(pos_scores))\n",
    "    print(uj_scores)\n",
    "    if len(uj_scores)==0:\n",
    "        return 0\n",
    "    else:\n",
    "        return (ui_scores > uj_scores).sum() / len(uj_scores)"
   ]
  },
  {
   "cell_type": "code",
   "execution_count": 89,
   "id": "bf0c570f",
   "metadata": {},
   "outputs": [],
   "source": [
    "pd_scores= np.asarray([.1, .2, .3, .4, .25])\n",
    "gt_pos = np.asarray([0,1, 1, 0, 0])\n",
    "# pd_scores = pd_scores[np.array([0,1])]"
   ]
  },
  {
   "cell_type": "code",
   "execution_count": 90,
   "id": "9b314d47",
   "metadata": {},
   "outputs": [
    {
     "name": "stdout",
     "output_type": "stream",
     "text": [
      "[0.2 0.3]\n",
      "[0.1  0.4  0.25]\n",
      "[0.2 0.2 0.2 0.3 0.3 0.3]\n",
      "[0.1  0.4  0.25 0.1  0.4  0.25]\n"
     ]
    },
    {
     "data": {
      "text/plain": [
       "0.5"
      ]
     },
     "execution_count": 90,
     "metadata": {},
     "output_type": "execute_result"
    }
   ],
   "source": [
    "compute(pd_scores, gt_pos)"
   ]
  },
  {
   "cell_type": "code",
   "execution_count": 84,
   "id": "4bece6a2",
   "metadata": {},
   "outputs": [
    {
     "data": {
      "text/plain": [
       "array([0.1, 0.1, 0.2, 0.2, 0.3, 0.3])"
      ]
     },
     "execution_count": 84,
     "metadata": {},
     "output_type": "execute_result"
    }
   ],
   "source": [
    "np.repeat(pd_scores, 2)"
   ]
  },
  {
   "cell_type": "code",
   "execution_count": 85,
   "id": "7ef0c234",
   "metadata": {
    "scrolled": true
   },
   "outputs": [
    {
     "data": {
      "text/plain": [
       "array([0.1, 0.2, 0.3, 0.1, 0.2, 0.3])"
      ]
     },
     "execution_count": 85,
     "metadata": {},
     "output_type": "execute_result"
    }
   ],
   "source": [
    "np.tile(pd_scores, 2)"
   ]
  },
  {
   "cell_type": "code",
   "execution_count": null,
   "id": "65d6b06f",
   "metadata": {},
   "outputs": [],
   "source": []
  },
  {
   "cell_type": "code",
   "execution_count": null,
   "id": "fdb2f8aa",
   "metadata": {},
   "outputs": [],
   "source": []
  },
  {
   "cell_type": "code",
   "execution_count": null,
   "id": "347f5fbc",
   "metadata": {},
   "outputs": [],
   "source": []
  },
  {
   "cell_type": "code",
   "execution_count": 19,
   "id": "76068022",
   "metadata": {},
   "outputs": [],
   "source": [
    "def cal_metrics(apps_true, jobsid, usersid,model, u_i_matrix, n, metric:dict):\n",
    "    gt_item, reco_ind, pd_scores = model_infer2(df_true=apps_true, jobsid=jobsid, usersid=usersid, \n",
    "                                 model=model, u_i_matrix=user_job_app, n=cfg.params.neg_test+1) \n",
    "    precision = metric['precision'].compute(gt_pos=gt_item, pd_rank=reco_ind)\n",
    "    recall = metric['recall'].compute(gt_pos=gt_item, pd_rank=reco_ind)\n",
    "    ndcg = metric['ndcg'].compute(gt_pos=gt_item, pd_rank=reco_ind)\n",
    "    auc_k = metric['auc_k'].compute(gt_pos=gt_item, pd_scores=pd_scores, pd_rank=reco_ind)\n",
    "    auc = metric['auc'].compute(gt_pos=gt_item, pd_scores=pd_scores)\n",
    "    hit = metric['hit'].compute(gt_pos=gt_item)\n",
    "#     return {'precision':precision, 'recall':recall, 'auc':auc, 'ndcg':ndcg}\n",
    "#     return precision, recall\n",
    "    return [precision, recall, ndcg, auc_k, auc, hit]"
   ]
  },
  {
   "cell_type": "code",
   "execution_count": 15,
   "id": "ba487e87",
   "metadata": {},
   "outputs": [],
   "source": [
    "# aa= df_test_ori[df_test_ori['userid'].isin(['7','999368'])]\n",
    "#  '1327949',\n",
    "#  '543701',\n",
    "#  '860552',\n",
    "#  '298359' ])]\n",
    "tqdm.pandas()\n"
   ]
  },
  {
   "cell_type": "code",
   "execution_count": null,
   "id": "520ace31",
   "metadata": {},
   "outputs": [],
   "source": [
    "def get_results(metric_value):\n",
    "    precision_top = np.mean(np.array(list(metric_value.flat))[:,0])\n",
    "    recall_top = np.mean(np.array(list(metric_value.flat))[:,1])\n",
    "    ndcg_top = np.mean(np.array(list(metric_value.flat))[:,2])\n",
    "    auc_top_k = np.mean(np.array(list(metric_value.flat))[:,3])\n",
    "    auc = np.mean(np.array(list(metric_value.flat))[:,4])\n",
    "    hit = np.mean(np.array(list(metric_value.flat))[:,5])\n",
    "    print(f'Precision: {precision_top:.4f} \\nRecall: {recall_top:.4f} \\nNDCG: {ndcg_top:.4f} \\nAUC_K: {auc_top_k:.4f} \\\n",
    "    \\nAUC: {auc:.4f} \\nHitRate: {hit:.4f}')"
   ]
  },
  {
   "cell_type": "code",
   "execution_count": 16,
   "id": "ed9f5302",
   "metadata": {},
   "outputs": [],
   "source": [
    "k=10\n",
    "metric={'precision':ranking.Precision(k=k),'recall':ranking.Recall(k=k), 'ndcg':ranking.NDCG(k=k), \\\n",
    "        'auc_k':ranking.AUC_k(k=k),'auc':ranking.AUC(), 'hit':ranking.HitRate(k=k)}"
   ]
  },
  {
   "cell_type": "code",
   "execution_count": 33,
   "id": "64b6a6ce",
   "metadata": {},
   "outputs": [
    {
     "name": "stderr",
     "output_type": "stream",
     "text": [
      "100%|██████████| 74091/74091 [09:15<00:00, 133.27it/s]\n"
     ]
    }
   ],
   "source": [
    "metric_result = df_test_ori.groupby('userid').progress_apply(cal_metrics, jobsid=jobsid, usersid=usersid, \n",
    "                            model=model_bpr, u_i_matrix=user_job_app, \n",
    "                           n=cfg.params.neg_test+1, metric=metric)\n",
    "metric_value_b = metric_result.values"
   ]
  },
  {
   "cell_type": "code",
   "execution_count": 34,
   "id": "1189c6b6",
   "metadata": {},
   "outputs": [
    {
     "name": "stdout",
     "output_type": "stream",
     "text": [
      "Precision: 0.0141 \n",
      "Recall: 0.1406 \n",
      "NDCG: 0.0619 \n",
      "AUC_K: 0.2875     \n",
      "AUC: 0.7659 \n",
      "HitRate: 0.5737\n"
     ]
    }
   ],
   "source": [
    "get_results(metric_value_b)"
   ]
  },
  {
   "cell_type": "code",
   "execution_count": null,
   "id": "8f88c938",
   "metadata": {
    "scrolled": true
   },
   "outputs": [
    {
     "name": "stderr",
     "output_type": "stream",
     "text": [
      " 60%|█████▉    | 44144/74091 [05:27<04:12, 118.55it/s]"
     ]
    }
   ],
   "source": [
    "metric_result = df_test_ori.groupby('userid').progress_apply(cal_metrics, jobsid=jobsid, usersid=usersid, \n",
    "                            model=model_als, u_i_matrix=user_job_app, \n",
    "                           n=cfg.params.neg_test+1, metric=metric)\n",
    "metric_value_a = metric_result.values"
   ]
  },
  {
   "cell_type": "code",
   "execution_count": null,
   "id": "46b3205e",
   "metadata": {},
   "outputs": [],
   "source": [
    "get_results(metric_value_a)"
   ]
  },
  {
   "cell_type": "code",
   "execution_count": 20,
   "id": "2ca3a184",
   "metadata": {},
   "outputs": [
    {
     "name": "stderr",
     "output_type": "stream",
     "text": [
      "100%|██████████| 74091/74091 [09:11<00:00, 134.31it/s]\n"
     ]
    }
   ],
   "source": [
    "metric_result = df_test_ori.groupby('userid').progress_apply(cal_metrics, jobsid=jobsid, usersid=usersid, \n",
    "                            model=model_lmf, u_i_matrix=user_job_app, \n",
    "                           n=cfg.params.neg_test+1, metric=metric)\n",
    "metric_value_l = metric_result.values"
   ]
  },
  {
   "cell_type": "code",
   "execution_count": 31,
   "id": "14b91a26",
   "metadata": {},
   "outputs": [
    {
     "name": "stdout",
     "output_type": "stream",
     "text": [
      "Precision: 0.0121 \n",
      "Recall: 0.1214 \n",
      "NDCG: 0.0566 \n",
      "AUC_K: 0.4099     \n",
      "AUC: 0.8925 \n",
      "HitRate: 0.7861\n"
     ]
    }
   ],
   "source": [
    "get_results(metric_value_l)"
   ]
  },
  {
   "cell_type": "code",
   "execution_count": null,
   "id": "af601189",
   "metadata": {},
   "outputs": [],
   "source": []
  }
 ],
 "metadata": {
  "kernelspec": {
   "display_name": "Python 3",
   "language": "python",
   "name": "python3"
  },
  "language_info": {
   "codemirror_mode": {
    "name": "ipython",
    "version": 3
   },
   "file_extension": ".py",
   "mimetype": "text/x-python",
   "name": "python",
   "nbconvert_exporter": "python",
   "pygments_lexer": "ipython3",
   "version": "3.6.15"
  }
 },
 "nbformat": 4,
 "nbformat_minor": 5
}
