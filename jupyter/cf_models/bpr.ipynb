{
 "cells": [
  {
   "cell_type": "code",
   "execution_count": 25,
   "id": "3ee1b655",
   "metadata": {},
   "outputs": [
    {
     "name": "stdout",
     "output_type": "stream",
     "text": [
      "The autoreload extension is already loaded. To reload it, use:\n",
      "  %reload_ext autoreload\n"
     ]
    }
   ],
   "source": [
    "%load_ext autoreload\n",
    "%aimport -torch, pandas, hydra, numpy, pickle, os\n",
    "# %aimport src, src.metrics\n",
    "%autoreload 2\n",
    "import os\n",
    "from hydra import initialize, compose\n",
    "import pathlib\n",
    "import pandas as pd\n",
    "import numpy as np\n",
    "import pickle\n",
    "from tqdm.auto import tqdm\n",
    "\n",
    "# from datasets.jobdataset import generate_dataset, _hfd5_from_dataframe\n",
    "from src.data_process.job_hdf5 import hdf5_from_dataframe, get_career\n",
    "import src.data_process.neg_sample as ng_sample\n",
    "from src.utils.constants import DEFAULT_USER_COL,DEFAULT_ITEM_COL,DEFAULT_RATING_COL, DEFAULT_PREDICTION_COL\n",
    "# from implicit_eval import microsoft_eval,model_infer_df\n",
    "# from implicit.als import AlternatingLeastSquares\n",
    "# from implicit.bpr import BayesianPersonalizedRanking\n",
    "# from implicit.lmf import LogisticMatrixFactorization\n",
    "from src.implicit_build import bpr, bpr, lmf\n",
    "from src.metrics import ranking\n",
    "from src.metrics.evaluate_ignite import model_infer2\n",
    "\n",
    "with initialize(version_base=None, config_path=\"../../src/conf\"):\n",
    "    cfg = compose(config_name=\"config\", overrides=['path.root=../../data/jobs'])"
   ]
  },
  {
   "cell_type": "code",
   "execution_count": 2,
   "id": "059ae5c2",
   "metadata": {},
   "outputs": [
    {
     "name": "stdout",
     "output_type": "stream",
     "text": [
      "Modules to reload:\n",
      "all-except-skipped\n",
      "\n",
      "Modules to skip:\n",
      "torch, pandas, hydra, numpy, pickle, os\n"
     ]
    }
   ],
   "source": [
    "%aimport"
   ]
  },
  {
   "cell_type": "markdown",
   "id": "76593aa6",
   "metadata": {},
   "source": [
    "# Create the the data pipe"
   ]
  },
  {
   "cell_type": "code",
   "execution_count": 2,
   "id": "1dd920d2",
   "metadata": {},
   "outputs": [],
   "source": [
    "df_train_pos  = ng_sample.read_feather(pathlib.Path(cfg.path.root, cfg.file.train_pos))"
   ]
  },
  {
   "cell_type": "code",
   "execution_count": 3,
   "id": "dff7b576",
   "metadata": {},
   "outputs": [],
   "source": [
    "df_train_pos[DEFAULT_RATING_COL] = 1"
   ]
  },
  {
   "cell_type": "code",
   "execution_count": 4,
   "id": "4f95dc4f",
   "metadata": {},
   "outputs": [],
   "source": [
    "# df_train_pos[DEFAULT_USER_COL] = df_train_pos[DEFAULT_USER_COL].astype(str)\n",
    "# df_train_pos[DEFAULT_ITEM_COL] = df_train_pos[DEFAULT_ITEM_COL].astype(str)\n",
    "df_train_pos[DEFAULT_USER_COL] = df_train_pos[DEFAULT_USER_COL].astype(\"category\")\n",
    "df_train_pos[DEFAULT_ITEM_COL] = df_train_pos[DEFAULT_ITEM_COL].astype(\"category\")"
   ]
  },
  {
   "cell_type": "code",
   "execution_count": 11,
   "id": "86adffc4",
   "metadata": {},
   "outputs": [],
   "source": [
    "# hdf5_from_dataframe(df_train_pos, pathlib.Path(cfg.path.root, cfg.file.hdf5))"
   ]
  },
  {
   "cell_type": "markdown",
   "id": "c4f29f47",
   "metadata": {},
   "source": [
    "## Read data & Train"
   ]
  },
  {
   "cell_type": "code",
   "execution_count": 3,
   "id": "d46bdf9f",
   "metadata": {},
   "outputs": [],
   "source": [
    "jobsid, usersid, user_job_app = get_career(pathlib.Path(cfg.path.root, cfg.file.hdf5))\n",
    "model_path = \"./models\""
   ]
  },
  {
   "cell_type": "code",
   "execution_count": 4,
   "id": "913b6dfc",
   "metadata": {},
   "outputs": [],
   "source": [
    "# user_job_app"
   ]
  },
  {
   "cell_type": "code",
   "execution_count": 5,
   "id": "545afd0e",
   "metadata": {},
   "outputs": [],
   "source": [
    "# user_job_app = job_user_app.T.tocsr()\n",
    "# bpr(model_path, user_job_app)\n",
    "# als(model_path, user_job_app)\n",
    "# lmf(model_path, user_job_app)"
   ]
  },
  {
   "cell_type": "code",
   "execution_count": 6,
   "id": "526cb48c",
   "metadata": {},
   "outputs": [],
   "source": [
    "# df_train_pos.userid.unique()"
   ]
  },
  {
   "cell_type": "code",
   "execution_count": 7,
   "id": "83036205",
   "metadata": {},
   "outputs": [],
   "source": [
    "def read_train_gd_csv(data_testgd_path, usecols):\n",
    "    test_gddf = pd.read_csv(data_testgd_path, usecols=usecols)\n",
    "#     test_gddf[DEFAULT_USER_COL] = test_gddf[DEFAULT_USER_COL].astype('str')\n",
    "#     test_gddf[DEFAULT_ITEM_COL] = test_gddf[DEFAULT_ITEM_COL].astype('str')\n",
    "    return test_gddf"
   ]
  },
  {
   "cell_type": "code",
   "execution_count": 8,
   "id": "eb345987",
   "metadata": {},
   "outputs": [],
   "source": [
    "# pathlib.Path(cfg.path.root, cfg.file.train_neg)"
   ]
  },
  {
   "cell_type": "code",
   "execution_count": 9,
   "id": "ba437309",
   "metadata": {},
   "outputs": [],
   "source": [
    "df_test_ori = pd.read_feather(pathlib.Path(cfg.path.root, cfg.file.test))\n",
    "# pathlib.Path(cfg.path.root, cfg.file.train_neg)\n",
    "df_train =read_train_gd_csv('../../data/jobs/leave_one_train_neg.csv', usecols=[DEFAULT_USER_COL, DEFAULT_ITEM_COL, DEFAULT_RATING_COL])\n",
    "# pathlib.Path(cfg.path.root, cfg.file.train_neg)\n",
    "df_test =read_train_gd_csv('../../data/jobs/leave_one_test.csv', usecols=[DEFAULT_USER_COL, DEFAULT_ITEM_COL, DEFAULT_RATING_COL])\n"
   ]
  },
  {
   "cell_type": "code",
   "execution_count": 10,
   "id": "300d983a",
   "metadata": {},
   "outputs": [],
   "source": [
    "with open('./models/model_als.sav','rb') as pickle_in:\n",
    "    model_als = pickle.load(pickle_in)\n",
    "#     microsoft_eval(model, user_job_app, test_gddf=df_test, usersid=usersid, jobsid=jobsid, k=10, logger=None)\n",
    "#     model.recommend(test_user_indexes, df_train[test_user_indexes], N=10)"
   ]
  },
  {
   "cell_type": "code",
   "execution_count": 11,
   "id": "20ae4f1d",
   "metadata": {},
   "outputs": [],
   "source": [
    "with open('./models/model_bpr.sav','rb') as pickle_in:\n",
    "    model_bpr = pickle.load(pickle_in)\n",
    "with open('./models/model_lmf.sav','rb') as pickle_in:\n",
    "    model_lmf = pickle.load(pickle_in)"
   ]
  },
  {
   "cell_type": "code",
   "execution_count": 20,
   "id": "76068022",
   "metadata": {},
   "outputs": [],
   "source": [
    "def cal_metrics(apps_true, jobsid, usersid,model, u_i_matrix, n, metric:dict):\n",
    "    gt_item, reco_ind, pd_scores = model_infer2(df_true=apps_true, jobsid=jobsid, usersid=usersid, \n",
    "                                 model=model, u_i_matrix=user_job_app, n=cfg.params.neg_test+1) \n",
    "    precision = metric['precision'].compute(gt_pos=gt_item, pd_rank=reco_ind)\n",
    "    recall = metric['recall'].compute(gt_pos=gt_item, pd_rank=reco_ind)\n",
    "    ndcg = metric['ndcg'].compute(gt_pos=gt_item, pd_rank=reco_ind)\n",
    "    auc_k = metric['auc_k'].compute(gt_pos=gt_item, pd_scores=pd_scores, pd_rank=reco_ind)\n",
    "    auc = metric['auc'].compute(gt_pos=gt_item, pd_scores=pd_scores)\n",
    "    hit = metric['hit'].compute(gt_pos=gt_item, pd_rank=reco_ind)\n",
    "    return [precision, recall, ndcg, auc_k, auc, hit]"
   ]
  },
  {
   "cell_type": "code",
   "execution_count": 21,
   "id": "b6b7661d",
   "metadata": {},
   "outputs": [],
   "source": [
    "def get_results(metric_value):\n",
    "    precision_top = np.mean(np.array(list(metric_value.flat))[:,0])\n",
    "    recall_top = np.mean(np.array(list(metric_value.flat))[:,1])\n",
    "    ndcg_top = np.mean(np.array(list(metric_value.flat))[:,2])\n",
    "    auc_top_k = np.mean(np.array(list(metric_value.flat))[:,3])\n",
    "    auc = np.mean(np.array(list(metric_value.flat))[:,4])\n",
    "    hit = np.mean(np.array(list(metric_value.flat))[:,5])\n",
    "    print(f'Precision: {precision_top:.4f} \\nRecall: {recall_top:.4f} \\nNDCG: {ndcg_top:.4f} \\nAUC_K: {auc_top_k:.4f} \\\n",
    "    \\nAUC: {auc:.4f} \\nHitRate: {hit:.4f}')"
   ]
  },
  {
   "cell_type": "code",
   "execution_count": 22,
   "id": "ed9f5302",
   "metadata": {},
   "outputs": [],
   "source": [
    "tqdm.pandas()\n",
    "k=10\n",
    "metric={'precision':ranking.Precision(k=k),'recall':ranking.Recall(k=k), 'ndcg':ranking.NDCG(k=k), \\\n",
    "        'auc_k':ranking.AUC_K(k=k),'auc':ranking.AUC(), 'hit':ranking.HitRate(k=k)}"
   ]
  },
  {
   "cell_type": "code",
   "execution_count": null,
   "id": "64b6a6ce",
   "metadata": {
    "scrolled": false
   },
   "outputs": [
    {
     "name": "stderr",
     "output_type": "stream",
     "text": [
      " 12%|█▏        | 8641/74091 [01:06<09:32, 114.26it/s]"
     ]
    }
   ],
   "source": [
    "metric_result = df_test_ori.groupby('userid').progress_apply(cal_metrics, jobsid=jobsid, usersid=usersid, \n",
    "                            model=model_bpr, u_i_matrix=user_job_app, \n",
    "                           n=cfg.params.neg_test+1, metric=metric)\n",
    "metric_value_b = metric_result.values"
   ]
  },
  {
   "cell_type": "code",
   "execution_count": null,
   "id": "30936364",
   "metadata": {},
   "outputs": [],
   "source": [
    "get_results(metric_value_b)"
   ]
  },
  {
   "cell_type": "code",
   "execution_count": null,
   "id": "8f88c938",
   "metadata": {
    "scrolled": true
   },
   "outputs": [],
   "source": [
    "metric_result = df_test_ori.groupby('userid').progress_apply(cal_metrics, jobsid=jobsid, usersid=usersid, \n",
    "                            model=model_als, u_i_matrix=user_job_app, \n",
    "                           n=cfg.params.neg_test+1, metric=metric)\n",
    "metric_value_a = metric_result.values"
   ]
  },
  {
   "cell_type": "code",
   "execution_count": null,
   "id": "573f1909",
   "metadata": {},
   "outputs": [],
   "source": [
    "get_results(metric_value_a)"
   ]
  },
  {
   "cell_type": "code",
   "execution_count": null,
   "id": "d540e969",
   "metadata": {},
   "outputs": [],
   "source": [
    "metric_result = df_test_ori.groupby('userid').progress_apply(cal_metrics, jobsid=jobsid, usersid=usersid, \n",
    "                            model=model_lmf, u_i_matrix=user_job_app, \n",
    "                           n=cfg.params.neg_test+1, metric=metric)\n",
    "metric_value_l = metric_result.values"
   ]
  },
  {
   "cell_type": "code",
   "execution_count": 29,
   "id": "d7b2a68a",
   "metadata": {},
   "outputs": [
    {
     "name": "stdout",
     "output_type": "stream",
     "text": [
      "Precision: 0.0786 \n",
      "Recall: 0.7861 \n",
      "NDCG: 0.6728 \n",
      "AUC_K: 0.7111     \n",
      "AUC: 0.8925 \n",
      "HitRate: 0.1283\n"
     ]
    }
   ],
   "source": [
    "get_results(metric_value_l)"
   ]
  },
  {
   "cell_type": "code",
   "execution_count": null,
   "id": "083229aa",
   "metadata": {},
   "outputs": [],
   "source": []
  }
 ],
 "metadata": {
  "kernelspec": {
   "display_name": "Python 3",
   "language": "python",
   "name": "python3"
  },
  "language_info": {
   "codemirror_mode": {
    "name": "ipython",
    "version": 3
   },
   "file_extension": ".py",
   "mimetype": "text/x-python",
   "name": "python",
   "nbconvert_exporter": "python",
   "pygments_lexer": "ipython3",
   "version": "3.6.15"
  }
 },
 "nbformat": 4,
 "nbformat_minor": 5
}
