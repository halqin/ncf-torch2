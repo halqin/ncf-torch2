{
 "cells": [
  {
   "cell_type": "code",
   "execution_count": 91,
   "id": "467b5088",
   "metadata": {},
   "outputs": [],
   "source": [
    "%load_ext autoreload\n",
    "%aimport -torch, pandas, hydra, numpy, pickle, os\n",
    "# %aimport src, src.metrics\n",
    "%autoreload 2\n",
    "import pandas as pd\n",
    "from hydra import initialize, compose\n",
    "import pathlib\n",
    "import datetime\n",
    "import numpy as np\n",
    "\n",
    "from src.utils.constants import DEFAULT_USER_COL,DEFAULT_ITEM_COL,DEFAULT_RATING_COL, DEFAULT_TIMESTAMP_COL\n",
    "from src.data_process import data_split, neg_sample\n",
    "\n",
    "with initialize(version_base=None, config_path=\"../src/conf\"):\n",
    "    cfg = compose(config_name=\"config\", overrides=[])"
   ]
  },
  {
   "cell_type": "code",
   "execution_count": 2,
   "id": "e812cbe6",
   "metadata": {},
   "outputs": [],
   "source": [
    "df_all_f = pd.read_csv(pathlib.Path(cfg.path.root, cfg.file.all_features))"
   ]
  },
  {
   "cell_type": "code",
   "execution_count": 3,
   "id": "784f22a8",
   "metadata": {},
   "outputs": [
    {
     "data": {
      "text/plain": [
       "Index(['userid', 'timestamp', 'itemid', 'WindowID_user', 'Split', 'City',\n",
       "       'State', 'Country', 'Zip_user', 'DegreeType', 'Major', 'GraduationDate',\n",
       "       'WorkHistoryCount', 'TotalYearsExperience', 'CurrentlyEmployed',\n",
       "       'ManagedOthers', 'ManagedHowMany', 'WindowID_job', 'City_job',\n",
       "       'State_job', 'Country_job', 'Zip_job', 'StartDate', 'EndDate',\n",
       "       'rating'],\n",
       "      dtype='object')"
      ]
     },
     "execution_count": 3,
     "metadata": {},
     "output_type": "execute_result"
    }
   ],
   "source": [
    "df_all_f.columns"
   ]
  },
  {
   "cell_type": "code",
   "execution_count": 4,
   "id": "148c590b",
   "metadata": {},
   "outputs": [
    {
     "data": {
      "text/plain": [
       "(1594565, 25)"
      ]
     },
     "execution_count": 4,
     "metadata": {},
     "output_type": "execute_result"
    }
   ],
   "source": [
    "df_all_f.shape"
   ]
  },
  {
   "cell_type": "code",
   "execution_count": 5,
   "id": "f643a139",
   "metadata": {},
   "outputs": [],
   "source": [
    "series_datetime =pd.to_datetime(df_all_f.timestamp).dt.date"
   ]
  },
  {
   "cell_type": "code",
   "execution_count": 54,
   "id": "ec2e6aa5",
   "metadata": {},
   "outputs": [],
   "source": [
    "global_cut = pd.to_datetime('2012-05-30')"
   ]
  },
  {
   "cell_type": "code",
   "execution_count": 55,
   "id": "cc179b2a",
   "metadata": {
    "scrolled": true
   },
   "outputs": [],
   "source": [
    "train_date = series_datetime[series_datetime< global_cut]"
   ]
  },
  {
   "cell_type": "code",
   "execution_count": 56,
   "id": "54ee3ded",
   "metadata": {},
   "outputs": [],
   "source": [
    "test_date = series_datetime[series_datetime>= global_cut]"
   ]
  },
  {
   "cell_type": "code",
   "execution_count": 70,
   "id": "b18cc140",
   "metadata": {
    "scrolled": true
   },
   "outputs": [
    {
     "data": {
      "text/plain": [
       "0.2484978661892115"
      ]
     },
     "execution_count": 70,
     "metadata": {},
     "output_type": "execute_result"
    }
   ],
   "source": [
    "len(test_date)/len(series_datetime)"
   ]
  },
  {
   "cell_type": "code",
   "execution_count": 58,
   "id": "8a468ec6",
   "metadata": {},
   "outputs": [
    {
     "data": {
      "text/plain": [
       "<AxesSubplot:>"
      ]
     },
     "execution_count": 58,
     "metadata": {},
     "output_type": "execute_result"
    },
    {
     "data": {
      "image/png": "[encoded data removed]",
      "text/plain": [
       "<Figure size 432x288 with 1 Axes>"
      ]
     },
     "metadata": {
      "needs_background": "light"
     },
     "output_type": "display_data"
    }
   ],
   "source": [
    "series_datetime.value_counts().plot(rot=90)"
   ]
  },
  {
   "cell_type": "code",
   "execution_count": null,
   "id": "38078a76",
   "metadata": {},
   "outputs": [],
   "source": []
  },
  {
   "cell_type": "markdown",
   "id": "f03cb11f",
   "metadata": {},
   "source": [
    "## The average interactive "
   ]
  },
  {
   "cell_type": "code",
   "execution_count": 60,
   "id": "6cd433a3",
   "metadata": {},
   "outputs": [],
   "source": [
    "df_train = df_all_f[series_datetime< global_cut]"
   ]
  },
  {
   "cell_type": "code",
   "execution_count": 61,
   "id": "b7b5e2fa",
   "metadata": {},
   "outputs": [],
   "source": [
    "df_test = df_all_f[series_datetime>= global_cut]"
   ]
  },
  {
   "cell_type": "code",
   "execution_count": 62,
   "id": "0b07913b",
   "metadata": {},
   "outputs": [],
   "source": [
    "train_userid = set(df_train['userid'])"
   ]
  },
  {
   "cell_type": "code",
   "execution_count": 63,
   "id": "eb1e66cd",
   "metadata": {},
   "outputs": [],
   "source": [
    "test_userid = set(df_test['userid'])"
   ]
  },
  {
   "cell_type": "code",
   "execution_count": 64,
   "id": "34ba88c6",
   "metadata": {},
   "outputs": [],
   "source": [
    "intersection = train_userid.intersection(test_userid)"
   ]
  },
  {
   "cell_type": "code",
   "execution_count": 81,
   "id": "de4621d5",
   "metadata": {},
   "outputs": [],
   "source": [
    "df_train_sub = df_train[df_train.userid.isin(intersection)].reset_index()\n",
    "df_test_sub = df_test[df_test.userid.isin(intersection)].reset_index()"
   ]
  },
  {
   "cell_type": "code",
   "execution_count": 86,
   "id": "91ff6d7f",
   "metadata": {},
   "outputs": [],
   "source": [
    "df_train_sub.to_feather(pathlib.Path(cfg.path.global_temp, cfg.global_temp_data.train_pos))\n",
    "df_test_sub.to_feather(pathlib.Path(cfg.path.global_temp, cfg.global_temp_data.test_pos))\n"
   ]
  },
  {
   "cell_type": "code",
   "execution_count": null,
   "id": "2b68b6c0",
   "metadata": {},
   "outputs": [],
   "source": []
  },
  {
   "cell_type": "markdown",
   "id": "21656422",
   "metadata": {},
   "source": [
    "## Negative samples "
   ]
  },
  {
   "cell_type": "code",
   "execution_count": 95,
   "id": "91c08ca6",
   "metadata": {},
   "outputs": [],
   "source": [
    "path_read_all = pathlib.Path(cfg.path.root, cfg.file.all_features)\n",
    "path_read_train = pathlib.Path(cfg.path.global_temp, cfg.global_temp_data.train_pos)\n",
    "path_save = pathlib.Path(cfg.path.global_temp, cfg.global_temp_data.train_neg)"
   ]
  },
  {
   "cell_type": "code",
   "execution_count": 96,
   "id": "3ba7128d",
   "metadata": {},
   "outputs": [
    {
     "name": "stderr",
     "output_type": "stream",
     "text": [
      "100%|██████████| 29393/29393 [16:30<00:00, 29.68it/s]\n"
     ]
    }
   ],
   "source": [
    "ng_num = cfg.params.neg_train\n",
    "neg_sample.main(path_read_all = path_read_all,\n",
    "                path_read_goal = path_read_train, \n",
    "                path_save=path_save, ng_num=ng_num, \n",
    "                path_read_neg=None, test=False, )"
   ]
  },
  {
   "cell_type": "code",
   "execution_count": 97,
   "id": "d6753b36",
   "metadata": {},
   "outputs": [],
   "source": [
    "path_read_all = pathlib.Path(cfg.path.root, cfg.file.all_features)\n",
    "path_read_test = pathlib.Path(cfg.path.global_temp, cfg.global_temp_data.test_pos)\n",
    "path_save = pathlib.Path(cfg.path.global_temp, cfg.global_temp_data.test_neg)\n",
    "path_train_neg = pathlib.Path(cfg.path.global_temp, cfg.global_temp_data.train_neg)"
   ]
  },
  {
   "cell_type": "code",
   "execution_count": 98,
   "id": "c10a50e8",
   "metadata": {},
   "outputs": [
    {
     "name": "stderr",
     "output_type": "stream",
     "text": [
      "100%|██████████| 29393/29393 [45:41<00:00, 10.72it/s]     \n"
     ]
    }
   ],
   "source": [
    "ng_num = cfg.params.neg_test\n",
    "neg_sample.main(path_read_all=path_read_all, \n",
    "                path_read_goal=path_read_test, \n",
    "                path_save=path_save, \n",
    "                ng_num=ng_num, \n",
    "                test=True,\n",
    "                path_read_neg = path_train_neg)"
   ]
  },
  {
   "cell_type": "code",
   "execution_count": null,
   "id": "7a88d047",
   "metadata": {},
   "outputs": [],
   "source": []
  },
  {
   "cell_type": "code",
   "execution_count": null,
   "id": "354652fe",
   "metadata": {},
   "outputs": [],
   "source": []
  },
  {
   "cell_type": "code",
   "execution_count": null,
   "id": "91403623",
   "metadata": {},
   "outputs": [],
   "source": []
  }
 ],
 "metadata": {
  "kernelspec": {
   "display_name": "Python 3",
   "language": "python",
   "name": "python3"
  },
  "language_info": {
   "codemirror_mode": {
    "name": "ipython",
    "version": 3
   },
   "file_extension": ".py",
   "mimetype": "text/x-python",
   "name": "python",
   "nbconvert_exporter": "python",
   "pygments_lexer": "ipython3",
   "version": "3.6.15"
  }
 },
 "nbformat": 4,
 "nbformat_minor": 5
}
